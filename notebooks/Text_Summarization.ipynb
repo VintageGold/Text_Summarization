{
 "cells": [
  {
   "cell_type": "markdown",
   "metadata": {},
   "source": [
    "Extractive Summarization Section"
   ]
  },
  {
   "cell_type": "code",
   "execution_count": 1,
   "metadata": {},
   "outputs": [],
   "source": [
    "import json\n",
    "import pandas as pd\n",
    "import numpy as np\n",
    "from helper_functions import *"
   ]
  },
  {
   "cell_type": "code",
   "execution_count": 2,
   "metadata": {},
   "outputs": [],
   "source": [
    "df = pd.read_csv('Data/processed/LongForm_Clean_Lemma_Telehealth.csv')"
   ]
  },
  {
   "cell_type": "code",
   "execution_count": 3,
   "metadata": {},
   "outputs": [
    {
     "data": {
      "text/html": [
       "<div>\n",
       "<style scoped>\n",
       "    .dataframe tbody tr th:only-of-type {\n",
       "        vertical-align: middle;\n",
       "    }\n",
       "\n",
       "    .dataframe tbody tr th {\n",
       "        vertical-align: top;\n",
       "    }\n",
       "\n",
       "    .dataframe thead th {\n",
       "        text-align: right;\n",
       "    }\n",
       "</style>\n",
       "<table border=\"1\" class=\"dataframe\">\n",
       "  <thead>\n",
       "    <tr style=\"text-align: right;\">\n",
       "      <th></th>\n",
       "      <th>Journal Title</th>\n",
       "      <th>Article Title</th>\n",
       "      <th>Date Published</th>\n",
       "      <th>Authors</th>\n",
       "      <th>Abstract</th>\n",
       "      <th>Keywords</th>\n",
       "      <th>Citation</th>\n",
       "      <th>Content</th>\n",
       "      <th>Content_Length</th>\n",
       "      <th>Abstract_Length</th>\n",
       "      <th>Parsed_Keywords</th>\n",
       "      <th>Parsed_Keywords_Length</th>\n",
       "      <th>Subfield</th>\n",
       "      <th>et_al_Count</th>\n",
       "      <th>LongForm</th>\n",
       "      <th>LongForm_Clean_Content</th>\n",
       "      <th>LongForm_Clean_Content_length</th>\n",
       "      <th>LongForm_Clean_Content_Lemma</th>\n",
       "      <th>Classification</th>\n",
       "    </tr>\n",
       "  </thead>\n",
       "  <tbody>\n",
       "    <tr>\n",
       "      <th>0</th>\n",
       "      <td>Psychological Services</td>\n",
       "      <td>The Effectiveness of Telepsychology With Veter...</td>\n",
       "      <td>2021</td>\n",
       "      <td>Michael J. McClellan; Richard Osbaldiston; Ron...</td>\n",
       "      <td>Veterans face a variety of stressors due to th...</td>\n",
       "      <td>KEYWORDS:\\r\\n\\r\\ntelepsychology, meta-analysis...</td>\n",
       "      <td>McClellan, M. J., Osbaldiston, R., Wu, R., Yea...</td>\n",
       "      <td>Veterans face a variety of stressors related t...</td>\n",
       "      <td>37477</td>\n",
       "      <td>2411</td>\n",
       "      <td>['telepsychology,', 'meta-analysis,', 'veteran...</td>\n",
       "      <td>5</td>\n",
       "      <td>Clinical &amp; Counseling Psychology</td>\n",
       "      <td>50</td>\n",
       "      <td>Veterans face a variety of stressors related t...</td>\n",
       "      <td>Veterans face a variety of stressors related t...</td>\n",
       "      <td>38022</td>\n",
       "      <td>veteran face a variety of stressor relate to t...</td>\n",
       "      <td>Covid</td>\n",
       "    </tr>\n",
       "  </tbody>\n",
       "</table>\n",
       "</div>"
      ],
      "text/plain": [
       "            Journal Title                                      Article Title  \\\n",
       "0  Psychological Services  The Effectiveness of Telepsychology With Veter...   \n",
       "\n",
       "   Date Published                                            Authors  \\\n",
       "0            2021  Michael J. McClellan; Richard Osbaldiston; Ron...   \n",
       "\n",
       "                                            Abstract  \\\n",
       "0  Veterans face a variety of stressors due to th...   \n",
       "\n",
       "                                            Keywords  \\\n",
       "0  KEYWORDS:\\r\\n\\r\\ntelepsychology, meta-analysis...   \n",
       "\n",
       "                                            Citation  \\\n",
       "0  McClellan, M. J., Osbaldiston, R., Wu, R., Yea...   \n",
       "\n",
       "                                             Content  Content_Length  \\\n",
       "0  Veterans face a variety of stressors related t...           37477   \n",
       "\n",
       "   Abstract_Length                                    Parsed_Keywords  \\\n",
       "0             2411  ['telepsychology,', 'meta-analysis,', 'veteran...   \n",
       "\n",
       "   Parsed_Keywords_Length                          Subfield  et_al_Count  \\\n",
       "0                       5  Clinical & Counseling Psychology           50   \n",
       "\n",
       "                                            LongForm  \\\n",
       "0  Veterans face a variety of stressors related t...   \n",
       "\n",
       "                              LongForm_Clean_Content  \\\n",
       "0  Veterans face a variety of stressors related t...   \n",
       "\n",
       "   LongForm_Clean_Content_length  \\\n",
       "0                          38022   \n",
       "\n",
       "                        LongForm_Clean_Content_Lemma Classification  \n",
       "0  veteran face a variety of stressor relate to t...          Covid  "
      ]
     },
     "execution_count": 3,
     "metadata": {},
     "output_type": "execute_result"
    }
   ],
   "source": [
    "df.head(1)"
   ]
  },
  {
   "cell_type": "code",
   "execution_count": 4,
   "metadata": {},
   "outputs": [],
   "source": [
    "# Drop everything we don't need to focus on the summaries:\n",
    "\n",
    "summ_df = df[['Abstract', 'LongForm']].copy()"
   ]
  },
  {
   "cell_type": "code",
   "execution_count": 5,
   "metadata": {},
   "outputs": [
    {
     "name": "stdout",
     "output_type": "stream",
     "text": [
      "44\n",
      "39\n"
     ]
    }
   ],
   "source": [
    "# Some of the articles do not include an Abstract, so we will drop those and redo the index:\n",
    "\n",
    "print(len(summ_df))\n",
    "summ_df.dropna(inplace=True)\n",
    "summ_df.reset_index(drop=True, inplace=True)\n",
    "print(len(summ_df))"
   ]
  },
  {
   "cell_type": "markdown",
   "metadata": {},
   "source": [
    "That dropped 5 articles that did not have an abstract."
   ]
  },
  {
   "cell_type": "code",
   "execution_count": 6,
   "metadata": {},
   "outputs": [],
   "source": [
    "# Create a new column with any references within parenthesis removed. I would imagine these could mess with any\n",
    "# summarization algorithims, so we'll want to remove those (DBB):\n",
    "\n",
    "summ_df['LF_no_refs'] = df['LongForm'].apply(remove_text_in_parens)"
   ]
  },
  {
   "cell_type": "markdown",
   "metadata": {},
   "source": [
    "<h1>GENSIM Summary Section:"
   ]
  },
  {
   "cell_type": "code",
   "execution_count": 7,
   "metadata": {},
   "outputs": [],
   "source": [
    "from gensim.summarization import summarize"
   ]
  },
  {
   "cell_type": "code",
   "execution_count": 8,
   "metadata": {},
   "outputs": [],
   "source": [
    "# Dr. Diana said this was a good ratio to use for summaries:\n",
    "\n",
    "summ_ratio = 0.05"
   ]
  },
  {
   "cell_type": "code",
   "execution_count": 9,
   "metadata": {},
   "outputs": [],
   "source": [
    "def gnsm_summary(text):\n",
    "    summary = summarize(text, ratio=summ_ratio)\n",
    "    return summary"
   ]
  },
  {
   "cell_type": "code",
   "execution_count": 10,
   "metadata": {},
   "outputs": [],
   "source": [
    "# Create a column with a gensim summary for each paper:\n",
    "\n",
    "summ_df['gnsm_summ'] = summ_df['LF_no_refs'].apply(gnsm_summary)"
   ]
  },
  {
   "cell_type": "code",
   "execution_count": 11,
   "metadata": {},
   "outputs": [
    {
     "data": {
      "text/html": [
       "<div>\n",
       "<style scoped>\n",
       "    .dataframe tbody tr th:only-of-type {\n",
       "        vertical-align: middle;\n",
       "    }\n",
       "\n",
       "    .dataframe tbody tr th {\n",
       "        vertical-align: top;\n",
       "    }\n",
       "\n",
       "    .dataframe thead th {\n",
       "        text-align: right;\n",
       "    }\n",
       "</style>\n",
       "<table border=\"1\" class=\"dataframe\">\n",
       "  <thead>\n",
       "    <tr style=\"text-align: right;\">\n",
       "      <th></th>\n",
       "      <th>Abstract</th>\n",
       "      <th>LongForm</th>\n",
       "      <th>LF_no_refs</th>\n",
       "      <th>gnsm_summ</th>\n",
       "    </tr>\n",
       "  </thead>\n",
       "  <tbody>\n",
       "    <tr>\n",
       "      <th>0</th>\n",
       "      <td>Veterans face a variety of stressors due to th...</td>\n",
       "      <td>Veterans face a variety of stressors related t...</td>\n",
       "      <td>Veterans face a variety of stressors related t...</td>\n",
       "      <td>Telepsychology has generally been found to be ...</td>\n",
       "    </tr>\n",
       "    <tr>\n",
       "      <th>1</th>\n",
       "      <td>The COVID-19 pandemic and its requirements for...</td>\n",
       "      <td>The impact of the coronavirus disease 2019 pan...</td>\n",
       "      <td>The impact of the coronavirus disease 2019 pan...</td>\n",
       "      <td>Finally, because the stakes are so significant...</td>\n",
       "    </tr>\n",
       "    <tr>\n",
       "      <th>2</th>\n",
       "      <td>Forensic e-mental health is an area of psychol...</td>\n",
       "      <td>In November 2019, coronavirus disease 2019—the...</td>\n",
       "      <td>In November 2019, coronavirus disease 2019—the...</td>\n",
       "      <td>Accessibility is increasingly important, consi...</td>\n",
       "    </tr>\n",
       "    <tr>\n",
       "      <th>3</th>\n",
       "      <td>Many university training clinics are facing nu...</td>\n",
       "      <td>Anxiety and depressive disorders are among the...</td>\n",
       "      <td>Anxiety and depressive disorders are among the...</td>\n",
       "      <td>A review of telepsychology’s specific ethical ...</td>\n",
       "    </tr>\n",
       "    <tr>\n",
       "      <th>4</th>\n",
       "      <td>The emergence of the Covid-19 pandemic at the ...</td>\n",
       "      <td>In mid-March, 2020, the authors—as well as the...</td>\n",
       "      <td>In mid-March, 2020, the authors—as well as the...</td>\n",
       "      <td>The uncertain duration of this new professiona...</td>\n",
       "    </tr>\n",
       "  </tbody>\n",
       "</table>\n",
       "</div>"
      ],
      "text/plain": [
       "                                            Abstract  \\\n",
       "0  Veterans face a variety of stressors due to th...   \n",
       "1  The COVID-19 pandemic and its requirements for...   \n",
       "2  Forensic e-mental health is an area of psychol...   \n",
       "3  Many university training clinics are facing nu...   \n",
       "4  The emergence of the Covid-19 pandemic at the ...   \n",
       "\n",
       "                                            LongForm  \\\n",
       "0  Veterans face a variety of stressors related t...   \n",
       "1  The impact of the coronavirus disease 2019 pan...   \n",
       "2  In November 2019, coronavirus disease 2019—the...   \n",
       "3  Anxiety and depressive disorders are among the...   \n",
       "4  In mid-March, 2020, the authors—as well as the...   \n",
       "\n",
       "                                          LF_no_refs  \\\n",
       "0  Veterans face a variety of stressors related t...   \n",
       "1  The impact of the coronavirus disease 2019 pan...   \n",
       "2  In November 2019, coronavirus disease 2019—the...   \n",
       "3  Anxiety and depressive disorders are among the...   \n",
       "4  In mid-March, 2020, the authors—as well as the...   \n",
       "\n",
       "                                           gnsm_summ  \n",
       "0  Telepsychology has generally been found to be ...  \n",
       "1  Finally, because the stakes are so significant...  \n",
       "2  Accessibility is increasingly important, consi...  \n",
       "3  A review of telepsychology’s specific ethical ...  \n",
       "4  The uncertain duration of this new professiona...  "
      ]
     },
     "execution_count": 11,
     "metadata": {},
     "output_type": "execute_result"
    }
   ],
   "source": [
    "summ_df.head()"
   ]
  },
  {
   "cell_type": "markdown",
   "metadata": {},
   "source": [
    "<h1>BLEU Scoring Section:"
   ]
  },
  {
   "cell_type": "code",
   "execution_count": 12,
   "metadata": {},
   "outputs": [],
   "source": [
    "from nltk.translate.bleu_score import corpus_bleu, sentence_bleu"
   ]
  },
  {
   "cell_type": "code",
   "execution_count": 13,
   "metadata": {},
   "outputs": [
    {
     "name": "stderr",
     "output_type": "stream",
     "text": [
      "C:\\Users\\Me\\anaconda3\\lib\\site-packages\\nltk\\translate\\bleu_score.py:516: UserWarning: \n",
      "The hypothesis contains 0 counts of 2-gram overlaps.\n",
      "Therefore the BLEU score evaluates to 0, independently of\n",
      "how many N-gram overlaps of lower order it contains.\n",
      "Consider using lower n-gram order or use SmoothingFunction()\n",
      "  warnings.warn(_msg)\n",
      "C:\\Users\\Me\\anaconda3\\lib\\site-packages\\nltk\\translate\\bleu_score.py:516: UserWarning: \n",
      "The hypothesis contains 0 counts of 3-gram overlaps.\n",
      "Therefore the BLEU score evaluates to 0, independently of\n",
      "how many N-gram overlaps of lower order it contains.\n",
      "Consider using lower n-gram order or use SmoothingFunction()\n",
      "  warnings.warn(_msg)\n",
      "C:\\Users\\Me\\anaconda3\\lib\\site-packages\\nltk\\translate\\bleu_score.py:516: UserWarning: \n",
      "The hypothesis contains 0 counts of 4-gram overlaps.\n",
      "Therefore the BLEU score evaluates to 0, independently of\n",
      "how many N-gram overlaps of lower order it contains.\n",
      "Consider using lower n-gram order or use SmoothingFunction()\n",
      "  warnings.warn(_msg)\n"
     ]
    },
    {
     "name": "stdout",
     "output_type": "stream",
     "text": [
      "0.018680445151033388\n",
      "0.005193456245131133\n",
      "0.00798782807151008\n",
      "0.01736274049741906\n",
      "0.010332661290322585\n",
      "0.014018691588785043\n",
      "0.012211981566820278\n",
      "0.018316831683168312\n",
      "0.01856973528249704\n",
      "0.04094165813715455\n",
      "0.020521353300055466\n",
      "0.007171593493090785\n",
      "0.011656441717791406\n",
      "0.00852382797365362\n",
      "0.014630577907827357\n",
      "0.009372559229367349\n",
      "0.009045465365389192\n",
      "0.015753938484621154\n",
      "0.014701378254211327\n",
      "0.011604868383809794\n",
      "0.013971358714634997\n",
      "0.013293943870014768\n",
      "0.025557011795543903\n",
      "0.017565872020075285\n",
      "0.009155873157659672\n",
      "0.023099133782483152\n",
      "0.06365503080082137\n",
      "0.008836876044900882\n",
      "0.03271028037383178\n",
      "0.05087440381558029\n",
      "0.02\n",
      "0.010851217747769468\n",
      "0.022950819672131147\n",
      "0.03575547866205306\n",
      "0.00809810273021749\n",
      "0.008586679043861681\n",
      "0.01150180742688137\n",
      "0.024268823895457377\n",
      "0.01956702747710241\n"
     ]
    }
   ],
   "source": [
    "bleu_score_dict = {}\n",
    "\n",
    "for row in range(len(summ_df)):\n",
    "    # Using (1,0,0,0) weights to only search for unigram similarities since beyond that the scores were infintesimal\n",
    "    \n",
    "    bleu_score = sentence_bleu(summ_df.Abstract[row], summ_df.gnsm_summ[row], weights=(1,0,0,0))\n",
    "    print(bleu_score)\n",
    "    bleu_score_dict[row] = bleu_score"
   ]
  },
  {
   "cell_type": "code",
   "execution_count": 14,
   "metadata": {},
   "outputs": [],
   "source": [
    "# Create a column for the bleu score from the blue_score_dict:\n",
    "summ_df['gnsm_bleu'] = summ_df.from_dict(bleu_score_dict.values())"
   ]
  },
  {
   "cell_type": "code",
   "execution_count": 15,
   "metadata": {},
   "outputs": [
    {
     "data": {
      "text/html": [
       "<div>\n",
       "<style scoped>\n",
       "    .dataframe tbody tr th:only-of-type {\n",
       "        vertical-align: middle;\n",
       "    }\n",
       "\n",
       "    .dataframe tbody tr th {\n",
       "        vertical-align: top;\n",
       "    }\n",
       "\n",
       "    .dataframe thead th {\n",
       "        text-align: right;\n",
       "    }\n",
       "</style>\n",
       "<table border=\"1\" class=\"dataframe\">\n",
       "  <thead>\n",
       "    <tr style=\"text-align: right;\">\n",
       "      <th></th>\n",
       "      <th>Abstract</th>\n",
       "      <th>LongForm</th>\n",
       "      <th>LF_no_refs</th>\n",
       "      <th>gnsm_summ</th>\n",
       "      <th>gnsm_bleu</th>\n",
       "    </tr>\n",
       "  </thead>\n",
       "  <tbody>\n",
       "    <tr>\n",
       "      <th>0</th>\n",
       "      <td>Veterans face a variety of stressors due to th...</td>\n",
       "      <td>Veterans face a variety of stressors related t...</td>\n",
       "      <td>Veterans face a variety of stressors related t...</td>\n",
       "      <td>Telepsychology has generally been found to be ...</td>\n",
       "      <td>0.018680</td>\n",
       "    </tr>\n",
       "    <tr>\n",
       "      <th>1</th>\n",
       "      <td>The COVID-19 pandemic and its requirements for...</td>\n",
       "      <td>The impact of the coronavirus disease 2019 pan...</td>\n",
       "      <td>The impact of the coronavirus disease 2019 pan...</td>\n",
       "      <td>Finally, because the stakes are so significant...</td>\n",
       "      <td>0.005193</td>\n",
       "    </tr>\n",
       "    <tr>\n",
       "      <th>2</th>\n",
       "      <td>Forensic e-mental health is an area of psychol...</td>\n",
       "      <td>In November 2019, coronavirus disease 2019—the...</td>\n",
       "      <td>In November 2019, coronavirus disease 2019—the...</td>\n",
       "      <td>Accessibility is increasingly important, consi...</td>\n",
       "      <td>0.007988</td>\n",
       "    </tr>\n",
       "    <tr>\n",
       "      <th>3</th>\n",
       "      <td>Many university training clinics are facing nu...</td>\n",
       "      <td>Anxiety and depressive disorders are among the...</td>\n",
       "      <td>Anxiety and depressive disorders are among the...</td>\n",
       "      <td>A review of telepsychology’s specific ethical ...</td>\n",
       "      <td>0.017363</td>\n",
       "    </tr>\n",
       "    <tr>\n",
       "      <th>4</th>\n",
       "      <td>The emergence of the Covid-19 pandemic at the ...</td>\n",
       "      <td>In mid-March, 2020, the authors—as well as the...</td>\n",
       "      <td>In mid-March, 2020, the authors—as well as the...</td>\n",
       "      <td>The uncertain duration of this new professiona...</td>\n",
       "      <td>0.010333</td>\n",
       "    </tr>\n",
       "  </tbody>\n",
       "</table>\n",
       "</div>"
      ],
      "text/plain": [
       "                                            Abstract  \\\n",
       "0  Veterans face a variety of stressors due to th...   \n",
       "1  The COVID-19 pandemic and its requirements for...   \n",
       "2  Forensic e-mental health is an area of psychol...   \n",
       "3  Many university training clinics are facing nu...   \n",
       "4  The emergence of the Covid-19 pandemic at the ...   \n",
       "\n",
       "                                            LongForm  \\\n",
       "0  Veterans face a variety of stressors related t...   \n",
       "1  The impact of the coronavirus disease 2019 pan...   \n",
       "2  In November 2019, coronavirus disease 2019—the...   \n",
       "3  Anxiety and depressive disorders are among the...   \n",
       "4  In mid-March, 2020, the authors—as well as the...   \n",
       "\n",
       "                                          LF_no_refs  \\\n",
       "0  Veterans face a variety of stressors related t...   \n",
       "1  The impact of the coronavirus disease 2019 pan...   \n",
       "2  In November 2019, coronavirus disease 2019—the...   \n",
       "3  Anxiety and depressive disorders are among the...   \n",
       "4  In mid-March, 2020, the authors—as well as the...   \n",
       "\n",
       "                                           gnsm_summ  gnsm_bleu  \n",
       "0  Telepsychology has generally been found to be ...   0.018680  \n",
       "1  Finally, because the stakes are so significant...   0.005193  \n",
       "2  Accessibility is increasingly important, consi...   0.007988  \n",
       "3  A review of telepsychology’s specific ethical ...   0.017363  \n",
       "4  The uncertain duration of this new professiona...   0.010333  "
      ]
     },
     "execution_count": 15,
     "metadata": {},
     "output_type": "execute_result"
    }
   ],
   "source": [
    "summ_df.head()"
   ]
  },
  {
   "cell_type": "markdown",
   "metadata": {},
   "source": [
    "<h1>Rouge Scoring Section:"
   ]
  },
  {
   "cell_type": "code",
   "execution_count": 16,
   "metadata": {},
   "outputs": [],
   "source": [
    "from rouge import rouge_score\n",
    "\n",
    "rouge_scorer = rouge_score.rouge_n"
   ]
  },
  {
   "cell_type": "code",
   "execution_count": 17,
   "metadata": {},
   "outputs": [
    {
     "name": "stdout",
     "output_type": "stream",
     "text": [
      "{'f': 0.7098515469575528, 'p': 0.7185792349726776, 'r': 0.7013333333333334}\n",
      "{'f': 0.6514745261692387, 'p': 0.8804347826086957, 'r': 0.5170212765957447}\n",
      "{'f': 0.7154046949462809, 'p': 0.898360655737705, 'r': 0.5943600867678959}\n",
      "{'f': 0.7471074330742435, 'p': 0.837037037037037, 'r': 0.6746268656716418}\n",
      "{'f': 0.6833114275227458, 'p': 0.8524590163934426, 'r': 0.5701754385964912}\n",
      "{'f': 0.7361299003050973, 'p': 0.7953216374269005, 'r': 0.6851385390428212}\n",
      "{'f': 0.6814268094019539, 'p': 0.8147058823529412, 'r': 0.5856236786469344}\n",
      "{'f': 0.7483660080721091, 'p': 0.7435064935064936, 'r': 0.7532894736842105}\n",
      "{'f': 0.7072135735569743, 'p': 0.7911392405063291, 'r': 0.639386189258312}\n",
      "{'f': 0.7399267349912115, 'p': 0.6644736842105263, 'r': 0.8347107438016529}\n",
      "{'f': 0.7176079684462645, 'p': 0.7714285714285715, 'r': 0.6708074534161491}\n",
      "{'f': 0.7258805464849007, 'p': 0.8977272727272727, 'r': 0.609254498714653}\n",
      "{'f': 0.7170953052149931, 'p': 0.8200692041522492, 'r': 0.6370967741935484}\n",
      "{'f': 0.7228260820641836, 'p': 0.8471337579617835, 'r': 0.6303317535545023}\n",
      "{'f': 0.7152103509875264, 'p': 0.7083333333333334, 'r': 0.7222222222222222}\n",
      "{'f': 0.7453987681014059, 'p': 0.8647686832740213, 'r': 0.6549865229110512}\n",
      "{'f': 0.7357664184842667, 'p': 0.875, 'r': 0.6347607052896725}\n",
      "{'f': 0.6844319725832222, 'p': 0.7349397590361446, 'r': 0.6404199475065617}\n",
      "{'f': 0.729577459887919, 'p': 0.8491803278688524, 'r': 0.6395061728395062}\n",
      "{'f': 0.7067448630792219, 'p': 0.7799352750809061, 'r': 0.646112600536193}\n",
      "{'f': 0.7745664689934931, 'p': 0.8, 'r': 0.7507002801120448}\n",
      "{'f': 0.6848874548668336, 'p': 0.7689530685920578, 'r': 0.6173913043478261}\n",
      "{'f': 0.7715735990746706, 'p': 0.7331189710610932, 'r': 0.8142857142857143}\n",
      "{'f': 0.6791044726144465, 'p': 0.6946564885496184, 'r': 0.6642335766423357}\n",
      "{'f': 0.6731571577392492, 'p': 0.7096774193548387, 'r': 0.6402116402116402}\n",
      "{'f': 0.6810810760971879, 'p': 0.6445012787723785, 'r': 0.7220630372492837}\n",
      "{'f': 0.5351473873377862, 'p': 0.592964824120603, 'r': 0.48760330578512395}\n",
      "{'f': 0.7030129076181791, 'p': 0.8419243986254296, 'r': 0.603448275862069}\n",
      "{'f': 0.6550632861490547, 'p': 0.6854304635761589, 'r': 0.6272727272727273}\n",
      "{'f': 0.6372360797138238, 'p': 0.51875, 'r': 0.8258706467661692}\n",
      "{'f': 0.680921047718144, 'p': 0.6017441860465116, 'r': 0.7840909090909091}\n",
      "{'f': 0.6878306829327288, 'p': 0.8024691358024691, 'r': 0.6018518518518519}\n",
      "{'f': 0.6277873020333108, 'p': 0.6354166666666666, 'r': 0.6203389830508474}\n",
      "{'f': 0.6269841221164809, 'p': 0.5392491467576792, 'r': 0.7488151658767772}\n",
      "{'f': 0.6470588188346021, 'p': 0.859375, 'r': 0.5188679245283019}\n",
      "{'f': 0.6832116739881294, 'p': 0.8297872340425532, 'r': 0.5806451612903226}\n",
      "{'f': 0.6948356757514799, 'p': 0.7003154574132492, 'r': 0.6894409937888198}\n",
      "{'f': 0.6996805061833845, 'p': 0.711038961038961, 'r': 0.6886792452830188}\n",
      "{'f': 0.6648575255461928, 'p': 0.6282051282051282, 'r': 0.7060518731988472}\n"
     ]
    }
   ],
   "source": [
    "rouge_scores_dict = {}\n",
    "\n",
    "for row in range(len(summ_df)):\n",
    "    \n",
    "    rouge_scores = rouge_scorer(summ_df.Abstract[row], summ_df.gnsm_summ[row])\n",
    "    print(rouge_scores)\n",
    "    rouge_scores_dict[row] = rouge_scores"
   ]
  },
  {
   "cell_type": "code",
   "execution_count": 18,
   "metadata": {},
   "outputs": [
    {
     "name": "stdout",
     "output_type": "stream",
     "text": [
      "0.7098515469575528\n",
      "0.6514745261692387\n",
      "0.7154046949462809\n",
      "0.7471074330742435\n",
      "0.6833114275227458\n",
      "0.7361299003050973\n",
      "0.6814268094019539\n",
      "0.7483660080721091\n",
      "0.7072135735569743\n",
      "0.7399267349912115\n",
      "0.7176079684462645\n",
      "0.7258805464849007\n",
      "0.7170953052149931\n",
      "0.7228260820641836\n",
      "0.7152103509875264\n",
      "0.7453987681014059\n",
      "0.7357664184842667\n",
      "0.6844319725832222\n",
      "0.729577459887919\n",
      "0.7067448630792219\n",
      "0.7745664689934931\n",
      "0.6848874548668336\n",
      "0.7715735990746706\n",
      "0.6791044726144465\n",
      "0.6731571577392492\n",
      "0.6810810760971879\n",
      "0.5351473873377862\n",
      "0.7030129076181791\n",
      "0.6550632861490547\n",
      "0.6372360797138238\n",
      "0.680921047718144\n",
      "0.6878306829327288\n",
      "0.6277873020333108\n",
      "0.6269841221164809\n",
      "0.6470588188346021\n",
      "0.6832116739881294\n",
      "0.6948356757514799\n",
      "0.6996805061833845\n",
      "0.6648575255461928\n"
     ]
    }
   ],
   "source": [
    "# Isolate the F1 scores:\n",
    "\n",
    "rouge_f1_dict = {}\n",
    "row = 0\n",
    "\n",
    "for score_dict in rouge_scores_dict.values():\n",
    "    f1_score = score_dict['f']\n",
    "    print(f1_score)\n",
    "    rouge_f1_dict[row] = f1_score\n",
    "    row += 1"
   ]
  },
  {
   "cell_type": "code",
   "execution_count": 19,
   "metadata": {},
   "outputs": [],
   "source": [
    "# Create a column for the rouge F1 scores from the rouge_scores_dict:\n",
    "summ_df['gnsm_rouge_f1'] = summ_df.from_dict(rouge_f1_dict.values())"
   ]
  },
  {
   "cell_type": "code",
   "execution_count": 20,
   "metadata": {},
   "outputs": [
    {
     "data": {
      "text/html": [
       "<div>\n",
       "<style scoped>\n",
       "    .dataframe tbody tr th:only-of-type {\n",
       "        vertical-align: middle;\n",
       "    }\n",
       "\n",
       "    .dataframe tbody tr th {\n",
       "        vertical-align: top;\n",
       "    }\n",
       "\n",
       "    .dataframe thead th {\n",
       "        text-align: right;\n",
       "    }\n",
       "</style>\n",
       "<table border=\"1\" class=\"dataframe\">\n",
       "  <thead>\n",
       "    <tr style=\"text-align: right;\">\n",
       "      <th></th>\n",
       "      <th>Abstract</th>\n",
       "      <th>LongForm</th>\n",
       "      <th>LF_no_refs</th>\n",
       "      <th>gnsm_summ</th>\n",
       "      <th>gnsm_bleu</th>\n",
       "      <th>gnsm_rouge_f1</th>\n",
       "    </tr>\n",
       "  </thead>\n",
       "  <tbody>\n",
       "    <tr>\n",
       "      <th>0</th>\n",
       "      <td>Veterans face a variety of stressors due to th...</td>\n",
       "      <td>Veterans face a variety of stressors related t...</td>\n",
       "      <td>Veterans face a variety of stressors related t...</td>\n",
       "      <td>Telepsychology has generally been found to be ...</td>\n",
       "      <td>0.018680</td>\n",
       "      <td>0.709852</td>\n",
       "    </tr>\n",
       "    <tr>\n",
       "      <th>1</th>\n",
       "      <td>The COVID-19 pandemic and its requirements for...</td>\n",
       "      <td>The impact of the coronavirus disease 2019 pan...</td>\n",
       "      <td>The impact of the coronavirus disease 2019 pan...</td>\n",
       "      <td>Finally, because the stakes are so significant...</td>\n",
       "      <td>0.005193</td>\n",
       "      <td>0.651475</td>\n",
       "    </tr>\n",
       "    <tr>\n",
       "      <th>2</th>\n",
       "      <td>Forensic e-mental health is an area of psychol...</td>\n",
       "      <td>In November 2019, coronavirus disease 2019—the...</td>\n",
       "      <td>In November 2019, coronavirus disease 2019—the...</td>\n",
       "      <td>Accessibility is increasingly important, consi...</td>\n",
       "      <td>0.007988</td>\n",
       "      <td>0.715405</td>\n",
       "    </tr>\n",
       "    <tr>\n",
       "      <th>3</th>\n",
       "      <td>Many university training clinics are facing nu...</td>\n",
       "      <td>Anxiety and depressive disorders are among the...</td>\n",
       "      <td>Anxiety and depressive disorders are among the...</td>\n",
       "      <td>A review of telepsychology’s specific ethical ...</td>\n",
       "      <td>0.017363</td>\n",
       "      <td>0.747107</td>\n",
       "    </tr>\n",
       "    <tr>\n",
       "      <th>4</th>\n",
       "      <td>The emergence of the Covid-19 pandemic at the ...</td>\n",
       "      <td>In mid-March, 2020, the authors—as well as the...</td>\n",
       "      <td>In mid-March, 2020, the authors—as well as the...</td>\n",
       "      <td>The uncertain duration of this new professiona...</td>\n",
       "      <td>0.010333</td>\n",
       "      <td>0.683311</td>\n",
       "    </tr>\n",
       "  </tbody>\n",
       "</table>\n",
       "</div>"
      ],
      "text/plain": [
       "                                            Abstract  \\\n",
       "0  Veterans face a variety of stressors due to th...   \n",
       "1  The COVID-19 pandemic and its requirements for...   \n",
       "2  Forensic e-mental health is an area of psychol...   \n",
       "3  Many university training clinics are facing nu...   \n",
       "4  The emergence of the Covid-19 pandemic at the ...   \n",
       "\n",
       "                                            LongForm  \\\n",
       "0  Veterans face a variety of stressors related t...   \n",
       "1  The impact of the coronavirus disease 2019 pan...   \n",
       "2  In November 2019, coronavirus disease 2019—the...   \n",
       "3  Anxiety and depressive disorders are among the...   \n",
       "4  In mid-March, 2020, the authors—as well as the...   \n",
       "\n",
       "                                          LF_no_refs  \\\n",
       "0  Veterans face a variety of stressors related t...   \n",
       "1  The impact of the coronavirus disease 2019 pan...   \n",
       "2  In November 2019, coronavirus disease 2019—the...   \n",
       "3  Anxiety and depressive disorders are among the...   \n",
       "4  In mid-March, 2020, the authors—as well as the...   \n",
       "\n",
       "                                           gnsm_summ  gnsm_bleu  gnsm_rouge_f1  \n",
       "0  Telepsychology has generally been found to be ...   0.018680       0.709852  \n",
       "1  Finally, because the stakes are so significant...   0.005193       0.651475  \n",
       "2  Accessibility is increasingly important, consi...   0.007988       0.715405  \n",
       "3  A review of telepsychology’s specific ethical ...   0.017363       0.747107  \n",
       "4  The uncertain duration of this new professiona...   0.010333       0.683311  "
      ]
     },
     "execution_count": 20,
     "metadata": {},
     "output_type": "execute_result"
    }
   ],
   "source": [
    "summ_df.head()"
   ]
  },
  {
   "cell_type": "markdown",
   "metadata": {},
   "source": [
    "<h1>Keyword Extraction Section:"
   ]
  },
  {
   "cell_type": "code",
   "execution_count": 21,
   "metadata": {},
   "outputs": [],
   "source": [
    "from rake_nltk import Rake"
   ]
  },
  {
   "cell_type": "code",
   "execution_count": 22,
   "metadata": {},
   "outputs": [],
   "source": [
    "df_overview = pd.read_csv(\"./Data/processed/LongForm_Clean_Lemma_Telehealth.csv\")"
   ]
  },
  {
   "cell_type": "code",
   "execution_count": 23,
   "metadata": {},
   "outputs": [
    {
     "data": {
      "text/plain": [
       "['treat various disorder bee 2008 postel de haan de jong 2008 include posttraumatic stress disorder germain marchand bouchard drouin guay 2009 depression sloan gallagher feinstein lee pruneau 2011 anxiety ruskin 2004 substance use frueh henderson myrick 2005 chronic pain macea gajos calil fregni 2010',\n",
       " 'largely positive adler pritchett kauth nadorff 2014 baird whitney caedo 2018 brooks manson bair dailey shore 2012 cunningham connors lever stephan 2013 levy strachan 2013 mitchell maclaren morton carachi 2009 moreau 2018 whitten kuwahara 2004 wynn bergvik pettersen fossum 2012',\n",
       " 'neuropsychological testing bouchard 2004 cullum hynan grosch parikh weiner 2014 cullum weiner gehrmann hynan 2006 gehrman shah miles kuna godleski 2016 gros yoder tuerk lozano acierno 2011 hilty 2013 morland 2014 morland hynes mackintosh resick chard 2011the veteran ’',\n",
       " 'encopresis eg davis sampilo gallagher landrum malone 2013 palermo wilson peters lewandowski somhegyi 2009 richardson frueh grubaugh egede elhai 2009 ritterband 2008 van allen davis lassen 2011 wade 2015recognizing',\n",
       " 'autism goodwin mazefsky ioannidis erdogmus siegel 2019 hollis falconer martin whittington stockton glazebrook davies 2017 voss 2019 wearable sensor facilitate ecological momentary assessment ecological momentary assessment',\n",
       " 'adolescent hilty 2015 hilty maheu 2018 maheu 2020 social medium hilty zalpuri 2018 mobile health hilty chan torous luo boland 2020 wearable sensor hilty armstrong luxton gentry krupinski 2020',\n",
       " 'veteran sample fortney 2007 gehrman shah miles kuna godleski 2016 gros yoder tuerk lozano acierno 2011 morland greene rosen mauldin frueh 2009 morland 2010',\n",
       " 'glasscock horton weiner cullum 2016 grosch gottlieb cullum 2011 grosch weiner hynan shore cullum 2015 harrell wilkins connor chodosh 2014 group psychotherapy',\n",
       " 'telepsychiatry hilty crawford 2015 hilty maheu 2018 tbehavioral health maheu 2018 2020 social medium 2018 hilty zalpuri 2018 zalpuri 2018 mobile health hilty 2019a 2019b 2020 wearable sensor hilty armstrong 2020',\n",
       " 'expertise hilty ingraham yang anders 2004 hilty 2013 liddy drosinis keely 2016 sarvet 2010 yellowlee hilty marks neufeld bourgeois 2008 result also show consultant']"
      ]
     },
     "execution_count": 23,
     "metadata": {},
     "output_type": "execute_result"
    }
   ],
   "source": [
    "from rake_nltk import Rake\n",
    "\n",
    "keyword_corpus = \" \".join(df_overview[\"LongForm_Clean_Content_Lemma\"].str.replace(\"et al\",\"\"))\n",
    "\n",
    "r_extraction = Rake()\n",
    "\n",
    "r_extraction.extract_keywords_from_text(keyword_corpus)\n",
    "\n",
    "\n",
    "r_extraction.get_ranked_phrases()[:10]"
   ]
  },
  {
   "cell_type": "code",
   "execution_count": null,
   "metadata": {},
   "outputs": [],
   "source": []
  }
 ],
 "metadata": {
  "kernelspec": {
   "display_name": "Python 3",
   "language": "python",
   "name": "python3"
  },
  "language_info": {
   "codemirror_mode": {
    "name": "ipython",
    "version": 3
   },
   "file_extension": ".py",
   "mimetype": "text/x-python",
   "name": "python",
   "nbconvert_exporter": "python",
   "pygments_lexer": "ipython3",
   "version": "3.8.5"
  }
 },
 "nbformat": 4,
 "nbformat_minor": 4
}
