{
 "cells": [
  {
   "cell_type": "markdown",
   "metadata": {
    "id": "t8QCAP9r0rnj"
   },
   "source": [
    "Extractive Summarization Section"
   ]
  },
  {
   "cell_type": "code",
   "execution_count": 1,
   "metadata": {
    "id": "tbHcRzID0rnz"
   },
   "outputs": [],
   "source": [
    "import json\n",
    "import pandas as pd\n",
    "import numpy as np\n",
    "from helper_functions import *"
   ]
  },
  {
   "cell_type": "code",
   "execution_count": 2,
   "metadata": {
    "id": "Xx4K6kS4036r"
   },
   "outputs": [],
   "source": [
    "clusters = pd.read_csv('../Data/summarization_cluster_analysis.csv.csv')"
   ]
  },
  {
   "cell_type": "code",
   "execution_count": 4,
   "metadata": {},
   "outputs": [
    {
     "data": {
      "text/html": [
       "<div>\n",
       "<style scoped>\n",
       "    .dataframe tbody tr th:only-of-type {\n",
       "        vertical-align: middle;\n",
       "    }\n",
       "\n",
       "    .dataframe tbody tr th {\n",
       "        vertical-align: top;\n",
       "    }\n",
       "\n",
       "    .dataframe thead th {\n",
       "        text-align: right;\n",
       "    }\n",
       "</style>\n",
       "<table border=\"1\" class=\"dataframe\">\n",
       "  <thead>\n",
       "    <tr style=\"text-align: right;\">\n",
       "      <th></th>\n",
       "      <th>Unnamed: 0</th>\n",
       "      <th>Unnamed: 0.1</th>\n",
       "      <th>year</th>\n",
       "      <th>class</th>\n",
       "      <th>cleaned_pca_component_1</th>\n",
       "      <th>cleaned_pca_component_2</th>\n",
       "      <th>cleaned_pca_dbscan_class</th>\n",
       "      <th>cleaned_tsne_dim_1</th>\n",
       "      <th>cleaned_tsne_dim_2</th>\n",
       "      <th>cleaned_tsne_dbscan_class</th>\n",
       "      <th>...</th>\n",
       "      <th>lemma_lg_tsne_dim_1</th>\n",
       "      <th>lemma_lg_tsne_dim_2</th>\n",
       "      <th>lemma_lg_tsne_dbscan_class</th>\n",
       "      <th>Polarity</th>\n",
       "      <th>Subjectivity</th>\n",
       "      <th>Journal Title</th>\n",
       "      <th>Article Title</th>\n",
       "      <th>Abstract</th>\n",
       "      <th>Keywords</th>\n",
       "      <th>Content_Length</th>\n",
       "    </tr>\n",
       "  </thead>\n",
       "  <tbody>\n",
       "    <tr>\n",
       "      <th>0</th>\n",
       "      <td>0</td>\n",
       "      <td>0</td>\n",
       "      <td>2021</td>\n",
       "      <td>post-pandemic</td>\n",
       "      <td>-1.293127</td>\n",
       "      <td>-0.298761</td>\n",
       "      <td>1</td>\n",
       "      <td>-105.382400</td>\n",
       "      <td>-37.885130</td>\n",
       "      <td>0</td>\n",
       "      <td>...</td>\n",
       "      <td>-122.16082</td>\n",
       "      <td>64.9606</td>\n",
       "      <td>0</td>\n",
       "      <td>0.052444</td>\n",
       "      <td>0.391682</td>\n",
       "      <td>Psychological Services</td>\n",
       "      <td>The Effectiveness of Telepsychology With Veter...</td>\n",
       "      <td>Veterans face a variety of stressors due to th...</td>\n",
       "      <td>KEYWORDS:\\n\\ntelepsychology, meta-analysis, ve...</td>\n",
       "      <td>37477</td>\n",
       "    </tr>\n",
       "    <tr>\n",
       "      <th>1</th>\n",
       "      <td>1</td>\n",
       "      <td>1</td>\n",
       "      <td>2021</td>\n",
       "      <td>post-pandemic</td>\n",
       "      <td>0.015101</td>\n",
       "      <td>-0.601342</td>\n",
       "      <td>0</td>\n",
       "      <td>-14.273545</td>\n",
       "      <td>12.252538</td>\n",
       "      <td>0</td>\n",
       "      <td>...</td>\n",
       "      <td>-105.67202</td>\n",
       "      <td>-34.4959</td>\n",
       "      <td>0</td>\n",
       "      <td>0.081330</td>\n",
       "      <td>0.432419</td>\n",
       "      <td>Psychology, Public Policy, and Law</td>\n",
       "      <td>Making the Case for Videoconferencing and Remo...</td>\n",
       "      <td>The COVID-19 pandemic and its requirements for...</td>\n",
       "      <td>KEYWORDS:\\n\\nremote child custody evaluations,...</td>\n",
       "      <td>74025</td>\n",
       "    </tr>\n",
       "  </tbody>\n",
       "</table>\n",
       "<p>2 rows × 29 columns</p>\n",
       "</div>"
      ],
      "text/plain": [
       "   Unnamed: 0  Unnamed: 0.1  year          class  cleaned_pca_component_1  \\\n",
       "0           0             0  2021  post-pandemic                -1.293127   \n",
       "1           1             1  2021  post-pandemic                 0.015101   \n",
       "\n",
       "   cleaned_pca_component_2  cleaned_pca_dbscan_class  cleaned_tsne_dim_1  \\\n",
       "0                -0.298761                         1         -105.382400   \n",
       "1                -0.601342                         0          -14.273545   \n",
       "\n",
       "   cleaned_tsne_dim_2  cleaned_tsne_dbscan_class  ...  lemma_lg_tsne_dim_1  \\\n",
       "0          -37.885130                          0  ...           -122.16082   \n",
       "1           12.252538                          0  ...           -105.67202   \n",
       "\n",
       "   lemma_lg_tsne_dim_2  lemma_lg_tsne_dbscan_class  Polarity  Subjectivity  \\\n",
       "0              64.9606                           0  0.052444      0.391682   \n",
       "1             -34.4959                           0  0.081330      0.432419   \n",
       "\n",
       "                        Journal Title  \\\n",
       "0              Psychological Services   \n",
       "1  Psychology, Public Policy, and Law   \n",
       "\n",
       "                                       Article Title  \\\n",
       "0  The Effectiveness of Telepsychology With Veter...   \n",
       "1  Making the Case for Videoconferencing and Remo...   \n",
       "\n",
       "                                            Abstract  \\\n",
       "0  Veterans face a variety of stressors due to th...   \n",
       "1  The COVID-19 pandemic and its requirements for...   \n",
       "\n",
       "                                            Keywords  Content_Length  \n",
       "0  KEYWORDS:\\n\\ntelepsychology, meta-analysis, ve...           37477  \n",
       "1  KEYWORDS:\\n\\nremote child custody evaluations,...           74025  \n",
       "\n",
       "[2 rows x 29 columns]"
      ]
     },
     "execution_count": 4,
     "metadata": {},
     "output_type": "execute_result"
    }
   ],
   "source": [
    "clusters.head(2)"
   ]
  },
  {
   "cell_type": "code",
   "execution_count": 6,
   "metadata": {},
   "outputs": [
    {
     "data": {
      "text/plain": [
       "array([ 1,  0, -1,  2], dtype=int64)"
      ]
     },
     "execution_count": 6,
     "metadata": {},
     "output_type": "execute_result"
    }
   ],
   "source": [
    "# There are 3 clusers total, those assigned to -1 are unaffiliated with any cluster:\n",
    "clusters.cleaned_pca_dbscan_class.unique()"
   ]
  },
  {
   "cell_type": "code",
   "execution_count": 7,
   "metadata": {
    "id": "lQTMio7o0rn2"
   },
   "outputs": [],
   "source": [
    "df = pd.read_csv('../Data/processed/Telehealth.csv')"
   ]
  },
  {
   "cell_type": "code",
   "execution_count": 22,
   "metadata": {
    "colab": {
     "base_uri": "https://localhost:8080/",
     "height": 198
    },
    "id": "ids_QiJQ0rn3",
    "outputId": "6e2cf689-33e0-483f-9307-f54127aaf028"
   },
   "outputs": [
    {
     "data": {
      "text/html": [
       "<div>\n",
       "<style scoped>\n",
       "    .dataframe tbody tr th:only-of-type {\n",
       "        vertical-align: middle;\n",
       "    }\n",
       "\n",
       "    .dataframe tbody tr th {\n",
       "        vertical-align: top;\n",
       "    }\n",
       "\n",
       "    .dataframe thead th {\n",
       "        text-align: right;\n",
       "    }\n",
       "</style>\n",
       "<table border=\"1\" class=\"dataframe\">\n",
       "  <thead>\n",
       "    <tr style=\"text-align: right;\">\n",
       "      <th></th>\n",
       "      <th>Journal Title</th>\n",
       "      <th>Article Title</th>\n",
       "      <th>Date Published</th>\n",
       "      <th>Authors</th>\n",
       "      <th>Abstract</th>\n",
       "      <th>Keywords</th>\n",
       "      <th>Citation</th>\n",
       "      <th>Content</th>\n",
       "      <th>Content_Length</th>\n",
       "      <th>Abstract_Length</th>\n",
       "      <th>Parsed_Keywords</th>\n",
       "      <th>Parsed_Keywords_Length</th>\n",
       "      <th>Subfield</th>\n",
       "      <th>et_al_Count</th>\n",
       "      <th>Stopwords_Lemma_Longform_Clean_Content</th>\n",
       "      <th>Clean_Content</th>\n",
       "      <th>Classification</th>\n",
       "    </tr>\n",
       "  </thead>\n",
       "  <tbody>\n",
       "    <tr>\n",
       "      <th>0</th>\n",
       "      <td>Psychological Services</td>\n",
       "      <td>The Effectiveness of Telepsychology With Veter...</td>\n",
       "      <td>2021</td>\n",
       "      <td>Michael J. McClellan; Richard Osbaldiston; Ron...</td>\n",
       "      <td>Veterans face a variety of stressors due to th...</td>\n",
       "      <td>KEYWORDS:\\n\\ntelepsychology, meta-analysis, ve...</td>\n",
       "      <td>McClellan, M. J., Osbaldiston, R., Wu, R., Yea...</td>\n",
       "      <td>Veterans face a variety of stressors related t...</td>\n",
       "      <td>37477</td>\n",
       "      <td>2411</td>\n",
       "      <td>['telepsychology,', 'meta-analysis,', 'veteran...</td>\n",
       "      <td>5</td>\n",
       "      <td>Clinical &amp; Counseling Psychology</td>\n",
       "      <td>50</td>\n",
       "      <td>veteran face variety stressor relate military ...</td>\n",
       "      <td>veteran face variety stressor relate military ...</td>\n",
       "      <td>Covid</td>\n",
       "    </tr>\n",
       "  </tbody>\n",
       "</table>\n",
       "</div>"
      ],
      "text/plain": [
       "            Journal Title                                      Article Title  \\\n",
       "0  Psychological Services  The Effectiveness of Telepsychology With Veter...   \n",
       "\n",
       "   Date Published                                            Authors  \\\n",
       "0            2021  Michael J. McClellan; Richard Osbaldiston; Ron...   \n",
       "\n",
       "                                            Abstract  \\\n",
       "0  Veterans face a variety of stressors due to th...   \n",
       "\n",
       "                                            Keywords  \\\n",
       "0  KEYWORDS:\\n\\ntelepsychology, meta-analysis, ve...   \n",
       "\n",
       "                                            Citation  \\\n",
       "0  McClellan, M. J., Osbaldiston, R., Wu, R., Yea...   \n",
       "\n",
       "                                             Content  Content_Length  \\\n",
       "0  Veterans face a variety of stressors related t...           37477   \n",
       "\n",
       "   Abstract_Length                                    Parsed_Keywords  \\\n",
       "0             2411  ['telepsychology,', 'meta-analysis,', 'veteran...   \n",
       "\n",
       "   Parsed_Keywords_Length                          Subfield  et_al_Count  \\\n",
       "0                       5  Clinical & Counseling Psychology           50   \n",
       "\n",
       "              Stopwords_Lemma_Longform_Clean_Content  \\\n",
       "0  veteran face variety stressor relate military ...   \n",
       "\n",
       "                                       Clean_Content Classification  \n",
       "0  veteran face variety stressor relate military ...          Covid  "
      ]
     },
     "execution_count": 22,
     "metadata": {},
     "output_type": "execute_result"
    }
   ],
   "source": [
    "df.head(1)"
   ]
  },
  {
   "cell_type": "code",
   "execution_count": 8,
   "metadata": {
    "id": "pdrUdLCJ19Pr"
   },
   "outputs": [],
   "source": [
    "# Combine the two dataframes on the Article title:\n",
    "merged = df.merge(clusters, on= 'Article Title')"
   ]
  },
  {
   "cell_type": "code",
   "execution_count": 9,
   "metadata": {},
   "outputs": [
    {
     "data": {
      "text/html": [
       "<div>\n",
       "<style scoped>\n",
       "    .dataframe tbody tr th:only-of-type {\n",
       "        vertical-align: middle;\n",
       "    }\n",
       "\n",
       "    .dataframe tbody tr th {\n",
       "        vertical-align: top;\n",
       "    }\n",
       "\n",
       "    .dataframe thead th {\n",
       "        text-align: right;\n",
       "    }\n",
       "</style>\n",
       "<table border=\"1\" class=\"dataframe\">\n",
       "  <thead>\n",
       "    <tr style=\"text-align: right;\">\n",
       "      <th></th>\n",
       "      <th>Journal Title_x</th>\n",
       "      <th>Article Title</th>\n",
       "      <th>Date Published</th>\n",
       "      <th>Authors</th>\n",
       "      <th>Abstract_x</th>\n",
       "      <th>Keywords_x</th>\n",
       "      <th>Citation</th>\n",
       "      <th>Content</th>\n",
       "      <th>Content_Length_x</th>\n",
       "      <th>Abstract_Length</th>\n",
       "      <th>...</th>\n",
       "      <th>lemma_lg_pca_dbscan_class</th>\n",
       "      <th>lemma_lg_tsne_dim_1</th>\n",
       "      <th>lemma_lg_tsne_dim_2</th>\n",
       "      <th>lemma_lg_tsne_dbscan_class</th>\n",
       "      <th>Polarity</th>\n",
       "      <th>Subjectivity</th>\n",
       "      <th>Journal Title_y</th>\n",
       "      <th>Abstract_y</th>\n",
       "      <th>Keywords_y</th>\n",
       "      <th>Content_Length_y</th>\n",
       "    </tr>\n",
       "  </thead>\n",
       "  <tbody>\n",
       "    <tr>\n",
       "      <th>0</th>\n",
       "      <td>Psychological Services</td>\n",
       "      <td>The Effectiveness of Telepsychology With Veter...</td>\n",
       "      <td>2021</td>\n",
       "      <td>Michael J. McClellan; Richard Osbaldiston; Ron...</td>\n",
       "      <td>Veterans face a variety of stressors due to th...</td>\n",
       "      <td>KEYWORDS:\\n\\ntelepsychology, meta-analysis, ve...</td>\n",
       "      <td>McClellan, M. J., Osbaldiston, R., Wu, R., Yea...</td>\n",
       "      <td>Veterans face a variety of stressors related t...</td>\n",
       "      <td>37477</td>\n",
       "      <td>2411</td>\n",
       "      <td>...</td>\n",
       "      <td>-1</td>\n",
       "      <td>-122.16082</td>\n",
       "      <td>64.9606</td>\n",
       "      <td>0</td>\n",
       "      <td>0.052444</td>\n",
       "      <td>0.391682</td>\n",
       "      <td>Psychological Services</td>\n",
       "      <td>Veterans face a variety of stressors due to th...</td>\n",
       "      <td>KEYWORDS:\\n\\ntelepsychology, meta-analysis, ve...</td>\n",
       "      <td>37477</td>\n",
       "    </tr>\n",
       "  </tbody>\n",
       "</table>\n",
       "<p>1 rows × 45 columns</p>\n",
       "</div>"
      ],
      "text/plain": [
       "          Journal Title_x                                      Article Title  \\\n",
       "0  Psychological Services  The Effectiveness of Telepsychology With Veter...   \n",
       "\n",
       "   Date Published                                            Authors  \\\n",
       "0            2021  Michael J. McClellan; Richard Osbaldiston; Ron...   \n",
       "\n",
       "                                          Abstract_x  \\\n",
       "0  Veterans face a variety of stressors due to th...   \n",
       "\n",
       "                                          Keywords_x  \\\n",
       "0  KEYWORDS:\\n\\ntelepsychology, meta-analysis, ve...   \n",
       "\n",
       "                                            Citation  \\\n",
       "0  McClellan, M. J., Osbaldiston, R., Wu, R., Yea...   \n",
       "\n",
       "                                             Content  Content_Length_x  \\\n",
       "0  Veterans face a variety of stressors related t...             37477   \n",
       "\n",
       "   Abstract_Length  ... lemma_lg_pca_dbscan_class  lemma_lg_tsne_dim_1  \\\n",
       "0             2411  ...                        -1           -122.16082   \n",
       "\n",
       "  lemma_lg_tsne_dim_2  lemma_lg_tsne_dbscan_class  Polarity Subjectivity  \\\n",
       "0             64.9606                           0  0.052444     0.391682   \n",
       "\n",
       "          Journal Title_y                                         Abstract_y  \\\n",
       "0  Psychological Services  Veterans face a variety of stressors due to th...   \n",
       "\n",
       "                                          Keywords_y  Content_Length_y  \n",
       "0  KEYWORDS:\\n\\ntelepsychology, meta-analysis, ve...             37477  \n",
       "\n",
       "[1 rows x 45 columns]"
      ]
     },
     "execution_count": 9,
     "metadata": {},
     "output_type": "execute_result"
    }
   ],
   "source": [
    "merged.head(1)"
   ]
  },
  {
   "cell_type": "code",
   "execution_count": 10,
   "metadata": {
    "id": "H3WM62DQ0rn6"
   },
   "outputs": [],
   "source": [
    "# Drop everything we don't need to focus on the text and clusters:\n",
    "\n",
    "summ_df = merged[['Abstract_x', 'Content', 'lemma_tsne_dbscan_class']].copy()"
   ]
  },
  {
   "cell_type": "markdown",
   "metadata": {
    "id": "oQ7BLeDE3CVb"
   },
   "source": [
    "Create the three cluster corpora, exclude the three papers in the unassigned -1 category"
   ]
  },
  {
   "cell_type": "code",
   "execution_count": 54,
   "metadata": {
    "id": "9vzu2ZfI3Gnn"
   },
   "outputs": [
    {
     "ename": "KeyError",
     "evalue": "'lemma_tsne_dbscan_class'",
     "output_type": "error",
     "traceback": [
      "\u001b[1;31m---------------------------------------------------------------------------\u001b[0m",
      "\u001b[1;31mKeyError\u001b[0m                                  Traceback (most recent call last)",
      "\u001b[1;32m~\\anaconda3\\lib\\site-packages\\pandas\\core\\indexes\\base.py\u001b[0m in \u001b[0;36mget_loc\u001b[1;34m(self, key, method, tolerance)\u001b[0m\n\u001b[0;32m   2894\u001b[0m             \u001b[1;32mtry\u001b[0m\u001b[1;33m:\u001b[0m\u001b[1;33m\u001b[0m\u001b[1;33m\u001b[0m\u001b[0m\n\u001b[1;32m-> 2895\u001b[1;33m                 \u001b[1;32mreturn\u001b[0m \u001b[0mself\u001b[0m\u001b[1;33m.\u001b[0m\u001b[0m_engine\u001b[0m\u001b[1;33m.\u001b[0m\u001b[0mget_loc\u001b[0m\u001b[1;33m(\u001b[0m\u001b[0mcasted_key\u001b[0m\u001b[1;33m)\u001b[0m\u001b[1;33m\u001b[0m\u001b[1;33m\u001b[0m\u001b[0m\n\u001b[0m\u001b[0;32m   2896\u001b[0m             \u001b[1;32mexcept\u001b[0m \u001b[0mKeyError\u001b[0m \u001b[1;32mas\u001b[0m \u001b[0merr\u001b[0m\u001b[1;33m:\u001b[0m\u001b[1;33m\u001b[0m\u001b[1;33m\u001b[0m\u001b[0m\n",
      "\u001b[1;32mpandas\\_libs\\index.pyx\u001b[0m in \u001b[0;36mpandas._libs.index.IndexEngine.get_loc\u001b[1;34m()\u001b[0m\n",
      "\u001b[1;32mpandas\\_libs\\index.pyx\u001b[0m in \u001b[0;36mpandas._libs.index.IndexEngine.get_loc\u001b[1;34m()\u001b[0m\n",
      "\u001b[1;32mpandas\\_libs\\hashtable_class_helper.pxi\u001b[0m in \u001b[0;36mpandas._libs.hashtable.PyObjectHashTable.get_item\u001b[1;34m()\u001b[0m\n",
      "\u001b[1;32mpandas\\_libs\\hashtable_class_helper.pxi\u001b[0m in \u001b[0;36mpandas._libs.hashtable.PyObjectHashTable.get_item\u001b[1;34m()\u001b[0m\n",
      "\u001b[1;31mKeyError\u001b[0m: 'lemma_tsne_dbscan_class'",
      "\nThe above exception was the direct cause of the following exception:\n",
      "\u001b[1;31mKeyError\u001b[0m                                  Traceback (most recent call last)",
      "\u001b[1;32m<ipython-input-54-45cf183aaa2d>\u001b[0m in \u001b[0;36m<module>\u001b[1;34m\u001b[0m\n\u001b[1;32m----> 1\u001b[1;33m \u001b[0msumm_df_0\u001b[0m \u001b[1;33m=\u001b[0m \u001b[0msumm_df\u001b[0m\u001b[1;33m[\u001b[0m\u001b[0msumm_df\u001b[0m\u001b[1;33m[\u001b[0m\u001b[1;34m'lemma_tsne_dbscan_class'\u001b[0m\u001b[1;33m]\u001b[0m\u001b[1;33m==\u001b[0m\u001b[1;36m0\u001b[0m\u001b[1;33m]\u001b[0m\u001b[1;33m\u001b[0m\u001b[1;33m\u001b[0m\u001b[0m\n\u001b[0m\u001b[0;32m      2\u001b[0m \u001b[0mprint\u001b[0m\u001b[1;33m(\u001b[0m\u001b[0mlen\u001b[0m\u001b[1;33m(\u001b[0m\u001b[0msumm_df_0\u001b[0m\u001b[1;33m)\u001b[0m\u001b[1;33m)\u001b[0m\u001b[1;33m\u001b[0m\u001b[1;33m\u001b[0m\u001b[0m\n\u001b[0;32m      3\u001b[0m \u001b[0msumm_df_1\u001b[0m \u001b[1;33m=\u001b[0m \u001b[0msumm_df\u001b[0m\u001b[1;33m[\u001b[0m\u001b[0msumm_df\u001b[0m\u001b[1;33m[\u001b[0m\u001b[1;34m'lemma_tsne_dbscan_class'\u001b[0m\u001b[1;33m]\u001b[0m\u001b[1;33m==\u001b[0m\u001b[1;36m1\u001b[0m\u001b[1;33m]\u001b[0m\u001b[1;33m\u001b[0m\u001b[1;33m\u001b[0m\u001b[0m\n\u001b[0;32m      4\u001b[0m \u001b[0msumm_df_2\u001b[0m \u001b[1;33m=\u001b[0m \u001b[0msumm_df\u001b[0m\u001b[1;33m[\u001b[0m\u001b[0msumm_df\u001b[0m\u001b[1;33m[\u001b[0m\u001b[1;34m'lemma_tsne_dbscan_class'\u001b[0m\u001b[1;33m]\u001b[0m\u001b[1;33m==\u001b[0m\u001b[1;36m2\u001b[0m\u001b[1;33m]\u001b[0m\u001b[1;33m\u001b[0m\u001b[1;33m\u001b[0m\u001b[0m\n",
      "\u001b[1;32m~\\anaconda3\\lib\\site-packages\\pandas\\core\\frame.py\u001b[0m in \u001b[0;36m__getitem__\u001b[1;34m(self, key)\u001b[0m\n\u001b[0;32m   2900\u001b[0m             \u001b[1;32mif\u001b[0m \u001b[0mself\u001b[0m\u001b[1;33m.\u001b[0m\u001b[0mcolumns\u001b[0m\u001b[1;33m.\u001b[0m\u001b[0mnlevels\u001b[0m \u001b[1;33m>\u001b[0m \u001b[1;36m1\u001b[0m\u001b[1;33m:\u001b[0m\u001b[1;33m\u001b[0m\u001b[1;33m\u001b[0m\u001b[0m\n\u001b[0;32m   2901\u001b[0m                 \u001b[1;32mreturn\u001b[0m \u001b[0mself\u001b[0m\u001b[1;33m.\u001b[0m\u001b[0m_getitem_multilevel\u001b[0m\u001b[1;33m(\u001b[0m\u001b[0mkey\u001b[0m\u001b[1;33m)\u001b[0m\u001b[1;33m\u001b[0m\u001b[1;33m\u001b[0m\u001b[0m\n\u001b[1;32m-> 2902\u001b[1;33m             \u001b[0mindexer\u001b[0m \u001b[1;33m=\u001b[0m \u001b[0mself\u001b[0m\u001b[1;33m.\u001b[0m\u001b[0mcolumns\u001b[0m\u001b[1;33m.\u001b[0m\u001b[0mget_loc\u001b[0m\u001b[1;33m(\u001b[0m\u001b[0mkey\u001b[0m\u001b[1;33m)\u001b[0m\u001b[1;33m\u001b[0m\u001b[1;33m\u001b[0m\u001b[0m\n\u001b[0m\u001b[0;32m   2903\u001b[0m             \u001b[1;32mif\u001b[0m \u001b[0mis_integer\u001b[0m\u001b[1;33m(\u001b[0m\u001b[0mindexer\u001b[0m\u001b[1;33m)\u001b[0m\u001b[1;33m:\u001b[0m\u001b[1;33m\u001b[0m\u001b[1;33m\u001b[0m\u001b[0m\n\u001b[0;32m   2904\u001b[0m                 \u001b[0mindexer\u001b[0m \u001b[1;33m=\u001b[0m \u001b[1;33m[\u001b[0m\u001b[0mindexer\u001b[0m\u001b[1;33m]\u001b[0m\u001b[1;33m\u001b[0m\u001b[1;33m\u001b[0m\u001b[0m\n",
      "\u001b[1;32m~\\anaconda3\\lib\\site-packages\\pandas\\core\\indexes\\base.py\u001b[0m in \u001b[0;36mget_loc\u001b[1;34m(self, key, method, tolerance)\u001b[0m\n\u001b[0;32m   2895\u001b[0m                 \u001b[1;32mreturn\u001b[0m \u001b[0mself\u001b[0m\u001b[1;33m.\u001b[0m\u001b[0m_engine\u001b[0m\u001b[1;33m.\u001b[0m\u001b[0mget_loc\u001b[0m\u001b[1;33m(\u001b[0m\u001b[0mcasted_key\u001b[0m\u001b[1;33m)\u001b[0m\u001b[1;33m\u001b[0m\u001b[1;33m\u001b[0m\u001b[0m\n\u001b[0;32m   2896\u001b[0m             \u001b[1;32mexcept\u001b[0m \u001b[0mKeyError\u001b[0m \u001b[1;32mas\u001b[0m \u001b[0merr\u001b[0m\u001b[1;33m:\u001b[0m\u001b[1;33m\u001b[0m\u001b[1;33m\u001b[0m\u001b[0m\n\u001b[1;32m-> 2897\u001b[1;33m                 \u001b[1;32mraise\u001b[0m \u001b[0mKeyError\u001b[0m\u001b[1;33m(\u001b[0m\u001b[0mkey\u001b[0m\u001b[1;33m)\u001b[0m \u001b[1;32mfrom\u001b[0m \u001b[0merr\u001b[0m\u001b[1;33m\u001b[0m\u001b[1;33m\u001b[0m\u001b[0m\n\u001b[0m\u001b[0;32m   2898\u001b[0m \u001b[1;33m\u001b[0m\u001b[0m\n\u001b[0;32m   2899\u001b[0m         \u001b[1;32mif\u001b[0m \u001b[0mtolerance\u001b[0m \u001b[1;32mis\u001b[0m \u001b[1;32mnot\u001b[0m \u001b[1;32mNone\u001b[0m\u001b[1;33m:\u001b[0m\u001b[1;33m\u001b[0m\u001b[1;33m\u001b[0m\u001b[0m\n",
      "\u001b[1;31mKeyError\u001b[0m: 'lemma_tsne_dbscan_class'"
     ]
    }
   ],
   "source": [
    "summ_df_0 = summ_df[summ_df['lemma_tsne_dbscan_class']==0]\n",
    "summ_df_1 = summ_df[summ_df['lemma_tsne_dbscan_class']==1]\n",
    "summ_df_2 = summ_df[summ_df['lemma_tsne_dbscan_class']==2]"
   ]
  },
  {
   "cell_type": "code",
   "execution_count": 59,
   "metadata": {},
   "outputs": [
    {
     "name": "stdout",
     "output_type": "stream",
     "text": [
      "Articles in 0 Cluster:  18\n",
      "Articles in 1 Cluster:  11\n",
      "Articles in 2 Cluster:  12\n"
     ]
    }
   ],
   "source": [
    "print('Articles in 0 Cluster: ', len(summ_df_0))\n",
    "print('Articles in 1 Cluster: ', len(summ_df_1))\n",
    "print('Articles in 2 Cluster: ', len(summ_df_2))"
   ]
  },
  {
   "cell_type": "code",
   "execution_count": 14,
   "metadata": {},
   "outputs": [
    {
     "data": {
      "text/html": [
       "<div>\n",
       "<style scoped>\n",
       "    .dataframe tbody tr th:only-of-type {\n",
       "        vertical-align: middle;\n",
       "    }\n",
       "\n",
       "    .dataframe tbody tr th {\n",
       "        vertical-align: top;\n",
       "    }\n",
       "\n",
       "    .dataframe thead th {\n",
       "        text-align: right;\n",
       "    }\n",
       "</style>\n",
       "<table border=\"1\" class=\"dataframe\">\n",
       "  <thead>\n",
       "    <tr style=\"text-align: right;\">\n",
       "      <th></th>\n",
       "      <th>Abstract_x</th>\n",
       "      <th>Content</th>\n",
       "      <th>lemma_tsne_dbscan_class</th>\n",
       "    </tr>\n",
       "  </thead>\n",
       "  <tbody>\n",
       "    <tr>\n",
       "      <th>0</th>\n",
       "      <td>Veterans face a variety of stressors due to th...</td>\n",
       "      <td>Veterans face a variety of stressors related t...</td>\n",
       "      <td>0</td>\n",
       "    </tr>\n",
       "  </tbody>\n",
       "</table>\n",
       "</div>"
      ],
      "text/plain": [
       "                                          Abstract_x  \\\n",
       "0  Veterans face a variety of stressors due to th...   \n",
       "\n",
       "                                             Content  lemma_tsne_dbscan_class  \n",
       "0  Veterans face a variety of stressors related t...                        0  "
      ]
     },
     "execution_count": 14,
     "metadata": {},
     "output_type": "execute_result"
    }
   ],
   "source": [
    "summ_df_0.head(1)"
   ]
  },
  {
   "cell_type": "code",
   "execution_count": 15,
   "metadata": {},
   "outputs": [
    {
     "data": {
      "text/html": [
       "<div>\n",
       "<style scoped>\n",
       "    .dataframe tbody tr th:only-of-type {\n",
       "        vertical-align: middle;\n",
       "    }\n",
       "\n",
       "    .dataframe tbody tr th {\n",
       "        vertical-align: top;\n",
       "    }\n",
       "\n",
       "    .dataframe thead th {\n",
       "        text-align: right;\n",
       "    }\n",
       "</style>\n",
       "<table border=\"1\" class=\"dataframe\">\n",
       "  <thead>\n",
       "    <tr style=\"text-align: right;\">\n",
       "      <th></th>\n",
       "      <th>Abstract_x</th>\n",
       "      <th>Content</th>\n",
       "      <th>lemma_tsne_dbscan_class</th>\n",
       "    </tr>\n",
       "  </thead>\n",
       "  <tbody>\n",
       "    <tr>\n",
       "      <th>3</th>\n",
       "      <td>Many university training clinics are facing nu...</td>\n",
       "      <td>Anxiety and depressive disorders are among the...</td>\n",
       "      <td>1</td>\n",
       "    </tr>\n",
       "  </tbody>\n",
       "</table>\n",
       "</div>"
      ],
      "text/plain": [
       "                                          Abstract_x  \\\n",
       "3  Many university training clinics are facing nu...   \n",
       "\n",
       "                                             Content  lemma_tsne_dbscan_class  \n",
       "3  Anxiety and depressive disorders are among the...                        1  "
      ]
     },
     "execution_count": 15,
     "metadata": {},
     "output_type": "execute_result"
    }
   ],
   "source": [
    "summ_df_1.head(1)"
   ]
  },
  {
   "cell_type": "code",
   "execution_count": 16,
   "metadata": {},
   "outputs": [
    {
     "data": {
      "text/html": [
       "<div>\n",
       "<style scoped>\n",
       "    .dataframe tbody tr th:only-of-type {\n",
       "        vertical-align: middle;\n",
       "    }\n",
       "\n",
       "    .dataframe tbody tr th {\n",
       "        vertical-align: top;\n",
       "    }\n",
       "\n",
       "    .dataframe thead th {\n",
       "        text-align: right;\n",
       "    }\n",
       "</style>\n",
       "<table border=\"1\" class=\"dataframe\">\n",
       "  <thead>\n",
       "    <tr style=\"text-align: right;\">\n",
       "      <th></th>\n",
       "      <th>Abstract_x</th>\n",
       "      <th>Content</th>\n",
       "      <th>lemma_tsne_dbscan_class</th>\n",
       "    </tr>\n",
       "  </thead>\n",
       "  <tbody>\n",
       "    <tr>\n",
       "      <th>7</th>\n",
       "      <td>Although the medical impacts of COVID-19 are n...</td>\n",
       "      <td>The primary focus of COVID-19 has been on its ...</td>\n",
       "      <td>2</td>\n",
       "    </tr>\n",
       "  </tbody>\n",
       "</table>\n",
       "</div>"
      ],
      "text/plain": [
       "                                          Abstract_x  \\\n",
       "7  Although the medical impacts of COVID-19 are n...   \n",
       "\n",
       "                                             Content  lemma_tsne_dbscan_class  \n",
       "7  The primary focus of COVID-19 has been on its ...                        2  "
      ]
     },
     "execution_count": 16,
     "metadata": {},
     "output_type": "execute_result"
    }
   ],
   "source": [
    "summ_df_2.head(1)"
   ]
  },
  {
   "cell_type": "code",
   "execution_count": 21,
   "metadata": {
    "colab": {
     "base_uri": "https://localhost:8080/",
     "height": 137
    },
    "id": "Hx3uAzjR3bK5",
    "outputId": "466cd88b-aa07-46df-cefe-94818d81e6c0"
   },
   "outputs": [],
   "source": [
    "def create_text(df):\n",
    "  text = ''\n",
    "  abstracts = ''\n",
    "  for i in df['Content']:\n",
    "    text = text + i + ' '\n",
    "  for j in df['Abstract_x']:\n",
    "    try:\n",
    "      abstracts = abstracts + j + ' '\n",
    "    except:\n",
    "      continue\n",
    "  return text, abstracts\n",
    "\n",
    "corpus_0, abstracts_0 = create_text(summ_df_0)\n",
    "corpus_1, abstracts_1 = create_text(summ_df_1)\n",
    "corpus_2, abstracts_2 = create_text(summ_df_2)"
   ]
  },
  {
   "cell_type": "markdown",
   "metadata": {
    "id": "ixvScilg0rn_"
   },
   "source": [
    "<h1>GENSIM Summary Section:"
   ]
  },
  {
   "cell_type": "code",
   "execution_count": 22,
   "metadata": {
    "id": "sGPjHn280roA"
   },
   "outputs": [],
   "source": [
    "from gensim.summarization import summarize"
   ]
  },
  {
   "cell_type": "code",
   "execution_count": 38,
   "metadata": {
    "id": "CL0GWvca3AWl"
   },
   "outputs": [
    {
     "name": "stdout",
     "output_type": "stream",
     "text": [
      "Length Before:  730421\n",
      "Length After:   651225\n",
      "Length Before:  341586\n",
      "Length After:   316731\n",
      "Length Before:  344330\n",
      "Length After:   311581\n",
      "Length Before:  34575\n",
      "Length After:   33539\n",
      "Length Before:  12367\n",
      "Length After:   11770\n",
      "Length Before:  19163\n",
      "Length After:   18694\n"
     ]
    }
   ],
   "source": [
    "corpora = [corpus_0, corpus_1, corpus_2]\n",
    "\n",
    "abstracts = [abstracts_0, abstracts_1, abstracts_2]\n",
    "\n",
    "clean_corpora = []\n",
    "\n",
    "clean_abstracts = []\n",
    "\n",
    "# Remove all parenthetical citations, which add no real value to summarization:\n",
    "for corpus in corpora:\n",
    "    print('Length Before: ',len(corpus))\n",
    "    corpus = remove_text_in_parens(corpus)\n",
    "    print('Length After:  ',len(corpus))\n",
    "    clean_corpora.append(corpus)\n",
    "    \n",
    "for abstract in abstracts:\n",
    "    print('Length Before: ',len(abstract))\n",
    "    abstract = remove_text_in_parens(abstract)\n",
    "    print('Length After:  ',len(abstract))\n",
    "    clean_abstracts.append(abstract)\n",
    "\n",
    "summ_corpora = []\n",
    "\n",
    "for i, text in enumerate(clean_corpora):\n",
    "    # 0.05 ratio recommended by Dr. Diana. Prefer this to 150 word_count since we are combining all of the texts of the cluster,\n",
    "    # so a ratio helps offset the increased length of the corpus:\n",
    "    summ_corpora.append(summarize(text, ratio=0.05))\n",
    "    \n",
    "summ_df = pd.DataFrame(summ_corpora, columns=['Summaries'])\n",
    "summ_df['Abstracts'] = clean_abstracts"
   ]
  },
  {
   "cell_type": "code",
   "execution_count": 39,
   "metadata": {},
   "outputs": [
    {
     "data": {
      "text/html": [
       "<div>\n",
       "<style scoped>\n",
       "    .dataframe tbody tr th:only-of-type {\n",
       "        vertical-align: middle;\n",
       "    }\n",
       "\n",
       "    .dataframe tbody tr th {\n",
       "        vertical-align: top;\n",
       "    }\n",
       "\n",
       "    .dataframe thead th {\n",
       "        text-align: right;\n",
       "    }\n",
       "</style>\n",
       "<table border=\"1\" class=\"dataframe\">\n",
       "  <thead>\n",
       "    <tr style=\"text-align: right;\">\n",
       "      <th></th>\n",
       "      <th>Summaries</th>\n",
       "      <th>Abstracts</th>\n",
       "    </tr>\n",
       "  </thead>\n",
       "  <tbody>\n",
       "    <tr>\n",
       "      <th>0</th>\n",
       "      <td>Given the consequences of these barriers, more...</td>\n",
       "      <td>Veterans face a variety of stressors due to th...</td>\n",
       "    </tr>\n",
       "    <tr>\n",
       "      <th>1</th>\n",
       "      <td>Notably, social distancing guidelines, includi...</td>\n",
       "      <td>Many university training clinics are facing nu...</td>\n",
       "    </tr>\n",
       "    <tr>\n",
       "      <th>2</th>\n",
       "      <td>Not surprisingly then, one of the largest and ...</td>\n",
       "      <td>Although the medical impacts of COVID-19 are n...</td>\n",
       "    </tr>\n",
       "  </tbody>\n",
       "</table>\n",
       "</div>"
      ],
      "text/plain": [
       "                                           Summaries  \\\n",
       "0  Given the consequences of these barriers, more...   \n",
       "1  Notably, social distancing guidelines, includi...   \n",
       "2  Not surprisingly then, one of the largest and ...   \n",
       "\n",
       "                                           Abstracts  \n",
       "0  Veterans face a variety of stressors due to th...  \n",
       "1  Many university training clinics are facing nu...  \n",
       "2  Although the medical impacts of COVID-19 are n...  "
      ]
     },
     "execution_count": 39,
     "metadata": {},
     "output_type": "execute_result"
    }
   ],
   "source": [
    "summ_df.head()"
   ]
  },
  {
   "cell_type": "markdown",
   "metadata": {
    "id": "eDGy3ngq0roE"
   },
   "source": [
    "<h1>BLEU Scoring Section:"
   ]
  },
  {
   "cell_type": "code",
   "execution_count": 40,
   "metadata": {
    "id": "abS3_aOv0roF"
   },
   "outputs": [],
   "source": [
    "from nltk.translate.bleu_score import corpus_bleu, sentence_bleu"
   ]
  },
  {
   "cell_type": "code",
   "execution_count": 42,
   "metadata": {
    "colab": {
     "base_uri": "https://localhost:8080/"
    },
    "id": "QjyiaFm-9SIu",
    "outputId": "21df5755-0b1e-420e-eef1-e1c915a3364f"
   },
   "outputs": [
    {
     "name": "stdout",
     "output_type": "stream",
     "text": [
      "0\n",
      "0.001100556070435588\n",
      "1\n",
      "0.001683501683501683\n",
      "2\n",
      "0.0019931578164509886\n"
     ]
    }
   ],
   "source": [
    "bleu_score_dict = {}\n",
    "\n",
    "for row in range(len(summ_df)):\n",
    "    # Using weights=(1,0,0,0) to only search for unigram similarities since beyond that the scores produced were infintesimal\n",
    "    print(row)\n",
    "    bleu_score = sentence_bleu(summ_df.Abstracts[row], summ_df.Summaries[row], weights=(1,0,0,0))\n",
    "    print(bleu_score)\n",
    "    bleu_score_dict[row] = bleu_score\n",
    "    \n",
    "# Create a column for the bleu score from the blue_score_dict:\n",
    "summ_df['Bleu Score'] = summ_df.from_dict(bleu_score_dict.values())"
   ]
  },
  {
   "cell_type": "code",
   "execution_count": 43,
   "metadata": {},
   "outputs": [
    {
     "data": {
      "text/html": [
       "<div>\n",
       "<style scoped>\n",
       "    .dataframe tbody tr th:only-of-type {\n",
       "        vertical-align: middle;\n",
       "    }\n",
       "\n",
       "    .dataframe tbody tr th {\n",
       "        vertical-align: top;\n",
       "    }\n",
       "\n",
       "    .dataframe thead th {\n",
       "        text-align: right;\n",
       "    }\n",
       "</style>\n",
       "<table border=\"1\" class=\"dataframe\">\n",
       "  <thead>\n",
       "    <tr style=\"text-align: right;\">\n",
       "      <th></th>\n",
       "      <th>Summaries</th>\n",
       "      <th>Abstracts</th>\n",
       "      <th>Bleu Score</th>\n",
       "    </tr>\n",
       "  </thead>\n",
       "  <tbody>\n",
       "    <tr>\n",
       "      <th>0</th>\n",
       "      <td>Given the consequences of these barriers, more...</td>\n",
       "      <td>Veterans face a variety of stressors due to th...</td>\n",
       "      <td>0.001101</td>\n",
       "    </tr>\n",
       "    <tr>\n",
       "      <th>1</th>\n",
       "      <td>Notably, social distancing guidelines, includi...</td>\n",
       "      <td>Many university training clinics are facing nu...</td>\n",
       "      <td>0.001684</td>\n",
       "    </tr>\n",
       "    <tr>\n",
       "      <th>2</th>\n",
       "      <td>Not surprisingly then, one of the largest and ...</td>\n",
       "      <td>Although the medical impacts of COVID-19 are n...</td>\n",
       "      <td>0.001993</td>\n",
       "    </tr>\n",
       "  </tbody>\n",
       "</table>\n",
       "</div>"
      ],
      "text/plain": [
       "                                           Summaries  \\\n",
       "0  Given the consequences of these barriers, more...   \n",
       "1  Notably, social distancing guidelines, includi...   \n",
       "2  Not surprisingly then, one of the largest and ...   \n",
       "\n",
       "                                           Abstracts  Bleu Score  \n",
       "0  Veterans face a variety of stressors due to th...    0.001101  \n",
       "1  Many university training clinics are facing nu...    0.001684  \n",
       "2  Although the medical impacts of COVID-19 are n...    0.001993  "
      ]
     },
     "execution_count": 43,
     "metadata": {},
     "output_type": "execute_result"
    }
   ],
   "source": [
    "summ_df.head()"
   ]
  },
  {
   "cell_type": "markdown",
   "metadata": {},
   "source": [
    "BLEU Scores are very low, but this isn't too surprising since BLEU isn't really decided to evaluate automatic summarization techniques. Rouge will be a better metric to go by:"
   ]
  },
  {
   "cell_type": "markdown",
   "metadata": {
    "id": "jfzPJnpk0roI"
   },
   "source": [
    "<h1>Rouge Scoring Section:"
   ]
  },
  {
   "cell_type": "code",
   "execution_count": 45,
   "metadata": {
    "id": "qproTbE70roJ"
   },
   "outputs": [],
   "source": [
    "from rouge import Rouge \n",
    "\n",
    "rouge_scorer = Rouge().get_scores"
   ]
  },
  {
   "cell_type": "code",
   "execution_count": 46,
   "metadata": {
    "colab": {
     "base_uri": "https://localhost:8080/"
    },
    "id": "7ttkOItGVq6J",
    "outputId": "62ba60de-eb9c-4784-b9bb-2a180cf7150c"
   },
   "outputs": [
    {
     "name": "stdout",
     "output_type": "stream",
     "text": [
      "[{'rouge-1': {'f': 0.4862243420210064, 'p': 0.3565244279529994, 'r': 0.7642509942554132}, 'rouge-2': {'f': 0.16968929694124865, 'p': 0.12442016286980724, 'r': 0.2667403314917127}, 'rouge-l': {'f': 0.37779894733657743, 'p': 0.29026354319180087, 'r': 0.5409276944065484}}]\n",
      "[{'rouge-1': {'f': 0.33592261110789656, 'p': 0.21907857006308545, 'r': 0.7198492462311558}, 'rouge-2': {'f': 0.10907491212461867, 'p': 0.07112810707456979, 'r': 0.2338152105593966}, 'rouge-l': {'f': 0.2694560630009139, 'p': 0.18463302752293578, 'r': 0.4984520123839009}}]\n",
      "[{'rouge-1': {'f': 0.5134625694453173, 'p': 0.40012589173310953, 'r': 0.7163786626596544}, 'rouge-2': {'f': 0.19849178101947484, 'p': 0.1546694648478489, 'r': 0.2769635475385194}, 'rouge-l': {'f': 0.3668088359371192, 'p': 0.2945205479452055, 'r': 0.48612538540596095}}]\n"
     ]
    }
   ],
   "source": [
    "rouge_scores_dict = {}\n",
    "\n",
    "for row in range(len(summ_df)):\n",
    "    \n",
    "    rouge_scores = rouge_scorer(summ_df.Summaries[row],summ_df.Abstracts[row])\n",
    "    print(rouge_scores)\n",
    "    rouge_scores_dict[row] = rouge_scores"
   ]
  },
  {
   "cell_type": "code",
   "execution_count": 47,
   "metadata": {
    "colab": {
     "base_uri": "https://localhost:8080/"
    },
    "id": "O6D4TH2NqUmb",
    "outputId": "e61be18b-1fc4-4718-83ad-88fa641f0253"
   },
   "outputs": [
    {
     "name": "stdout",
     "output_type": "stream",
     "text": [
      "[{'rouge-1': {'f': 0.4862243420210064, 'p': 0.3565244279529994, 'r': 0.7642509942554132}, 'rouge-2': {'f': 0.16968929694124865, 'p': 0.12442016286980724, 'r': 0.2667403314917127}, 'rouge-l': {'f': 0.37779894733657743, 'p': 0.29026354319180087, 'r': 0.5409276944065484}}]\n",
      "[{'rouge-1': {'f': 0.33592261110789656, 'p': 0.21907857006308545, 'r': 0.7198492462311558}, 'rouge-2': {'f': 0.10907491212461867, 'p': 0.07112810707456979, 'r': 0.2338152105593966}, 'rouge-l': {'f': 0.2694560630009139, 'p': 0.18463302752293578, 'r': 0.4984520123839009}}]\n",
      "[{'rouge-1': {'f': 0.5134625694453173, 'p': 0.40012589173310953, 'r': 0.7163786626596544}, 'rouge-2': {'f': 0.19849178101947484, 'p': 0.1546694648478489, 'r': 0.2769635475385194}, 'rouge-l': {'f': 0.3668088359371192, 'p': 0.2945205479452055, 'r': 0.48612538540596095}}]\n"
     ]
    }
   ],
   "source": [
    "cluster = 0\n",
    "for i in rouge_scores_dict.values():\n",
    "  print(i)\n",
    "  x = 'rougescores' + str(cluster)\n",
    "  x = pd.DataFrame.from_dict(i)\n",
    "  cluster +=1"
   ]
  },
  {
   "cell_type": "code",
   "execution_count": 48,
   "metadata": {
    "colab": {
     "base_uri": "https://localhost:8080/"
    },
    "id": "fKkYmtfNulYY",
    "outputId": "755d3579-8c58-4775-f6fc-5dd3e8916324"
   },
   "outputs": [
    {
     "name": "stdout",
     "output_type": "stream",
     "text": [
      "{'rouge-1': {'f': 0.4862243420210064, 'p': 0.3565244279529994, 'r': 0.7642509942554132}, 'rouge-2': {'f': 0.16968929694124865, 'p': 0.12442016286980724, 'r': 0.2667403314917127}, 'rouge-l': {'f': 0.37779894733657743, 'p': 0.29026354319180087, 'r': 0.5409276944065484}}\n",
      "{'rouge-1': {'f': 0.33592261110789656, 'p': 0.21907857006308545, 'r': 0.7198492462311558}, 'rouge-2': {'f': 0.10907491212461867, 'p': 0.07112810707456979, 'r': 0.2338152105593966}, 'rouge-l': {'f': 0.2694560630009139, 'p': 0.18463302752293578, 'r': 0.4984520123839009}}\n",
      "{'rouge-1': {'f': 0.5134625694453173, 'p': 0.40012589173310953, 'r': 0.7163786626596544}, 'rouge-2': {'f': 0.19849178101947484, 'p': 0.1546694648478489, 'r': 0.2769635475385194}, 'rouge-l': {'f': 0.3668088359371192, 'p': 0.2945205479452055, 'r': 0.48612538540596095}}\n"
     ]
    }
   ],
   "source": [
    "scores = []\n",
    "frames = []\n",
    "for i, k in rouge_scores_dict.items():\n",
    "  print(k[0])\n",
    "  for score, d in k[0].items():\n",
    "    scores.append(score)\n",
    "    frames.append(pd.DataFrame.from_dict(d, orient='index'))\n",
    "\n",
    "rouge = pd.concat(frames, keys=['Rouge 1 Cluster 0', 'Rouge 2 Cluster 0', 'Rouge l Cluster 0', \n",
    "                        'Rouge 1 Cluster 1', 'Rouge 2 Cluster 1', 'Rouge l Cluster 1',\n",
    "                        'Rouge 1 Cluster 2', 'Rouge 2 Cluster 2', 'Rouge l Cluster 2'\n",
    "                        ])"
   ]
  },
  {
   "cell_type": "code",
   "execution_count": 50,
   "metadata": {},
   "outputs": [
    {
     "data": {
      "text/html": [
       "<div>\n",
       "<style scoped>\n",
       "    .dataframe tbody tr th:only-of-type {\n",
       "        vertical-align: middle;\n",
       "    }\n",
       "\n",
       "    .dataframe tbody tr th {\n",
       "        vertical-align: top;\n",
       "    }\n",
       "\n",
       "    .dataframe thead th {\n",
       "        text-align: right;\n",
       "    }\n",
       "</style>\n",
       "<table border=\"1\" class=\"dataframe\">\n",
       "  <thead>\n",
       "    <tr style=\"text-align: right;\">\n",
       "      <th></th>\n",
       "      <th></th>\n",
       "      <th>0</th>\n",
       "    </tr>\n",
       "  </thead>\n",
       "  <tbody>\n",
       "    <tr>\n",
       "      <th rowspan=\"3\" valign=\"top\">Rouge 1 Cluster 0</th>\n",
       "      <th>f</th>\n",
       "      <td>0.486224</td>\n",
       "    </tr>\n",
       "    <tr>\n",
       "      <th>p</th>\n",
       "      <td>0.356524</td>\n",
       "    </tr>\n",
       "    <tr>\n",
       "      <th>r</th>\n",
       "      <td>0.764251</td>\n",
       "    </tr>\n",
       "    <tr>\n",
       "      <th rowspan=\"3\" valign=\"top\">Rouge 2 Cluster 0</th>\n",
       "      <th>f</th>\n",
       "      <td>0.169689</td>\n",
       "    </tr>\n",
       "    <tr>\n",
       "      <th>p</th>\n",
       "      <td>0.124420</td>\n",
       "    </tr>\n",
       "    <tr>\n",
       "      <th>r</th>\n",
       "      <td>0.266740</td>\n",
       "    </tr>\n",
       "    <tr>\n",
       "      <th rowspan=\"3\" valign=\"top\">Rouge l Cluster 0</th>\n",
       "      <th>f</th>\n",
       "      <td>0.377799</td>\n",
       "    </tr>\n",
       "    <tr>\n",
       "      <th>p</th>\n",
       "      <td>0.290264</td>\n",
       "    </tr>\n",
       "    <tr>\n",
       "      <th>r</th>\n",
       "      <td>0.540928</td>\n",
       "    </tr>\n",
       "    <tr>\n",
       "      <th rowspan=\"3\" valign=\"top\">Rouge 1 Cluster 1</th>\n",
       "      <th>f</th>\n",
       "      <td>0.335923</td>\n",
       "    </tr>\n",
       "    <tr>\n",
       "      <th>p</th>\n",
       "      <td>0.219079</td>\n",
       "    </tr>\n",
       "    <tr>\n",
       "      <th>r</th>\n",
       "      <td>0.719849</td>\n",
       "    </tr>\n",
       "    <tr>\n",
       "      <th rowspan=\"3\" valign=\"top\">Rouge 2 Cluster 1</th>\n",
       "      <th>f</th>\n",
       "      <td>0.109075</td>\n",
       "    </tr>\n",
       "    <tr>\n",
       "      <th>p</th>\n",
       "      <td>0.071128</td>\n",
       "    </tr>\n",
       "    <tr>\n",
       "      <th>r</th>\n",
       "      <td>0.233815</td>\n",
       "    </tr>\n",
       "    <tr>\n",
       "      <th rowspan=\"3\" valign=\"top\">Rouge l Cluster 1</th>\n",
       "      <th>f</th>\n",
       "      <td>0.269456</td>\n",
       "    </tr>\n",
       "    <tr>\n",
       "      <th>p</th>\n",
       "      <td>0.184633</td>\n",
       "    </tr>\n",
       "    <tr>\n",
       "      <th>r</th>\n",
       "      <td>0.498452</td>\n",
       "    </tr>\n",
       "    <tr>\n",
       "      <th rowspan=\"3\" valign=\"top\">Rouge 1 Cluster 2</th>\n",
       "      <th>f</th>\n",
       "      <td>0.513463</td>\n",
       "    </tr>\n",
       "    <tr>\n",
       "      <th>p</th>\n",
       "      <td>0.400126</td>\n",
       "    </tr>\n",
       "    <tr>\n",
       "      <th>r</th>\n",
       "      <td>0.716379</td>\n",
       "    </tr>\n",
       "    <tr>\n",
       "      <th rowspan=\"3\" valign=\"top\">Rouge 2 Cluster 2</th>\n",
       "      <th>f</th>\n",
       "      <td>0.198492</td>\n",
       "    </tr>\n",
       "    <tr>\n",
       "      <th>p</th>\n",
       "      <td>0.154669</td>\n",
       "    </tr>\n",
       "    <tr>\n",
       "      <th>r</th>\n",
       "      <td>0.276964</td>\n",
       "    </tr>\n",
       "    <tr>\n",
       "      <th rowspan=\"3\" valign=\"top\">Rouge l Cluster 2</th>\n",
       "      <th>f</th>\n",
       "      <td>0.366809</td>\n",
       "    </tr>\n",
       "    <tr>\n",
       "      <th>p</th>\n",
       "      <td>0.294521</td>\n",
       "    </tr>\n",
       "    <tr>\n",
       "      <th>r</th>\n",
       "      <td>0.486125</td>\n",
       "    </tr>\n",
       "  </tbody>\n",
       "</table>\n",
       "</div>"
      ],
      "text/plain": [
       "                            0\n",
       "Rouge 1 Cluster 0 f  0.486224\n",
       "                  p  0.356524\n",
       "                  r  0.764251\n",
       "Rouge 2 Cluster 0 f  0.169689\n",
       "                  p  0.124420\n",
       "                  r  0.266740\n",
       "Rouge l Cluster 0 f  0.377799\n",
       "                  p  0.290264\n",
       "                  r  0.540928\n",
       "Rouge 1 Cluster 1 f  0.335923\n",
       "                  p  0.219079\n",
       "                  r  0.719849\n",
       "Rouge 2 Cluster 1 f  0.109075\n",
       "                  p  0.071128\n",
       "                  r  0.233815\n",
       "Rouge l Cluster 1 f  0.269456\n",
       "                  p  0.184633\n",
       "                  r  0.498452\n",
       "Rouge 1 Cluster 2 f  0.513463\n",
       "                  p  0.400126\n",
       "                  r  0.716379\n",
       "Rouge 2 Cluster 2 f  0.198492\n",
       "                  p  0.154669\n",
       "                  r  0.276964\n",
       "Rouge l Cluster 2 f  0.366809\n",
       "                  p  0.294521\n",
       "                  r  0.486125"
      ]
     },
     "execution_count": 50,
     "metadata": {},
     "output_type": "execute_result"
    }
   ],
   "source": [
    "rouge"
   ]
  },
  {
   "cell_type": "code",
   "execution_count": 60,
   "metadata": {
    "id": "E7xOfqrSqfnE"
   },
   "outputs": [],
   "source": [
    "rouge.to_csv('../Data/rouge_scores.csv')"
   ]
  },
  {
   "cell_type": "code",
   "execution_count": 61,
   "metadata": {
    "colab": {
     "base_uri": "https://localhost:8080/",
     "height": 136
    },
    "id": "8hoD2_J50roN",
    "outputId": "e054bec4-a6ec-4a44-f19c-bf4bb68072f0"
   },
   "outputs": [
    {
     "data": {
      "text/html": [
       "<div>\n",
       "<style scoped>\n",
       "    .dataframe tbody tr th:only-of-type {\n",
       "        vertical-align: middle;\n",
       "    }\n",
       "\n",
       "    .dataframe tbody tr th {\n",
       "        vertical-align: top;\n",
       "    }\n",
       "\n",
       "    .dataframe thead th {\n",
       "        text-align: right;\n",
       "    }\n",
       "</style>\n",
       "<table border=\"1\" class=\"dataframe\">\n",
       "  <thead>\n",
       "    <tr style=\"text-align: right;\">\n",
       "      <th></th>\n",
       "      <th>Summaries</th>\n",
       "      <th>Abstracts</th>\n",
       "      <th>Bleu Score</th>\n",
       "    </tr>\n",
       "  </thead>\n",
       "  <tbody>\n",
       "    <tr>\n",
       "      <th>0</th>\n",
       "      <td>Given the consequences of these barriers, more...</td>\n",
       "      <td>Veterans face a variety of stressors due to th...</td>\n",
       "      <td>0.001101</td>\n",
       "    </tr>\n",
       "    <tr>\n",
       "      <th>1</th>\n",
       "      <td>Notably, social distancing guidelines, includi...</td>\n",
       "      <td>Many university training clinics are facing nu...</td>\n",
       "      <td>0.001684</td>\n",
       "    </tr>\n",
       "    <tr>\n",
       "      <th>2</th>\n",
       "      <td>Not surprisingly then, one of the largest and ...</td>\n",
       "      <td>Although the medical impacts of COVID-19 are n...</td>\n",
       "      <td>0.001993</td>\n",
       "    </tr>\n",
       "  </tbody>\n",
       "</table>\n",
       "</div>"
      ],
      "text/plain": [
       "                                           Summaries  \\\n",
       "0  Given the consequences of these barriers, more...   \n",
       "1  Notably, social distancing guidelines, includi...   \n",
       "2  Not surprisingly then, one of the largest and ...   \n",
       "\n",
       "                                           Abstracts  Bleu Score  \n",
       "0  Veterans face a variety of stressors due to th...    0.001101  \n",
       "1  Many university training clinics are facing nu...    0.001684  \n",
       "2  Although the medical impacts of COVID-19 are n...    0.001993  "
      ]
     },
     "execution_count": 61,
     "metadata": {},
     "output_type": "execute_result"
    }
   ],
   "source": [
    "summ_df.head()"
   ]
  },
  {
   "cell_type": "code",
   "execution_count": 62,
   "metadata": {
    "id": "rMPu4XTFWb76"
   },
   "outputs": [],
   "source": [
    "summ_df = summ_df[['Summaries', 'Bleu Score']]"
   ]
  },
  {
   "cell_type": "code",
   "execution_count": 63,
   "metadata": {
    "id": "PKXKwP8thKrc"
   },
   "outputs": [],
   "source": [
    "summ_df.to_csv('../Data/Extractive Summaries.csv')"
   ]
  },
  {
   "cell_type": "code",
   "execution_count": 70,
   "metadata": {
    "id": "zhv-zAGd0roR"
   },
   "outputs": [
    {
     "data": {
      "text/plain": [
       "'Given the consequences of these barriers, more work needs to be done to reduce their impact on veterans.Telepsychology, or the use of technology to provide mental health services, broadly encompasses a variety of direct formats including videoconferencing, phone, and instant messaging as well as a variety of indirect formats such as email, self-help apps, or websites. In this article, telepsychology is more narrowly defined as the use of videoconferencing and telephone technologies to provide mental health services in order to reflect that the bulk of the available research is conducted using one of these two mediums. Furthermore, this increased privacy associated with telepsychology visits can help prevent some of the negative stigma or embarrassment that veterans might experience during face-to-face visits by allowing them to avoid those in-office contacts.Effectiveness of TelepsychologyOne question that must be presented to mental health providers and researchers is whether veteran-focused telepsychology is at least as'"
      ]
     },
     "execution_count": 70,
     "metadata": {},
     "output_type": "execute_result"
    }
   ],
   "source": [
    "' '.join(summ_df['Summaries'][0].split()[0:150])"
   ]
  },
  {
   "cell_type": "code",
   "execution_count": 71,
   "metadata": {},
   "outputs": [
    {
     "data": {
      "text/plain": [
       "'Notably, social distancing guidelines, including guidance to wear face coverings, disinfectant procedures, and general fear among both clients and providers, present significant barriers to care from practical, economic, health, and personal comfort perspectives. Furthermore, while public Internet access is nearly ubiquitous today, the Pew Research Center reported 75% of U.S. adults also have broadband Internet service at home, suggesting fast, reliable, and more secure connectivity that provides a unique opportunity to leverage telepsychology to address mental health needs.Telepsychology is defined as “the provision of psychological services using telecommunication technologies… [including, but not limited] to telephone, mobile devices, interactive videoconferencing, email, chat, text, and Internet”. Additionally, telepsychology via videoconferencing and via telephone is associated with strong therapeutic alliances and increased cost-effectiveness, lowering costs by 10% per patient and 16% per visit compared to face-to-face treatment.While use of telepsychology methods increased over recent years in both community and federal agencies such as'"
      ]
     },
     "execution_count": 71,
     "metadata": {},
     "output_type": "execute_result"
    }
   ],
   "source": [
    "' '.join(summ_df['Summaries'][1].split()[0:150])"
   ]
  },
  {
   "cell_type": "code",
   "execution_count": 72,
   "metadata": {},
   "outputs": [
    {
     "data": {
      "text/plain": [
       "'Not surprisingly then, one of the largest and most sustained effects of the COVID-19 pandemic is its impact on mental health and, by extension, the prosperity of nations worldwide.Due to the financial, social, and psychological stress of COVID-19, and the reduction in supports attributed to physical distancing requirements, it is expected that anxiety, depression, and traumatic stress will increase dramatically as a function of COVID-19. Telemental health may also be effective in reducing common barriers to accessing treatment, such as transportation to treatment sessions, increasing access to evidence-based services in rural areas or in communities without specialized mental health services in Canada, and in low- and middle-income countries with low funding for in person services.Importantly, although there are myriad benefits to telemental health, there are also notable limitations, and these should be weighed prior to the widespread adoption of telemental health practices with all clients during and beyond COVID-19. Without'"
      ]
     },
     "execution_count": 72,
     "metadata": {},
     "output_type": "execute_result"
    }
   ],
   "source": [
    "' '.join(summ_df['Summaries'][2].split()[0:150])"
   ]
  },
  {
   "cell_type": "code",
   "execution_count": null,
   "metadata": {},
   "outputs": [],
   "source": []
  }
 ],
 "metadata": {
  "colab": {
   "name": "Text_Summarization.ipynb",
   "provenance": []
  },
  "kernelspec": {
   "display_name": "Python 3",
   "language": "python",
   "name": "python3"
  },
  "language_info": {
   "codemirror_mode": {
    "name": "ipython",
    "version": 3
   },
   "file_extension": ".py",
   "mimetype": "text/x-python",
   "name": "python",
   "nbconvert_exporter": "python",
   "pygments_lexer": "ipython3",
   "version": "3.8.5"
  }
 },
 "nbformat": 4,
 "nbformat_minor": 4
}
