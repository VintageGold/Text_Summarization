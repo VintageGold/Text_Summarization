{
  "nbformat": 4,
  "nbformat_minor": 0,
  "metadata": {
    "colab": {
      "name": "Spacy_BaseTransformer_NER_Model.ipynb",
      "provenance": [],
      "collapsed_sections": [],
      "toc_visible": true,
      "include_colab_link": true
    },
    "kernelspec": {
      "display_name": "Python 3",
      "language": "python",
      "name": "python3"
    },
    "language_info": {
      "codemirror_mode": {
        "name": "ipython",
        "version": 3
      },
      "file_extension": ".py",
      "mimetype": "text/x-python",
      "name": "python",
      "nbconvert_exporter": "python",
      "pygments_lexer": "ipython3",
      "version": "3.7.6"
    },
    "accelerator": "GPU"
  },
  "cells": [
    {
      "cell_type": "markdown",
      "metadata": {
        "id": "view-in-github",
        "colab_type": "text"
      },
      "source": [
        "<a href=\"https://colab.research.google.com/github/VintageGold/Text_Summarization/blob/main/notebooks/Spacy_BaseTransformer_NER_Model.ipynb\" target=\"_parent\"><img src=\"https://colab.research.google.com/assets/colab-badge.svg\" alt=\"Open In Colab\"/></a>"
      ]
    },
    {
      "cell_type": "markdown",
      "metadata": {
        "id": "rNj2KE-CO6ME"
      },
      "source": [
        "# Highly Recommend GPU Environment"
      ]
    },
    {
      "cell_type": "markdown",
      "metadata": {
        "id": "0LhFX_rBCElt"
      },
      "source": [
        "# NER Entity Notebook\n",
        "\n",
        "* Train NER\n",
        "* Combine with main file Telehealth.csv\n",
        "* Write to File"
      ]
    },
    {
      "cell_type": "markdown",
      "metadata": {
        "id": "3ppbAJQs6AFv"
      },
      "source": [
        "# NER Model"
      ]
    },
    {
      "cell_type": "code",
      "metadata": {
        "id": "TIg7YiF9CElq"
      },
      "source": [
        "#Spacy org\n",
        "#!pip install spacy\n",
        "#!python3 -m spacy download en_core_web_sm\n",
        "#!python3 -m spacy download en_core_web_md\n",
        "#!python3 -m spacy download en_core_web_lg\n",
        "#!pip install spacy-transformers\n",
        "#!python -m spacy download en_core_web_trf"
      ],
      "execution_count": 14,
      "outputs": []
    },
    {
      "cell_type": "code",
      "metadata": {
        "colab": {
          "base_uri": "https://localhost:8080/"
        },
        "id": "LNeulJo5CrfM",
        "outputId": "33460710-7aff-4a0d-987a-e6681ab014e6"
      },
      "source": [
        "try:\n",
        "    from google.colab import drive\n",
        "\n",
        "    drive.mount('./drive/')\n",
        "\n",
        "    %cd drive/My \\ Drive/Text_Summarization\n",
        "\n",
        "except:\n",
        "    print(\"No Colab Environment\")"
      ],
      "execution_count": 2,
      "outputs": [
        {
          "output_type": "stream",
          "text": [
            "Drive already mounted at ./drive/; to attempt to forcibly remount, call drive.mount(\"./drive/\", force_remount=True).\n",
            "/content/drive/My  Drive/Text_Summarization\n"
          ],
          "name": "stdout"
        }
      ]
    },
    {
      "cell_type": "markdown",
      "metadata": {
        "id": "kP9O2A-WO6MH"
      },
      "source": [
        "# Train Model"
      ]
    },
    {
      "cell_type": "code",
      "metadata": {
        "id": "aCcSj2mHO6MI"
      },
      "source": [
        "import pandas as pd\n",
        "\n",
        "df_overview = pd.read_csv(\"./Data/processed/Telehealth.csv\")"
      ],
      "execution_count": 3,
      "outputs": []
    },
    {
      "cell_type": "code",
      "metadata": {
        "id": "0FkEMKpUCElw"
      },
      "source": [
        "#Load Transformer Model for NER\n",
        "import spacy\n",
        "from spacy.lang.en import English\n",
        "from datetime import date\n",
        "\n",
        "corpus = df_overview[\"Content\"]\n",
        "\n",
        "nlp = spacy.load(\"en_core_web_trf\")\n",
        "\n",
        "docs = list(nlp.pipe(corpus,disable=[\"parser\",\"textcat\"]))\n",
        "# https://spacy.io/api/language#from_disk\n",
        "nlp.to_disk(f\"Models/standard_spacy_transformer_{date.today()}\")"
      ],
      "execution_count": 4,
      "outputs": []
    },
    {
      "cell_type": "code",
      "metadata": {
        "id": "uldaKluhCElx"
      },
      "source": [
        "ner_dict = dict() #used throughout analysis\n",
        "\n",
        "ner_label_dict = dict() #contains dictionary of the NER Terms and meanings\n",
        "\n",
        "for index,doc in enumerate(docs):\n",
        "\n",
        "    for ent in doc.ents:\n",
        "        \n",
        "        if str(ent) not in ner_dict.keys():\n",
        "            \n",
        "            ner_label_dict[ent.label_] = spacy.explain(ent.label_)\n",
        "\n",
        "            ner_dict[ent.text] = {\"NER_Label\":str(ent.label_),\n",
        "                                  \"Unique_Documents\":{str(index)},\"Full_Documents\":list(str(index))\n",
        "                                      }\n",
        "            \n",
        "        else:\n",
        "            ner_dict[ent.text][\"Unique_Documents\"].add(index)\n",
        "            ner_dict[ent.text][\"Full_Documents\"].append(index)\n",
        "            "
      ],
      "execution_count": 5,
      "outputs": []
    },
    {
      "cell_type": "code",
      "metadata": {
        "id": "xZSetZqeCEly"
      },
      "source": [
        "import json\n",
        "    \n",
        "with open(\"references/ner_label_description.json\",\"w\") as f:\n",
        "    json.dump(ner_label_dict, f, indent = 4)"
      ],
      "execution_count": 7,
      "outputs": []
    },
    {
      "cell_type": "markdown",
      "metadata": {
        "id": "Wl8vnvyyO6MI"
      },
      "source": [
        "# Join with Telehealth.csv for Classifications"
      ]
    },
    {
      "cell_type": "code",
      "metadata": {
        "colab": {
          "base_uri": "https://localhost:8080/",
          "height": 189
        },
        "id": "rM5EKbwACElz",
        "outputId": "02fab4e8-5aea-433e-f63d-3e16af05be62"
      },
      "source": [
        "df_ner = pd.DataFrame.from_dict(ner_dict,orient=\"index\")\n",
        "df_ner.head(5)"
      ],
      "execution_count": 8,
      "outputs": [
        {
          "output_type": "execute_result",
          "data": {
            "text/html": [
              "<div>\n",
              "<style scoped>\n",
              "    .dataframe tbody tr th:only-of-type {\n",
              "        vertical-align: middle;\n",
              "    }\n",
              "\n",
              "    .dataframe tbody tr th {\n",
              "        vertical-align: top;\n",
              "    }\n",
              "\n",
              "    .dataframe thead th {\n",
              "        text-align: right;\n",
              "    }\n",
              "</style>\n",
              "<table border=\"1\" class=\"dataframe\">\n",
              "  <thead>\n",
              "    <tr style=\"text-align: right;\">\n",
              "      <th></th>\n",
              "      <th>NER_Label</th>\n",
              "      <th>Unique_Documents</th>\n",
              "      <th>Full_Documents</th>\n",
              "    </tr>\n",
              "  </thead>\n",
              "  <tbody>\n",
              "    <tr>\n",
              "      <th>Institute of Medicine</th>\n",
              "      <td>ORG</td>\n",
              "      <td>{0, 10, 42, 0}</td>\n",
              "      <td>[0, 0, 10, 10, 42]</td>\n",
              "    </tr>\n",
              "    <tr>\n",
              "      <th>2014</th>\n",
              "      <td>DATE</td>\n",
              "      <td>{0, 1, 2, 3, 5, 6, 7, 8, 11, 12, 0, 14, 15, 16...</td>\n",
              "      <td>[0, 0, 0, 0, 0, 0, 1, 1, 1, 1, 1, 1, 1, 1, 1, ...</td>\n",
              "    </tr>\n",
              "    <tr>\n",
              "      <th>Tanielian</th>\n",
              "      <td>PERSON</td>\n",
              "      <td>{0, 0}</td>\n",
              "      <td>[0, 0, 0, 0, 0, 0, 0, 0]</td>\n",
              "    </tr>\n",
              "    <tr>\n",
              "      <th>2008</th>\n",
              "      <td>DATE</td>\n",
              "      <td>{0, 1, 2, 3, 5, 6, 7, 8, 11, 0, 15, 16, 17, 18...</td>\n",
              "      <td>[0, 0, 0, 0, 0, 0, 0, 0, 0, 1, 1, 1, 1, 1, 1, ...</td>\n",
              "    </tr>\n",
              "    <tr>\n",
              "      <th>Substance Abuse and Mental Health Services Administration</th>\n",
              "      <td>ORG</td>\n",
              "      <td>{21, 27, 0}</td>\n",
              "      <td>[0, 21, 27]</td>\n",
              "    </tr>\n",
              "  </tbody>\n",
              "</table>\n",
              "</div>"
            ],
            "text/plain": [
              "                                                   NER_Label  ...                                     Full_Documents\n",
              "Institute of Medicine                                    ORG  ...                                 [0, 0, 10, 10, 42]\n",
              "2014                                                    DATE  ...  [0, 0, 0, 0, 0, 0, 1, 1, 1, 1, 1, 1, 1, 1, 1, ...\n",
              "Tanielian                                             PERSON  ...                           [0, 0, 0, 0, 0, 0, 0, 0]\n",
              "2008                                                    DATE  ...  [0, 0, 0, 0, 0, 0, 0, 0, 0, 1, 1, 1, 1, 1, 1, ...\n",
              "Substance Abuse and Mental Health Services Admi...       ORG  ...                                        [0, 21, 27]\n",
              "\n",
              "[5 rows x 3 columns]"
            ]
          },
          "metadata": {
            "tags": []
          },
          "execution_count": 8
        }
      ]
    },
    {
      "cell_type": "code",
      "metadata": {
        "id": "2XXoL4kJCEl0"
      },
      "source": [
        "df_ner[[\"NER_Label\"]].to_json(\"./references/ner_dictionary.json\",orient=\"index\",indent=4)"
      ],
      "execution_count": 9,
      "outputs": []
    },
    {
      "cell_type": "code",
      "metadata": {
        "id": "IkXSg9y2CEl0"
      },
      "source": [
        "#Load abrv dictionary to add long form.  This dictionary comes from the Wrangling notebook\n",
        "\n",
        "with open(\"./references/abbreviation_table_processed.json\", \"r\") as r:\n",
        "    \n",
        "    abrv_dict = json.load(r)\n"
      ],
      "execution_count": 10,
      "outputs": []
    },
    {
      "cell_type": "code",
      "metadata": {
        "colab": {
          "base_uri": "https://localhost:8080/",
          "height": 189
        },
        "id": "glb1Ad_ACEl4",
        "outputId": "faef3b40-736e-4a9a-9d89-d2ea25aa9401"
      },
      "source": [
        "#Apply abbrv to entities found\n",
        "df_ner = df_ner.reset_index().rename(columns={\"index\":\"Term\"})\n",
        "df_ner[\"Long_Form\"] = df_ner[\"Term\"].apply(lambda x: abrv_dict[x][\"LongForm\"] if x in abrv_dict.keys() else x)\n",
        "\n",
        "df_ner.head(5)"
      ],
      "execution_count": 11,
      "outputs": [
        {
          "output_type": "execute_result",
          "data": {
            "text/html": [
              "<div>\n",
              "<style scoped>\n",
              "    .dataframe tbody tr th:only-of-type {\n",
              "        vertical-align: middle;\n",
              "    }\n",
              "\n",
              "    .dataframe tbody tr th {\n",
              "        vertical-align: top;\n",
              "    }\n",
              "\n",
              "    .dataframe thead th {\n",
              "        text-align: right;\n",
              "    }\n",
              "</style>\n",
              "<table border=\"1\" class=\"dataframe\">\n",
              "  <thead>\n",
              "    <tr style=\"text-align: right;\">\n",
              "      <th></th>\n",
              "      <th>Term</th>\n",
              "      <th>NER_Label</th>\n",
              "      <th>Unique_Documents</th>\n",
              "      <th>Full_Documents</th>\n",
              "      <th>Long_Form</th>\n",
              "    </tr>\n",
              "  </thead>\n",
              "  <tbody>\n",
              "    <tr>\n",
              "      <th>0</th>\n",
              "      <td>Institute of Medicine</td>\n",
              "      <td>ORG</td>\n",
              "      <td>{0, 10, 42, 0}</td>\n",
              "      <td>[0, 0, 10, 10, 42]</td>\n",
              "      <td>Institute of Medicine</td>\n",
              "    </tr>\n",
              "    <tr>\n",
              "      <th>1</th>\n",
              "      <td>2014</td>\n",
              "      <td>DATE</td>\n",
              "      <td>{0, 1, 2, 3, 5, 6, 7, 8, 11, 12, 0, 14, 15, 16...</td>\n",
              "      <td>[0, 0, 0, 0, 0, 0, 1, 1, 1, 1, 1, 1, 1, 1, 1, ...</td>\n",
              "      <td>2014</td>\n",
              "    </tr>\n",
              "    <tr>\n",
              "      <th>2</th>\n",
              "      <td>Tanielian</td>\n",
              "      <td>PERSON</td>\n",
              "      <td>{0, 0}</td>\n",
              "      <td>[0, 0, 0, 0, 0, 0, 0, 0]</td>\n",
              "      <td>Tanielian</td>\n",
              "    </tr>\n",
              "    <tr>\n",
              "      <th>3</th>\n",
              "      <td>2008</td>\n",
              "      <td>DATE</td>\n",
              "      <td>{0, 1, 2, 3, 5, 6, 7, 8, 11, 0, 15, 16, 17, 18...</td>\n",
              "      <td>[0, 0, 0, 0, 0, 0, 0, 0, 0, 1, 1, 1, 1, 1, 1, ...</td>\n",
              "      <td>2008</td>\n",
              "    </tr>\n",
              "    <tr>\n",
              "      <th>4</th>\n",
              "      <td>Substance Abuse and Mental Health Services Adm...</td>\n",
              "      <td>ORG</td>\n",
              "      <td>{21, 27, 0}</td>\n",
              "      <td>[0, 21, 27]</td>\n",
              "      <td>Substance Abuse and Mental Health Services Adm...</td>\n",
              "    </tr>\n",
              "  </tbody>\n",
              "</table>\n",
              "</div>"
            ],
            "text/plain": [
              "                                                Term  ...                                          Long_Form\n",
              "0                              Institute of Medicine  ...                              Institute of Medicine\n",
              "1                                               2014  ...                                               2014\n",
              "2                                          Tanielian  ...                                          Tanielian\n",
              "3                                               2008  ...                                               2008\n",
              "4  Substance Abuse and Mental Health Services Adm...  ...  Substance Abuse and Mental Health Services Adm...\n",
              "\n",
              "[5 rows x 5 columns]"
            ]
          },
          "metadata": {
            "tags": []
          },
          "execution_count": 11
        }
      ]
    },
    {
      "cell_type": "markdown",
      "metadata": {
        "id": "fMTxJzPpO6MK"
      },
      "source": [
        "# Write to File"
      ]
    },
    {
      "cell_type": "code",
      "metadata": {
        "id": "agZkx0bICEl4"
      },
      "source": [
        "df_ner.to_json(\"Data/processed/ner_analysis.json\",orient=\"records\",indent=4)"
      ],
      "execution_count": 13,
      "outputs": []
    }
  ]
}