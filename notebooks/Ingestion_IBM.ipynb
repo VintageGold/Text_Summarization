{
 "cells": [
  {
   "cell_type": "code",
   "execution_count": 1,
   "metadata": {
    "colab": {
     "base_uri": "https://localhost:8080/"
    },
    "id": "DHWjYqG1xr6i",
    "outputId": "af18a056-80ec-4b96-bdca-5707cacf8094"
   },
   "outputs": [
    {
     "name": "stdout",
     "output_type": "stream",
     "text": [
      "Mounted at ./drive/\n",
      "/content/drive/My  Drive/Text_Summarization\n"
     ]
    }
   ],
   "source": [
    "try:\n",
    "    from google.colab import drive\n",
    "\n",
    "    drive.mount('./drive/')\n",
    "\n",
    "    %cd drive/My \\ Drive/Text_Summarization\n",
    "\n",
    "except:\n",
    "    print(\"No Colab Environment\")"
   ]
  },
  {
   "cell_type": "code",
   "execution_count": 2,
   "metadata": {
    "id": "7tMgY-27x8-4"
   },
   "outputs": [],
   "source": [
    "creds = {\"API_Key\":\"zE9ZTAtXkVOjKMThFK8sRGYa0pKnqH-e5bH7q-usws_f\",\n",
    "\"Service_URL\":\"https://api.us-south.natural-language-understanding.watson.cloud.ibm.com/instances/1787df31-35bf-481a-a6de-562efb73f4d3\"\n",
    "}\n",
    "\n",
    "\n",
    "api_key = creds['API_Key']\n",
    "service_url = creds['Service_URL']"
   ]
  },
  {
   "cell_type": "code",
   "execution_count": 3,
   "metadata": {
    "colab": {
     "base_uri": "https://localhost:8080/"
    },
    "id": "WgLr5S3FyOa6",
    "outputId": "50cd83bb-668b-4004-891f-835d7169e331"
   },
   "outputs": [
    {
     "name": "stdout",
     "output_type": "stream",
     "text": [
      "Collecting ibm_watson\n",
      "\u001b[?25l  Downloading https://files.pythonhosted.org/packages/9b/88/395d7d52df29f321ae1150cf9b5a71cef8611570230502597c427bc1e9d9/ibm-watson-5.1.0.tar.gz (382kB)\n",
      "\r",
      "\u001b[K     |▉                               | 10kB 11.8MB/s eta 0:00:01\r",
      "\u001b[K     |█▊                              | 20kB 11.3MB/s eta 0:00:01\r",
      "\u001b[K     |██▋                             | 30kB 7.6MB/s eta 0:00:01\r",
      "\u001b[K     |███▍                            | 40kB 7.1MB/s eta 0:00:01\r",
      "\u001b[K     |████▎                           | 51kB 4.4MB/s eta 0:00:01\r",
      "\u001b[K     |█████▏                          | 61kB 5.0MB/s eta 0:00:01\r",
      "\u001b[K     |██████                          | 71kB 5.0MB/s eta 0:00:01\r",
      "\u001b[K     |██████▉                         | 81kB 5.3MB/s eta 0:00:01\r",
      "\u001b[K     |███████▊                        | 92kB 5.6MB/s eta 0:00:01\r",
      "\u001b[K     |████████▋                       | 102kB 5.3MB/s eta 0:00:01\r",
      "\u001b[K     |█████████▍                      | 112kB 5.3MB/s eta 0:00:01\r",
      "\u001b[K     |██████████▎                     | 122kB 5.3MB/s eta 0:00:01\r",
      "\u001b[K     |███████████▏                    | 133kB 5.3MB/s eta 0:00:01\r",
      "\u001b[K     |████████████                    | 143kB 5.3MB/s eta 0:00:01\r",
      "\u001b[K     |████████████▉                   | 153kB 5.3MB/s eta 0:00:01\r",
      "\u001b[K     |█████████████▊                  | 163kB 5.3MB/s eta 0:00:01\r",
      "\u001b[K     |██████████████▋                 | 174kB 5.3MB/s eta 0:00:01\r",
      "\u001b[K     |███████████████▍                | 184kB 5.3MB/s eta 0:00:01\r",
      "\u001b[K     |████████████████▎               | 194kB 5.3MB/s eta 0:00:01\r",
      "\u001b[K     |█████████████████▏              | 204kB 5.3MB/s eta 0:00:01\r",
      "\u001b[K     |██████████████████              | 215kB 5.3MB/s eta 0:00:01\r",
      "\u001b[K     |██████████████████▉             | 225kB 5.3MB/s eta 0:00:01\r",
      "\u001b[K     |███████████████████▊            | 235kB 5.3MB/s eta 0:00:01\r",
      "\u001b[K     |████████████████████▋           | 245kB 5.3MB/s eta 0:00:01\r",
      "\u001b[K     |█████████████████████▍          | 256kB 5.3MB/s eta 0:00:01\r",
      "\u001b[K     |██████████████████████▎         | 266kB 5.3MB/s eta 0:00:01\r",
      "\u001b[K     |███████████████████████▏        | 276kB 5.3MB/s eta 0:00:01\r",
      "\u001b[K     |████████████████████████        | 286kB 5.3MB/s eta 0:00:01\r",
      "\u001b[K     |████████████████████████▉       | 296kB 5.3MB/s eta 0:00:01\r",
      "\u001b[K     |█████████████████████████▊      | 307kB 5.3MB/s eta 0:00:01\r",
      "\u001b[K     |██████████████████████████▋     | 317kB 5.3MB/s eta 0:00:01\r",
      "\u001b[K     |███████████████████████████▍    | 327kB 5.3MB/s eta 0:00:01\r",
      "\u001b[K     |████████████████████████████▎   | 337kB 5.3MB/s eta 0:00:01\r",
      "\u001b[K     |█████████████████████████████▏  | 348kB 5.3MB/s eta 0:00:01\r",
      "\u001b[K     |██████████████████████████████  | 358kB 5.3MB/s eta 0:00:01\r",
      "\u001b[K     |██████████████████████████████▉ | 368kB 5.3MB/s eta 0:00:01\r",
      "\u001b[K     |███████████████████████████████▊| 378kB 5.3MB/s eta 0:00:01\r",
      "\u001b[K     |████████████████████████████████| 389kB 5.3MB/s \n",
      "\u001b[?25hRequirement already satisfied: requests<3.0,>=2.0 in /usr/local/lib/python3.7/dist-packages (from ibm_watson) (2.23.0)\n",
      "Requirement already satisfied: python_dateutil>=2.5.3 in /usr/local/lib/python3.7/dist-packages (from ibm_watson) (2.8.1)\n",
      "Collecting websocket-client==0.48.0\n",
      "\u001b[?25l  Downloading https://files.pythonhosted.org/packages/8a/a1/72ef9aa26cfe1a75cee09fc1957e4723add9de098c15719416a1ee89386b/websocket_client-0.48.0-py2.py3-none-any.whl (198kB)\n",
      "\u001b[K     |████████████████████████████████| 204kB 7.7MB/s \n",
      "\u001b[?25hCollecting ibm_cloud_sdk_core>=3.3.6\n",
      "  Downloading https://files.pythonhosted.org/packages/dd/24/ba1f1ac7e6dad5efe88362fe9fcf548f7104daf3ed4ec2333b2ae35a7a21/ibm-cloud-sdk-core-3.9.0.tar.gz\n",
      "Requirement already satisfied: chardet<4,>=3.0.2 in /usr/local/lib/python3.7/dist-packages (from requests<3.0,>=2.0->ibm_watson) (3.0.4)\n",
      "Requirement already satisfied: certifi>=2017.4.17 in /usr/local/lib/python3.7/dist-packages (from requests<3.0,>=2.0->ibm_watson) (2020.12.5)\n",
      "Requirement already satisfied: urllib3!=1.25.0,!=1.25.1,<1.26,>=1.21.1 in /usr/local/lib/python3.7/dist-packages (from requests<3.0,>=2.0->ibm_watson) (1.24.3)\n",
      "Requirement already satisfied: idna<3,>=2.5 in /usr/local/lib/python3.7/dist-packages (from requests<3.0,>=2.0->ibm_watson) (2.10)\n",
      "Requirement already satisfied: six>=1.5 in /usr/local/lib/python3.7/dist-packages (from python_dateutil>=2.5.3->ibm_watson) (1.15.0)\n",
      "Collecting PyJWT<3.0.0,>=2.0.1\n",
      "  Downloading https://files.pythonhosted.org/packages/3f/32/d5d3cab27fee7f6b22d7cd7507547ae45d52e26030fa77d1f83d0526c6e5/PyJWT-2.1.0-py3-none-any.whl\n",
      "Building wheels for collected packages: ibm-watson, ibm-cloud-sdk-core\n",
      "  Building wheel for ibm-watson (setup.py) ... \u001b[?25l\u001b[?25hdone\n",
      "  Created wheel for ibm-watson: filename=ibm_watson-5.1.0-cp37-none-any.whl size=375439 sha256=9b3b80843f8488f435065973f0238670ca08ccdba79a9177fefdab1714aa8555\n",
      "  Stored in directory: /root/.cache/pip/wheels/49/6d/cf/1d91261b96363da78bf9b02699fd2262e6b5dad179500690c1\n",
      "  Building wheel for ibm-cloud-sdk-core (setup.py) ... \u001b[?25l\u001b[?25hdone\n",
      "  Created wheel for ibm-cloud-sdk-core: filename=ibm_cloud_sdk_core-3.9.0-cp37-none-any.whl size=59612 sha256=f49ee2343cb60d115be3366da54cb734298ea8b7c708405bc1523371856cd331\n",
      "  Stored in directory: /root/.cache/pip/wheels/a2/23/f2/ae9db79b4234ed0fc74bf00bc97bcd16440ab2764c5f443167\n",
      "Successfully built ibm-watson ibm-cloud-sdk-core\n",
      "Installing collected packages: websocket-client, PyJWT, ibm-cloud-sdk-core, ibm-watson\n",
      "Successfully installed PyJWT-2.1.0 ibm-cloud-sdk-core-3.9.0 ibm-watson-5.1.0 websocket-client-0.48.0\n"
     ]
    }
   ],
   "source": [
    "!pip install ibm_watson"
   ]
  },
  {
   "cell_type": "code",
   "execution_count": 4,
   "metadata": {
    "colab": {
     "base_uri": "https://localhost:8080/",
     "height": 654
    },
    "id": "auiZAdHZ0qMe",
    "outputId": "d7b2be69-9c59-45ec-9ea9-664b4f83a11a"
   },
   "outputs": [
    {
     "data": {
      "text/html": [
       "<div>\n",
       "<style scoped>\n",
       "    .dataframe tbody tr th:only-of-type {\n",
       "        vertical-align: middle;\n",
       "    }\n",
       "\n",
       "    .dataframe tbody tr th {\n",
       "        vertical-align: top;\n",
       "    }\n",
       "\n",
       "    .dataframe thead th {\n",
       "        text-align: right;\n",
       "    }\n",
       "</style>\n",
       "<table border=\"1\" class=\"dataframe\">\n",
       "  <thead>\n",
       "    <tr style=\"text-align: right;\">\n",
       "      <th></th>\n",
       "      <th>Journal Title</th>\n",
       "      <th>Article Title</th>\n",
       "      <th>Date Published</th>\n",
       "      <th>Authors</th>\n",
       "      <th>Abstract</th>\n",
       "      <th>Keywords</th>\n",
       "      <th>Citation</th>\n",
       "      <th>Content</th>\n",
       "      <th>Content_Length</th>\n",
       "      <th>Abstract_Length</th>\n",
       "      <th>Parsed_Keywords</th>\n",
       "      <th>Parsed_Keywords_Length</th>\n",
       "      <th>Subfield</th>\n",
       "      <th>et_al_Count</th>\n",
       "      <th>Stopwords_Lemma_Longform_Clean_Content</th>\n",
       "      <th>Clean_Content</th>\n",
       "      <th>Classification</th>\n",
       "    </tr>\n",
       "  </thead>\n",
       "  <tbody>\n",
       "    <tr>\n",
       "      <th>0</th>\n",
       "      <td>Psychological Services</td>\n",
       "      <td>The Effectiveness of Telepsychology With Veter...</td>\n",
       "      <td>2021</td>\n",
       "      <td>Michael J. McClellan; Richard Osbaldiston; Ron...</td>\n",
       "      <td>Veterans face a variety of stressors due to th...</td>\n",
       "      <td>KEYWORDS:\\n\\ntelepsychology, meta-analysis, ve...</td>\n",
       "      <td>McClellan, M. J., Osbaldiston, R., Wu, R., Yea...</td>\n",
       "      <td>Veterans face a variety of stressors related t...</td>\n",
       "      <td>37477</td>\n",
       "      <td>2411</td>\n",
       "      <td>['telepsychology,', 'meta-analysis,', 'veteran...</td>\n",
       "      <td>5</td>\n",
       "      <td>Clinical &amp; Counseling Psychology</td>\n",
       "      <td>50</td>\n",
       "      <td>veteran face variety stressor relate military ...</td>\n",
       "      <td>veteran face variety stressor relate military ...</td>\n",
       "      <td>Covid</td>\n",
       "    </tr>\n",
       "    <tr>\n",
       "      <th>1</th>\n",
       "      <td>Psychology, Public Policy, and Law</td>\n",
       "      <td>Making the Case for Videoconferencing and Remo...</td>\n",
       "      <td>2021</td>\n",
       "      <td>Milfred D. Dale; Desiree Smith</td>\n",
       "      <td>The COVID-19 pandemic and its requirements for...</td>\n",
       "      <td>KEYWORDS:\\n\\nremote child custody evaluations,...</td>\n",
       "      <td>Dale, M. D., &amp; Smith, D. (2021). Making the ca...</td>\n",
       "      <td>The impact of the COVID-19 pandemic on the chi...</td>\n",
       "      <td>74025</td>\n",
       "      <td>1577</td>\n",
       "      <td>['remote', 'child', 'custody', 'evaluations,',...</td>\n",
       "      <td>10</td>\n",
       "      <td>Forensic Psychology</td>\n",
       "      <td>48</td>\n",
       "      <td>impact coronavirus disease 2019 pandemic child...</td>\n",
       "      <td>impact coronavirus disease 2019 pandemic child...</td>\n",
       "      <td>Covid</td>\n",
       "    </tr>\n",
       "    <tr>\n",
       "      <th>2</th>\n",
       "      <td>Psychology, Public Policy, and Law</td>\n",
       "      <td>Forensic E-Mental Health: Review, Research Pri...</td>\n",
       "      <td>2021</td>\n",
       "      <td>Lauren E. Kois; Jennifer Cox; Ashley T. Peck</td>\n",
       "      <td>Forensic e-mental health is an area of psychol...</td>\n",
       "      <td>KEYWORDS:\\n\\nforensic e-mental health, telehea...</td>\n",
       "      <td>Kois, L. E., Cox, J., &amp; Peck, A. T. (2021). Fo...</td>\n",
       "      <td>In November 2019, COVID-19—the infectious, hig...</td>\n",
       "      <td>63568</td>\n",
       "      <td>1842</td>\n",
       "      <td>['forensic', 'e-mental', 'health,', 'telehealt...</td>\n",
       "      <td>8</td>\n",
       "      <td>Forensic Psychology</td>\n",
       "      <td>128</td>\n",
       "      <td>November 2019 coronavirus disease 2019 infecti...</td>\n",
       "      <td>November 2019 coronavirus disease 2019 infecti...</td>\n",
       "      <td>Covid</td>\n",
       "    </tr>\n",
       "    <tr>\n",
       "      <th>3</th>\n",
       "      <td>Training and Education in Professional Psychology</td>\n",
       "      <td>Moving Toward a New Era of Telepsychology in U...</td>\n",
       "      <td>2021</td>\n",
       "      <td>Allison L. Baier; Sarah Danzo</td>\n",
       "      <td>Many university training clinics are facing nu...</td>\n",
       "      <td>KEYWORDS:\\n\\neducation and training, telepsych...</td>\n",
       "      <td>Baier, A. L., &amp; Danzo, S. (2021). Moving towar...</td>\n",
       "      <td>Anxiety and depressive disorders are among the...</td>\n",
       "      <td>30147</td>\n",
       "      <td>1650</td>\n",
       "      <td>['education', 'and', 'training,', 'telepsychol...</td>\n",
       "      <td>6</td>\n",
       "      <td>Clinical &amp; Counseling Psychology</td>\n",
       "      <td>21</td>\n",
       "      <td>anxiety depressive disorder common impair ment...</td>\n",
       "      <td>anxiety depressive disorder common impair ment...</td>\n",
       "      <td>Covid</td>\n",
       "    </tr>\n",
       "    <tr>\n",
       "      <th>4</th>\n",
       "      <td>Practice Innovations</td>\n",
       "      <td>Navigating Changes in the Physical and Psychol...</td>\n",
       "      <td>2021</td>\n",
       "      <td>Liat Shklarski; Allison Abrams; Elana Bakst</td>\n",
       "      <td>The emergence of the Covid-19 pandemic at the ...</td>\n",
       "      <td>KEYWORDS:\\n\\nremote psychotherapy, Covid-19, p...</td>\n",
       "      <td>Shklarski, L., Abrams, A., &amp; Bakst, E. (2021)....</td>\n",
       "      <td>In mid-March, 2020, the authors—as well as the...</td>\n",
       "      <td>42367</td>\n",
       "      <td>1871</td>\n",
       "      <td>['remote', 'psychotherapy,', 'Covid-19,', 'pan...</td>\n",
       "      <td>6</td>\n",
       "      <td>Clinical &amp; Counseling Psychology</td>\n",
       "      <td>14</td>\n",
       "      <td>mid March 2020 author majority therapist advis...</td>\n",
       "      <td>mid March 2020 author majority therapist advis...</td>\n",
       "      <td>Covid</td>\n",
       "    </tr>\n",
       "  </tbody>\n",
       "</table>\n",
       "</div>"
      ],
      "text/plain": [
       "                                       Journal Title  ... Classification\n",
       "0                             Psychological Services  ...          Covid\n",
       "1                 Psychology, Public Policy, and Law  ...          Covid\n",
       "2                 Psychology, Public Policy, and Law  ...          Covid\n",
       "3  Training and Education in Professional Psychology  ...          Covid\n",
       "4                               Practice Innovations  ...          Covid\n",
       "\n",
       "[5 rows x 17 columns]"
      ]
     },
     "execution_count": 4,
     "metadata": {
      "tags": []
     },
     "output_type": "execute_result"
    }
   ],
   "source": [
    "import pandas as pd\n",
    "\n",
    "df = pd.read_csv(\"Data/processed/Telehealth.csv\")\n",
    "df.head()"
   ]
  },
  {
   "cell_type": "code",
   "execution_count": 5,
   "metadata": {
    "id": "_jD-QtbRxsvs"
   },
   "outputs": [],
   "source": [
    "import json\n",
    "from ibm_watson import NaturalLanguageUnderstandingV1\n",
    "from ibm_cloud_sdk_core.authenticators import IAMAuthenticator\n",
    "from ibm_watson.natural_language_understanding_v1 import Features, SentimentOptions,EntitiesOptions\n",
    "\n",
    "authenticator = IAMAuthenticator(api_key)\n",
    "natural_language_understanding = NaturalLanguageUnderstandingV1(\n",
    "    version='2020-08-01',\n",
    "    authenticator=authenticator\n",
    ")\n",
    "\n",
    "natural_language_understanding.set_service_url(service_url)\n",
    "\n",
    "for i in range(len(df[\"Clean_Content\"])):\n",
    "\n",
    "    corpus = df[\"Clean_Content\"].iloc[i]\n",
    "\n",
    "    response = natural_language_understanding.analyze(\n",
    "        text=corpus,\n",
    "        features=Features(entities=EntitiesOptions()\n",
    "        \n",
    "        )\n",
    "        \n",
    "        ).get_result()\n",
    "\n",
    "    with open(f\"Data/processed/IBM/ibm_ner_analysis_{i}.json\",\"w\") as f:\n",
    "\n",
    "        json.dump(response,f,indent=4)\n",
    "\n"
   ]
  },
  {
   "cell_type": "code",
   "execution_count": 6,
   "metadata": {
    "id": "sNGngC5i6It6"
   },
   "outputs": [],
   "source": [
    "df_ibm = pd.DataFrame.from_dict(response[\"entities\"])"
   ]
  },
  {
   "cell_type": "code",
   "execution_count": 7,
   "metadata": {
    "colab": {
     "base_uri": "https://localhost:8080/",
     "height": 189
    },
    "id": "Yq6pBxnz9bRN",
    "outputId": "2cb1bfb5-e9e6-43ef-a92d-c1436bf86b09"
   },
   "outputs": [
    {
     "data": {
      "text/html": [
       "<div>\n",
       "<style scoped>\n",
       "    .dataframe tbody tr th:only-of-type {\n",
       "        vertical-align: middle;\n",
       "    }\n",
       "\n",
       "    .dataframe tbody tr th {\n",
       "        vertical-align: top;\n",
       "    }\n",
       "\n",
       "    .dataframe thead th {\n",
       "        text-align: right;\n",
       "    }\n",
       "</style>\n",
       "<table border=\"1\" class=\"dataframe\">\n",
       "  <thead>\n",
       "    <tr style=\"text-align: right;\">\n",
       "      <th></th>\n",
       "      <th>type</th>\n",
       "      <th>text</th>\n",
       "      <th>relevance</th>\n",
       "      <th>count</th>\n",
       "      <th>confidence</th>\n",
       "      <th>disambiguation</th>\n",
       "    </tr>\n",
       "  </thead>\n",
       "  <tbody>\n",
       "    <tr>\n",
       "      <th>0</th>\n",
       "      <td>Person</td>\n",
       "      <td>Comer Barlow</td>\n",
       "      <td>0.951857</td>\n",
       "      <td>3</td>\n",
       "      <td>0.999836</td>\n",
       "      <td>NaN</td>\n",
       "    </tr>\n",
       "    <tr>\n",
       "      <th>1</th>\n",
       "      <td>Person</td>\n",
       "      <td>Eyberg Funderburg</td>\n",
       "      <td>0.818056</td>\n",
       "      <td>2</td>\n",
       "      <td>0.623222</td>\n",
       "      <td>NaN</td>\n",
       "    </tr>\n",
       "    <tr>\n",
       "      <th>2</th>\n",
       "      <td>Person</td>\n",
       "      <td>Kazdin Blase</td>\n",
       "      <td>0.678095</td>\n",
       "      <td>3</td>\n",
       "      <td>0.955832</td>\n",
       "      <td>NaN</td>\n",
       "    </tr>\n",
       "    <tr>\n",
       "      <th>3</th>\n",
       "      <td>Person</td>\n",
       "      <td>Guy Bonato</td>\n",
       "      <td>0.571831</td>\n",
       "      <td>2</td>\n",
       "      <td>0.864625</td>\n",
       "      <td>NaN</td>\n",
       "    </tr>\n",
       "    <tr>\n",
       "      <th>4</th>\n",
       "      <td>HealthCondition</td>\n",
       "      <td>disorder disruptive behavior disorders common ...</td>\n",
       "      <td>0.511488</td>\n",
       "      <td>1</td>\n",
       "      <td>0.071707</td>\n",
       "      <td>NaN</td>\n",
       "    </tr>\n",
       "  </tbody>\n",
       "</table>\n",
       "</div>"
      ],
      "text/plain": [
       "              type  ... disambiguation\n",
       "0           Person  ...            NaN\n",
       "1           Person  ...            NaN\n",
       "2           Person  ...            NaN\n",
       "3           Person  ...            NaN\n",
       "4  HealthCondition  ...            NaN\n",
       "\n",
       "[5 rows x 6 columns]"
      ]
     },
     "execution_count": 7,
     "metadata": {
      "tags": []
     },
     "output_type": "execute_result"
    }
   ],
   "source": [
    "df_ibm.head()"
   ]
  },
  {
   "cell_type": "code",
   "execution_count": 8,
   "metadata": {
    "id": "kiPDnvvurQRr"
   },
   "outputs": [],
   "source": [
    "df_ibm = df_ibm.rename(columns={\"text\":\"Term\"})"
   ]
  },
  {
   "cell_type": "code",
   "execution_count": 9,
   "metadata": {
    "id": "JgIPudVR-jhQ"
   },
   "outputs": [],
   "source": [
    "with open(\"Data/processed/IBM/ibm_ner_analysis_0.json\") as f:\n",
    "\n",
    "    data = json.load(f)\n",
    "    \n",
    "    df = pd.DataFrame.from_dict(data[\"entities\"])\n"
   ]
  },
  {
   "cell_type": "code",
   "execution_count": 17,
   "metadata": {
    "id": "iNl3Ctr_8JuT"
   },
   "outputs": [],
   "source": [
    "import pandas as pd\n",
    "import glob\n",
    "\n",
    "import json\n",
    "\n",
    "ibm_files = glob.glob(\"Data/processed/IBM/*.json\")\n",
    "\n",
    "global_df = pd.DataFrame()\n",
    "\n",
    "\n",
    "for i,ibm_file in enumerate(ibm_files):\n",
    "\n",
    "    with open(ibm_file) as f:\n",
    "\n",
    "        data = json.load(f)\n",
    "\n",
    "        df = pd.DataFrame.from_dict(data[\"entities\"])\n",
    "\n",
    "        df[\"Document\"] = i\n",
    "\n",
    "        global_df = pd.concat([global_df,df])\n",
    "\n",
    "        \n",
    "\n",
    "\n",
    "\n"
   ]
  },
  {
   "cell_type": "code",
   "execution_count": 19,
   "metadata": {
    "colab": {
     "base_uri": "https://localhost:8080/",
     "height": 275
    },
    "id": "YGv95zXtAYjW",
    "outputId": "1777d2ff-edbf-4cf8-9075-82d55adf23c3"
   },
   "outputs": [
    {
     "data": {
      "text/html": [
       "<div>\n",
       "<style scoped>\n",
       "    .dataframe tbody tr th:only-of-type {\n",
       "        vertical-align: middle;\n",
       "    }\n",
       "\n",
       "    .dataframe tbody tr th {\n",
       "        vertical-align: top;\n",
       "    }\n",
       "\n",
       "    .dataframe thead th {\n",
       "        text-align: right;\n",
       "    }\n",
       "</style>\n",
       "<table border=\"1\" class=\"dataframe\">\n",
       "  <thead>\n",
       "    <tr style=\"text-align: right;\">\n",
       "      <th></th>\n",
       "      <th>type</th>\n",
       "      <th>text</th>\n",
       "      <th>relevance</th>\n",
       "      <th>count</th>\n",
       "      <th>confidence</th>\n",
       "      <th>disambiguation</th>\n",
       "      <th>Document</th>\n",
       "    </tr>\n",
       "  </thead>\n",
       "  <tbody>\n",
       "    <tr>\n",
       "      <th>0</th>\n",
       "      <td>Person</td>\n",
       "      <td>Bolton Dorstyn</td>\n",
       "      <td>0.953405</td>\n",
       "      <td>6</td>\n",
       "      <td>0.970710</td>\n",
       "      <td>NaN</td>\n",
       "      <td>0</td>\n",
       "    </tr>\n",
       "    <tr>\n",
       "      <th>1</th>\n",
       "      <td>HealthCondition</td>\n",
       "      <td>trauma depression</td>\n",
       "      <td>0.834730</td>\n",
       "      <td>8</td>\n",
       "      <td>0.994297</td>\n",
       "      <td>NaN</td>\n",
       "      <td>0</td>\n",
       "    </tr>\n",
       "    <tr>\n",
       "      <th>2</th>\n",
       "      <td>Person</td>\n",
       "      <td>Lazar</td>\n",
       "      <td>0.772091</td>\n",
       "      <td>5</td>\n",
       "      <td>0.999862</td>\n",
       "      <td>NaN</td>\n",
       "      <td>0</td>\n",
       "    </tr>\n",
       "    <tr>\n",
       "      <th>3</th>\n",
       "      <td>Person</td>\n",
       "      <td>Luxton Nelson</td>\n",
       "      <td>0.765374</td>\n",
       "      <td>3</td>\n",
       "      <td>0.927518</td>\n",
       "      <td>NaN</td>\n",
       "      <td>0</td>\n",
       "    </tr>\n",
       "    <tr>\n",
       "      <th>4</th>\n",
       "      <td>HealthCondition</td>\n",
       "      <td>symptom depression</td>\n",
       "      <td>0.681805</td>\n",
       "      <td>3</td>\n",
       "      <td>0.603748</td>\n",
       "      <td>NaN</td>\n",
       "      <td>0</td>\n",
       "    </tr>\n",
       "  </tbody>\n",
       "</table>\n",
       "</div>"
      ],
      "text/plain": [
       "              type                text  ...  disambiguation  Document\n",
       "0           Person      Bolton Dorstyn  ...             NaN         0\n",
       "1  HealthCondition   trauma depression  ...             NaN         0\n",
       "2           Person               Lazar  ...             NaN         0\n",
       "3           Person       Luxton Nelson  ...             NaN         0\n",
       "4  HealthCondition  symptom depression  ...             NaN         0\n",
       "\n",
       "[5 rows x 7 columns]"
      ]
     },
     "execution_count": 19,
     "metadata": {
      "tags": []
     },
     "output_type": "execute_result"
    }
   ],
   "source": [
    "global_df.head()"
   ]
  },
  {
   "cell_type": "code",
   "execution_count": 22,
   "metadata": {
    "colab": {
     "base_uri": "https://localhost:8080/",
     "height": 274
    },
    "id": "yE3hxNaftX-_",
    "outputId": "bd1bfbc0-6aad-4f69-c468-f745ffc4578c"
   },
   "outputs": [
    {
     "data": {
      "text/html": [
       "<div>\n",
       "<style scoped>\n",
       "    .dataframe tbody tr th:only-of-type {\n",
       "        vertical-align: middle;\n",
       "    }\n",
       "\n",
       "    .dataframe tbody tr th {\n",
       "        vertical-align: top;\n",
       "    }\n",
       "\n",
       "    .dataframe thead th {\n",
       "        text-align: right;\n",
       "    }\n",
       "</style>\n",
       "<table border=\"1\" class=\"dataframe\">\n",
       "  <thead>\n",
       "    <tr style=\"text-align: right;\">\n",
       "      <th></th>\n",
       "      <th>relevance</th>\n",
       "      <th>count</th>\n",
       "      <th>confidence</th>\n",
       "      <th>Document</th>\n",
       "    </tr>\n",
       "  </thead>\n",
       "  <tbody>\n",
       "    <tr>\n",
       "      <th>count</th>\n",
       "      <td>1781.000000</td>\n",
       "      <td>1781.000000</td>\n",
       "      <td>1781.000000</td>\n",
       "      <td>1781.000000</td>\n",
       "    </tr>\n",
       "    <tr>\n",
       "      <th>mean</th>\n",
       "      <td>0.290700</td>\n",
       "      <td>1.643459</td>\n",
       "      <td>0.574338</td>\n",
       "      <td>21.070747</td>\n",
       "    </tr>\n",
       "    <tr>\n",
       "      <th>std</th>\n",
       "      <td>0.212394</td>\n",
       "      <td>2.658524</td>\n",
       "      <td>0.278756</td>\n",
       "      <td>12.930086</td>\n",
       "    </tr>\n",
       "    <tr>\n",
       "      <th>min</th>\n",
       "      <td>0.005777</td>\n",
       "      <td>1.000000</td>\n",
       "      <td>0.024269</td>\n",
       "      <td>0.000000</td>\n",
       "    </tr>\n",
       "    <tr>\n",
       "      <th>25%</th>\n",
       "      <td>0.134282</td>\n",
       "      <td>1.000000</td>\n",
       "      <td>0.351339</td>\n",
       "      <td>10.000000</td>\n",
       "    </tr>\n",
       "    <tr>\n",
       "      <th>50%</th>\n",
       "      <td>0.245401</td>\n",
       "      <td>1.000000</td>\n",
       "      <td>0.560715</td>\n",
       "      <td>20.000000</td>\n",
       "    </tr>\n",
       "    <tr>\n",
       "      <th>75%</th>\n",
       "      <td>0.370150</td>\n",
       "      <td>1.000000</td>\n",
       "      <td>0.826971</td>\n",
       "      <td>34.000000</td>\n",
       "    </tr>\n",
       "    <tr>\n",
       "      <th>max</th>\n",
       "      <td>0.973775</td>\n",
       "      <td>67.000000</td>\n",
       "      <td>1.000000</td>\n",
       "      <td>43.000000</td>\n",
       "    </tr>\n",
       "  </tbody>\n",
       "</table>\n",
       "</div>"
      ],
      "text/plain": [
       "         relevance        count   confidence     Document\n",
       "count  1781.000000  1781.000000  1781.000000  1781.000000\n",
       "mean      0.290700     1.643459     0.574338    21.070747\n",
       "std       0.212394     2.658524     0.278756    12.930086\n",
       "min       0.005777     1.000000     0.024269     0.000000\n",
       "25%       0.134282     1.000000     0.351339    10.000000\n",
       "50%       0.245401     1.000000     0.560715    20.000000\n",
       "75%       0.370150     1.000000     0.826971    34.000000\n",
       "max       0.973775    67.000000     1.000000    43.000000"
      ]
     },
     "execution_count": 22,
     "metadata": {
      "tags": []
     },
     "output_type": "execute_result"
    }
   ],
   "source": [
    "global_df.describe()"
   ]
  },
  {
   "cell_type": "code",
   "execution_count": 23,
   "metadata": {
    "colab": {
     "base_uri": "https://localhost:8080/"
    },
    "id": "zmOPwkdj-QL1",
    "outputId": "79ac5f08-caa7-45dc-c05f-4ff68c84bd2b"
   },
   "outputs": [
    {
     "data": {
      "text/plain": [
       "array([ 0,  1,  2,  3,  4,  5,  6,  7,  8,  9, 10, 11, 12, 13, 14, 15, 16,\n",
       "       17, 18, 19, 20, 21, 22, 23, 24, 25, 26, 27, 28, 29, 30, 31, 32, 33,\n",
       "       34, 35, 36, 37, 38, 39, 40, 41, 42, 43])"
      ]
     },
     "execution_count": 23,
     "metadata": {
      "tags": []
     },
     "output_type": "execute_result"
    }
   ],
   "source": [
    "global_df[\"Document\"].unique()"
   ]
  },
  {
   "cell_type": "code",
   "execution_count": 27,
   "metadata": {
    "id": "Rh5HhyWjtDJS"
   },
   "outputs": [],
   "source": [
    "global_df.to_json(\"Data/processed/ibm_ner_analysis.json\",orient=\"records\")"
   ]
  },
  {
   "cell_type": "code",
   "execution_count": null,
   "metadata": {
    "id": "i5s5oMgTu26W"
   },
   "outputs": [],
   "source": []
  }
 ],
 "metadata": {
  "colab": {
   "collapsed_sections": [],
   "name": "Copy of IBM.ipynb",
   "provenance": []
  },
  "kernelspec": {
   "display_name": "Python 3",
   "language": "python",
   "name": "python3"
  },
  "language_info": {
   "codemirror_mode": {
    "name": "ipython",
    "version": 3
   },
   "file_extension": ".py",
   "mimetype": "text/x-python",
   "name": "python",
   "nbconvert_exporter": "python",
   "pygments_lexer": "ipython3",
   "version": "3.7.6"
  }
 },
 "nbformat": 4,
 "nbformat_minor": 1
}
