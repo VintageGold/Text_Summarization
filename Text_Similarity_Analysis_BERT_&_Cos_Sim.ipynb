{
  "nbformat": 4,
  "nbformat_minor": 0,
  "metadata": {
    "colab": {
      "name": "Text Similarity Analysis - BERT & Cos Sim.ipynb",
      "provenance": [],
      "authorship_tag": "ABX9TyO5Vz2lWCHKTM7wyQxop4ZL",
      "include_colab_link": true
    },
    "kernelspec": {
      "name": "python3",
      "display_name": "Python 3"
    },
    "language_info": {
      "name": "python"
    }
  },
  "cells": [
    {
      "cell_type": "markdown",
      "metadata": {
        "id": "view-in-github",
        "colab_type": "text"
      },
      "source": [
        "<a href=\"https://colab.research.google.com/github/VintageGold/Text_Summarization/blob/main/Text_Similarity_Analysis_BERT_%26_Cos_Sim.ipynb\" target=\"_parent\"><img src=\"https://colab.research.google.com/assets/colab-badge.svg\" alt=\"Open In Colab\"/></a>"
      ]
    },
    {
      "cell_type": "code",
      "metadata": {
        "colab": {
          "base_uri": "https://localhost:8080/"
        },
        "id": "UK9Zc2HnuA6W",
        "outputId": "a69005a1-4f5f-427b-fdbd-5717176ee257"
      },
      "source": [
        "from google.colab import drive\n",
        "drive.mount('/content/gdrive/')\n",
        "import sys\n",
        "project_path = ('/content/gdrive/My Drive/DATA_690_NLP/Text_Summarization/')\n",
        "sys.path.append(project_path)"
      ],
      "execution_count": 1,
      "outputs": [
        {
          "output_type": "stream",
          "name": "stdout",
          "text": [
            "Drive already mounted at /content/gdrive/; to attempt to forcibly remount, call drive.mount(\"/content/gdrive/\", force_remount=True).\n"
          ]
        }
      ]
    },
    {
      "cell_type": "code",
      "metadata": {
        "colab": {
          "base_uri": "https://localhost:8080/"
        },
        "id": "zMOgYuDIwFdx",
        "outputId": "1d5a228e-8476-442c-97ee-1559b00733e3"
      },
      "source": [
        "username = 'VintageGold'\n",
        "repository = 'Text_Summarization'\n",
        "git_token = 'Your Token',
        "!git clone https://{git_token}@github.com/{username}/{repository}"
      ],
      "execution_count": 2,
      "outputs": [
        {
          "output_type": "stream",
          "name": "stdout",
          "text": [
            "fatal: destination path 'Text_Summarization' already exists and is not an empty directory.\n"
          ]
        }
      ]
    },
    {
      "cell_type": "code",
      "metadata": {
        "colab": {
          "base_uri": "https://localhost:8080/"
        },
        "id": "zD33QM2KuFJp",
        "outputId": "ea0631c8-2589-4c7f-af37-b3b989a8e603"
      },
      "source": [
        "!pip install transformers"
      ],
      "execution_count": 3,
      "outputs": [
        {
          "output_type": "stream",
          "name": "stdout",
          "text": [
            "Requirement already satisfied: transformers in /usr/local/lib/python3.7/dist-packages (4.10.2)\n",
            "Requirement already satisfied: sacremoses in /usr/local/lib/python3.7/dist-packages (from transformers) (0.0.45)\n",
            "Requirement already satisfied: pyyaml>=5.1 in /usr/local/lib/python3.7/dist-packages (from transformers) (5.4.1)\n",
            "Requirement already satisfied: tokenizers<0.11,>=0.10.1 in /usr/local/lib/python3.7/dist-packages (from transformers) (0.10.3)\n",
            "Requirement already satisfied: tqdm>=4.27 in /usr/local/lib/python3.7/dist-packages (from transformers) (4.62.0)\n",
            "Requirement already satisfied: filelock in /usr/local/lib/python3.7/dist-packages (from transformers) (3.0.12)\n",
            "Requirement already satisfied: numpy>=1.17 in /usr/local/lib/python3.7/dist-packages (from transformers) (1.19.5)\n",
            "Requirement already satisfied: regex!=2019.12.17 in /usr/local/lib/python3.7/dist-packages (from transformers) (2019.12.20)\n",
            "Requirement already satisfied: importlib-metadata in /usr/local/lib/python3.7/dist-packages (from transformers) (4.6.4)\n",
            "Requirement already satisfied: requests in /usr/local/lib/python3.7/dist-packages (from transformers) (2.23.0)\n",
            "Requirement already satisfied: packaging in /usr/local/lib/python3.7/dist-packages (from transformers) (21.0)\n",
            "Requirement already satisfied: huggingface-hub>=0.0.12 in /usr/local/lib/python3.7/dist-packages (from transformers) (0.0.16)\n",
            "Requirement already satisfied: typing-extensions in /usr/local/lib/python3.7/dist-packages (from huggingface-hub>=0.0.12->transformers) (3.7.4.3)\n",
            "Requirement already satisfied: pyparsing>=2.0.2 in /usr/local/lib/python3.7/dist-packages (from packaging->transformers) (2.4.7)\n",
            "Requirement already satisfied: zipp>=0.5 in /usr/local/lib/python3.7/dist-packages (from importlib-metadata->transformers) (3.5.0)\n",
            "Requirement already satisfied: idna<3,>=2.5 in /usr/local/lib/python3.7/dist-packages (from requests->transformers) (2.10)\n",
            "Requirement already satisfied: chardet<4,>=3.0.2 in /usr/local/lib/python3.7/dist-packages (from requests->transformers) (3.0.4)\n",
            "Requirement already satisfied: urllib3!=1.25.0,!=1.25.1,<1.26,>=1.21.1 in /usr/local/lib/python3.7/dist-packages (from requests->transformers) (1.24.3)\n",
            "Requirement already satisfied: certifi>=2017.4.17 in /usr/local/lib/python3.7/dist-packages (from requests->transformers) (2021.5.30)\n",
            "Requirement already satisfied: joblib in /usr/local/lib/python3.7/dist-packages (from sacremoses->transformers) (1.0.1)\n",
            "Requirement already satisfied: six in /usr/local/lib/python3.7/dist-packages (from sacremoses->transformers) (1.15.0)\n",
            "Requirement already satisfied: click in /usr/local/lib/python3.7/dist-packages (from sacremoses->transformers) (7.1.2)\n"
          ]
        }
      ]
    },
    {
      "cell_type": "code",
      "metadata": {
        "id": "CqP0zWcFuUS7"
      },
      "source": [
        "import torch\n",
        "from tqdm import tqdm, trange\n",
        "import pandas as pd\n",
        "import io\n",
        "import numpy as np\n",
        "import matplotlib.pyplot as plt\n",
        "from transformers import BertConfig, BertModel, BertTokenizer\n",
        "import seaborn as sns\n",
        "% matplotlib inline\n",
        "np.random.seed(42);"
      ],
      "execution_count": 4,
      "outputs": []
    },
    {
      "cell_type": "markdown",
      "metadata": {
        "id": "OsICeH9OyODS"
      },
      "source": [
        "Import Cleaned dataset:"
      ]
    },
    {
      "cell_type": "code",
      "metadata": {
        "colab": {
          "base_uri": "https://localhost:8080/",
          "height": 677
        },
        "id": "g2wAeMN-uUvI",
        "outputId": "9bc2c358-f0dc-418d-e9cb-7a671d7b2f34"
      },
      "source": [
        "articles_df = pd.read_csv(f'./Text_Summarization/Data/processed/Telehealth.csv')\n",
        "articles_df.head()"
      ],
      "execution_count": 5,
      "outputs": [
        {
          "output_type": "execute_result",
          "data": {
            "text/html": [
              "<div>\n",
              "<style scoped>\n",
              "    .dataframe tbody tr th:only-of-type {\n",
              "        vertical-align: middle;\n",
              "    }\n",
              "\n",
              "    .dataframe tbody tr th {\n",
              "        vertical-align: top;\n",
              "    }\n",
              "\n",
              "    .dataframe thead th {\n",
              "        text-align: right;\n",
              "    }\n",
              "</style>\n",
              "<table border=\"1\" class=\"dataframe\">\n",
              "  <thead>\n",
              "    <tr style=\"text-align: right;\">\n",
              "      <th></th>\n",
              "      <th>Journal Title</th>\n",
              "      <th>Article Title</th>\n",
              "      <th>Date Published</th>\n",
              "      <th>Authors</th>\n",
              "      <th>Abstract</th>\n",
              "      <th>Keywords</th>\n",
              "      <th>Citation</th>\n",
              "      <th>Content</th>\n",
              "      <th>Content_Length</th>\n",
              "      <th>Abstract_Length</th>\n",
              "      <th>Parsed_Keywords</th>\n",
              "      <th>Parsed_Keywords_Length</th>\n",
              "      <th>Subfield</th>\n",
              "      <th>et_al_Count</th>\n",
              "      <th>Stopwords_Lemma_Longform_Clean_Content</th>\n",
              "      <th>Clean_Content</th>\n",
              "      <th>Classification</th>\n",
              "    </tr>\n",
              "  </thead>\n",
              "  <tbody>\n",
              "    <tr>\n",
              "      <th>0</th>\n",
              "      <td>Psychological Services</td>\n",
              "      <td>The Effectiveness of Telepsychology With Veter...</td>\n",
              "      <td>2021</td>\n",
              "      <td>Michael J. McClellan; Richard Osbaldiston; Ron...</td>\n",
              "      <td>Veterans face a variety of stressors due to th...</td>\n",
              "      <td>KEYWORDS:\\n\\ntelepsychology, meta-analysis, ve...</td>\n",
              "      <td>McClellan, M. J., Osbaldiston, R., Wu, R., Yea...</td>\n",
              "      <td>Veterans face a variety of stressors related t...</td>\n",
              "      <td>37477</td>\n",
              "      <td>2411</td>\n",
              "      <td>['telepsychology,', 'meta-analysis,', 'veteran...</td>\n",
              "      <td>5</td>\n",
              "      <td>Clinical &amp; Counseling Psychology</td>\n",
              "      <td>50</td>\n",
              "      <td>veteran face variety stressor relate military ...</td>\n",
              "      <td>veteran face variety stressor relate military ...</td>\n",
              "      <td>Covid</td>\n",
              "    </tr>\n",
              "    <tr>\n",
              "      <th>1</th>\n",
              "      <td>Psychology, Public Policy, and Law</td>\n",
              "      <td>Making the Case for Videoconferencing and Remo...</td>\n",
              "      <td>2021</td>\n",
              "      <td>Milfred D. Dale; Desiree Smith</td>\n",
              "      <td>The COVID-19 pandemic and its requirements for...</td>\n",
              "      <td>KEYWORDS:\\n\\nremote child custody evaluations,...</td>\n",
              "      <td>Dale, M. D., &amp; Smith, D. (2021). Making the ca...</td>\n",
              "      <td>The impact of the COVID-19 pandemic on the chi...</td>\n",
              "      <td>74025</td>\n",
              "      <td>1577</td>\n",
              "      <td>['remote', 'child', 'custody', 'evaluations,',...</td>\n",
              "      <td>10</td>\n",
              "      <td>Forensic Psychology</td>\n",
              "      <td>48</td>\n",
              "      <td>impact coronavirus disease 2019 pandemic child...</td>\n",
              "      <td>impact coronavirus disease 2019 pandemic child...</td>\n",
              "      <td>Covid</td>\n",
              "    </tr>\n",
              "    <tr>\n",
              "      <th>2</th>\n",
              "      <td>Psychology, Public Policy, and Law</td>\n",
              "      <td>Forensic E-Mental Health: Review, Research Pri...</td>\n",
              "      <td>2021</td>\n",
              "      <td>Lauren E. Kois; Jennifer Cox; Ashley T. Peck</td>\n",
              "      <td>Forensic e-mental health is an area of psychol...</td>\n",
              "      <td>KEYWORDS:\\n\\nforensic e-mental health, telehea...</td>\n",
              "      <td>Kois, L. E., Cox, J., &amp; Peck, A. T. (2021). Fo...</td>\n",
              "      <td>In November 2019, COVID-19—the infectious, hig...</td>\n",
              "      <td>63568</td>\n",
              "      <td>1842</td>\n",
              "      <td>['forensic', 'e-mental', 'health,', 'telehealt...</td>\n",
              "      <td>8</td>\n",
              "      <td>Forensic Psychology</td>\n",
              "      <td>128</td>\n",
              "      <td>November 2019 coronavirus disease 2019 infecti...</td>\n",
              "      <td>November 2019 coronavirus disease 2019 infecti...</td>\n",
              "      <td>Covid</td>\n",
              "    </tr>\n",
              "    <tr>\n",
              "      <th>3</th>\n",
              "      <td>Training and Education in Professional Psychology</td>\n",
              "      <td>Moving Toward a New Era of Telepsychology in U...</td>\n",
              "      <td>2021</td>\n",
              "      <td>Allison L. Baier; Sarah Danzo</td>\n",
              "      <td>Many university training clinics are facing nu...</td>\n",
              "      <td>KEYWORDS:\\n\\neducation and training, telepsych...</td>\n",
              "      <td>Baier, A. L., &amp; Danzo, S. (2021). Moving towar...</td>\n",
              "      <td>Anxiety and depressive disorders are among the...</td>\n",
              "      <td>30147</td>\n",
              "      <td>1650</td>\n",
              "      <td>['education', 'and', 'training,', 'telepsychol...</td>\n",
              "      <td>6</td>\n",
              "      <td>Clinical &amp; Counseling Psychology</td>\n",
              "      <td>21</td>\n",
              "      <td>anxiety depressive disorder common impair ment...</td>\n",
              "      <td>anxiety depressive disorder common impair ment...</td>\n",
              "      <td>Covid</td>\n",
              "    </tr>\n",
              "    <tr>\n",
              "      <th>4</th>\n",
              "      <td>Practice Innovations</td>\n",
              "      <td>Navigating Changes in the Physical and Psychol...</td>\n",
              "      <td>2021</td>\n",
              "      <td>Liat Shklarski; Allison Abrams; Elana Bakst</td>\n",
              "      <td>The emergence of the Covid-19 pandemic at the ...</td>\n",
              "      <td>KEYWORDS:\\n\\nremote psychotherapy, Covid-19, p...</td>\n",
              "      <td>Shklarski, L., Abrams, A., &amp; Bakst, E. (2021)....</td>\n",
              "      <td>In mid-March, 2020, the authors—as well as the...</td>\n",
              "      <td>42367</td>\n",
              "      <td>1871</td>\n",
              "      <td>['remote', 'psychotherapy,', 'Covid-19,', 'pan...</td>\n",
              "      <td>6</td>\n",
              "      <td>Clinical &amp; Counseling Psychology</td>\n",
              "      <td>14</td>\n",
              "      <td>mid March 2020 author majority therapist advis...</td>\n",
              "      <td>mid March 2020 author majority therapist advis...</td>\n",
              "      <td>Covid</td>\n",
              "    </tr>\n",
              "  </tbody>\n",
              "</table>\n",
              "</div>"
            ],
            "text/plain": [
              "                                       Journal Title  ... Classification\n",
              "0                             Psychological Services  ...          Covid\n",
              "1                 Psychology, Public Policy, and Law  ...          Covid\n",
              "2                 Psychology, Public Policy, and Law  ...          Covid\n",
              "3  Training and Education in Professional Psychology  ...          Covid\n",
              "4                               Practice Innovations  ...          Covid\n",
              "\n",
              "[5 rows x 17 columns]"
            ]
          },
          "metadata": {},
          "execution_count": 5
        }
      ]
    },
    {
      "cell_type": "code",
      "metadata": {
        "id": "U8O3XuRFzg1A"
      },
      "source": [
        "from sklearn.metrics.pairwise import cosine_similarity, euclidean_distances"
      ],
      "execution_count": 6,
      "outputs": []
    },
    {
      "cell_type": "code",
      "metadata": {
        "colab": {
          "base_uri": "https://localhost:8080/"
        },
        "id": "PgVEHpevyV-T",
        "outputId": "c4398a1b-dad8-43f6-e17a-9931c6cfd031"
      },
      "source": [
        "!pip install sentence_transformers"
      ],
      "execution_count": 7,
      "outputs": [
        {
          "output_type": "stream",
          "name": "stdout",
          "text": [
            "Requirement already satisfied: sentence_transformers in /usr/local/lib/python3.7/dist-packages (2.0.0)\n",
            "Requirement already satisfied: sentencepiece in /usr/local/lib/python3.7/dist-packages (from sentence_transformers) (0.1.96)\n",
            "Requirement already satisfied: transformers<5.0.0,>=4.6.0 in /usr/local/lib/python3.7/dist-packages (from sentence_transformers) (4.10.2)\n",
            "Requirement already satisfied: huggingface-hub in /usr/local/lib/python3.7/dist-packages (from sentence_transformers) (0.0.16)\n",
            "Requirement already satisfied: tqdm in /usr/local/lib/python3.7/dist-packages (from sentence_transformers) (4.62.0)\n",
            "Requirement already satisfied: scipy in /usr/local/lib/python3.7/dist-packages (from sentence_transformers) (1.4.1)\n",
            "Requirement already satisfied: torch>=1.6.0 in /usr/local/lib/python3.7/dist-packages (from sentence_transformers) (1.9.0+cu102)\n",
            "Requirement already satisfied: scikit-learn in /usr/local/lib/python3.7/dist-packages (from sentence_transformers) (0.22.2.post1)\n",
            "Requirement already satisfied: torchvision in /usr/local/lib/python3.7/dist-packages (from sentence_transformers) (0.10.0+cu102)\n",
            "Requirement already satisfied: nltk in /usr/local/lib/python3.7/dist-packages (from sentence_transformers) (3.2.5)\n",
            "Requirement already satisfied: numpy in /usr/local/lib/python3.7/dist-packages (from sentence_transformers) (1.19.5)\n",
            "Requirement already satisfied: typing-extensions in /usr/local/lib/python3.7/dist-packages (from torch>=1.6.0->sentence_transformers) (3.7.4.3)\n",
            "Requirement already satisfied: importlib-metadata in /usr/local/lib/python3.7/dist-packages (from transformers<5.0.0,>=4.6.0->sentence_transformers) (4.6.4)\n",
            "Requirement already satisfied: regex!=2019.12.17 in /usr/local/lib/python3.7/dist-packages (from transformers<5.0.0,>=4.6.0->sentence_transformers) (2019.12.20)\n",
            "Requirement already satisfied: filelock in /usr/local/lib/python3.7/dist-packages (from transformers<5.0.0,>=4.6.0->sentence_transformers) (3.0.12)\n",
            "Requirement already satisfied: packaging in /usr/local/lib/python3.7/dist-packages (from transformers<5.0.0,>=4.6.0->sentence_transformers) (21.0)\n",
            "Requirement already satisfied: requests in /usr/local/lib/python3.7/dist-packages (from transformers<5.0.0,>=4.6.0->sentence_transformers) (2.23.0)\n",
            "Requirement already satisfied: pyyaml>=5.1 in /usr/local/lib/python3.7/dist-packages (from transformers<5.0.0,>=4.6.0->sentence_transformers) (5.4.1)\n",
            "Requirement already satisfied: tokenizers<0.11,>=0.10.1 in /usr/local/lib/python3.7/dist-packages (from transformers<5.0.0,>=4.6.0->sentence_transformers) (0.10.3)\n",
            "Requirement already satisfied: sacremoses in /usr/local/lib/python3.7/dist-packages (from transformers<5.0.0,>=4.6.0->sentence_transformers) (0.0.45)\n",
            "Requirement already satisfied: pyparsing>=2.0.2 in /usr/local/lib/python3.7/dist-packages (from packaging->transformers<5.0.0,>=4.6.0->sentence_transformers) (2.4.7)\n",
            "Requirement already satisfied: zipp>=0.5 in /usr/local/lib/python3.7/dist-packages (from importlib-metadata->transformers<5.0.0,>=4.6.0->sentence_transformers) (3.5.0)\n",
            "Requirement already satisfied: six in /usr/local/lib/python3.7/dist-packages (from nltk->sentence_transformers) (1.15.0)\n",
            "Requirement already satisfied: certifi>=2017.4.17 in /usr/local/lib/python3.7/dist-packages (from requests->transformers<5.0.0,>=4.6.0->sentence_transformers) (2021.5.30)\n",
            "Requirement already satisfied: urllib3!=1.25.0,!=1.25.1,<1.26,>=1.21.1 in /usr/local/lib/python3.7/dist-packages (from requests->transformers<5.0.0,>=4.6.0->sentence_transformers) (1.24.3)\n",
            "Requirement already satisfied: idna<3,>=2.5 in /usr/local/lib/python3.7/dist-packages (from requests->transformers<5.0.0,>=4.6.0->sentence_transformers) (2.10)\n",
            "Requirement already satisfied: chardet<4,>=3.0.2 in /usr/local/lib/python3.7/dist-packages (from requests->transformers<5.0.0,>=4.6.0->sentence_transformers) (3.0.4)\n",
            "Requirement already satisfied: click in /usr/local/lib/python3.7/dist-packages (from sacremoses->transformers<5.0.0,>=4.6.0->sentence_transformers) (7.1.2)\n",
            "Requirement already satisfied: joblib in /usr/local/lib/python3.7/dist-packages (from sacremoses->transformers<5.0.0,>=4.6.0->sentence_transformers) (1.0.1)\n",
            "Requirement already satisfied: pillow>=5.3.0 in /usr/local/lib/python3.7/dist-packages (from torchvision->sentence_transformers) (7.1.2)\n"
          ]
        }
      ]
    },
    {
      "cell_type": "markdown",
      "metadata": {
        "id": "Rrv1jayqw9F5"
      },
      "source": [
        "Calculate the BERT Vector Representations for each Article:"
      ]
    },
    {
      "cell_type": "code",
      "metadata": {
        "id": "gCzV0rfrGSOB"
      },
      "source": [
        "from sentence_transformers import SentenceTransformer\n",
        "sbert_model = SentenceTransformer('bert-base-nli-mean-tokens')\n",
        "articles_df = articles_df.sort_values(by=['Date Published']).reset_index(drop = True)\n",
        "\n",
        "document_embeddings = sbert_model.encode(articles_df['Clean_Content'])\n"
      ],
      "execution_count": 8,
      "outputs": []
    },
    {
      "cell_type": "code",
      "metadata": {
        "id": "A1yeEqQ4JXDB"
      },
      "source": [
        "# articles_df"
      ],
      "execution_count": 9,
      "outputs": []
    },
    {
      "cell_type": "markdown",
      "metadata": {
        "id": "qsRWdHLGzhlF"
      },
      "source": [
        "Create array of similarities/difference between vectors"
      ]
    },
    {
      "cell_type": "code",
      "metadata": {
        "id": "HFVT9lzAGSwV"
      },
      "source": [
        "pairwise_similarities=cosine_similarity(document_embeddings)\n",
        "pairwise_differences=euclidean_distances(document_embeddings)"
      ],
      "execution_count": 10,
      "outputs": []
    },
    {
      "cell_type": "code",
      "metadata": {
        "colab": {
          "base_uri": "https://localhost:8080/",
          "height": 643
        },
        "id": "UD6DHlYnHxDJ",
        "outputId": "c22dac58-c20e-4129-c13f-b1021285bc01"
      },
      "source": [
        "import seaborn as sns\n",
        "import numpy as np\n",
        "fig, ax = plt.subplots(figsize=(12,10))\n",
        "mask = np.zeros_like(pairwise_similarities)\n",
        "mask[np.triu_indices_from(mask)] = True\n",
        "pairwise_similarities\n",
        "ax = sns.heatmap(\n",
        "    pairwise_similarities,\n",
        "    cmap=\"Blues\", mask=mask, square=True)\n",
        "labels = ['Article: ' + str(x) + \", \" + str(articles_df['Date Published'][x]) for x in articles_df.index]\n",
        "ax.set_xticklabels(labels=labels)\n",
        "ax.set_yticklabels(labels=labels)\n",
        "ax.set_xticklabels(\n",
        "    ax.get_xticklabels(),\n",
        "    rotation=45,\n",
        "    horizontalalignment='right');\n"
      ],
      "execution_count": 11,
      "outputs": [
        {
          "output_type": "display_data",
          "data": {
            "image/png": "iVBORw0KGgoAAAANSUhEUgAAAtMAAAJyCAYAAAAGtEx6AAAABHNCSVQICAgIfAhkiAAAAAlwSFlzAAALEgAACxIB0t1+/AAAADh0RVh0U29mdHdhcmUAbWF0cGxvdGxpYiB2ZXJzaW9uMy4yLjIsIGh0dHA6Ly9tYXRwbG90bGliLm9yZy+WH4yJAAAgAElEQVR4nOzdf7zXdX3//9tdyjJET0MzEeKYyIiJIjLHpk5UwmwVWmxfj80fTQeXT9PcnH6yZbhZfaLBWrHyB5mrHAMDZJERxlAmEIhHhOMRf4RQCNQ08AeSWdbj+8frefDFi/fPc47nwDn36+XyvvR+PZ/P1/P1fEN/PHn6eD0eigjMzMzMzKx+B3X3AszMzMzMDlTeTJuZmZmZtZM302ZmZmZm7eTNtJmZmZlZO3kzbWZmZmbWTm/q7gWYmZmZWc90yMlXdmnauFce+aq68nngk2kzMzMzs3bzZtrMzMzMrJ0c5mFmZmZmbwz1/HNbb6b3Dy5DaWZmZp2ty+OHeyNvps3MzMzsjaGev5/v+WfvZmZmZmZvkA5vpiWdLykkDaswpkHSx3PXAyTNqzLvMkmj27kmSZohaaOkFkmjqox/m6TvS3pC0mOSpub63iLprjTXg5IaU3t/SfdLelnSV3Pj+0lal/v8QtKX2/M7zMzMzA5oOqhrP92gM57aBKxI/7sPSW8CGoA9m+mI2B4REzvh2eWcBxyfPpOAW2q4Z3pEDANOBk6TdF5qvxx4PiKGAP8KfDG1/wr4DHBtfpKI2BURI9s+wE+Buzv6g8zMzMxs/9OhzbSkQ4HTyTacF+bax0paLmkhsAGYChyXTmqnSWqU1JrG9pE0XVJrOkW+qsRzxktaJWmtpLnpuZVMAL4dmdVAg6Sjyw2OiF9GxP3p+6+BtcDA3FzfSt/nAedIUkTsjogVZJvqcn8+Q4F3AMurrNfMzMys55G69tMNOnoyPQFYHBFPATsknZLrGwVcHRFDgeuBp9Np7XWFOSYBjcDIiDgRmJXvlHQEcAMwLiJGAc3ANanvJkkfKrGuY4BnctdbU1tVkhqADwJLi3NFxGvAi0D/WuYi+wfGXRGxT7YOSZMkNUtqnjlzZo3TmZmZmdn+pKPZPJqAr6Tvc9L1w+l6TURsrmGOccCtaaNKROws9I8BhgMrlf2L42BgVRo7pUOrL0ghKbOBGRGxqROmvBC4uFRHRMwE2nbRTo1nZmZmdgBq92Za0u8BZwMjJAXQBwhJbSfPuzthfZDlSFwSESVjssvYBgzKXQ9MbdXMBH4cEfkXBtvm2po224cDO6pNJOkk4E0R8XC1sWZmZmY9Ui8o2tKRXzgRuDMiBkdEY0QMAjYDZ5QYuwvoV2aeJcDktFFt26TnrSZ7IXBI6u+bYpErWQhckrJ6jAFejIifpfufKHWDpM+RbZT/tsRcl6bvE4H7SoVtlNBEdsptZmZmZj1URzbTTcCCQtt8SmT1iIgdZGEarZKmFbpvB7YALZLWAxcV7n0OuAyYLamFLMRjGFSMmV4EbAI2Al8nZRJJ8df7RKdLGgh8miycZG16UfKK1P0NoL+kjWSx2tfn7vsJ8CXgMklbJQ3PTfsXeDNtZmZmvVkveAFRtR2y9gySPgC8OyJmdPdaCnrPX4KZmZl1lW4vP3jIH13XpXucVx6c1uW/uVeVE4+Ie7p7DaX86ZdW1n3PA9ec9gasxMzMzKwTOWbazMzMzMzK6VUn02ZmZmbWhbopjrkrdfhkWtL5kkLSsApjGiR9PHc9QNK8KvMukzS6nWsaliomvirp2up3gKRZkp5ML0neIenNqV2SZkjamCo0jsrds1jSC5LuKcy1PL3EuE7Sdkn/1Z7fYWZmZmb7t84I82gCVlAiiwfsKYTSQMqoARAR2yNiYic8u5ydwCeA6XXcM4ssS8gI4BCgLZvHecDx6TMJuCV3zzRKFGWJiDNStceRZNlH7q73B5iZmZkd8HRQ1366QYeeKulQ4HTgcrJqf23tY9Pp7EJgAzAVOC6d1E6T1CipNY3tI2l6OhFukXRVieeMTyfNayXNTc8tKyKejYiHgN/U+lsiYlEkwBqyQi+QlUz/dupaDTRIOjrds5Qsh3a5P5/DyArb+GTazMzMrAfqaMz0BGBxRDwlaYekU3IV/0YBJ0TEZkmN6ftIgHTdZhLQCIyMiNeKRVtSbugbgHERsVvSJ8nyPd8k6SagOSIWdvB35J/3ZrLT5qtT0zHAM7khW1Pbz2qY7nxgaUS81FnrMzMzMztgOGa6qiZgTvo+h71DPdZExOYa5hgH3BYRrwFExM5C/xiyYiorJa0jq0Y4OI2d0pkb6eRm4IGIWN4Jc5WtgihpkqRmSc0/W/XdTniUmZmZmXW1dp9MpxPks4ERkgLoA4Sk69KQ3Z2wPsgSji+JiJIx2Z1J0o3AkcDkXPM2YFDuemBqqzbXEcCpwAWl+iNiJjAT4E+/tNJFW8zMzKzncZ7piiYCd0bE4IhojIhBwGbgjBJjdwH9ysyzBJicXlSkGOYBrAZOkzQk9feVNLS9i5a0VNIxJdqvAM4FmiLid7muhcAlKavHGODFiKglxGMicE9E/Kq9azUzMzOz/VtHNtNNwIJC23xKZPWIiB1kYRqtkqYVum8HtgAtktYDFxXufQ64DJgtqYUsO8YwAEk3SfpQ8XmS3ilpK1ls9Q2Stko6TNJBwBCybB9FtwJHAavSi5JTUvsiYBOwEfg6uawkkpYDc4Fz0jPOzc13IWVCPMzMzMx6BalrP93xE7PkFb2DpBOAv4qIa7p7LXntCfNwOXEzMzOrotvf/jvkjCldutF8ZflNXf6be1UFxIhoJTut3q+8/PKrdY3v2/dgzviXFXXds/zvT69rvJmZmZlV16s202ZmZmbWhfwCopmZmZmZleOTaTMzMzN7Y/hkujpJ50sKScMqjGmQlM+CMUDSvCrzLpM0up1r+mgqTf6opB9JOqmGe2ZJejJlHLkjVUIkpcSbIWljmnNU7p7Fkl6QdE9hruUpI8g6SdsluZy4mZmZWQ/UGf9caAJWUCIlHkDKH91ALqVcRGyPiImd8OxyNgNnRsQI4LOk4ihVzCJLuTcCOAS4IrWfBxyfPpOAW3L3TCMrPb6XiDgjIkam8umrgLvb+TvMzMzMDlwHqWs/3fETO3KzpEOB04HLyfIqt7WPTaezC4ENwFTguHRSO01So6TWNLaPpOnpRLhF0lUlnjNe0ipJayXNTc8tKyJ+FBHPp8vVZFULK4qIRZEAa3L3TAC+nbpWAw2Sjk73LCUrSFPuz+cwsiqRPpk2MzMz64E6ejI9AVgcEU8BOySdkusbBVwdEUOB64Gn02ntdYU5JgGNwMiIOJHshHiPVJb7BmBcRIwCmknp7coVbSm4HPhBrT8ohXdcDCxOTccAz+SGbE1ttTgfWBoRL5V4ziRJzZKaf9F8T4lbzczMzA5wOqhrP92goy8gNgFfSd/npOuH0/WaiNhcwxzjgFsj4jWAiChWJxwDDCeroAhwMFnoBBExhQoknUW2ma4nyfLNwAMRsbyOe8ppIqvwuI+ImEkKPxl10329p3KOmZmZWQ/S7s20pN8jC2EYISmAPkBIajt53t0J64Oses+SiCgZk11hfSeSbWTPS+XMa7nnRuBIYHKueRswKHc9MLVVm+sI4FTgglrXbGZmZtajdFOJ767UkfPwicCdETE4IhojYhDZi39nlBi7C+hXZp4lwOT0omLbJj1vNXCapCGpv6+koZUWJuldZC/9XZxCUPJ9SyXtE6Yh6QrgXKApIn6X61oIXJKyeowBXoyIn1V6fjIRuCciflXDWDMzMzM7AHVkM90ELCi0zadEVo90MrwyvWQ4rdB9O7AFaJG0HriocO9zwGXAbEktZCEew6BizPQUoD9wc3rpsTmNPwgYAhRDSQBuBY4CVqV72kJIFgGbgI3A18llJZG0HJgLnCNpq6Rzc/NdCMwu8RwzMzOz3qEXxEwrS17RO0g6AfiriLimu9eSt/LHz9f1l3Dvpl/UNf+Rh9YfzXPVacfWfY+ZmZntV7o9xuKQcVO7dKP5yn9f3+W/uVdVQIyIVlImEDMzMzN7gzlm2szMzMzMyulVJ9NmZmZm1oW6KY65K3X4F0o6X1JIGlZhTIOk/It7AyTNqzLvMkmj27mmCama4rpUGKVinmlJb5P0fUlPSHpM0tRc31sk3SVpo6QHJTWm9v6S7pf0sqSv5sb3S89t+/xC0pfb8zvMzMzMbP/WGf9caAJWUCKLB0BKeddALgtGRGyPiImd8OxylgInRcRI4K8oUzilYHpEDANOJkvFd15qvxx4PiKGAP8KfDG1/wr4DHBtfpKI2JUqPY5Mz/8pWZo+MzMzs95F6tpPN+jQZlrSoWTVBS8nSwXX1j5W0nJJC4ENwFTguHRSO01So6TWNLaPpOkpbV6LpKtKPGe8pFWS1kqam55bVkS8HK+nKekLVHyTNCJ+GRH3p++/BtaSFWeBrGT6t9L3eWRp8BQRuyNiBdmmutyfz1DgHUBnVFM0MzMzs/1MR0+mJwCLU2GUHZJOyfWNAq6OiKHA9cDT6bT2usIck4BGYGREnAjMynemSoI3AOMiYhTQTMrIUSHPNJIukPQE8H2y0+maSGoAPkh2ug1wDPAMQCp5/iJZDutaXAjcFSXyD0qalEJQmr8755u1Ls/MzMzM9iMdfQGxCfhK+j4nXT+crtdExOYa5hgH3Jo2qkREsaDKGGA4WdEXgIPJCrcQEVMoIyIWAAsk/Snw2fScilJIymxgRkRsqmHt1VwIXFxmfTOBmVB/nmkzMzOzA0IveAGx3ZvpVPb7bGCEpAD6ACGp7eR5dyesD7KE40siomRMdjUR8YCkd0s6IiKqVTuZCfw4IvIvDG4DBgFb02b7cGBH1UVLJwFvioiHq401MzMzswNTR/65MBG4MyIGR0RjRAwCNgNnlBi7C+hXZp4lwOS0UW3bpOetJnshcEjq75tikcuSNETpGFvSKOAtpA1wCv0odc/nyDbKf1voWghcmr5PBO4rFbZRQhMuJ25mZma9mV9ArKgJWFBom0+JrB4RsYMsTKNV0rRC9+3AFqBF0nrgosK9zwGXAbMltZCFeAyDijHTHwFaJa0Dvgb8fxERKf56nz9pSQOBT5OFk6xNL0pekbq/AfSXtJEsVvv63H0/Ab4EXCZpq6ThuWn/Am+mzczMzHo01XbI2jNI+gDw7oiY0d1ryas3ZvreTdWiVfZ25KH1R/Ncddqxdd9jZmZm+5Vur+V9yPu/0qUbzVcWXd3lv7lXVUCMiHu6ew2lPPfKq3WNf+U3v6tr/L2t9W2+T3rX4Xz6B0/Vdc/nz6sYeWNmZmbWI/WqzbSZmZmZdaFuimPuSj0/X4mZmZmZ2Rukw5tpSedLCknDKoxpkPTx3PUASfOqzLtM0ugOru0PJb0mqWLpcklvk/R9SU9IekzS1FzfWyTdJWmjpAclNab2/pLul/SypK8W5muS9Giq6Lg4vfhoZmZm1rvooK79dIPOeGoTsIISWTxgTyGUBmDPZjoitkdExQ1uR0nqA3wR+GGNt0yPiGHAyWSp+M5L7ZcDz0fEEOBf05yQlRH/DHBt4blvIitkc1aq6NgCXNmR32JmZmZm+6cObaYlHQqcTrbhvDDXPlbSckkLgQ3AVOC4lHJumqRGSa1pbB9J01PavBZJV5V4znhJqyStlTQ3Pbeaq8hS9T1bbWBE/DIi7k/ffw2sBQam7gnAt9L3ecA5khQRuyNiBdmmeq/lpk/flOv6MGB7Des1MzMz61l8Ml3VBGBxRDwF7JB0Sq5vFHB1RAwly838dESMjIjrCnNMAhqBkekkd1a+M4VI3ACMi4hRQDNZvueyeaYlHQNcANxS7w+S1AB8EFiamo4BngFIJc9fBPqXuz8ifgP8H+BRsk30cLJc1cXnTJLULKn5h/PurHeZZmZmZlYnSe+T9GQK372+RP9gSUvTAe+yVIukoo5uppuAOen7HPYO9VgTEZtrmGMccFvaqBIROwv9Y8g2pCtTEZZLgcFp7JSIWFhizi8Dn4yIunLIpRCN2cCMiNhUz725Od5Mtpk+GRhAFubxqeK4iJgZEaMjYvT4iRe351FmZmZm+7f9qAJiCgH+GnAe2d6yqVBwD2A68O10wHsT8IVqP7HdqfFS2e+zgRGSAugDhKS2k+fd7Z27+ChgSUSUjMkuYzQwJ1UUPwJ4v6TXIuK/qtw3E/hxRHw517YNGARsTZvtw0mlycsYCRARTwNI+g65qolmZmZm1i1OBTa2HZhKmkMWZbEhN2Y4KQICuB+otnfs0Mn0RODOiBgcEY0RMQjYDJxRYuwuoF+ZeZYAk9NGtW2Tnrea7IXAIam/r6SKFUIi4ti0pkayOOePt22kJT1R6h5JnyPbKP9toWsh2Wk4ZL/5vqhcNnIbMFzSken6vcDjldZrZmZm1iN1ccx0Pow2fSblVrMndDfZmtry1gMfTt8vAPpJKhveCx3bTDcBCwpt8ymR1SMidpCFabRKmlbovh3YArRIWg9cVLj3OeAyYLakFmAVMAzKx0yXk+Kv9/lvACke5tNk/xpZm16UvCJ1fwPoL2kj2b9Urs/d9xPgS8BlkrZKGh4R24F/Ah5I6x0J/L9a12hmZmZm7ZMPo02fmXVOcS1wpqRHgDPJDkl/W+kGVT5k7VkkfQB4d0TM6O615P1Xy8/r+ktYueXFuuZ/fNtLdY0/6V2H1zUeXE7czMxsP9Tt5QcPmXBbl240X/nu5LK/WdIfA/8YEeem608BRETJuOiUPe6JiKj4EmKvKiceEfd09xpKmbW2vsx5ax/937rGnzG6+F8wKps4/Oi6xm/f9Qrfb62agXAff3bCO+q+x8zMzA4g+1c58YeA4yUdS3bifCGFiIgUxbAzJbH4FHBHtUldTtzMzMzMeryUOe5K4F6y99m+ExGPFcKGxwJPSnoKOAr4fLV5e9XJtJmZmZl1oW4qpFJORCwCFhXapuS+zyNLXlGzDv9CSedLCknDKoxpkPTx3PUASRUXmhJlj27nmsZKejG9SLhO0pQa7pmVkni3Sroj5YtGmRkpuXeLpFG5exZLekHSPYW5zknVGtdJWtGWicTMzMzMepbO+OdCE7CCElk8YE8hlAZgz2Y6IrZHxMROeHYly1PFxZERcVMN42eRZQkZARwCtGXzOA84Pn0msXdVxWlAqYortwAfjYiRwH+SVXA0MzMz6132o6Itb5QObabTW46nA5eTBXG3tY+VtFzSQrJE2FOB49JJ7TRJjZJa09g+kqanE+EWSVeVeM54SavSae/c9NxOFRGLIgHWAG1vbk4gq4QTEbEaaJB0dLpnKVkO7X2mAw5L3w8nKytuZmZmZj1MR0+mJwCLI+IpYIekU3J9o4CrI2IoWW7mp9Mp8XWFOSYBjcDIVLpxVr4zvVV5AzAuIkYBzaTKNFXyTP+xpPWSfiDpD2r9QSm842JgcWqqJcF30RXAIklb01xTSzxnT1LxTcvurnV5ZmZmZgcMSV366Q4d3Uw3AXPS9znsHeqxJiI21zDHOOC29IYlEbGz0D+GrJjKSknryKoRDk5jp0TEwhJzrgUGR8RJwL9RQynInJuBByJieR33FP0d8P6Ul/DfyQq77CWfVPzdYz+8zwRmZmZmtv9rdzYPZWW/zwZGSAqgDxCS2k6ed3fC+iBLOL4kIkrGZJcSES/lvi+SdLOkIyLiFxUfJN0IHAlMzjVvAwblrgemtnJzHAmcFBEPpqa7eP2U28zMzKzX6K7T4q7UkZPpicCdETE4IhojYhCwGTijxNhdQL8y8ywBJqcXFds26XmrgdPaMmJI6iupYrk9Se9U+tuTdCrZ79yRrpdK2idMQ1n58HOBppSou81C4JKU1WMM8GJE/KzC458HDs+t8b1kuQzNzMzMrIfpyGa6CVhQaJtPiaweEbGDLEyjVdK0QvftwBagRdJ6CpVoIuI54DJgtqQWYBVZ1o1KMdMTgdY03wzgwogISQcBQ4BiKAnArWTJuVcV0uktAjYBG4Gvk8tKImk5MBc4R9JWSeemcJW/Buan518MFOPEzczMzHo+dfGnGyhLXtE7SDoB+KuIuKa715L3599cW9dfwhtdTvzqPzm2rvHbd71S1/g2LiduZmb2hur2GIu+f/7vXbrR3D33Y13+m3tVBcSIaCVlAtmfPPPzUtn1yntp50vVB+Xs3HVEXePnbagUxbKvl37127rGA9zX/Az/t857Hvv8+LqfY2ZmZt3HMdNmZmZmZlZWrzqZNjMzM7Ou45PpGkg6X1JIGlZhTIOk/It7AyTNqzLvMkmjO7CuselFwsck/U8N42dJejK9JHlHKt5CyuIxQ9LGVKFxVO6exZJekHRPYa5zUrXGdZJWtGUiMTMzM7OepTPCPJqAFZTI4gGQUt41kMuCERHbI2JiJzy7JEkNZMVXPhQRfwD8eQ23zSLLEjICOISsiiHAecDx6TMJuCV3zzSybB1FtwAfjYiRwH+SVXA0MzMzsx6mQ5tpSYcCpwOXAxfm2sdKWi5pIbCBrJz2cemkdpqkRkmtaWwfSdPTiXCLpKtKPGe8pFXptHduem4lFwF3R8QWgIh4ttpviYhFkQBryIqzQFYy/dupazXQIOnodM9Sshza+0wHHJa+Hw5sr/Z8MzMzs57G5cSrmwAsjoingB2STsn1jQKujoihwPXA0xExMiKKOZcnAY3AyIg4keyEeA9JR5Cd7I6LiFFAMykjR4U800OBt6dQkYclXVLrD0rhHRfzetXCY4BnckO2prZKrgAWSdqa5ppa4jmTJDVLan52zfdqXZ6ZmZmZ7Uc6+gJiE/CV9H1Oun44Xa+JiM01zDEOuDUVOyEiigVVxgDDyYq+ABxMVriFiJhCaW8CTgHOIQvZWCVpddr0V3Mz8EBELK9hbDl/B7w/Ih5UVl79S7weNgJARMwEZgKMmfo/vSfZt5mZmfUaveEFxHZvppWV/T4bGCEpgD5ApM0jwO5OWB9kCceXRETJmOwytgI7ImI3sFvSA8BJQMXNtKQbgSOBybnmbcCg3PXA1FZujiOBkyLiwdR0F6+fcpuZmZlZD9KRMI+JwJ0RMTgiGiNiELAZOKPE2F1AvzLzLAEmpxcV2zbpeauB09oyYkjqK2lolbV9Fzhd0pskvQ34I+DxdP9SSfuEaUi6AjgXaIqI3+W6FgKXpKweY4AXI6JSVZPngcNza3xv27PNzMzMepVeUE68I5vpJmBBoW0+JbJ6RMQOsjCNVknTCt23A1uAFknryV4ezN/7HHAZMFtSC1mIxzAoHzMdEY+TnQa3kL1MeHtEtEo6CBgCFENJAG4FjiILCVknqS2EZBGwCdgIfJ1cVhJJy4G5wDmStko6N4Wr/DUwP/2ei4FinLiZmZmZ9QDKklf0DpJOAP4qIvarkuL1xkw//eTP65r/j//43XWNHzHo8LrGt7eceL1cTtzMzKwu3R6w3PDR/+jSjeYLs/6yy39zr6qAGBGtpEwg+5Nj3lEt09/etm55S13jn9/1al3jTzq6vvXcvf5/6xoP0L9/37rGb376Fwz6m+/Wdc8zX5tQ13gzMzOzevWqzbSZmZmZdZ3ekM2jMyogmpmZmZn1Sh3eTEs6X1JIGlZhTIOk/It7AyTNqzLvMkmj27mm69JLhOvSS4+/LZElpHjPLElPpvF3pOItpCweMyRtTBUaR+XuWSzpBUn3FOY6J1VrXCdpRVsmEjMzM7PexBUQa9MErKBEFg+AlPKugVwWjIjYHhETO+HZJUXEtFRtcSTwKeB/ShSDKZpFliVkBFmhl7YiK+cBx6fPJOCW3D3TyLJ1FN0CfDQ9/z/JKjiamZmZWQ/Toc20pEOB04HLgQtz7WMlLZe0ENhAVk77uHRSO01So6TWNLaPpOnpRLhF0lUlnjNe0qp02js3PbdWTcDsaoMiYlEkZOn0BqauCcC3U9dqoEHS0emepWQ5tPeZDjgsfT8c2F7Hes3MzMx6hN5wMt3RFxAnAIsj4ilJOySdEhFt5cRHASdExGZJjen7SIB03WYS0AiMjIjXiuEYko4gO9kdFxG7JX2SLCPHTZJuApojYmGpxSkr2PI+4Mpaf1AK77gYuDo1HQPk87htTW2VCrdcASyS9ArwEllJdDMzMzPrYToa5tEEzEnf57B3qMeaiNhcwxzjgNtSsRNKhGOMAYaTFX1ZB1wKDE5jp5TbSCcfBFbWEOKRdzPwQEQsr+Oeor8D3h8RA4F/B75UHCBpkqRmSc2b/+fuDjzKzMzMbD/VCyogtvtkOp0gnw2MkBRAHyAktVX7290J64Psj2ZJRJSMya7iQmoI8djzIOlG4Ehgcq55GzAodz0wtZWb40jgpIh4MDXdRVaNcS8RMROYCfCROx7uPZVzzMzMzHqQjpxMTwTujIjBEdEYEYOAzcAZJcbuAvqVmWcJMDm9qEgxzANYDZzWlhFDUl9JQ6stTtLhwJnAdwvtSyUdU2L8FcC5QFNE/C7XtRC4JGX1GAO8GBGVQjyeBw7PrfG9wOPV1mtmZmZmB56ObKabgAWFtvmUyOoRETvIwjRaJU0rdN8ObAFaJK0HLirc+xxwGTBbUguwiizrBpJukvShMuu7APhhROw5IZd0EDAEKBX2cStwFLAqvSg5JbUvAjYBG4Gvk8tKImk5MBc4R9JWSeemcJW/Buan33MxcB1mZmZmvYxfQKwgIs4q0TYjd7ms0HfR3qM5IbW/RvZC4TWF8WNz3+8D/rDE86YU23J93wS+WWgeDsyPiFdKjC/5Z5Gye/xNmb5Sp/BExAL2/YeGmZmZmfUwvaqceES0Uti07w8+OOLIusb/785f1jX+vSe+s67xJ7zj8LrGH3xy/f+BY9GTO+oaP2xQQ13jFz/wNO+6qtK7qfva8m/l/iOHmZmZtUd3nRZ3JZcTNzMzMzNrp151Mm1mZmZmXccn02ZmZmZmVlaHN9OSzpcUkoZVGNMgKZ8FY4CkeVXmXSZpdDvXdLik70laL+kxSR+rMv5tkr4v6Yk0fmqu7y2S7pK0UdKDbdUbJfWXdL+klyV9tTBfk6RHlZVHX5yqOJqZmZn1Lr2gaEtnnEw3ASsokRIPIOWPbiCXUi4itkfExE54djl/A7Ei1qMAACAASURBVGyIiJOAscC/SDq4yj3TI2IYcDJZXuvzUvvlwPMRMQT4V+CLqf1XwGeAa/OTpN/7FeCsiDgRaKGOcuZmZmZmduDo0GZa0qHA6WQbzgtz7WMlLZe0ENgATAWOS/mbp0lqlNSaxvaRND3loG6RdFWJ54yXtErSWklz03MrCaCfskCdQ8nySr9WdnDELyPi/vT918BaskqHABOAb6Xv88hySisidkfECrJN9V7LTZ++6fmHAdurrNfMzMysx+kNeaY7ejI9AVgcEU8BOySdkusbBVwdEUOB64GnI2JkRBQLmEwCGoGR6SR3Vr4zhUjcAIyLiFFAMym9ncoXbfkq8B6yTeyjaR2/KzFuH5IagA8CS1PTMcAzsCcn9otA/3L3R8RvgP+TnrudLLf1N0o8Z5KkZknNyxb8Zy1LMzMzM7P9TEezeTSRhTQAzEnXD6frNRGxuYY5xgG3po0qEVGsTjiGbEO6Mv2L42CyKoiViracC6wDzgaOA5ZIWh4RL1VaSArRmA3MiIhNNay91BxvJttMn0xWOfHfgE8Bn8uPi4iZwEyAbz60JdrzLDMzM7P9WW/I5tHuzbSk3yPbrI6QFEAfICS1nTzvLntznY8ClkREyZjsMj4GTE3VCzdK2kxWgnxNlftmAj+OiC/n2rYBg4CtabN9OFCp4shIgIh4GkDSd8hO5s3MzMysh+lImMdE4M6IGBwRjRExCNgMlCqxvQvoV2aeJcDktFFt26TnrSZ7IXBI6u8raWiVtW0BzknjjwJ+n+yUGElPlLpB0ufINsp/W+haCFyavk8E7kub9HK2AcMltZU1fC/weJX1mpmZmfU4jpmurAlYUGibT4msHhGxgyxMo1XStEL37WSb3xZJ64GLCvc+B1wGzJbUQhbiMQwqxkx/FvgTSY+SxT5/MiJ+keKv9/mTljQQ+DRZOMna9KLkFan7G0B/SRvJYrWvz933E+BLwGWStkoaHhHbgX8CHkjrHQn8vxJrNDMzM7MDnCofsvYskj4AvDsiZnT3WvL+/ntP1vWX8JY+9f3L696Ht9U1ftDR5f4jQmlH9HtrXeMBfvWb39Y1fseuYtKUyt51ZLWEL3u7cMQ76xoPcNbvl30P1czMbH/Q7QHLAybf3aUbze23fbjLf3OvKiceEfd09xrMzMzMrOdwOXEzMzMzs3bqVSfTZmZmZtaFuj3Q5I3X4ZNpSedLCknDKoxpkPTx3PUASfOqzLtM0uh2runtkhakioprJJ1Qwz2zJD2ZXpK8I+WLRpkZkjam+Ubl7lks6QVJ9xTmOltZtcZWSd9qy1RiZmZmZj1LZ4R5NAErKJHFA/YUQmkA9mymI2J7REzshGeX8w/AulRR8RJeLyxTySyyLCEjgEOAtmwe5wHHp88k4JbcPdOAi/OTSDqIrPz4hRFxAvBTXk+tZ2ZmZtZrODVeFZIOBU4HLgcuzLWPlbRc0kJgAzAVOC6lnJsmqVFSaxrbR9L0dIrbIumqEs8ZL2lVOu2dm55byXDgPoCIeAJoVJZvuqyIWBQJWXGXgalrAvDt1LUaaJB0dLpnKVkO7bz+wK9TiXXI8mh/pMp6zczMzOwA1NGT6QnA4rRx3CHplFzfKODqiBhKlpv56YgYGRHXFeaYBDQCI9NJ8qx8Z8oNfQMwLiJGAc1k+Z4r5ZleD3w4jTkVGMzrm+OKUnjHxcDi1HQM8ExuyNbUVs4vgDflQlQmklVQLD5nkqRmSc0ti++qZWlmZmZmB5TecDLd0VjeJl4PoZiTrh9O12siYnMNc4wDbo2I1wAiYmehfwzZSfPK9Id0MFnhFiJiSpk5pwJfkbQOeBR4BKg1sfHNwAMRsbzG8XuJiJB0IfCvkt4C/LDUsyNiJln58rrzTJuZmZnZ/qHdm2llZb/PBkZICqAPEJLaTp53d8L6IHsPdElElIzJLiUiXgI+ltYpsjLnm6o+SLoROBKYnGvext4nywNTW6XnryKVVZc0HqhW/tzMzMysx+mu0+Ku1JEwj4nAnRExOCIaI2IQ2ab1jBJjdwHlyuotASa3ZbxIm/S81cBpkoak/r6SKm5OlWUPOThdXkF20vxS6lsqaZ8wDWXlw88FmiLid7muhcAlKavHGODFiPhZlee/I/3vW4BPArdWGm9mZmZmB6aObKabgAWFtvmUyOoRETvIwjRaJU0rdN8ObAFaJK0HLirc+xxwGTBbUgtZiMcwqBgz/R6gVdKTZNk4rk7jDwKGAMVQEsg2vEcBq9KLkm0hJIvITrU3Al8nl5VE0nJgLnCOpK2Szk1d10l6HGgBvhcR95V4npmZmVnPpi7+dIN2h3lExFkl2mbkLpcV+i7aezQnpPbXyF4ovKYwfmzu+33AH5Z4XsmY6RRmUer0ejgwPyJeKXFPyT+LlN3jb8r0lTqFJ71kWXzR0szMzMx6mF5VTCQiWils2vcHf3b8EXWNb3jrm+sa/45+9Y1/T/9qmQf39uTOl+saDzBmQDGap7IXX/1NXeOP7d+3rvEDGt5a1/gZKzbx4LYX6rrn+rOPq2u8mZnZgc4x02ZmZmZmVlavOpk2MzMzs67jk+lE0vmSQtKwCmMaJOVfzhsgaV6VeZflipvURdKwVBXxVUnXFvreJ+lJSRslXV/DXNdI2pAqMC6VNDjXd6mkH6fPpbn2z0t6RtLLhbkGpzla0u+rqViMmZmZmR14ag3zaAJWUCJTB0BKa9dALtNFRGyPiIkdXmF5O4FPANMLa+kDfI0si8dwoEnS8CpzPQKMThUY5wH/nOb6PeBG4I+AU4EbJb093fO91FY0naz8+InATcAX6v9pZmZmZge+3lABsepmWtKhwOnA5cCFufaxkpZLWghsIKs6eFxKKzdNUqOk1jS2j6TpKTVei6SrSjxnfDppXitpbnpuWRHxbEQ8BBTfTDsV2BgRmyLi12SVGSdUmev+iPhlulzN66XHzyUrGLMzIp4ny4n9vnTP6jL5pocDbanw7q/2bDMzMzM7cNVyMj0BWBwRTwE7JJ2S6xsFXB0RQ4HrgacjYmRKDZc3CWgERqYT21n5TklHADcA4yJiFNBMyrpRIZd0OccAz+Sut6a2Wl0O/KADc60HPpy+XwD0k9S/OEjSJEnNkprv+c636liemZmZme0vankBsQn4Svo+J10/nK7XRMTmGuYYB9yackoTEcWiKWPITnRXpiP6g8mKs5TNJf1GkPSXwGjgzA5Mcy3wVUmXAQ+QlR7/bXFQRMwEZgLc98SO6MDzzMzMzPZLveEFxIqb6RQzfDYwQlIAfYCQ1HbyvLuT1iGycIqSMdl12gYMyl0PTG2VFyCNAz4NnBkRr+bmGluYa1mleSJiO+lkOoWqfCQi6ktIbGZmZmYHhGphHhOBOyNicEQ0RsQgYDNQqvLfLqBfmXmWAJPTi4ptm/S81cBpkoak/r6SSlUwrMVDwPGSjpV0MFmc98I07xckXVC8QdLJwG3AhyLi2VzXvcB4SW9PLx6OT21lSToilS0H+BRwRzt/h5mZmdmBrReUE6+2mW4CFhTa5lMiq0dE7CAL02iVNK3QfTuwBWiRtB64qHDvc8BlwGxJLWQhHsOgfMy0pHdK2koWW32DpK2SDkuhJFeSbXofB74TEY+l20YAPy/xO6cBhwJz0wuUC9O6dgKfJdugPwTc1BaiIumf0/Pflp79j2muscCTkp4CjgI+X+J5ZmZmZtYDKKL3hOtKujcizu3udRTVGzNdbznxB57ZUdd4lxOvbsaKTXWNB5cTNzOzLtftAcvvvmZRl240N33p/V3+m3tVBcT9cSMN8Nwrv6pr/Bf++8d1jX/PwIa6xq/aVF+Id/9+b6lrPMBxDa9WH5Rzy8qf1jX+scefrT4oZ9jvH1HX+MPfdnBd46/90+No3vxSXfcAjD72sLrvMTMzs67TqzbTZmZmZtZ1ekM2j1orIJqZmZmZWUFNm2lJ50sKScMqjGmQ9PHc9QBJ86rMu0zS6NqXu9e9w1LFxFclXVvou0PSs20VGGuY66OpMuOjkn4k6aRc3/skPSlpo6Trc+1XprZIRWfa2t8uaUGab42kE9rz+8zMzMwOdFLXfrpDrSfTTcAKSmTxAEgp7xqAPZvpiNgeERM7vMLydgKfAKaX6Psmqex3jTaT5ZceQZa9YyZkZdCBrwHnkRWVaZI0PN2zkqwYTTGY9x+AdanS4yW8XvDGzMzMzHqYqpvpVHjkdLIy2xfm2sdKWp7SyG0ApgLHpdRy0yQ1tp0MS+ojaXpKm9ci6aoSzxmfTprXSpqbnltWRDwbEQ8B+6R5iIgHyDbbNYmIH0XE8+lyNVlxFoBTgY0RsSkifk1WAXJCuueRiPhJiemGA/elMU8AjZKOqnUtZmZmZj2FpC79dIdaTqYnAIsj4ilgh6RTcn2jgKsjYihwPfB0RIyMiOsKc0wCGoGR6cR2Vr4zhUncAIyLiFFAM1n+6LJ5pt9AlwM/SN+PAZ7J9W1NbZWs5/UKiKcCg3l9c76HpEmSmiU1//f8/+jwos3MzMys69WSzaOJ10MV5qTrh9P1mojYXMMc44BbU0GVtmIoeWPITnRXpn9VHExWuIWImFLD/J1C0llkm+nTOzDNVOArktYBjwKPAL8tDoqImaRwkrse2dZ7kn2bmZlZr9ELknlU3kynst9nAyMkBdAHCEltJ8+7O2kdApZERMmY7K4g6USySo3npWqOANuAQblhA1NbWRHxEvCxNKfI4rHrr/BhZmZmZvu9amEeE4E7I2JwRDRGxCCyzeEZJcbuAvqVmWcJMDm9qNi2Sc9bDZwmaUjq7ytpaK0/olYpA8eVJdrfBdwNXJzCWdo8BBwv6VhJB5PFjC+s8oyGNBbgCuCBtME2MzMz61UcM52FdCwotM2nRFaPdJq7Mr1kOK3QfTuwBWiRtB64qHDvc8BlwGxJLWQhHsOgfMy0pHdK2koWW32DpK2SDkt9s9Mcv5/aL0+3DQNK1daeAvQHbk4vUDandb0GXAncCzwOfCciHkvP+ER6/sD0u25Pc70HaJX0JFkWkKtLPM/MzMzMeoCKYR4RcVaJthm5y2WFvov2Hs0Jqf01sk3vNYXxY3Pf7wP+sMTzSsZMR8TPKfFiX+orFy7SWFxDGn8F2SlyqbkWAYtKtM8AZpRoXwV0+qm6mZmZme1/elU58Yj4QHevoZTdr+3zfmJFxw84rK7xLT+pOUsgACc2FqNwKlv8o5/UNR7grHc31DX+6LcfUtf49//FH9Q1fsyA+n7z9d/fUNf4NT+r7+8AYMcvX+MHTz9b1z2fGTek7ueYmZm9UXrDC4guJ25mZmZm1k696mTazMzMzLrOQQf1/KPpmk6mJZ0vKSQNqzCmQdLHc9cDJM2rMu8ySaNrX+5e9w5LFRNflXRtrn2QpPslbZD0mKSqLwBK+qiyyoyPSvqRpJNyfe+T9KSkjZKuz7VfmdoiFZ1pa3+7pAVpvjWSTmjP7zMzMzOz/V+tYR5NwApKZPEASCnvGoA9m+mI2B4REzu8wvJ2Ap8AphfaXwP+PiKGkxWD+RtJw6vMtRk4MyJGAJ8lFVOR1Af4GllWjuFAU26ulWTFaH5amOsfgHWp0uMlvF7wxszMzKxXkbr20x2qbqYlHUpWEfBysjzLbe1jJS2XtBDYQFb577iUWm6apEZJrWlsH0nTU9q8FklXlXjO+HTSvFbS3PTcsiLi2Yh4CPhNof1nEbE2fd9FltKuYgnwiPhRRDyfLlfzepaQU4GNEbEpIn5NVgFyQrrnkYj4SYnphgP3pTFPAI2Sjqr0fDMzMzM7MNUSMz0BWBwRT0naIemUiGgrJz4KOCEiNktqTN9HAqTrNpPI0tKNjIjXikVbUpjEDcC4iNgt6ZNkKexuknQT0BwRFYullJLWcDLwYB23XQ78IH0/Bngm17cV+KMq968HPgwsl3QqMJhsc/6/dazBzMzM7IDXXYVUulItYR5NZCeypP/Nh3qsiYjNNcwxDrgt5ZsmIop5wsaQneiulLQOuJRsE0pETGnnRvpQsgIzf1trBUJJZ5Ftpj9Z7/NypgIN6XdcBTwC7JP7TtIkSc2Smv9nwX924HFmZmZm1l0qnkynE+SzgRGSAugDhKTr0pDdnbQOAUsqFFupbzLpzWQb6VkRcXeN95xIVqnxvFTNEWAbMCg3bGBqKytt3D+W5hRZPPamEuNmkmKz73hoS9SyRjMzM7MDSS84mK56Mj0RuDMiBkdEY0QMItscnlFi7C6gX5l5lgCT04uKFMM8yOKUT5M0JPX3ldSuKoJpA/sN4PGI+FKh70pJV5a4513A3cDFEfFUrush4HhJx0o6mCxmvOIpecpqcnC6vAJ4oNaTcTMzMzM7sFTbTDcBCwpt8ymR1SOd5q5MLxlOK3TfDmwBWiStBy4q3PsccBkwW1ILsAoYBiDpJkkfKj5P0jslbSWLrb5B0lZJhwGnARcDZ6eXIddJen+6bRiwozgXMAXoD9ycxjendb0GXAncS/Yi43ci4rH0/E+k5w9Mv+v2NNd7gFZJT5JlAamams/MzMysJ5LUpZ/uUDHMIyLOKtE2I3e5rNB30d6jOSG1v0a26b2mMH5s7vt9wB+WeN6UMmv7Oa9n3chbQRY2UkpjcQ1privITpFLPWcRsKhE+wxgRon2VUC7TtXNzMzM7MDSqyogRsQHunsNpfzXI/Ul+uj71jfXNX7T07+oa/zRv/e2usb/+tXX6hoPUG+Q+I5dr9Y1/oEf/6b6oJxTjy5GHlW2+5f1zf/a7+oPi9+y81d1jV/75HP816pnqg/Mefgz+/x72czMrNM4m4eZmZmZmZXVq06mzczMzKzr9IKDaZ9Mm5mZmZm1V02baUnnSwpJwyqMaZD08dz1AEnzqsy7TNLo2pe7173DUvnxVyVdm2t/q6Q1ktZLekzSP9Uw1zWSNqRS50slDc71XSrpx+lzaa7985KekfRyYa7BaY6W9PtKvSRpZmZmZj1ArSfTTWRZMkoWVUn5oxuAPZvpiNgeERM7vMLydgKfAKYX2l8Fzo6Ik4CRwPskjaky1yPA6Ig4EZgH/DPsyYd9I1kJ8VOBGyW9Pd3zvdRWNB34dprrJuAL9f4wMzMzs56gN6TGq7qZVlaW+3SyMtsX5trHSlouaSGwgayM9nEpT/M0SY2SWtPYPpKmpxzULZKuKvGc8emkea2kuem5ZUXEsxHxEPCbQntERNtp8ZvTp2IqhYi4PyJ+mS5X83rKvXPJKjPujIjnyYrPvC/dszoiflZiuuHAfen7/cCESs82MzMzswNXLSfTE4DFqTLgDkmn5PpGAVdHxFDgeuDpiBgZEdcV5phEluN5ZDqxnZXvlHQEcAMwLiJGAc2kfNAqU7SlkrR5Xwc8S7YZfrCO2y8HfpC+HwPkc41tTW2VrAc+nL5fAPST1L/EGidJapbU/NMHinVxzMzMzA58Utd+ukMtm+kmYE76Poe9Qz3WRMTmGuYYB9yWircQETsL/WPITnRXpk3wpcDgNHZKRFQs4V0UEb+NiJFkJ8ynSjqhlvsk/SUwGihWcKzHtcCZkh4BzgS2Ab8tscaZETE6IkYP/tMLOvA4MzMzM+suFVPjpZjhs4ERkgLoA4SktpPn3Z20DpGdIJeMyW6viHhB0v1koRmtFRcgjQM+DZwZEW0VQrYBY3PDBlKo+ljimdtJJ9MpVOUjEfFCe9ZvZmZmdiBz0RaYCNwZEYMjojEiBgGbgTNKjN0F9CszzxJgcnpRsW2TnrcaOE3SkNTfV1K7SnJLOlJSQ/p+CPBe4Il0/QVJ+xwDSzoZuA34UEQ8m+u6Fxgv6e3pxcPxqa3S84+Q1Pbn+ingjvb8DjMzMzPrXJLeJ+lJSRslXV+i/12S7pf0SHrP7/3V5qy2mW4CigG98ymR1SMidpCFabRKKoZJ3A5sAVokrQcuKtz7HHAZMFtSC7AKGJZ+VMmYaUnvlLSVLLb6BklbJR0GHA3cn+Z5iOzE+5502wjg5yV+5zTgUGBueoFyYVrXTuCzaZ6HgJvaQlQk/XN6/tvSs/8xzTUWeFLSU8BRwOdLPM/MzMysx9ufYqYl9QG+BpxHFl7cJGl4YdgNwHci4mSyxBs3V/2NERUTXfQoku6NiHO7ex1Fn1+6sa6/hLt/9Ez1QTnXvP/4usafceyRdY1fu/X5usYD3Lz8J3WN//n/vlx9UM62nz5X1/h3vfuousZf+4H6/sPJB4YPqGs8wJlfvL+u8bddXF/K9hde/XVd4wHOHV7f/zfMzKxbdXuMxejP3d+lG83mG84q+5sl/THwj217QUmfAoiIL+TG3AZsiogvpvH/EhF/UumZvaqc+P64kTYzMzPrqbo6ZlrSJLIscm1mRsTM9L1UlrY/Kkzxj8APUxrnvmRJNCrqVZtpMzMzM+u50sZ5ZtWB5TUB34yIf0kn03dKOiEiflfuBm+mzczMzOwNsZ8l89gGDMpdD0xteZfzeoG+VZLeChxBVrukpJrKiUs6X1JIGlZhTIOkj+euB0iaV2XeZZLqC/R8/d5hqWLiq5KuLdHfJ72JeU+p+wtjr5G0Ib21uVTS4FzfpZJ+nD6X5to/L+kZSS8X5hqc5mhJv28gZmZmZtbdHgKOl3SspIPJXjAs1jLZApwDIOk9wFuBii9i1bSZJjvyXkGJLB7pYW8CGoA9m+mI2B4RE2ucvz12Ap8Appfpvxp4vMa5HgFGp+qM84B/hj0p/G4ki6c5FbgxpcgD+F5qK5oOfDvNdRPwhRJjzMzMzHo8SV36qSQVD7ySLM3x42RZOx4rZI77e+CvU/a52cBlUSVbR9XNdCo8cjrZsfeFufaxkpanNHIbgKnAcSm13DRJjZJa09g+kqantHktKai7+Jzx6aR5raS56bmV/kCejYiHgN+UmGsg8GdkKfmqioj7I+KX6XI12bE/wLlkqfV2RsTzZPmy247+V0fEz0pMNxy4L32/n6wcu5mZmZl1s4hYFBFDI+K4iPh8attTbTsiNkTEaRFxUkSMjIgfVpuzlpPpCcDiiHgK2CHplFzfKODqiBgKXA88nR58XWGOSUAjMDKd2M7Kd0o6giyv37iIGAU0k+WPLptnuoovA/8XKBssXsHlwA/S91JvfR5T5f71pAqIwAVAP0n9i4MkTZLULKn5oXvmFLvNzMzMDnj7U57pN0otLyA2AV9J3+ek64fT9ZqI2FzDHOOAW9PxelsxlLwxZCe6K9MR/cFkhVuIiCk1zL+HpA8Az0bEw5LG1nnvXwKjgTPrua/gWuCrki4DHiALbP9tcVD+bdN680ybmZmZ2f6h4mY6xQyfDYyQFEAfICS1nTzv7qR1iCycomRMdp1OAz6krPzjW4HDJP1HRPxlxQVI44BPA2dGxKupeRtZRcM2A4FlleaJiO2kk+kUqvKRiHihHb/DzMzMzPZz1cI8JgJ3RsTgiGiMiEHAZuCMEmN3Af3KzLMEmJxeVGzbpOetBk6TNCT195VUX4m5JCI+FREDI6KRLMb7vraNtKQvSLqgeI+kk4HbgA9FRD71yb3AeElvTy8ejk9tZUk6QlLbn+ungDva8zvMzMzMDnT70wuIb5Rqm+kmYEGhbT4lsnpExA6yMI1WSdMK3beTpRppSW9HXlS49zn+f/buPl6r6r7z/ucrPsSneIwajYocw0NOjSAiGloxglKE1ATbF7nHoyF6D9wwt8GY2jhl7jg4EzutCcwk0tEYYmwSSzGK2tIEtVTlFnkQjkSP+IzQKKjRAhqjUST+5o+9Ltxsr6cN5hzgfN95XS+vvdZvrb33OWoW27V/P7gYmCupk2yLRxvU3jMt6ShJ68n2Vl8pab2kjza4n4HAy1XaZwAHAbelFygrm9A3AVeTpVJZCXyzskVF0rfT+Q9I5/5vaa4RwNOSngGOBP5Hg2syMzMzs92UGmT72KNIumdXLCn+J99fUeqXcOQh+5eaf8Xqan9+qO1v/sOgUvEAdz5eM5d5Vb96/bel4re8W+5d0rZjDikVP+joA0rF//Xc1aXiAU47+ehS8cP7tZSKX/R08VWE+n754q9LxV9yTt9S8QD/8dTjSo8xM7MPTbeXTPmjbz/QpQvNpf/5s11+z83mmd4j7IoL6T1B2YV0T1R2IW1mZma7B5cTNzMzM7Pfi+7ax9yVetSTaTMzMzOzD1NTi2lJ50kKSW11YlokXZI7PlrSvAbzLpI0tPnL3W5sW6qY+I6krxf6/k3SY+llwo4m5rowVWZ8TNJSSSfl+sZIelrSGknTcu1zUvtqSTdJ2ie1S9KsFN8paciO3J+ZmZnZ7q4nFG1p9sl0O/AgVbJ4AKSUdy3AtsV0RLwYEeN3+gpr2wR8FZhZo39kqsbYzGJ9HVl+6YFk2TtmQ1YGHbgOGEtWVKZd0glpzByyjCMDgf2BSal9LNA/fSYD3yt5X2ZmZma2m2i4mE6FR4aTldk+P9c+QtLilEbuCeAaoG96GjxDUquk1Sm2l6SZ6Slup6RLq5xndHrSvErSbem8NUXEKxGxEni31B1Xn2tpRGxOh8vJirMAnAasiYi1EbGFrALkuDRmQSTAityYccBPUtdyoEXSJ3b2Gs3MzMx2N84znRkH3B0RzwAbJZ2S6xsCXBYRA4BpwHPpafAVhTkmA63A4IgYRPZUdxtJhwNXAqMiYgjQQZY/umae6QYC+BdJD0uaXHLsROCu9P0Y4IVc3/rUlr/2fYAJwN3NjknjJkvqkNTx/OJiKm8zMzMz2x00k82jHbg2fb8lHT+cjldExLom5hgF3BARW2FbMZS8YWTbKJakP1XsS1a4hYiY3sT8RcMjYoOkjwMLJT0VEQ80GiRpJNlieniJc10PPBARi8tcYETMJm0nKZtn2szMzGx30BOyedRdTCsr+30WMFBSAL2AkFR58vzmh3QdAhZGRNU92WVFxIb011ck3Um2XaPuYlrSILJKjWNTNUeADUDvXNixqa0y5irgCGBKLqbuGDMzJciN9QAAIABJREFUMzPbczTa5jEeuDki+kREa0T0JntZ74wqsW8AB9eYZyEwJb2oWFmk5y0HTpfUL/UfKGlAszeRl8YeXPkOjAYqe7enSppaZcxxwB3AhLSdpWIl0F/S8ZL2JdszPj+NmQScA7RHRL4833zgyymrxzDg9Yh4aUfuxczMzGx35mwe2ZaO4obe26mS1SM9zV2SXjKcUei+EXge6JT0KHBBYeyrwMXAXEmdZFs82qD2nmlJR0laT7a3+kpJ6yV9FDgSeDCdZwXw84io7GduAzYW5wKmA4cB1+fT6aVtKVOBe4AngVsj4vE05oZ0rmVpTGU7ygJgLbAG+AG5DCdmZmZmtmepu80jIkZWaZuVO1xU6Ltg+2hOTO1byRa9lxfiR+S+3wecWuV8VfdMR8TLvJ9BI+/XwElV2iF7CfLyYmNETOL91HbFvgVkC+Rie9WfXcru8ZUa5zczMzPrMXr8nuk9TUSc293XUM2wvsVdL/U9v+ntUvFHHHFgqfh7125uHJSz5BcvlooHuHnKsFLxP+h4oXFQzm/e2Voq/piD9i8V/6Ux5XYhHbxf+WKj//zIr0rFv/7rd0rF//a35bJKnnDoR0vFz3nsJS5d/2SpMX/7p39QKt7MzKy7uZy4mZmZmdkO6lFPps3MzMys6/SAXR7NPZmWdJ6kkNRWJ6ZF0iW546MlzWsw7yJJzZT7rja2LVVMfEfS16tcyzxJT0l6UtIfNpjrwlSZ8TFJSyWdlOsbI+lpSWskTcu1z0ntqyXdlIq3kLJ4zErxnZKG7Mj9mZmZmdmur9ltHu3Ag1TJ4gGQUt61kMtcEREvRsT4nb7C2jYBXwVmVum7lqxqYxvZy4iNNm6uA86MiIHA1aRiKpJ6AdcBY8mKyrRLOiGNmUOWHWQgsD/vv8A4FuifPpOB7+3IzZmZmZnt7lxOHJB0EFlFwIlkeZYr7SMkLZY0H3gCuAbom9LEzZDUKqmS37mXpJnpKW6npEurnGd0etK8StJt6bw1RcQrEbES2O4tKkmHAJ8FfpjitkTEaw3mWhoRlbfulvN+lpDTgDURsTYitpBVgByXxiyIhCwFX2XMOOAnqWs50CLpE/XOb2ZmZma7p2aeTI8je8r7DLBR0im5viHAZRExAJgGPBcRgyPiisIck8nS0g2OiEFkT3W3kXQ4cCUwKiKGAB2kFHa18kzXcTzwKvB3kn4h6cZUvKVZE4G70vdjgHwaifWpLX/t+wATgLubHZPGTZbUIamj4+e3lLg8MzMzs92Di7Zk2smeyJL+mt/qsSIi1jUxxyjg+ynfNBGxqdA/jGwbxRJJjwAXAX1S7PSImN/EOSr2Jlvkfy8iTiYreT6t/pCMpJFki+m/LHG+64EHImJxiTFExOyIGBoRQ4f+yfmNB5iZmZnZLqduNg9lZb/PAgZKCqAXEJIqT57f/JCuQ8DCiKi6J7uk9cD6iHgoHc+jicW0pEFklRrHpmqOABuA3rmwY1NbZcxVwBHAlFxM3TFmZmZmPcVePSCdR6Mn0+OBmyOiT0S0RkRvspf1zqgS+wZwcI15FgJT0ouKlUV63nLgdEn9Uv+BkspVxUhSZcQXJH0qNZ1NtqcbSVMlTS2OkXQccAcwIW1nqVgJ9Jd0vKR9yfaMz09jJgHnAO0R8V5uzHzgyymrxzDg9Yh4aUfuxczMzMx2bY0W0+3AnYW226mS1SM9zV2SXjKcUei+EXge6JT0KHBBYeyrwMXAXEmdwDKyTBk190xLOkrSerK91VdKWi+pUqLtUmBOmmsw8NepvQ3YWJwLmA4cBlyfXqDsSNe1FZgK3EOWEeTWiHg8jbkBOBJYlsZUyp4vANYCa4AfkMtwYmZmZtaT9IQ903W3eUTEyCpts3KHiwp9F2wfzYmpfSvZovfyQvyI3Pf7gFOrnG96sS21v8z7GTSKfY8A1fJXtxavIcVP4v3UdsW+BWQL5GJ71Z9dyu7xlWp9ZmZmZrZn6VEVECPi3O6+hmr+cdkLjYNyevUq90evIw47oFT8F084slR838P3KxUPcP1DvywVv/alN0rFv/bab0vFl/3D7Lu/e69xUM6EIUeXPAPcuuT5UvEnfPKwUvHHtnykVPxf/vPjjYNyeh9RN7vlB/zm7Xc578aOUmMA/nHSDtV9MjOzLtBduZ+7UrNFW8zMzMzMrKBHPZk2MzMzs66z157/YLq5J9OSzpMUktrqxLRIuiR3fLSkeQ3mXSRph/4braS2VDHxHUlfz7V/Kr0QWPn8WtLXGsx1YarM+JikpZJOyvWNkfS0pDWSpuXa56T21ZJuSsVbSFk8ZqX4TklDduT+zMzMzGzX1+w2j3bgQapk8QBIKe9ayGWuiIgXI2L8Tl9hbZuArwIz840R8XSqwjgYOAV4iw9mJClaB5wZEQOBq4HZkJVBB64DxpIVlWmXdEIaM4csO8hAYH/ef4FxLNA/fSYD39uJezQzMzPbbUnq0k93aLiYlnQQMJysMuD5ufYRkhZLmk+Wx/kaoG96GjxDUquk1Sm2l6SZ6Slup6RLq5xndHrSvErSbem8NUXEKxGxEni3TtjZZCXO677tFhFLI2JzOlzO+1lCTgPWRMTaiNhCVgFyXBqzIBJgRW7MOOAnqWs50CLpE/XOb2ZmZma7p2aeTI8D7k7FTDZKOiXXNwS4LCIGkFUZfC49Fb6iMMdksrR0gyNiENlT3W0kHQ5cCYyKiCFABymFXa080006H5hbcsxE4K70/Rggn2pjfWrbJm3vmADc3eyYNG6ypA5JHf/e8bOSl2hmZma26+vxeaaTduDa9P2WdPxwOl4REeuamGMUcEPKN01EbCr0DyPbRrEkPaLfl6xwS808042kioVfAP5LiTEjyRbTw0uc6nrggYhYXOb6ImI2aTvJKVffH2XGmpmZmdmuoe5iWlnZ77OAgZIC6AWEpMqT5zc/pOsQsDAiqu7J3kFjgVUR8aumLkAaRFapcWyq5giwAeidCzs2tVXGXAUcAUzJxdQdY2ZmZmZ7jkbbPMYDN0dEn4hojYjeZC/rnVEl9g3g4BrzLASmpBcVK4v0vOXA6ZL6pf4DJQ1o9iZqaKewxUPSVElTi4GSjgPuACak7SwVK4H+ko5PT7rPB+anMZOAc4D2iMhX8JgPfDll9RgGvB4RL+3kvZiZmZntdtTF/+sOjRbT7XwwE8btVMnqkZ7mLkkvGc4odN8IPA90SnoUuKAw9lXgYmCupE6yLR5tUHvPtKSjJK0n21t9paT1kj6a+g4E/phsgZzXBmzkg6YDhwHXpxcoO9J1bQWmAvcATwK3RkSlDNwNwJHAsjSmsh1lAbAWWAP8gFyGEzMzMzPbs9Td5hERI6u0zcodLir0XbB9NCem9q1ki97LC/Ejct/vA06tcr6qe6Yj4mXez6BR7HuTbHFc1Fq8hhQ/ifdT2xX7FpAtkIvtVX92KbvHV6r1mZmZmfUkPaFoS4+qgBgR53b3NVTz0Y/uVyr+xOMOLRU/545flIp/9Q+PKxV/6/LyW8K/+JkPJDipa9+9e5WK3+/44k6i+j7fdnip+G/c8XjjoJwFB5X7HQN8dUy/UvEz/umpUvH/+sobpeL//s/PLBV/7jf+qVT8maM+XSoeoPfhBzH5tnK/i9lfLH8eMzOzWnrUYtrMzMzMuk53FVLpSs1WQDQzMzMzs4KmFtOSzpMUktrqxLRIuiR3fLSkeQ3mXSRpaPOXu93YtlQx8R1JXy/0/bmkx9PLkHMlfaTBXJdLeiJVZ7xXUp9c30WSnk2fi1LbAZJ+LumpdJ5rcvH7SfqppDWSHpLUuiP3Z2ZmZra76wlFW5p9Mt0OPEiVLB4AKeVdC7nMFRHxYkSM3+krrG0T8FVgZuFajkntQyPiRLLc2Od/cPh2fpHiBwHzgG+nuT4GXAV8hqy0+FWSKhuWZ0ZEG3AyWVq/sal9IrA5IvoB3wG+tVN3aWZmZma7rIaLaUkHkVUEnEhuUSpphKTFkuYDTwDXAH1TmrgZklolrU6xvSTNTE+KOyVdWuU8o9OT5lWSbkvnrSkiXomIlcC7Vbr3BvZPi/wDgBcbzHV/RLyVDpfzfpaQc8iKyWyKiM1k+bLHRMRbEXF/GrsFWJUbMw74cfo+DzhbPWHDkJmZmVnBXlKXfrrlHpuIGQfcnYqZbJR0Sq5vCHBZRAwApgHPRcTgiLiiMMdksrR0g9PT3zn5TkmHA1cCoyJiCNBBSmFXK890LRGxgexp9fPAS2RFU/6l2fFkf2i4K30/Bngh17c+teWvvQX4PHBvcUxKCfg61dP0mZmZmdlurpnFdDtwS/p+C9tv9VgREeuamGMU8P20uCQiNhX6hwEnkBV9eQS4COiTYqdHxPwmzgFA2oYxDjgeOBo4UNKXmhz7JWAoUCw6Uyt+b7Iqi7MiYm2z15jGTpbUIanjxaXlUoiZmZmZ7Q56wp7puqnx0p7hs4CBkoJs/3FIqjx5fvNDug6Rbaeouie7pFHAulRVEUl3AH8E/H3dC5BGAd8AzoyId1LzBmBELuxYti9UMxt4NiK+m2vbAPQG1qfF9iFUqboYEbPTeEZeuzSavDczMzMz24U0ejI9Hrg5IvpERGtE9AbWAWdUiX0DOLjGPAuBKWlxWVmk5y0ne4mvX+o/UNKAZm+i4HlgWMq4IeBsslLgSPobSX9aHCDpZOD7wBci4pVc1z3AaEmHpifeo1Mbkv6KbKH8tcJ088merEP287svVUU0MzMz61EkdemnOzRaTLcDdxbabqdKVo+I2Ei2TWO1pOI2iRvJFrmdkh4FLiiMfRW4GJgrqRNYBrRB7T3Tko6StJ5sb/WVktZL+mhEPET24t8q4LF0j7PTsIHAy1XucwZwEHBbeoFyfrquTcDVwMr0+WZEbJJ0LNlT7BOAVWlMpRz5D4HDJK1J1zatyvnMzMzMbA9Qd5tHRIys0jYrd7io0HfB9tGcmNq3ki0sLy/Ej8h9vw84tcr5pte4tpd5P4NGse8qspR2RftExLIq8aOqzZP6bgJuKrStJ9uaUi3+beCLteYzMzMz6yl6Qj4zeQdC9xv/d6tK/RLWvvBaqfnbP9taKv7s1sNLxb/2drXshPVN/P7yUvGHHFK37s4HfOxjB5SK/3TvllLx++9brnjofz27f6l4gBuW/1up+D84/MBS8e++V+6f/St/2lkq/k/+qE/joIIvnnBUqfi//OcnSsVPPbO1VDzAn530idJjzMx2Ed2+lP3ij8qtcXbWbRcP6fJ7djlxM9sllF1Im5mZ7QrqbvMwMzMzM9tR3VVIpSv5ybSZmZmZ2Q5qajEt6TxJIamtTkyLpEtyx0dLmtdg3kWShjZ/uduNbUvlx9+R9PVC32Upq8jjkoqp66rNdWEqc/6YpKWSTsr1jZH0tKQ1kqbl2uek9tWSbpK0T2qXpFkpvlPSkB25PzMzM7Pdnbr40x2afTLdDjxIlZR4sK0SYAuwbTEdES9GxPidvsLaNgFfJSsdnr+WE4H/BzgNOAk4t5K/uo51ZMVaBpKlwpud5uoFXAeMJUuD1y7phDRmDln6voHA/kAlNd5YoH/6TAa+t+O3aGZmZma7soaLaUkHAcOBicD5ufYRkhannMxPANcAfVPO5RmSWiWtTrG9JM1MT3E7JV1a5Tyj05PmVZJuS+etKSJeiYiVQDGVxB8AD0XEWykl3/8P/FmDuZZGxOZ0uJz3U+6dBqyJiLURsYWsnPq4NGZBJMCK3JhxwE9S13KgRZLTAZiZmVmP46ItmXHA3RHxDLBR0im5viHAZRExgKw4yXMRMTgirijMMRloBQZHxCCyp7rbSDocuBIYFRFDgA5STupaRVvqWA2cIekwSQcAnyMr792sicBd6fsxwAu5vvWpLX/t+wATgLubHZPGTZbUIalj7aI7SlyemZmZme0qmsnm0Q5cm77fko4fTscrImJdE3OMAm5IT4orlQXzhpFto1iS/lSxL1kVxJpFW2qJiCclfQv4F+BN4BHgd82MlTSSbDE9vMQprwceiIjFJa9zNmk7Sdk802ZmZma7g732/GQe9RfTkj4GnAUMlBRALyAkVZ48v/khXYeAhRFRdU92WRHxQ7Ky3kj6a7Knw/UvQBpEVvZ8bCqNDrCB7Z9qH5vaKmOuAo4ApuRi6o4xMzMzsz1Ho20e44GbI6JPRLRGRG+yl/XOqBL7BnBwjXkWAlPSi4qVRXrecuD0youCkg6UNKDZmyiS9PH01+PI9kv/QzqeKmlqlfjjgDuACWk7S8VKoL+k4yXtS7ZnfH4aMwk4B2iPiPdyY+YDX05ZPYYBr0fESzt6L2ZmZma7K++ZzrZ03Flou50qWT3S09wl6SXDGYXuG4HngU5JjwIXFMa+ClwMzJXUSbbFow1q75mWdJSk9WR7q6+UtF7SRyvXKOkJ4J+Br0REpf52G7CxOBcwHTgMuD69QNmRrmsrMBW4B3gSuDUiHk9jbgCOBJalMZXtKAuAtcAa4AfkMpyYmZmZ2Z5FWTKKnkHSz4A/S5k5dhmTfrq61C/hiV8Wt5zXN/CTh5WK/79OPLJU/MMvvV4qHuBbP1pRKv6TA8olRBlwXEup+E8fXes/qlR3/5OvloqfckafUvEAm98u97fp5re2lorf9NumXiXYZuVz1f4cWttvflP+H7P/NX5QqfgbH264g2s7/Y84oFT8jL9bXioeYPPfX1h6jJnZ70m371ieMOfRLl1o3nzhSV1+zz2qnHhEnNvd12Bm1ZVdSJuZme0KetRi2szMzMy6TnftY+5KzVZANDMzMzOzgqYW05LOkxSS2urEtEi6JHd8tKR5DeZdJGlo85e73dgLlVVTfEzSUkkn5frGSHpa0hpJ05qY63JJT6T57pXUJ9d3kaRn0+ei1HaApJ9LekrS45KuycXvJ+mn6dwPSWrdkfszMzMz293tpa79dMs9NhnXDjxIlSweACnlXQu5zBUR8WJEjN/pK6xtHXBmRAwEriYVQJHUC7gOGEtWCKZd0gkN5voFMDRVZ5wHfDvN9THgKuAzZKXFr5J0aBozMyLagJPJ0vqNTe0Tgc0R0Q/4DvCtD+NmzczMzGzX03AxLekgsoqAE8nyLFfaR0haLGk+8ARwDdA3pYmbIalV0uoU20vSzJQ2r1PSpVXOM1rSMkmrJN2WzltTRCyNiM3pcDlZcRTIFr1rImJtytpxC1lJ9Hpz3R8Rb1WZ6xyyYjKb0rkWAmMi4q2IuD+N3QKsyo0ZB/w4fZ8HnK2esGHIzMzMrAdq5sn0OODuVMxko6RTcn1DgMsiYgAwDXguIgZHxBWFOSYDrcDg9PR3Tr5T0uHAlcCoiBgCdJDlj66ZZ7pgInBX+n4M8EKub31qa1apuSS1AJ8H7i2OSXmqXyfLYU1h3GRJHZI6nvrX20pcnpmZmdnuoScUbWkmm0c7cG36fks6fjgdr4iIdU3MMQq4IS0uiYhiouRhZFsylqQfxL5khVuIiOnUIWkk2QJ4eBPXUZekLwFDgTObjN8bmAvMioi1Zc4VEbNJW1PK5pk2MzMzs11D3cV02jN8FjBQUgC9gJBUefL85od0HSLbTlF1T3ad6xtEVl1xbKrACLAB6J0LOza1NZprFPANsn3Y7+TmGlGYa1HueDbwbER8N9dWOf/6tNg+hOpVF83MzMz2aD1hn2ujbR7jgZsjok9EtEZEb7IX/86oEvsGUKuM3EJgSlpcVhbpecvJXuLrl/oPlDSg3oVJOg64A5iQtqBUrAT6Szpe0r5k+7znpzF/I+lPq8x1MvB94AsR8Uqu6x5gtKRD04uHo1Mbkv6KbKH8tcJ084GL0vfxwH3Rk8pMmpmZmfUgjRbT7cCdhbbbqZLVIz0ZXpJeMpxR6L4ReB7olPQocEFh7KvAxcBcSZ1kWzzaoO6e6elke5GvTy89dqS5tgJTyRa9TwK3RsTjacxA4OUqc80ADgJuS3PNT3NtIssUsjJ9vhkRmyQdS/YU+wRgVRozKc31Q+AwSWvI9n03TM1nZmZmtifaS+rST3eou80jIkZWaZuVO1xU6Ltg+2hOTO1byRaWlxfiR+S+3wecWuV8VfdMR8QkYFKNvgXAgipd+0TEsirxo6rNk/puAm4qtK2nxn+5iIi3gS/Wms/MzMzM9hw9qpx4RJzT3ddQzdb33isV//LLvykV/9kTjyoV/6u33i4V/8JrW0rFA/zxWTXr/1T17POvlYq/b/FzpeJXHHJgqfiLx/QrFX/ixw8pFQ8w7ruLS8VPLHlN75XcffTUE9X+o05tF/xJo/Tu27vjqVcaBxWseOylUvEnjelfKr7fH5RJBAQf+cjenPE/Hyw1ZvFf7PS702Zmu6yekBzY5cTNzMzMzHZQj3oybWZmZmZdpyfUrWvqybSk8ySFpJr/bV5Si6RLcsdHS5rXYN5FkoY2f7nbjb0wVVN8TNJSSSfl+m6S9EqlAuNOzjVG0tOS1kialmufk9pXp/Ptk9olaVaK75Q0ZEfuz8zMzMx2fc1u82gHHqRKFg/YVrykBdi2mI6IFyNi/E5fYW3ryHJCDyTLuDE71/cjYMzOziWpF3AdMJYsc0e7pMpG0DlkGUcGAvvz/suQY4H+6TMZ+F7ZGzMzMzPbE0hd++kODRfTkg4iqy44kSxnc6V9hKTFKY3cE8A1QN+UJm6GpNbKk2FJvSTNTE9xOyVdWuU8oyUtk7RK0m3pvDVFxNKI2JwOl5MVVKn0PQAUqyzuyFynAWsiYm1EbCGrADkujVkQCbAiN2Yc8JPUtRxokfSJZq/FzMzMzHYfzTyZHgfcnQqjbJR0Sq5vCHBZRAwgy6f8XEQMjogrCnNMBlqBwRExiOyp7jaSDgeuBEZFxBCgg5RGr06e6byJwF1N3Esz8nMdA7yQ61uf2rZJ2zsmAHc3OyaNmyypQ1LHM/fW3Q1jZmZmtlvq8Xmmk3bg2vT9lnT8cDpeERHrmphjFHBDyjddKYaSN4xsG8WStFF9X7LCLTXzTFdIGkm2AN7p/FI7ONf1wAMRUSqPWUTMJm0nuXhupyskmpmZme2G6i6mU9nvs4CBkgLoBYSkypPnNz+k6xCwMCKq7smuc32DyKorjk0VGHf8AqrPtQHonQs7NrVVxlwFHAFMycXUHWNmZmbWU/SAZB4Nt3mMB26OiD4R0RoRvcle1jujSuwbwME15lkITEkvKlYW6XnLgdMl9Uv9B0oaUO/CJB0H3AFMSFtQGpI0VdLUEnOtBPpLOl7SvmR7xuenMZOAc4D2iMhXXZkPfDll9RgGvB4R5SpLmJmZmdluodFiuh24s9B2O1WyeqSnuUvSS4YzCt03As8DnZIeBS4ojH0VuBiYK6mTbItHG9TdMz0dOAy4Pr302FHpkDQ3zfEpSeslTUxdbUC1J9hV50rbUqYC9wBPArdGxONpzA3AkcCyNKayHWUBsBZYA/yAXIYTMzMzM9uz1N3mEREjq7TNyh0uKvRdsH00J6b2rWQvFF5eiB+R+34fcGqV81XdMx0Rk3g/HV2xr9Z2kdbiNTQx1wKyBXKxverPLmX3+EqN85uZmZn1GD2haEuPqoAYEed29zVU817J1w/33rtcFfhNb75bKn7AoR8tFf/2795rHFTw4webzlwIwMB+h5WK/13Ja/r3V94oFf/pI+pmbvyAX24u/3rBZ0/5QBKYug47cJ9S8UcdvG+p+OHDWkvFv7O13N/Yxx5S7voBDjig3D28ueV3peJP/YOPl4rf9MY7peJXdr5M378on4jouf85tvQYMzP7/ehRi2kzMzMz6zrlHv/tnnrCPZqZmZmZ/V40tZiWdJ6kkNRWJ6ZF0iW546Ml1a1GImmRpKHNX+52Yy9M1RQfk7RU0kmpvbek+yU9IelxSZft6Fypb4ykpyWtkTQt1z4nta+WdFMq3kLK4jErxXdKGrIj92dmZma2u5PUpZ/u0OyT6XbgQapk8QBIKe9ayGWuiIgXI2L8Tl9hbeuAMyNiIHA1qQAKsBX4i4g4gawYzFcknbAjc0nqBVwHjCUrKtOem2sOWXaQgcD+vP8C41igf/pMBr63k/dpZmZmZruohotpSQeRVQScSJZnudI+QtJiSfOBJ4BrgL4pTdwMSa2SVqfYXpJmpqe4nZIurXKe0ZKWSVol6bZ03poiYmlEbE6Hy8mKoxARL0XEqvT9DbKUdnXf5Ko1F3AasCYi1kbEFrIKkOPSmAWRACtyY8YBP0ldy4EWSZ+od34zMzOzPdFe6tpPt9xjEzHjgLtTMZONkk7J9Q0BLouIAcA04LmIGBwRVxTmmEyWlm5wRAwie6q7jaTDgSuBURExBOggpbCrk2c6byLwgVfiJbUCJwMPNXGf1eY6Bngh17eewsI8be+YANzd7Jg0brKkDkkdz9xXdzeMmZmZme2imsnm0Q5cm77fko4fTscrImJdE3OMAm5I+aaJiGJetGFk2yiWpP0u+5IVXamZZ7pC0kiyBfDwQvtBZAVmvhYRv27iGmvO1cD1wAMRsbjEGCJiNmk7yZf/obNkcjwzMzOzXV93PS3uSnUX08rKfp8FDJQUQC8gJFWePJdPnlvjVMDCOsVWal3fILLqimNTBcZK+z5kC+k5EXHHTsy1AeidCzs2tVXGXAUcAUzJxdQdY2ZmZmZ7jkbbPMYDN0dEn4hojYjeZC/rnVEl9g3g4BrzLASmpBcVK4v0vOXA6ZL6pf4DJQ2od2GSjgPuACakLSiVdgE/BJ6MiP9VGDNV0tRm5wJWAv0lHS9pX7I94/PTmEnAOUB7ROQrhMwHvpyyegwDXo+Il+rdi5mZmdmeyNk8si0ddxbabqdKVo/0NHdJeslwRqH7RuB5oFPSo8AFhbGvAhcDcyV1km3xaIO6e6anA4cB16eXHjtS++lke5jPSu2PSPpc6msDNjY7V9qWMhW4h+xFxlsj4vE05gbgSGBZGlPZjrIAWAusAX5ALsOJmZmZme1Z6m7ziIiRVdpm5Q4XFfou2D6aE1Ml6HbsAAAgAElEQVT7VrIXCi8vxI/Ifb8POLXK+arumY6ISbyfji7f/iDZtpFqWovXUG+u1LeAbIFcbK/6s0vZPb5S4/xmZmZmPUZP2DOtbO1n3Wn95i2lfgm/e6/c7+y65f9WKv6M41pKxf9o5fpS8QB/+2cDS8VvfvPdUvGb3txSKv7UTx5aKv4bdz1dKr7vYfuVigdo+Ugz7we/b87KF0vF/+atcj/T+f/pD0vFf+v+NaXiX3mj3O8M4LxPH1Eq/tbOX5WK/+bourvNPmDTb8rdw478J8kD9+tVesyAow4oPcbM9gjdvpS94mdPd+lCc8a5n+ryey73/9ZmZmZmZk3qpm3MXarZCohmZmZmZrs1SWMkPS1pjaRpVfq/k3vn7hlJrzWas6nFtKTzJIWktjoxLZIuyR0fLaluNRJJiyQNbeYaqoy9MFVTfEzSUkknpfaPSFoh6VFJj0v6703MdbmkJ9J890rqk+u7SNKz6XNRajtA0s8lPZXOcU0ufj9JP02/pIdS4RgzMzMz60aSegHXAWPJ6pu0SzohHxMRf54KEA4G/pYs21tdzT6ZbgcepEoWj3RxewMt5DJXRMSLETG+yfl3xDrgzIgYCFxNKoACvAOcFREnAYOBMSlFXT2/AIam6ozzgG/DthR+VwGfISstfpWkyubamRHRRlZh8XRJY1P7RGBzRPQDvgN8a+dv1czMzGz3s5fUpZ8GTgPWRMTaiNhCVoxwXJ34dmBuw3tsFJAqCQ4nWySen2sfIWmxpPnAE8A1QN/0WHyGpFZJq1NsL0kzU9q8TkmXVjnPaEnLJK2SdFs6b00RsTQiNqfD5WTFUYjMb1L7PulTd/N7RNwfEW8V5yLLI70wIjalcy0ExkTEWxFxfxq7BViVGzMO+HH6Pg84W92V+NDMzMysB5E0WVJH7jM5130M8ELueH1qqzZPH+B44L5G52zmyfQ44O5UzGSjpFNyfUOAyyJiADANeC49Gr+iMMdksrR0g9PT3zmFCz4cuBIYFRFDgA5SCrs6eabzJgJ35ebrJekR4BWyxfBDTdxntbka/tAltQCfB+4tjkkpAV8ny2FNYdy2X/acH91Y4vLMzMzMdg97dfEnImZHxNDcp7JzoazzgXkR8btGgc1k82gHrk3fb0nHD6fjFRGxrok5RgE3pMUlEbGp0D+MbO/KkvQQd1+ywi0180xXSBpJtgAeXmlLNz44LXTvlHRiRKxudJGSvgQMBc5s4p4q21vmArMiYm0zY3LXOJu0NaVsajwzMzMzK20D0Dt3fGxqq+Z8mqwbUncxnfYMnwUMlBRALyAkVZ48v9nMSZogsifIVfdk17m+QWTVFcemCozbiYjXJN0PjAHqLqYljQK+QbYP+53UvAEYkQs7lu0L1cwGno2I7+baKr+o9WmxfQjVqy6amZmZ7dF2sY2uK4H+ko4nW6+dT6EqN0BKuHEo6cFuI422eYwHbo6IPhHRGhG9yV78O6NK7BvAwTXmWQhMSYvLyiI9bznZS3z9Uv+BkupWS5B0HNkblhPSFpRK+xHpiTSS9gf+GHgqHf+NpD+tMtfJwPeBL0TEK7mue4DRkg5NLx6OTm1I+iuyhfLXCtPNBy5K38cD94Ur45iZmZl1q7RDYirZWu5J4NaIeLzKluLzgVuaXb812ubRzgezUdye2n9auMCNkpaklw7vIks9UnEjMADolPQu8APgf+fGvirpYmCupEqpuCuBZyR9E+iIiPmF65hOthf5+rQ1ZGtEDAU+Afw4pT/Zi+wH9bM0ZiDZYrdoBnAQcFua6/mI+EJEbJJ0NdmfZAC+mdqOJXuK/RSwKo353xFxI/BD4GZJa4BN5F7aNDMzM+tJmsiw0aUiYgGwoNA2vXD838rMWXcxHREjq7TNyh0uKvQVH5WfmNq3kr1QeHkhfkTu+33AqVXOV3XPdERMAiZVae8kS1dXzT4R8YFH9hExqkY8EXETcFOhbT01SnRGxNvAF2vNZ2ZmZmZ7jh5VTjwizunua6hm1LfuLxX/5m/eLhV/bO9DGwfltH18/1LxR7aUiwf43HcXl4rfvOmtxkH5+Fc2Nw7KOWFwn8ZBOYcfekCp+PM+1a9UPMB/+vHKxkH5cwxvLRX/4FOvlor/5JSfNg7KGXLa8aXiAU7rW9wBVt//e8PyUvF/PPyTpeKHT7+7VPze+5T7V+qbvy7/2kmfvh8vFT/t8210/ur1UmPGn/SJUvFmZrXsYg+mfy9cTtzMdgllF9JmZma7gh71ZNrMzMzMus5efjKdkXSepEipQmrFtEi6JHd8tKR5DeZdJGlo85e73dgLUzXFxyQtlXRSob+XpF9I+lmtOXKxl0t6Is13b6p6U+m7SNKz6XNRajtA0s8lPSXpcUnX5OL3k/RTSWskPSSpdUfuz8zMzMx2fc1u82gHHkx//YCU8q4F2LaYjogXI2L8Tl9hbevIckIPBK4mFUDJuYws7UkzfgEMTdUZ5wHfhm0p/K4CPkNWz/2qlCIPYGZEtJG97Hi6pLGpfSKwOSL6Ad/hg9lQzMzMzHqEvaQu/XTLPTYKkHQQWXXBieTSvEkaIWmxpPnAE8A1QF9Jj0iaIak1pcmrPCWeKWl1evp7aZXzjJa0TNIqSbel89YUEUsjovKW2XKygiqVuY4F/oQsJV9DEXF/RFTecMvPdQ5ZMZlN6VwLgTER8VZE3J/GbgFW5caMA36cvs8DzpZ6wvZ7MzMzs56nmT3T44C7I+IZSRslnRIRlXLiQ4ATI2Jd2s5wYkQMBihsb5gMtAKDI2JrsWiLpMPJ8kqPiog3Jf0lWRq9b9bJM503kSy3dcV3gf9M7SIy9eTnOgZ4Ide3PrXlr70F+Dzvl1zfNibd6+tk+bD/fQeuxczMzGy31RMeJzazzaMduCV9v4Xtt3qsiIh1TcwxCvh+yjdNRGwq9A8DTgCWSHqErIJgnxQ7vd5CWtJIsgXwX6bjc4FXcgv+pkn6EjCUrIhLM/F7A3OBWRGxtuS5JkvqkNTx2iMLGg8wMzMzs11O3SfT6QnyWcBASQH0AkLSFSmkfJLUGqci205RdU92nesbRLaVY2xEbEzNpwNfkPQ54CPARyX9fUR8qcFco8iqGp4ZEe+k5g3AiFzYsWxfqGY28GxEfDfXtgHoDaxPi+1DgI0URMTsNJ62afe43LiZmZnZbqjRk+nxwM0R0SciWiOiN9mLf2dUiX2D2tsqFgJT0uKS4jYPsn3Kp0vql/oPlDSg3oVJOg64A5gQEc9U2iPiv0TEsRHRSrbH+77KQlrS30j60ypznQx8H/hCRLyS67oHGC3p0PTi4ejUhqS/Ilsof60w3XyyJ+uQ/fzua7a2u5mZmdmeZC917adb7rFBfztwZ6Htdqpk9UhPhpeklwyL2yRuBJ4HOiU9ClxQGPsqcDEwV1InsAxoA5D0TUlfqHJt08n2Il+fXnrsaHAvAAOBl6u0zwAOAm5Lc81P17WJLFPIyvT5ZkRsSi84foNsa8qqNKZS2vyHwGGS1pDt+57WxHWZmZmZ2W6o7jaPiBhZpW1W7nBRoe+C7aM5MbVvJVtYXl6IH5H7fh9wapXzTa9xbZOASdX6cjGLCte4T0QsqxI3qs4cNwE3FdrWk21NqRb/NvDFetdlZmZm1hOo+nJpjyLvQOh+//ctj5X6Jfz2na2l5l//6m9KxX/u5KNLxa9Yt7lxUMFbJe/h3a3vlYo/+fhypanPaG0pFT/znmdLxR912AGl4gHaTyn3e5j78Iul4tetf71U/PTzTigVP+F/3FMqHuArF/1hqfiP7F3uX9J3PPjLUvGnn1Tud/DgIxtKxf9RyfkBfrvld6Xijzpkv1LxD68tvh/e2L2Xlvu9mVmX6faV7F/f+1yXLjT/v7P7dvk9u5y4me0Syi6kzcxs1+dy4mZmZmZmVpOfTJuZmZnZ74WfTCeSzpMUktrqxLRIuiR3fLSkeQ3mXSRpaPOXu93YC1Np8sckLZV0Uq7v31J7U1k+Gsw1RtLTktZImpZrn5PaV0u6SdI+qV2SZqX4TklDduT+zMzMzGzX1+w2j3bgQaqkxINtlQBbgG2L6Yh4MSLG7/QV1raOrMDKQLL0dbML/SMjYnBENLNYrzqXpF7AdcBYsjR47ZIqb2HNIUvfNxDYn/czi4wF+qfPZOB7O3Z7ZmZmZrs3SV366Q4NF9OSDgKGk5XsPj/XPkLS4pST+QngGqBveho8Q1KrpNUptpekmekpbqekS6ucZ7SkZZJWSbotnbemiFgaEZU0EsvJqhPukDpznQasiYi1EbGFrJz6uDRmQSTAityYccBPUtdyoEXSJ3b02szMzMxs19XMk+lxwN2pyuBGSafk+oYAl0XEALLiJM+lp8FXFOaYDLQCgyNiENlT3W0kHQ5cCYyKiCFABykndZ2iLXkTgbtyxwH8i6SHJU1u4h5rzXUM8EKub31qy1/7PsAE4O5mx6RxkyV1SOp4+t66u2HMzMzMdks9oQJiMy8gtgPXpu+3pOOH0/GKiFjXxByjgBtS8ZZKZcG8YWTbKJakR/T7klVBrFm0pULSSLIF8PBc8/CI2CDp48BCSU9FxAONLrLGXI1cDzwQEYtLjCEiZpO2k5TNM21mZmZmu4a6i2lJHwPOAgZKCqAXEJIqT57f/JCuQ8DCiKi6J7vO9Q0iK1U+NpUzByAiNqS/viLpTrLtGnUX0zXm2gD0zoUdm9oqY64CjgCm5GLqjjEzMzPrKbppG3OXarTNYzxwc0T0iYjWiOhN9rLeGVVi3wAOrjHPQmBKelGxskjPWw6cLqlf6j9Q0oB6FybpOOAOYELaglJpP1DSwZXvwGigsnd7qqSpzc4FrAT6Szpe0r5ke8bnpzGTgHOA9ojIl+ebD3w5ZfUYBrweES/VuxczMzMz2z01Wky3A3cW2m6nSlaP9DR3SXrJcEah+0bgeaBT0qPABYWxrwIXA3MldZJt8WiDunumpwOHAdcXUuAdCTyYzrMC+HlEVPYztwEbPzhV9bnStpSpwD3Ak8CtEfF4GnNDOteyNKayHWUBsBZYA/yAXIYTMzMzs55kL6lLP91BWTKKnkHSz4A/S5k5dhlf+6enSv0SDt6vV6n5X9j821LxowYU/8NBfVvee69xUMEDa14rFV/2H5ABHz+gVPwZvcvd84TvLSsV/+Ux/UvFA3zsgHI1lV5/+3el4jvX/7pU/H84uVxSmglXFv8c3tgP/3ujd423d3/Jv48eXfPvpeJP/ORhpeKf3fB6qfiT+x5eKh6g3+H7lYp/4bVy/7pb9tQrpeL/bW215xP1rb/+vNJjzGyHdPsmi+8uXtelC82vnXF8l99zj6qAGBHndvc1mFl1ZRfSZmZmu4IetZg2MzMzs67jcuJmZmZmZlZTU4tpSedJCkltdWJaJF2SOz5aUt1qJJIWSWqm3He1sRemaoqPSVoq6aTCtcyT9JSkJyX94U7MNUbS05LWSJqWa5+T2ldLuikVbyFl8ZiV4jslDdmR+zMzMzPb3Uld++kOzT6ZbgcepEoWD4CU8q6FXOaKiHgxIsbv9BXWtg44MyIGAleTCqAk15JVbWwDTiLLxFF6Lkm9gOuAsWRFZdolnZDGzCHLDjIQ2B+YlNrHAv3TZzLwvZ24RzMzMzPbhTVcTEs6iKwi4ESyPMuV9hGSFkuaDzwBXAP0TWniZkhqlVTJ79xL0sz0FLdT0qVVzjNa0jJJqyTdls5bU0QsjYjN6XA5WXEUJB0CfBb4YYrbEhF1X/mvNRdZsZc1EbE2ZQC5hay8OhGxIBKyFHyVMeOAn6Su5UCLpHJpEMzMzMz2AHuhLv10zz02No7sKe8zwEZJp+T6hgCXRcQAYBrwXEQMjogrCnNMBlqBwRExiOyp7jaSDgeuBEZFxBCgA7g89dXKM503EbgrfT8eeBX4O0m/kHRjKt7SrPxcxwAv5PrWp7b8te8DTADubnZMGjdZUoekjsfuubXE5ZmZmZnZrqKZbB7tZNsmIHsy2w48nI5XRMS6JuYYBdyQiqAQEZsK/cPItlEsUbbhZV+ywi1ExHTqkDSSbAE8PDXtTbbIvzQiHpJ0LdlC/782usgqczXjeuCBiFhcYgwRMZu0naRsnmkzMzOz3UFPKCdedzGdyn6fBQyUFEAvICRVnjy/+SFdh4CFEVF1T3ad6xtEVl1xbKrACNmT4PUR8VA6nke2mN6RuTYAvXNhx6a2ypirgCOAKbmYumPMzMzMbM/RaJvHeODmiOgTEa0R0ZvsZb0zqsS+ARxcY56FwJT0omJlkZ63HDhdUr/Uf6CkAfUuTNJxwB3AhLQFBYCIeBl4QdKnUtPZZHu6kTRV0tRm5wJWAv0lHS9pX7I94/PTmEnAOUB7RORLAM4HvpyyegwDXo+Il+rdi5mZmdmeaC917adb7rFBfztQrAl8O1WyeqSnuUvSS4YzCt03As8DnZIeBS4ojH0VuBiYK6mTbItHG9TdMz0dOAy4Pr302JHruxSYk+YaDPx1am8DqtW+rTpX2pYyFbiHLCPIrRHxeBpzA3AksCyNqWxHWQCsBdYAPyCX4cTMzMzM9ix1t3lExMgqbbNyh4sKfRdsH82JqX0r2QuFlxfiR+S+3wecWuV8VfdMR8Qk3k9HV+x7BKiWv7q1eA1NzLWAbIFcbK/6s0vZPb5Src/MzMysJ9mrB2ya7lHlxCPi3O6+hmrue3h9qfiLzv5kqfglz5Tb2t7nlN6Ng3KWv7i5cVDBMS0fKRX/2Auvl4of3veQUvF9P143E+MH4z9Z3KlU33GH7lcqHuAPjzmsVPydT75cKv6ZdeV+b8d9tm+p+EOPPqpU/AF7l//X0ch+LaXif37vM42Dcv7jyNZS8Z84pNzv+azjy/19BPDRffcpFT/kyPcaB+Ws3/TbUvEq+X+UEcHwmaXe1+bBr1fbWWhmtmvoUYtpMzMzM+s6PeDBdNMVEM3MzMzMrKCpxbSk8ySFpLY6MS2SLskdHy1pXoN5F0mqtre5mWu6MFVTfEzSUkknpfZPpRcCK59fS/rajsyV+sZIelrSGknTcu1zUvtqSTel4i2kLB6zUnynpCE7cn9mZmZmu7u9pC79dMs9NhnXDjxIlSweACnlXQu5zBUR8WJEjN/pK6xtHXBmRAwEriYVQImIp1MVxsHAKcBbfDAjSVNzSeoFXAeMJSsq0y7phDRmDll2kIHA/rz/AuNYoH/6TAa+t/O3amZmZma7ooaLaUkHkVUEnEiWZ7nSPkLSYknzyfI4XwP0TU+DZ0hqlbQ6xfaSNDM9xe2UdGmV84yWtEzSKkm3pfPWFBFLI6LyBtVysuIoRWeTlTj/5Q7OdRqwJiLWRsQWsgqQ49KYBZEAK3JjxgE/SV3LgRZJn6h3fjMzMzPbPTXzZHoccHcqZrJR0im5viHAZRExgKzK4HPpqfAVhTkmk6WlGxwRg8ie6m4j6XDgSmBURAwBOkgp7Orkmc6bCNxVpf18YG4T91hrrmOAF3J961Nb/tr3ASYAdzc7Jo2bLKlDUsemVT8veYlmZmZmuz6paz/doZlsHu3Aten7Len44XS8IiLWNTHHKOCGlG+aiNhU6B9Gto1iSUqztC9Z4ZaaeaYrJI0kWwAPL7TvC3wB+C9NXF/duRq4HnggIkrleoqI2aTtJIOm/2uUGWtmZmZmu4a6i+lU9vssYKCkAHoBIany5LlcAuM6pwIWRkTVPdl1rm8QWXXFsakCY95YYFVE/Gon5toA5JMuH5vaKmOuAo4ApuRi6o4xMzMz6yl6Qtq4Rvc4Hrg5IvpERGtE9CZ7Wa9aBv03gINrzLMQmJJeVKws0vOWA6dL6pf6D5Q0oN6FSToOuAOYkLagFLVT2OIhaaqkqSXmWgn0l3R8etJ9PjA/jZkEnAO0R0S+KsJ84Mspq8cw4PWIeKnevZiZmZnZ7qnRYrqdD2bCuJ0qWT3S09wl6SXDGYXuG4HngU5JjwIXFMa+ClwMzJXUSbbFow3q7pmeDhwGXJ9eeuyodEg6EPhjsgVyXhtQfIJdc660LWUqcA/wJHBrRDyextwAHAksS2Mq21EWAGuBNcAPyGU4MTMzM+tJJHXppzvU3eYRESOrtM3KHS4q9F2wfTQnpvatZC8UXl6IH5H7fh9wapXzVd0zHRGTeD8dXbHvTbLFcVFr8RqamGsB2QK52F71Z5eye3ylWp+ZmZmZ7Vl6VDnxiDi3u6+hmqmf618q/oE1r5WKH3nCEaXiH9/4eqn4tRvfLhUP8M67vysVf8B+5f5W3W+vcru0Nmz+ban4PkfUzdz4ARvf3FoqHuDlN8r9XJ946Tel4o86stw9/GZLuXvYZ799ys3/bvmf0db33msclHPGHx1fKv6F17aUir/30XI7ut59r/y7x3uXfPJy2IHl/tk5eP9yv7enn3ixVPzvSv6z//mxn+biuZ2lxgD8qH1Q6TFm9uHrAdXEe8S+cDMzMzOz34se9WTazMzMzLpOd5X47kpNPZmWdJ6kkNRWJ6ZF0iW546MlzWsw7yJJQ5u/3O3GXpiqKT4maamkk3J9fy7p8fQy5FxJH2kw1+WSnkjz3SupT67vIknPps9Fqe0AST+X9FQ6zzW5+P0k/VTSGkkPSWrdkfszMzMzs11fs9s82oEHqZLFAyClvGshl7kiIl6MiPE7fYW1rQPOjIiBwNWkAiiSjgG+CgyNiBPJcmOfX3OWzC9S/CBgHvDtNNfHgKuAz5CVFr9K0qFpzMyIaANOJkvrNza1TwQ2R0Q/4DvAtz6MmzUzMzPb3aiLP92h4WJa0kFkFQEnkluUShohabGk+cATwDVA35QmboakVkmrU2wvSTPTk+JOSZdWOc9oScskrZJ0WzpvTRGxNCI2p8PlZMVRKvYG9k+L/AOAum/IRMT9EfFWlbnOISsmsymdayEwJiLeioj709gtwKrcmHHAj9P3ecDZ6q5cLWZmZmb2e9XMk+lxwN2pmMlGSafk+oYAl0XEAGAa8FxEDI6IKwpzTCZLSzc4Pf2dk++UdDhwJTAqIoYAHaQUdnXyTOdNBO4CiIgNwEyyvNYvkRVN+Zcm7vMDcwHHAC/k+tantvy1twCfB+4tjkkpAV+nSpo+SZMldUjqeOAf/6HE5ZmZmZntHqSu/XSHZl5AbAeuTd9vSccPp+MVEbGuiTlGATekxSURsanQPww4gazoC8C+ZIVbauaZrpA0kmwBPDwdH0r2B4DjgdeA2yR9KSL+vtFFSvoSMBQ4s4l7qmxvmQvMioi1zYypiIjZpK0ps5f/snx+LDMzMzPrdnUX02nP8FnAQOn/sHfvYVZVV97vvz9LRAW1iKgRQUoEggiKiGi3qIgEMBeBSFqxY+Mb03hebR9t06b1ia19TDzBwEkbn5hWWj1tfI0YUBI6RpSgxEtARcQKNwElwQJUBC8oBkTH+WPODYvN2peJWlVUjU+eetx7rrHmWpsCMmsy1hgyQv6xSSrsPH/wGd2HCOkUuTnZZe7vOEJ3xbNjB0YIC/dVsasikh4C/hYou5iWNBT4PiEPe0scXgMMzoR1ZudGNZOBFWZ2S2ZsDdAFaIiL7YPI77ronHPOOdeitYZM10ppHmOAe82sq5nVmVkXwoN/p+XEbgIOKDHPLOCSuLgsLNKz5hEe4usej7eT1LPcjUk6ktAu/MKYglKwGjglVtwQcBahFTiSfiRpdM5cJwB3AOeY2ZuZQ48CwyR1iDvew+IYkn5IWChfWTTdDGBcfD0GeDx2RXTOOeeccy1MpcX0WGB60diD5FT1iDvDz8SHDCcWHb6TsMitl/QScEHRueuBi4D7JdUTUjx6Qdmc6esJucg/jw89zo9zPUt48G8B8Kf4GSfHc/oCr+fMNRFoT0gJWRgfqiyko/wAeD5+3WhmGyV1Juxi9wYWxHMK7cjvAg6WtJKQ931NzvWcc84551wLUDbNw8zOzBm7NfN2TtGxC3aOpk8c30ZYWF5VFD848/px4KSc6+XmTJvZd4DvlDh2A6GkXbE2ZjY3J35o3jzx2N3A3UVjDZSowGJmfwW+WWo+55xzzrnWojW02m5VHRDNbHhT30OeP6x4u3JQxtJVxc9vlvfq2neT4ocef3hS/NqNmysHFdm67eO0a7z+flL8h1vT5j+uy4dJ8Uv+kvY9qKlJzxl7+Y20X9cPt25Lil/3+qak+Gca0n6frl+zPin+98vTfk0B3npvS+WgjJWJf3bEoUnxn3ySltH1/Mr0xyna7J32f01HHVYq+y7fMwvXJMVveuPNykFZn6T92Xzngx5p8wOP/nYBDzwwL+mcD389Pvk6zjkHrWwx7ZxzzjnnGo8/gOicc84555wrqarFtKRRkkxSrzIxtZIuzbzvJGlahXnnSBpQ/e3udO7fx26Kf5L0R0nHZ45dER+EXCypuNpG6lwjJL0saaWkazLj98XxRZLultQmjkvSrTG+XlL/3fl8zjnnnHN7Om8nvsNY4GlyqnjA9uYltcD2xbSZrTWzMZ/6DktbRagJ3ZdQcWNyvJc+wD8CA4Hjga8VSu7txlw1wG3A2YTKHWMl9Y7n3EeoONIX2I8dD0OeDfSIX+OB//zUn9Q555xzzjVLFRfTktoTugteDJyfGR8s6alYRm4JMAE4OpaJmyipTtKiGFsjaVLcxa2XdHnOdYZJmitpgaSp8bolmdkfzazwRNQ8QkMVgGOAZ81sc6wi8gfgG7s510BgpZm9amZbCR0gR8ZzfmcR8FzmnJHAL+KheUCtpLQn+pxzzjnnWgBJjfrVFKrZmR4JzIyNUTZIOjFzrD9whZn1JNRTfsXM+pnZ1UVzjAfqgH5mdhxhV3c7SR2B64ChZtYfmE8so1emznTWxcAj8fUi4DRJB0vaH/gKoSNhtbJzHQG8ljnWEMey994GuBCYWe05zjnnnHOuZaimmsdY4Kfx9ZT4/oX4/jkzW1XFHEOB2+NOcaEZStYphDSKZ+JPFfsQGreUrDNdIOlMwgJ4ULtCz40AACAASURBVIxfKulm4DFCu/OFQFW1mIrnqtLPgSfN7KmEc5A0nvBDBgP/13V0P/PclNOdc84555q91lDpouxiWqHt9xCgryQDagCTVNh5/uAzug8Bs8wsNye7zP0dR+iueHbswAiAmd1F6ESIpP+HsDu8O3OtYedd7c5xrHDODcAhwCWZmLLnZO5xMjE3++/vXejtxp1zzjnn9kCVfmAYA9xrZl3NrM7MuhAe1jstJ3YTUKo7wCzgkvigYmGRnjUPOLXwoKCkdpJ6lrsxSUcCDwEXxhSU7LFDMzHfAH4Z3/+TpH9KmOt5oIekoyTtQ8gZnxHP+Q4wHBhrZp9kzpkB/EOs6nEK8K6ZrSv3WZxzzjnnWiLPmQ4pHdOLxh4kp6pH3M19Jj5kOLHo8J3AaqBe0kvABUXnrgcuAu6XVE9I8egFZXOmrwcOBn4eH3qcn71HSUuA/wEuM7N34ngvIK/lWO5cMS3ln4BHgaXAr8xscTznduAwYG48p5CO8jvgVWAl8F9kKpw455xzzrmWpWyah5mdmTN2a+btnKJjF+wcTZ84vo3wQOFVRfGDM68fB07KuV5uzrSZfYcd5eiKj+XtnEN4CPKq4sEKc/2OsEAuHs/9tYvVPS4rcX3nnHPOuVaj5fc/bGXtxM3sa019D3n+8sampPi31r+fFN+3zxeT4ju2S/ttccB+bZLiAZavTvsMDaveTIp/950Pk+Jr9kr7477vvmmf+dgv7p8UDzD12V1S7cvqccRBSfHdjqxNip/65J+T4jsf3Skp/o8vruWUfmnnrFxV/Cxzed3qOiTFr9u4OSk+9Z8Y169Pf+yk19EHJ8WPPubQpPhf/XphUvyJg4+vHJSxfn3ar+m+bWqS4gEGnnFsUvzLS9bxxX8s22NsF6//1+fZRsE5tydpVYtp51zzlbqQds451/w1URpzo2oNFUucc84555z7XFS9mJY0SpJJ6lUmplbSpZn3nSSV/bczSXMkDaj2PorOHRk7Ki6UNF/SoMyxcZJWxK9xVcw1UdKyON90SbWZY9dKWinpZUnD41gXSU9IWiJpsaQrMvFfkDQrXnuWpLR/W3bOOeecawH2Qo361TSfsXpjgafJqeQBEMve1ZKpXmFma83s80wsmw0cb2b9gG8TqoYUSu/dAJxMaAl+QxUL2llAn9ihcTlwbZyrN6Ek3rHACELFjxpgG/BdM+tNaDpzWYyF0A1ytpn1iPd4zWf0eZ1zzjnnXDNS1WJaUntCV8CLCQvLwvhgSU9JmgEsASYAR8ed4omS6iQtirE1kibF0nn1ki7Puc4wSXMlLZA0NV63JDN7P1bPAGgHFF4PJzSB2WhmbxMWyiMqzPVYoUMjoe515/h6JDDFzLbEbo8rgYFmts7MFsRzNxFK5x2ROeee+PoeYFS5azvnnHPOuT1TtQ8gjgRmmtlySRsknWhmhZbi/Qk7uqsk1cXX/QDi+4LxhNJ0/cxsW3HjFkkdgeuAoWb2gaR/JZSxu1HSjcB8M5tRfGOSRgM/Ag4FvhqHjwBey4Q1sGOhW41vAw9k5ppXbq74OU8Ano1Dh2UatbxOqEftnHPOOdeq+AOIO4wFpsTXU9g51eO5uGNbyVDgjsLur5kV17Q6BehNaPyyEBgHdI2x1+ctpOOx6WbWi7D7+4MqP09Jkr5PSOG4r8r49oRGNlea2Xs592fs2DHPnjc+5nnPf31e7kdzzjnnnHPNXMWd6biDPAToK8mAGsAkXR1D0gullrgUITUjNye7EjN7UlK3uMO9BhicOdyZogYzuTcgXQR8DTgrkz6yBuhSNNeaGN+GsJC+z8weysS8IelwM1sn6XBglyLJZjYZmAwwaNJTuyy2nXPOOef2dGoFbVuq2ZkeA9xrZl3NrM7MugCrgLwug5uAA0rMMwu4JD6oSHGaByGV4lRJ3ePxdpJ6lrsxSd0VuyRI6g+0JbQLfxQYJqlDfPBwWBxD0i8kDcyZawTwPeAcM8t2FZgBnC+praSjgB7Ac/G6dwFLzewnRdPNIOysE//7m3KfwznnnHPO7ZmqWUyPBaYXjT1ITlUPM9tASNNYJGli0eE7gdVAvaSXgAuKzl0PXATcL6kemAv0ApB0o6Rzcu7tXGBRTAu5DTjPgo2ElI/n49eNmbSS44C1OXP9jPCDwKz4AOXt8b4WA78iPGA5E7jMzD4GTgUuBIbE+IWSvhLnmgB8WdIKQnrLhJzrOeecc861aFLjfjWFimkeZnZmztitmbdzio5dsHM0feL4NsIDhVcVxQ/OvH4cOCnneteXuLebgZtLHLsbuDs7JulAYIWZNeTEd8+bJx67CbipaOxpSrScjz9UnFVqPuecc8451zJoR2qwayrT619P+ia8+vbmykEZi9elpbUP6ZHWY+aeubv8bFLR6b06JsU3vLMlbf6jDkqK798p7TP/6/8sSYrvekjZKo+5zu55cFL8Xc++VjkoY1XDu0nxky9M6600/N8fTooHuPLCXX6WLuvYQ9olxd80Y1lS/IWD65Li/2fh60nxw/scmhQP0LF9m6T4qfPXVQ7KODLx9+rU37yUFL/lr2l/lged2btyUJEnpzySdkKHw5PCTxt2fNr8wGOXnZJ8jnOfgSZPWJ65eH2jLjRHHHtIo39mbyfunGsWUhfSzjnnXHNQbZ1p55xzzjnnknidaeecc84551xJ1bYTHyXJJPUqE1Mr6dLM+06SplWYd46ktETMHeeOjG3JF8bmJ4Myx2ZKekfSb6uc6ypJS+J8syV1zRwbJ2lF/BoXx/aX9LCkZZIWS5qQiW8r6QFJKyU9W9QF0jnnnHOu1WgN1TxSOiA+TU45PIBYO7oW2L6YNrO1ZjbmU99habOB42Pr8m8TSu8VTCSUravWi8AAMzsOmAb8GLbXwr4BOBkYCNwQ61YDTIqdF08g1Mc+O45fDLwdq4P8ByWqjTjnnHPOuT1fxcV0bJc9iLBIPD8zPljSU5JmEGowTwCOjjvFEyXVSVoUY2skTYr1p+slXZ5znWGS5kpaIGlqvG5JZvZ+pkthOzItu81sNqGBTFXM7IlMo5Z5hC6HAMMJXRk3mtnbhMYzI8xss5k9Ec/dCizInDMSuCe+ngacVWgs45xzzjnXmqiR/9cUqtmZHgnMNLPlwAZJJ2aO9QeuMLOewDXAK2bWz8yuLppjPFAH9Iu7v/dlD8YW4NcBQ82sPzCfWI+6TMMWJI2WtAx4mLA7/Vm4GCjUVToCyNYba4hj2XuoBb5O2Cnf6ZxYW/tdYJcaZ5LGx/SU+Y9Nu/czunXnnHPOOdeYqqnmMRb4aXw9Jb5/Ib5/zsxWVTHHUOD2uLgk042w4BSgN6F7IsA+hA6IJRu2xGPTgemSTid0PBxaxb2UJOlbwADgjCrj9wbuB241s1dTrmVmk4HJkF5n2jnnnHNuT7BXK/i3+bKL6ZgzPAToK8mAGsAkFXae07qBlLkUIZ0iNye7EjN7UlI3SR3N7K3dugFpKPB94AwzK3QVWAMMzoR1ZueOj5MJHRVvyYytAboADXGxfRCwYXfuyTnnnHPONW+V0jzGAPeaWVczqzOzLsAq4LSc2E3AASXmmQVcEheXhUV61jzCQ3zd4/F2knqWuzFJ3Qu5yJL6A22psGiV9CNJo3PGTwDuAM4xszczhx4FhknqEB88HBbHkPRDwkL5yqLpZgDj4usxwOOZ3G7nnHPOOdeCVFpMjwWmF409SE5VDzPbQEjTWCRpYtHhO4HVQL2kl4ALis5dD1wE3C+pnpDi0QvK5kyfCyyStBC4DTivsGiV9BQwlfDwX4Ok4fGcvkBev9+JQHtganyAcka8r42E9JHn49eNZrZRUmfCLnZvYEE85ztxrruAgyWtJOR9X5NzPeecc865Fq81PICo1rRpKulRMxteObJxffln85K+CX/+yztJ8/c4uvgfAsr736d2rRyUserdzZWDijy54u2k+BdeWpcUv/GN4rT88o49Ie0zH3X4gUnxAJeeknaNMRMfT4q/9h/6J8Vv+yTtz/5tv3k5Kf6MkzpXDiryzgdbk+J/P2txUvyl/3BKUvyi195Niu96aNkiRLuY/ezqpHiAo7rWJsX/YMQxSfEjfzy7clDGlecdnxT/+qaPkuIHdT0oKR6gQ9t9kuInzXklKf7pJ9P+LDz0b2dXDioypNcuz607tzuaPGP58WUbGnWhOaTXwY3+mVtVO/HmuJB2rUPqQro1Sl1IO+eca/5aQ3FgbyfunHPOOefcbmpVO9POOeecc67xNFUec2Oqamda0ihJJqlXmZhaSZdm3neSNK3CvHMkDaj+dnc6d2TsprgwNj8ZFMf7xU6Ki+Px86qY6ypJS2L8bEldM8fGSVoRv8bFsf0lPSxpWbzOhEx8W0kPSFop6VlJdbvz+ZxzzjnnXPNXbZrHWOBpcqp4wPbmJbXA9sW0ma01szGf+g5Lmw0cb2b9CN0P74zjm4F/MLNjgRHALbFLYTkvAgNid8ZpwI9hewm/G4CTgYHADbFEHsAkM+sFnEAo61d4wuRi4G0z6w78B3Dzp/+ozjnnnHN7nr3UuF9N8hkrBUhqDwwiLBLPz4wPlvRULCO3BJgAHB13iidKqpO0KMbWSJoUy+bVS7o85zrD4o7yAklT43VLMrP3M/Wb2wEWx5eb2Yr4ei3wJnBIhbmeMLNCSYp5hOYsAMMJzWQ2mtnbhHrZI8xss5k9Ec/dCizInDMSuCe+nkYoz9fy/43DOeecc66ZkzRC0ssxgyC3fLGkv4sZC4sl/bLSnNXsTI8EZprZcmCDpBMzx/oDV5hZT0I95VfMrJ+ZXV00x3igDugXd3/vK7rpjsB1wFAz6w/MJ9RoLldnGkmjJS0DHibsThcfH0hoTZ5S9+hi4JH4+gjgtcyxhjiWvUYt8HXCTvlO58T26e8Cu9Q4kjQ+pqfMb3jm1wm355xzzjm3Z2hOdaYl1RB6k5xN6BUyVlLvopgewLXAqTHLobg53y6qWUyPBabE11PYOdXjOTNbVcUcQ4E74uKy0Awl6xTCh3omNmEZB3SNsdeb2Yy8Sc1seky1GEVorrKdpMOBe4H/ZWafVHGPSPoWMIDQxKWa+L2B+4FbzezVas7J3PtkMxtgZgM6nzoq5VTnnHPOOZduILDSzF6NmQVTCJvGWf8I3BYzEijqjJ2rbDWPmDM8BOgryYAawCQVdp4/SPsMpS9FSKfIzcmuxMyelNRNUkcze0vSgYTd6u+b2byqbkAaSuhqeIaZbYnDa4DBmbDOwJzM+8nACjO7JTO2BugCNMTF9kFUaHPunHPOOdcSNbNE17yMg5OLYnoCSHqGsO79dzObWW7SSjvTY4B7zayrmdWZWRdgFXBaTuwm4IAS88wCLomLy8IiPWse4SG+7vF4O0k9y92YpO6FXGRJ/YG2hDSUfQgt0H9hZtOKzvmRpNE5c50A3AGcU/QTyKPAMEkd4oOHw+IYkn5IWCgXb//PIOysQ/j1ezyT2+2cc8455z4n2TTa+DU+cYq9gR6EzdSxwH9VKmRRaTE9lrAwzXqQnKoeZraBkKaxSFJxmsSdwGqgXtJLwAVF564HLgLul1QPzAV6Qdmc6XOBRTEt5DbgvLho/TvgdOCi+DDkQkn94jl9gddz5poItAemxvgZ8b42EtJHno9fN5rZRkmdCbvYvYEF8ZzvxLnuAg6WtJKQ952b3O6cc84519Kpkb+yabTxa3LmdgrZAwWd41hWAzDDzD6KqczLCYvrksqmeZjZmTljt2bezik6dsHO0fSJ49sIC8uriuIHZ14/DpyUc73rS9zbzeSUnTOz/wP8n7xzgDZmNjfnnKEl4jGzu4G7i8YaKNHv3sz+Cnyz1HzOOeecc65JPA/0kHQUYRF9PkUbvMCvCZvG/18skNETKPtcXKvqgGhmw5v6HvLsXZOWUJSaf9Sh3T5J8S+sey8pfvNHVT3fuZNlr6Slkb+17q2k+J59jkyK73JYqQylfOvf+2tS/F82pT9ecMap3ZLil735YVL8R9vSvm+1tfsmxb/34UdJ8Ud2bJcUD9CzT5fKQRnVFtYvWPLy+qT4lauKn60ub//92yTFA3yhfduk+C3bPk6Kr9m7Jil+1uKKz+bs5ID90j7zQfum3Q/Agr+8kxTfkPh33l57pf1Omr407dfo8fmvVQ4qsvimYcnnONcY9mpGSdNmtk3SPxFSdmuAu81ssaQbgfmx4EUhxXcJ8DFwdcy+KKlVLaadc84551zrZWa/A35XNHZ95rWRk01RTupGjXPOOeeccy6qejEtaZQkk9SrTEytpEsz7ztJmlYqPsbMkTSg2vsoOndk7Ki4MD6xOSiOd42dFBfG7jX/VxVzTZS0LM43PfvkpqRrY6eclyUNj2NdJD2R6ZBzRSb+C5JmSVoR/9sh75rOOeeccy1ZYz+A2BRSdqbHAk+TU8kDtjcwqQW2L6bNbK2ZjflUd1jebOB4M+tH6IB4ZxxfB/xNHD8ZuEZSpwpzzQL6xA6Nywndb4idcc4HjgVGAD+PHXS2Ad81s96EpjOXZbroXAPMNrMe8R69oodzzjnnXAtU1WJaUntgEKHV9vmZ8cGSnoql5JYAE4Cj447wREl1khbF2BpJk2LpvHpJl+dcZ5ikuXFXeWq8bklm9n6mhnM7wOL41kzjlbbVfE4ze6zQoZFQ97pzfD0SmGJmW2KJlJXAQDNbZ2YL4rmbgKXsaDU+Ergnvr6H0KHROeecc651aQVb09XuTI8EZprZckJjlBMzx/oDV5hZT8IO7Ctm1s/Mri6aYzxQB/SLu7/3ZQ/G8iPXAUPNrD8wn5j8XabWNJJGS1pG6Hj47cx4l1iz+jXgZjNbW+VnJc7zSHyd1y3niGywpDrgBODZOHSYma2Lr18HDsu57+1FxV97+tcJt+acc84555qLahfTYwn9y4n/zaZ6PBd3bCsZCtxR2P2NDVGyTiE0QXkmNmIZB3SNsdfHciW7MLPpZtaLsPv7g8z4a3HR3h0YJ2mXBW0eSd8npHDcVyk2xrcnNLK50sx2qa8Ud8536YCYLSreZZBvXDvnnHOu5VEj/68pVCyNF1t/DwH6SjJCXT6TVNh5Ti+gW+JSwCwzy83JrsTMnpTUTVJHM3srM742ppqcBlR6GPIi4GvAWZn0kZLdciS1ISyk7zOzhzIxb0g63MzWSTocSCsy6pxzzjnn9gjV7EyPAe41s65mVmdmXYBVhMVpsU1Aqe4Xs4BL4oOKhUV61jzgVEnd4/F2knqWuzFJ3aVQDVxSf0J+9AZJnSXtF8c7EPK9X47vfyFpYM5cI4DvAeeY2ebMoRnA+ZLaxo45PYDn4nXvApaa2U+KpptB2Fkn/vc35T6Hc84551xLJDXuV1OoZjE9FpheNPYgOVU9YoeYZ+JDhhOLDt8JrAbqJb1EUftGM1sPXATcH3Od5wK9oGzO9LnAopgWchtwXtxRPgZ4Nl7nD8AkM/tTPOc4IC9/+meEHwRmxQcob4/3tRj4FeEBy5nAZWb2MXAqcCEwJMYvlPSVONcE4MuSVhDSWybkXM8555xzzu3hKqZ5mNmZOWO3Zt7OKTpW3OO8TxzfRk5HGTMbnHn9OHBSzvWuLx6L4zcDN+eMzyIsmnci6UBghZk15JzTPe8a8dhNwE1FY09T4rnR+EPFWaXmc84555xrDZpPM/HPj3akBrumctszf076Jqx4669J8/9x8etJ8Sd+6dCk+OkzlyTFA/zuumFJ8Q8uSfsMK99MS+UfdVzaZ17/wdak+E4H7JsUD/DL+SkFaODNtzdXDspYu3ZTUvxDV+ZldpV2X33a/f9s4gNJ8QAX/tO5SfEvN7yTFP/jc/okxX+47eOk+Bkvpz9Ose/eaY1rl6zd5bnosk6sq60clLHuvbQ/C6cddVBS/L41NUnxAC+/lfbn/4XV7ybFH3lwu6T4TX/dVjkoo33btM+cGl9w4/Aeu3We26M0+Vr2+VffbdSF5kndDmr0z1xxZ9o555xzzrnd0uTL+c9f2haHc84555xzbruqF9OSRkkySb3KxNRKujTzvpOkSuXo5kgaUO19FJ07MnZTXBgboAwqOn6gpAZJP6tiromSlsX5pkuqzRy7VtJKSS9LGh7Hukh6QtISSYslXZGJ/4KkWZJWxP922J3P55xzzjm3J2sNdaZTdqbHAk+TU8UDIJa8qwW2L6bNbK2ZjflUd1jebOB4M+tH6Fp4Z9HxHwBPVjnXLKBPbPSyHLgWQFJvQgv1Y4ERwM8l1RAau3zXzHoTGs5cFmMhdIKcbWY94j1es5ufzznnnHPONWNVLaZjl79BwMWEhWVhfLCkpyTNIJSOmwAcHXeKJ0qqiw1TkFQjaVIsm1cv6fKc6wyTNFfSAklT43VLMrP3M81V2pHpNBhbnh8GPFbNZzSzxwrdGQk1rzvH1yOBKWa2JXZ6XAkMNLN1ZrYgnrsJWMqONuMjgXvi63sI3Rmdc84551oVrzO9w0hgppktJzRFOTFzrD9whZn1JOzAvmJm/czs6qI5xgN1QL+4+7tTu25JHYHrgKFm1h+YTyyjV6bONJJGS1oGPEzYnUbSXsD/C/xLlZ+v2LeBR+LrI4DXMsca2LFoLtxDHXAC8GwcOszM1sXXrxMW9cX3PT6mpsx/+je/3M3bdM4555xzTanaah5jgZ/G11Pi+xfi++fijm0lQ4HbC7u/Zrax6PgpQG9C0xeAfQiNW0rWmY7HpgPTJZ1OSOsYSkg1+Z2ZNSjxxxRJ3yekcNxXKTbGtyc0sbnSzHapQWVmFtuwF49PBiZDemk855xzzjnXPFRcTMe230OAvnFRWAOYpMLOc1pBzzKXAmaZWW5OdiVm9qSkbnGH+2+A0+LDkO2BfSS9b2Zlc5clXQR8DTgrkz6yBuiSCescx5DUhrCQvs/MHsrEvCHpcDNbJ+lwIL2YrHPOOefcHq4VVMarKs1jDHCvmXU1szoz6wKsAvI6OGwitOTOMwu4JD6oWFikZ80DTpXUPR5vJ6lnuRuT1F1x61lSf6AtsMHM/t7MjjSzOkKqxy8KC2lJv5A0MGeuEcD3gHPMLNv9YgZwvqS2ko4CegDPxeveBSw1s58UTTcDGBdfjwN+U+5zOOecc865PVM1i+mxwPSisQfJqeoR22g/Ex8ynFh0+E5gNVAv6SXggqJz1wMXAfdLqiekePSCsjnT5wKLJC0EbgPOy+wol3IckNea7WeEHwRmxQcob4/3tRj4FeEBy5nAZWb2MXAqcCEwJMYvlPSVONcE4MuSVhDSTiZUuCfnnHPOuZZHjfzVBCqmeZjZmTljt2bezik6dsHO0fSJ49sIDxReVRQ/OPP6ceCknOvl5kyb2c3AzRXu/7+B/4ZQdxpYYWYNOXHdy8xxE3BT0djTlPi2xR8qzip3X84555xzbs+nyhu57vNWd8Vvk74JdUcVZ8iUt2XLtspBGdd9tWRfnlwP1L+eFA+Q+vtuyavFz6uW163LQUnxV59+dFL8z5/9S1L8sC+lfc8A9tu72ueDg9+/8nZS/GN/TPsM/zw67ffFL55Mm3/UwM6Vg4qsXP9hUvzCFeuT4v+2z+FJ8avfej8pvnenA5PiATZ/9ElS/MlHlsq8y/dv99Unxe+zT01SfIcO+yXFv7oi/ZGTL/VO+75t2JD26M/WrWnfgy9+sWyV112c0O3gpPh176T9OQD4UuI9Adw4vEfyOa7JNXnK8ot/2dSoC80Tuh7Q6J/Z24k755xzzjm3m9K2vpxzzjnnnKtSUzVSaUzVdkAcJckklfx3Xkm1sRRd4X0nSdMqzDtH0oDqb3enc0fGTooLY/OTQZljH2ceCpxRxVxXSVoS55stqWvm2DhJK+LXuDi2v6SHJS2TtFjShEx8W0kPSFop6dnY0MU555xzzrVA1aZ5jAWeJqeCB0Asd1dLaJYCgJmtNbMxn/oOS5sNHG9m/QgdC+/MHPswdmHsZ2a5nROLvAgMiJ0ZpwE/hu3l+24ATgYGAjdI6hDPmWRmvQidD0+VdHYcvxh4Oz7Q+B9UeEDSOeecc66lagXFPCovpmOHv0GEReL5mfHBkp6KO79LCOXfjo67wRMl1UlaFGNrJE2KJfPqJV2ec51hkuZKWiBparxuSWb2fqYMXjtgtxPczeyJTG3peYTGLADDCY1kNprZ24Ra2SPMbLOZPRHP3QosyJwzErgnvp4GnFWohe2cc84551qWanamRwIzzWw5sEHSiZlj/YErzKwncA3wStwNvrpojvFAHdAv7v7u1Ko7di28DhhqZv2B+cQSemVqTCNptKRlwMOE3emCfWPqxzxJo6r4jFkXA4/E10cAr2WONcSx7D3UAl8n7JTvdE4sB/gukPZotnPOOedcS9AKtqarbdoyJb6ews6pHs+Z2aoq5hgK3BEXl5hZcZ2zU4DehIYvCwldA7vG2OvNLDfv2cymx1SLUcAPMoe6mtkAQmOYWyRVVfdM0reAAUBxw5lS8XsD9wO3mtmr1ZyTOXd8XPDP37RoZsqpzjnnnHOumShbzSPmDA8B+koyoAYwSYWd57TinGUuRUinyM3JrsTMnpTUTVJHM3vLzNbE8VclzSHkNb9S9gakocD3gTPMbEscXgMMzoR1ZucmNZMJTWBuyYytAboADXGxfRCwIeeeJ8fzk+tMO+ecc87tCdT0pa4/d5V2pscA95pZVzOrM7MuwCrgtJzYTYR23HlmAZfExWVhkZ41j/AQX/d4vJ2knuVuTFL3Qi6ypP5AW0IaSgdJbeN4R0Lb7yXx/Y8kjc6Z6wTgDuAcM8t2CHgUGBbn7AAMi2NI+iFhoXxl0XQzCDvrEH79Hq+ixblzzjnnnNsDVVpMjwWmF409SE5Vj9hC+5n4kGFxmsSdwGqgXtJLhPSL7LnrgYuA+yXVA3OBXlA2Z/pcYFFMC7kNOC8uWo8B5sfrPAFMMLMl8Zy+QF67volAe2BqtpxeTEf5AfB8/LrRzDZK6kzYxe4NLIjnb8oj0gAAIABJREFUfCfOdRdwsKSVhLzva3Ku55xzzjnX4kmN+9UUyqZ5mNmZOWO3Zt7OKTp2wc7R9Inj2wgLy6uK4gdnXj8OnJRzvetL3NvN5JSdM7M/EhbNedqY2dycc4aWiMfM7gbuLhproESau5n9Ffhmqfmcc84551zL0ao6IJrZ8Ka+hzzfOKt7Uvyyte8lxfc84qCk+GdWv5MUv3HTlspBRbp0bJcU36ZNtSXRg4+2fZIU/3TDLmntZb2S+D1YXLtvUjzAzPlrkuLbt98nKX7QiUdUDsp4+E9vVg7K2GuvtC2CGfPX0LtrcQZYeS8sS7unXkelzf/mux8mxW/68KOk+D8sfiMpHqB/945J8W9t3poUf/DB+yfFt2uX9vvu44/T/mz+399O7+v1wPNrk+I3b96WFJ/6e/uLX0j7NX3s2dVJ8R99lPZrCnB47X5J8Vs//oRLH1pSOTDj59/onRTv3J6qVS2mnXPNV+pC2jnnXPPX8h8/rL4DonPOOeecc66I70w755xzzrnPRyvYmq5qZ1rSKEkmqVeZmFpJl2bed5I0rcK8cySlJ8SFc0fG1uQLY/OTQZljR0p6TNJSSUsk1VWY66oYVy9ptqSumWPjJK2IX+Pi2P6SHpa0TNJiSRMy8W0lPSBppaRnK13bOeecc87tuapN8xgLPE1OSTzY3gmwFti+mDaztWY25lPfYWmzgePNrB+hlfidmWO/ACaa2THAQKDSU0ovAgNiq/NpwI9hez3sG4CT4zw3xHrTAJNi98UTCDWyz47jFwNvm1l34D/IqTjinHPOOdcaqJH/1xQqLqYltQcGERaJ52fGB0t6KtZkXgJMAI6OO8UTJdVJWhRjayRNijWo6yVdnnOdYZLmSlogaWq8bklm9n6mGUo7wOI8vYG9zWxWJm5zhbmeyMTMI3Q6BBhO6My40czeJjSfGWFmm83siXjuVmBB5pyRwD3x9TTgrEJzGeecc84517JUszM9EphpZssJHQZPzBzrD1xhZj0JzUleMbN+ZnZ10RzjgTqgX9z9vS97MHYqvA4Yamb9gfnEmtRlmrYgabSkZcDDhN1pgJ7AO5IekvRiXNjXVPE5Cy4GHomvjwBeyxxriGPZe6gFvk7YKd/pnFhf+13g4Jx7Hx/TU+bXP/qrhNtzzjnnnNsztIamLdUspscCU+LrKeyc6vGcma2qYo6hwB1xcVnoLJh1CqGb4DOxo+E4oGuMvd7MZuRNambTY6rFKEKnQggPVZ4G/AuhCUw3QnfFiiR9CxhA6IhYTfzewP3ArWb2ajXnZO59spkNMLMBxw3/u5RTnXPOOedcM1G2mkfMGR4C9JVkQA1gkgo7zx98RvchQjpFbk52JWb2pKRucYe7AVhYWNxK+jVhsX5X2RuQhhJahJ9hZoUuJGuAwZmwzuzc9XEysMLMbsmMrQG6AA1xsX0QkNYRxDnnnHOuBWgNea6VdqbHAPeaWVczqzOzLsAqws5vsU3AASXmmQVcEheXhUV61jzCQ3zd4/F2knqWuzFJ3Qu5yJL6A20Ji9bngVpJh8TQIYScbiT9SNLonLlOAO4AzjGz7MOKjwLDJHWIDx4Oi2NI+iFhoXxl0XQzCDvrEH79Hs/kdjvnnHPOuRak0mJ6LDC9aOxBcqp6mNkGQprGIknFaRJ3AquBekkvARcUnbuekIpxv6R6YC7QC8rmTJ8LLIppIbcB51nwMSHFY7akPxF+KPqveE5f4PWcuSYC7YGp8QHKGfG+NhLSR56PXzea2UZJnQm72L2BBfGc78S57gIOlrSSkPd9Tc71nHPOOedaPjXyVxNQa9o0lfSomQ1v6vsodvR3H0n6JnTqVOofAPLtv1+bpPiR/Q5Liv9g6ydJ8QBPLU/LfFn+anGafXnHH3NoUvwlJx+ZFH/X869VDso4u3fHpHiAhne3VA7KqNkr7W+RGS+sTYr/8nFfTIr/3QtrkuIBzjmpc+WgjMVrNyXF79Mm5Vlk+PMbafO/+eb7SfFHdj4oKR7g8A77J8X/Xd+079s//vyPSfF775PW+2vb1m1J8XXddnl+u6J169K+b+9tTIvvcEja962mJu3P5oA+ad+z5avfTooHGNG/U1L8Lfc8mxR/+hlfSooHmDH+pORzXEVNnmWxdN0HjbrQPObwdo3+mVtVB8TmuJB2zgWpC2nnnHPNX1PVfm5M1TZtcc4555xzzhVpVTvTzjnnnHOu8bSGtnVV7UxLGiXJJPUqE1Mr6dLM+06SplWYd46kAdXf7k7njozdFBfG5ieD4viZcazw9VdJoyrMdZWkJXG+2ZK6Zo6Nk7Qifo2LY/tLeljSMkmLJU3IxJ8euzhuk/R5tlN3zjnnnHNNrNo0j7HA0+RU8YDtzUtqge2LaTNba2af52JyNnC8mfUjdD+8M173idiFsR+hLN5m4LEKc70IDIjdGacBP4btJfxuAE4GBgI3xBJ5AJNiw5gTCGX9zo7jqwmVSX75mXxK55xzzjnXbFVcTEtqDwwitNk+PzM+WNJTsYzcEmACcHTcDZ4oqU7SohhbI2lSLJtXL+nynOsMkzQ37upOjdctyczez9RvbgfkPS06BnjEzDZXmOuJTMw8QnMWgOGEZjIbzextQr3sEWa22cyeiOduBRYUzjGzP5tZPZBe4sI555xzrgVpBZXxqtqZHgnMNLPlwAZJJ2aO9QeuMLOehHrKr8Rd4auL5hgP1AH94u7vfdmDsXPhdcBQM+sPzCfUaC5XZxpJoyUtAx4m7E4XO5/Q7jvFxcAj8fURQLYGWkMcy95DLfB1wk551SSNj+kp89+rf6TyCc4555xzrtmp5gHEscBP4+sp8f0L8f1zZraqijmGAreb2TbY3gwl6xRCA5RnYlPDfQiNWzCz60tNambTgemSTic0VxlaOCbpcEKTlkeruL/COd8CBgBnVBm/N2GxfmuhfXm1zGwyoR15cp1p55xzzrk9Qit4ALHsYjrmDA8B+koyoAYwSYWd5w8+o/sQIZ0iNye7EjN7UlI3SR3N7K04/HfAdDP7qKobkIYSuhqeYWaFbhlrgMGZsM7AnMz7ycAKM7tld+7bOeecc87t2SqleYwB7jWzrmZWZ2ZdgFXAaTmxm4BSrflmAZfEndzCIj1rHuEhvu7xeDtJPcvdmKTuitvYkvoDbYFsW72xFKV4SPqRpNE5c50A3AGcY2ZvZg49CgyT1CE+eDgsjiHph8BBwJXl7tM555xzrrVSI/+vKVRaTI8FpheNPUhOVQ8z20BI01gkaWLR4TsJVS7qJb0EXFB07npCBYz7JdUTUjx6Qdmc6XOBRZIWArcB5xUeSJRUB3QB/lB0Tl/g9Zy5JgLtganxAcoZ8b42EtJHno9fN5rZRkmdCbvYvYEF8ZzvxGufJKkB+CZwh6TFOddzzjnnnHMtgHYUxGj5JD3aHFuK/9ezf0n6JryyYUvloCJvbdqaFD+kR21S/PT6NysHZaT+tvtoW1pxlLOOOTjtAsBJX+xQOSjjyqkvJcX36JL2a3pOn0OS4h966Y2k+NfefD8pHuDKLx+dFP8P//7bpPgf/vPQykEZ7fZJa+L6nzNfSYoHGPm3RybFPzJ/TVL8sP6dkuK7HbxvUvyCNWnZeK+/Xbb4Ua4/PLkiKf6DN9N+r544pH9S/AuPL0iKZ+99ksK79DoqbX7gtVlpfxZ+dsf3kuJ/NX9dUvywY9P+fpmxIG3+vfZK3yHcsCHt9179jWl/X7RSTZ6xvPLNDxt1odn90P0a/TO3qnbizXEh3Ria20K6OWpuC+nmqLktpBtDc1tIN0fNbSHdHDW3hXRzlLqQdq458XbizjnnnHPuc9HkW+ONoFXtTDvnnHPOOfdZqmoxLWmUJJPUq0xMraRLM+87SZpWYd45kgZUf7s7nTsydlNcGJufDMoc+7GkxZKWSrq1UPWjzFwTJS2L802PjVgKx66VtFLSy5KGx7Eukp6QtCRe54pM/Dfj2Ce7+9mcc84551qEVtACsdqd6bHA0+RU8YDtzUtqge2LaTNba2ZjPvUdljYbON7M+hG6H94Z7+VvgVOB44A+wElUbsIyC+gTuzMuB66Nc/UmdFE8FhgB/FxSDbAN+K6Z9SY0nLksxgIsAr4BPPkZfU7nnHPOOddMVVxMS2oPDCK02T4/Mz5Y0lOxjNwSYAJwdNwpniipTtKiGFsjaVIsm1cv6fKc6wyTNFfSAklT43VLMrP3bUcpknZA4bUB+xK6KLYF2gBln3gxs8cK3RkJNa87x9cjgSlmtiV2elwJDDSzdWa2IJ67CVhKbDNuZkvN7OVy13POOeecaw28znQwEphpZsuBDZJOzBzrD1xhZj2Ba4BXzKyfmV1dNMd4oA7oF3d/78selNQRuA4Yamb9gfnAVfFYqTrTSBotaRnwMGF3GjObCzwBrItfj5rZ0io+Z8G3gUfi6yOA1zLHGuJY9h7qgBOAZxOugaTxMT1l/pO//mXKqc4555xzrpmopprHWOCn8fWU+P6F+P65uGNbyVDg9sLub2yGknUKoQHKMzG9eR9C4xbM7PpSk5rZdGC6pNMJzVWGxi6Kx7Bjd3mWpNPM7KlKNynp+4QUjvsqxcb49oQmNlea2XvVnJO598mEduTJdaadc8455/YE5Z9aaxnKLqZj2+8hQF9JBtQAJqmw85zWDaDMpYBZZpabk12JmT0pqVvc4R4NzDOz9wEkPQL8DVB2MS3pIuBrwFmZ9JE1hE6KBZ3jGJLaEBbS95nZQ7tz384555xzbs9WKc1jDHCvmXU1szoz6wKsAk7Lid0EHFBinlnAJfFBxcIiPWsecGrcVUZSO0k9y92YpO6FKh2S+hPyozcQ2pafIWnvuOA9g5DTjKRfSBqYM9cI4HvAOWaWrRw/AzhfUltJRwE9gOfide8ClprZT8rdp3POOeeca7kqLabHAtOLxh4kp6qHmW0gpGkskjSx6PCdhEVuvaSXgAuKzl0PXATcL6mekOLRC8rmTJ8LLJK0ELgNOC/uKE8DXgH+BLwEvGRm/xPPOQ5YmzPXzwg/CMyKD1DeHu9rMfArwgOWM4HLzOxjQrWQC4EhMX6hpK/E+x0tqYGwG/6wpEdzruecc8451+K1gsp45dM8zOzMnLFbM2/nFB27YOdo+sTxbYQHCq8qih+cef04oYxd8fVyc6bN7Gbg5pzxj4FLisclHQisMLOGnHO6510jHrsJuKlo7GlKfM8Kedyl5nPOOeeccy1Hq2knHh8Q/GZT30ee+rWbKwdl9DuiXVL8I8++VjkoY0yfw5Lid0enDvsnxW/75JOk+APb1iTF758Yv3Xrx0nxG9/fkhQP0PWAtO/zx5b2HOv7729Nij/20IOS4mlIKaIDf96Ylz1W3omd036Nlv/pz0nxJ5x7bFL86m7FGWzlDex8YFI8wDtbPkqKf/eDtO9z3SFlq5Lu4veJ97P3AbWVgzJeXbk+KR6gY7e6pPjNm9L+Dq7rmvYZ1hx9YuWgjDZ7pe2vnVjXISke4C9vp/2+2LJlW+WgjM6Hlcr6zLfvPml/B895ZAH7nbMi6RyAD2f87+Rz3KfUCh5A9HbizjnnnHPO7aZWszPtnHPOOecaV1M1UmlMVe1MSxolyST1KhNTK+nSzPtOkqZVmHeOpAHV3+5O546M3RQXxuYngzLHbo4PQi6SdF4Vc10laUmcb7akrplj4yStiF/j4tj+kh6WtEzSYkkTMvGnxy6O2yR9nu3UnXPOOedcE6s2zWMs8DQ5VTwAYsm7WmD7YtrM1prZ57mYnA0cb2b9CF0L74z38lVCZ8Z+wMnAv8SHD8t5ERgQuzNOA34c5/oCcEOcZyBwg6RCctokM+tF6H54qqSz4/hqQmUSb2vonHPOuVZNatyvplBxMR27/A0CLgbOz4wPlvSUpBmE0nETgKPjTvFESXWSFsXYGkmT4k5xvaTLc64zTNLcuKs7NV63JDN7P9NcpR1QeN0beNLMtpnZB0A9MKLCXE9k6kvPY0f3xOGEZjIbzextQr3sEWa22cyeiOduBRYUzjGzP5tZPZD2xJxzzjnnnNvjVLMzPRKYaWbLgQ2Sso8l9weuMLOewDXAK2bWz8yuLppjPFAH9Iu7vzu1646dC68DhppZf2A+sYxemTrThZrOy4CHCbvTEGpLj4ipGB2BM9m5i2ElFwOPxNdHANlSGA1xLHsPtcDXCTvlVZM0PqanzF/02K9STnXOOeec2yO0+jrT0Vjgp/H1lPj+hfj+OTNbVcUcQ4HbY71pzGxj0fFTCDvKz8SmhvsQGreUrDMdj00Hpks6HfgBYTH+mKSTgD8C6+M8VdUxk/QtYACha2I18XsD9wO3mtmr1ZyTuffJwGSAy6cvTatp5pxzzjnnmoWyi+mYMzwE6CvJgBrAJBV2nj/4jO5DhHSK3JzsSszsSUndJHU0s7eyjVYk/RJYXvEGpKHA94EzzKxQFHgNMDgT1pmdG9VMJjSCuWV37ts555xzriVrqjzmxlQpzWMMcK+ZdTWzOjPrAqwC8rorbCK05M4zC7gk7uQWFulZ8wgP8XWPx9tJ6lnuxiR1V9zGltQfaEtIQ6mRdHAcP47QQvyx+P5HkkbnzHUCcAdwjpm9mTn0KDBMUof44OGwOIakHwIHAVeWu0/nnHPOOddyVVpMj2XX1tgPklPVw8w2ENI0FkmaWHT4TkKVi3pJLwEXFJ27nlAB435J9YTUjF5QNmf6XGCRpIXAbcB58YHENsBTkpYQdo6/VUgvAfoCr+fMNRFoD0yND1DOiPe1kZA+8nz8utHMNkrqTNjF7g0siOd8J97vSZIaCN0W75C0OOd6zjnnnHOtQMvPmi6b5mFmZ+aM3Zp5O6fo2AU7R9Mnjm8jPFB4VVH84Mzrx4GTcq6XmzNtZjcDN+eM/5WwyM3Txszm5pwztEQ8ZnY3cHfRWAMlvmNm9jw7qoE455xzzrkWTDuqy7mmctz1v0/6JtTUpHWB73jw/knxl51elxTfrk16I80r7l2QFL91a1XPkG530EH7JsV/dWDazz+LGt5Liv/BiJL9jkr69bJ1SfFfPuqQpPhpS/P+kaa0jxOLPS5d825S/DnHH5p2AeC39euT4occc3BS/H//Pum5Yja9t6VyUEbvY9K+ZwCH16b9ef63oT2S4r/6H08mxR9ySLuk+IMPTPuz2btTqezB0rZ+nPb/a3Pq0/6spf4dPOqkIyoHZUyb+1rloIy2bdP/Dv7W36b9nffY0g1J8V07pv2+eOCRpUnx3x55bFL87rpxeNqfn2aoyTOW17yztVEXmkfU7tPonzntbwTnnHPOOefcdr6Yds4555xzbjdVtZiWNEqSSSr5b9WSaiVdmnnfSdK0CvPOkTSg+tvNneMkSdskjcmMjZO0In6Nq2KOiZKWxe6M02MjlsKxayWtlPSypOFxrIukJyQtkbRY0hWZ+G/GsU8+7WdzzjnnnNuTtfzHD6vfmR4LPE1OFQ/Y3rykFti+mDaztWY2Ji/+syKphvAQ4mOZsS8ANwAnAwOBG2JZu3JmAX1id8blwLVxrt6EFurHElqS/zxecxvwXTPrTWg4c1mMBVgEfANISzx0zjnnnHN7nIqLaUntgUGENtvnZ8YHS3oqlpFbAkwAjo5l4iZKqpO0KMbWSJoUy+bVS7o85zrDJM2VtEDS1HjdSi4nlOrL1oYeTmgAs9HM3iYslEeUm8TMHsuUz5vHjmocI4EpZrYldnpcCQw0s3VmtiCeuwlYSmwzbmZLzezlKu7dOeecc65Fkxr3qylUszM9EphpZssJTVFOzBzrD1xhZj2Ba4BXzKyfmV1dNMd4oA7oF3d/78selNQRuI7QDrw/MJ9YRq9UnWlJRwCjgf8sOnQEkH0UuiGOVevbwCPVziWpDjgBeDbhGkgaL2m+pPkbFzyccqpzzjnnnGsmqqmnMxb4aXw9Jb5/Ib5/Lu7YVjIUuL2w+xuboWSdQqgN/UxsargPoXFLyTrTwC3Av5rZJ/qMfhSR9H1CCsd9lWJjfHvCzviVZpZUK83MJhOayiSXxnPOOeec2xOo6avzfe7KLqZj/vEQoK8kA2oAk1TYef7gM7oPEVIzcnOySxgATIkL6Y7AVyRtA9YAgzNxnSlqLpN7A9JFwNeAs2xH8e01QJeiudbE+DaEhfR9ZvZQwn0755xzzrkWolKaxxjgXjPramZ1ZtYFWAWclhO7CShVXX8WcEl8ULGwSM+aB5wqqXs83k5Sz3I3ZmZHxXuqA6YBl5rZr4FHgWGSOsQHD4fFMST9QtLA4rkkjQC+B5xjZpszh2YA50tqK+kooAfwnMIK/i5gqZn9pNx9Ouecc861Wq2gnEelxfRYYHrR2IPkVPUwsw2ENI1FkiYWHb4TWA3US3oJuKDo3PXARcD9kuoJKR69oHTOdCkxheQHwPPx68ZMWslxwNqc035G+EFgVnyA8vY412LgV4QHLGcCl5nZx8CpwIXAkBi/UNJX4v2OltQA/A3wsKRHq71355xzzjm3Zymb5mFmZ+aM3Zp5O6fo2AU7R9Mnjm8jPFB4VVH84Mzrx4GTcq5XKmc6G3NR0fu7gbuzY5IOBFaYWUPO+d3LzH0TcFPR2NOU+PnHzKaz6w8gzjnnnHOtTsvPmAbtSA92TeX+F9ckfRN+u2h90vzbPkn7Hh964L5J8cvXJT17CcBXjzs0Kf7xZRuS4rsdWk1lxR3OPKpSKfKdPb827TP3P7xUBlRpr3/w16T4+nWbKwdlLFie9vvotvNPSIq/afaKpHiAg9rtkxQ/svchSfEzlqR95uFfKs5IK2/u6k1J8bujZq+0/2tqW5MW/+6Wj5Pi5y16PSn+4C/slxR/wcBOSfEA10x+LvmcFMcel1IgCp59Kq1a6qR/HpwUP3/1+0nxAK+8nvZ32AH7tUmK/2KH/ZPin038ffTO22l/3wHUHZX253lgj47J15j4tS8ln/M5a/K17BvvfdSoC83DDmzT6J+5mmoezjn3uUtdSDvnnGv+mqr2c2OqtgOic84555xzrkhVi2lJoySZpF5lYmolXZp530nStArzzpE0oPrbzZ3jJEnbJI3JjM2U9I6k31Y5x1WSlsTujLMldc0cGydpRfwaF8f2l/SwpGWSFkuakIk/PXZx3OmenHPOOedaGzXy/5pCtTvTY4GnyaniARBL3tUC2xfTZrbWzD7XxaSkGuBm4LGiQxMJ1Taq9SIwIHZnnAb8OM7/BeAG4GRgIHBDLLcHMMnMehG6H54q6ew4vppQmeSXyR/IOeecc87tUSoupmOXv0HAxcD5mfHBkp6SNINQOm4CcHQsEzdRUp2kRTG2RtKkWDavXtLlOdcZJmlu3NWdGq9byeWEUn1vZgfNbDah7nVVzOyJTH3peYTmLADDCc1kNprZ24R62SPMbLOZPRHP3QosKJxjZn82s3rgk2qv75xzzjnXIrWCOtPVPIA4EphpZsslbZB0opkV2on3B/qY2SpJdfF1P4D4vmA8UAf0M7NtxU1bJHUErgOGmtkHkv6VUEbvRkk3AvPNbEbROUcAo4EzySmp9yn8/+2dd5xeRfXGvyebRu8ESEICBKQLIYD0TgLSCSWRpjSlCyKhKkgV5IdICwIKSK+GJiAgAqIQEZBepSNVECkhyfn9cc7Nzt68bd7d99377s6zn/nsLc/MPGfmvvfOnTtnZk/gDt8eDLwRnHvTj4U65ga2pH3J9YSEhISEhISEhF6CWoZ5jAOu9u2r6TjU4xFVfbWGNDYGJvp809nCKiG+BSyLLfryOLA7MMy5x+Ub0o6zgCNUtct6gEVkF2yZ8vyiM+X4fYGrgLNV9ZXIvPYRkckiMvmeG34XLzYhISEhISEhIaHbUbFn2nuQNwRWEBEF2gAVkcOd8r8u0iHYcIqSY7LLYBRwta3szfzA5iIy1ZcUjxcgsjFwNLCeqn7lh98C1g9oQ+i4UM2F2EIwZ8Xmp6oXevzoeaYTEhISEhISEloBvWBmvKo902OBy1V1mKoOV9WhwKvAOiW4/8WW5C6Fu4F9vSeX/DAPbJzyWiIyws/PJiJLVRKmqou5puGY0+B+1RrSInKKiGxb4vjKwERgK1UNx1/fCWwqIvO44+GmfgwRORGYCzikUp4JCQkJCQkJCQk9F9Ua0+OYeWnsGygxq4eqfogN03hKRPLDJC7CZrl4UkSeAMbn4r6PzYBxlYg8CTwMLA0gIieIyFa1mWMQkQeA64CNRORNERntp1YASi2zdDowO3CdO1BOcl0fAT8DHvVwgqp+JCJDsF7sZYHHPM5enveqIvImsAMwUUSejtGekJCQkJCQkNBTINLcUF2PjBGR50XkJRGZUOL8HiLyvrftZrTvKqHiMA9V3aDEsbOD3T/lzo3vyGZ5Pz4Vcyg8NMdfP9i+lxKOhKp6XCWNztkjt1+q5xygn6o+XCL+xhXSvgS4JHfsTcp8uVDVR2mfDSQhISEhISEhIaEA8CmVzwU2wSaVeFREJqnqMznqNap6QK3p9qrlxFV1dHVW8/HqR19G8dva4hau7NMnbkj2RkvMU50U4L1P4/QD3Pn0+1F8jRxVvtQCA6P4/SPL9K5/vB3F/+B/C0TxAcYuOyiKf8/zeb/eyhgwIO7n/8LHNc82CcAdkyZH8QEmHrt5FP/9L76qTgow+Zl/R/GnTI3zb3448rrYfO3hUXyAPpEDEKdHjlh85d1Po/gvPPV6FD8W//kk/v7yybvvVSd1Al8suWAUf9o7Uf7pzNpvoyj+J19MieIDjP/W4OqkAJc+EFfPX349LYo/bVrcb+29fz4exQd4/604m5cbFvcs/ONfX+f3f65lToZ2vPDzMVH8VkR3LaRSBqsBL2WTRojI1disdfnGdBTScuIJCQmFQGxDOiEhISEhIY9wtjQP+wSnq0557Nje10W5XkSGVsuzV/VMJyQkJCQkJCQkNA+1jGPuSoSzpdWJW4CrVPUrEdkXuBSb2a4sUs90QkJIjmuVAAAgAElEQVRCQkJCQkJCb8BbQNjTPMSPzYCqfhhMkXwRsEq1RGtqTIvINiKiIrJ0Bc7cIrJfsL+IiFxfJd0/icioWjRUSGNVEZkqImN9fyVflvxp76LfqYY0DhWRZ5x/j4gMC87tLiIvetjdj80qIreJyHOez6kBf11fEn2GpoSEhISEhISEhG7Ho8CSIrKYiPQHdgbyK2wvHOxuBTxbLdFae6bHAQ9SYko8z7gvMDcwozGtqm+rakMbk+6VeRpwV3D4c2A3VV0OGAOc5Ut+V8I/gFGquiI2Z/XPPf15gZ8Aq2OD1n/i800DnKGqSwMrY3Nkb+bHX8em+buyk+YlJCQkJCQkJCR0EXx2uQOwNUOeBa5V1adz0zAf5B2lTwAHYW26iqg6ZlpEZgfWBjbAxpH8xI+vj83B/DE2J/RjwBK+HPjd2NQjt6rq8kGjdwwwHfi1qv4ql8+mwPHAAOBl4Luq+lkVeQdi817PmFJPVV8Itt8WkfeABYD/lEtEVe8Ldv8K7OLbo7GVGT9yjXcDY1T1KuA+jztFRB7Dp8NT1X85t8uWOU9ISEhISEhIaEU0e8x0Najq7cDtuWPHBdtHAkfGpFlLz/TWwB+8kfqhiIRjR0YCB6vqUsAE4GVVXUlVD8+lsQ8wHFjJe3+vCE+KyPzAMcDGqjoSmIzPSV1u0RYRGQxsC5xfTriIrAb0xxrntWJP4A7frur16b3eWwL3ROTRwdv0kVuvjomakJCQkJCQkJBQENQym8c44Je+fbXv/933H1HVWiZV3Bi4wLvXs5UFQ3wLW03wIbFXmP7YKoiVFm05CzhCVadLidceH/NyObC7qtbUSywiuwCjgPVq5PcFrgLOzuYsrBWht+nJ97wcOYtyQkJCQkJCQkLxUbB5phuCio1pHzO8IbCCiCjQBqiIZD3P/+siHYINpyg5JrsMRgFXe0N6fmBzEZmqqjeLyJzAbcDRqvrXmgSIbIwtEb5e4MX5FrB+QBtCx1UfLwReVNWzInQnJCQkJCQkJCT0EFQb5jEWuFxVh6nqcFUdCrwKlFqu+7/AHGXSuRvY13tys0Z6iL9iTnwj/PxsIrJUJWGquphrGo45De7nDen+wE3AZaraYTYRETlFRLbNpyUiKwMTga1UNVw6605gUxGZxx0PN/VjiMiJwFzAIZV0JiQkJCQkJCT0Vog0N3QHqjWmx2EN0xA3UGJWD1X9EBum8ZSInJ47fRE2y8WT7h05Phf3fcxb8ioReRIb4rE0lB8zXQE7AusCe4jI4x5W8nMrAO+WiHM6MDtwnfMnua6PMCfLRz2coKoficgQrBd7WeAxj7OX611VRN4EdgAmisjTEdoTEhISEhISEhJaCKLae4brisidqjq6u3XksdGvHo6qhCUWmjMq/dvvezGKv9bqw6qTAnz19bQoPsA8sw+I4j//+sdR/L5926L4u641JIp/yOn3RvG/v/uaUXyA59/+NIrfty3ulfytf1ebLKcjdliz6oqqHfC7+2pxp+iIRQfPFcV/I7KMpk6Nu1Y3WnXRKP5nX34dxa8Hw+ebJYr/4ntxo/FefuuTKH6fPnHX3WefTYniL7pI3P0OYMj8s0XxH3rinSh+7HNzuRHzR/GfezXvVlQZ9TzHh0X+1r6YMjWK/+FHX0Txh9VRz7F4+fWyk3qVxBKLVptVtyPmmyPuufbpF/H3i2t2Xzk2SrcPWP70y+lNbWjOOTDyptQF6FXLiRexIZ2QkGCIbUgnJCQkJBQf3d6abwLScuIJCQkJCQkJCQkJdaJX9UwnJCQkJCQkJCQ0Eb2ga7qmnmkR2UZEVESWrsCZW0T2C/YXEZHry/Gd8ycRGVW73JJprCoiU0VkrO8PE5HMKfBpEfl+DWmcLiLPiciTInJTuPy4iBwpIi+JyPMiMtqPDRWR+0TkGc/j4IC/gx+b3lnbEhISEhISEhISio1ah3mMAx6kxCweMGPxkrmBGY1pVX1bVcd2WmEFBMuU3xUcfgdYQ1VXAlYHJojIIlWSuhtY3ldnfAFfRlJElgV2BpbDlkI/z/OcChymqstiC87s71yAp4DtgD93gYkJCQkJCQkJCS0LafJfd6BqY1pEZgfWxpbZ3jk4vr6IPODTyD0DnAos4T3Cp4vIcBF5yrltInKGT5v3pIgcWCKfTUXkYe9Vvs7zrYYDsan6ZswNrapTgkVXBtRio6rela3OiM15nU3tsDVwtap+5Ss9vgSspqrvqOpjHve/wLP4MuOq+qyqPl+D9oSEhISEhISEhBZHLT3TWwN/UNUXgA9FZJXg3EjgYFVdCpgAvKyqK6nq4bk09gGGAyt57+8V4UkRmR84BthYVUcCk4FD/VzJeaZFZDCwLXB+iXNDfb7qN4DTVPXtGuzM8D3gDt8e7GlkeNOPhXkNB1YG/haRByKyj4hMFpHJbz10c0zUhISEhISEhISWQFq0xTAOuNq3r6bjUI9HvMe2GjYGJma9v74YSohvYQugPCQijwO7A8Oce5yqTiqR5lnAEao6PX9CVd/wRvsIYHcRGVSDRkTkaGwIxxXVuM6fHesZP0RVoya8VdULVXWUqo4avNY2MVETEhISEhISEhIKgoqzefiy3xsCK4iIAm2AikjW8xy3GkCFrIC7VbXkmOwyGAVcLfYaMj+wuYhMVdUZ3byq+rYPNVkHW3K8vACRPYAtgI20fQb8t4BwpYohfgwR6Yc1pK9Q1RsjdCckJCQkJCQk9Ar0gsk8qvZMjwUuV9VhqjpcVYcCr2KN0zz+C8xRJp27gX3dUTFrpIf4K7CWiIzw87OJyFKVhKnqYq5pONZQ3k9VbxaRISIyi6czDzbe+3nfv0xEVsunJSJjgB8DW6nq58GpScDOIjJARBYDlgQeEWvBXww8q6pnVtKZkJCQkJCQkJDQc1GtMT0OuCl37AZKzOqhqh9iwzSeEpHTc6cvAl4HnhSRJ4DxubjvA3sAV/lY54eBpaH8mOkKWAb4m+dzP3CGqv7Tz60IlBo/fQ72InC3O1Be4LqeBq7FHCz/AOyvqtOAtYBdgQ2d/7iIbO56txWRN4E1gNtE5M4I7QkJCQkJCQkJPQfS5NANqDjMQ1U3KHHs7GD3T7lz4zuyWd6PT8UcCg/N8dcPtu8FVi2R33GVNDpnj2D7bqzR3AEiMifwoqq+WSL+iAppnwSclDv2IGWqTFVvYuYXkISEhISEhISEhJ4IVU2hoAHYp5H8ZuRRNH4RNRWNX0RNReMXUVPR+EXUlGzufn4RNRWN36w8mhU+n6LazNAdNta6aEtC92CfBvObkUfR+M3Io9X5zcij1fnNyKPV+c3Io2j8ZuTR6vxm5NHq/GblkdBFqDjMIyEhISEhISEhIaFedNfcz81E6plOSEhISEhISEhIqBOpZ7rYuLDB/GbkUTR+M/JodX4z8mh1fjPyaHV+M/IoGr8ZebQ6vxl5tDq/WXk0BQP79vyppsUHrickJCQkJCQkJCQkRCIN80hISEhISEhISEioE6kxnZCQkJCQkJCQkFAnUmO6myAiW2fLnkfE+a4vPtMofrSmWIhIW6Pj1JNHQmMgEufH3Wh+LBqdfj15NENTDOrRUzSba02/aGUPxSvLhITeiOSA2A0QkYnARsBmwIsiIlpl8LqInA9sCbyJLXteMU4d/ChNInIqMA14B7hEVT+vov+X2KqRU0XkeFX9pBK/njh18GNtOAr4L/AWcJ+qflyDDQsAUzNuDeW6KICqvl4t7Tr5sXqi+M5ZDPPHeKUat0n8QW7Dh9W49aTfjDyaYHMzyqhoNsemPyfwlYdafjtReuqJU4emhtpQB7+Pqk6vhVsvGp1HbPrNsDmh+UgOiE2GiPwKWMh331PV/WuIcw4wCPgXsIAGy6d3ET9Kk4hcBswB3AWsCRypJZZpD/iXAHNh3sY7AOeo6uNV8oiKUwc/1oZLgdmB24HFgJWAPVT1gwpxLgTmxR5cz6vqCeW4zv8tMCcwG/A34Geq+nUX8mP1RPE9zrVYPcwJ3AecWOklpQn83wELAv8DHlPVn3Wl/mbk0QSbm1FGRbM5Nv1fA4sArwNPqeq5frxkYzRWT502xGpqqA118I8FJgP3qupXlbhBnEOBW1X1hRr5UXk0If2G25zQTdACLDXZWwJwJnCHb88JPACsXyXOicAtwf4TwLgu5EdpAoYDNwf7NwD7A9sC85TgzwtcFexfARwHHAQsWCaPqDh18GNtmBu4JtgfBfwTuBt7WSllwzHAJGwo1ULAp8CZwXnJ8Q/O6s3teQW4HFioTPqx/Fg9UXw/tj1wp28vAtwJnAYsUkZTo/n7Yi9LfYClgeeAUyrYHJV+M/Jogs3NKKOi2Ryb/hGe/iLABsDzwMldVaZ12hCrqaE21ME/E5gOnANsAgwod/0Ecc7xOBcBI2rgR+XRhPQbbnMK3RfSmOnmYqKqbhbsTwaWB/v0UybO+aq6ZbB/CXazKhcnlh+r6XNgdRE50N+yVwSGAqOBc0Rk9ozoY/OmA98UkaNF5GSsIfoJsCRws4jMEyYeG6eePOqwAWBVEdnVt/+NPYCfAfYPOCE+Bq5V1emq+i5wCjBeRI4HUL9TBvg38DcRaVPVj4ATgG9ijfxSiOXH6onlgw2XmSoi86rq28B4YBhwSBlNjea/Drzkep8D1gM2FBveU8qG2PSbkUejbW5GGRXN5tj03wDuVtW3VfU+YH1gZxH5aZn0Y/XUEydWU6NtqJkvInMBjwHLYZ0AOwDrisgAPz/T/VREFgJeBEZgPd/HiciI4Lzk+FF5NCH9htuc0M3o7tZ8bwpAH//f5v83wcY0rxgRZ3XgNWDNBvFr0bQucC5wD7CYH1sCuBRYogR/FHA8cDOwSpYvcDGwepk8ouLUwY+1YSNsrPTZ2E1xP2ANbKx1yMuGTu3vaY/EGrlXYmPYHwXWKsHfFrgeu8muA/we60H7O7BtF/Bj9dTEz9k+PzAR2BAY6MfmAR4HDugG/kjg2rA+gfmwXrmdOpt+M/Jogs3NKKOi2Ryb/rbYV6j+wbGhwEPABp3VU6cNsZoaakMd/DmD7aO8PjYrVTYBb+Fg+wLsXr10BX5UHk1Iv+E2p9B9IfVMNxjeW7obgKpO9/Fp03z/buDXwDZhL7CInC4iRwZx+gRx/gb8H7C3+EwddfCjNIV85/wZ+CHwLtari6q+DCwOLBTq8XOTgZ9ijfpls3yxxus8eRtqiVMHv7M23ANsDNwGHK6q52EN1zlFZD63YVH1u57aeMRHPY+TgMdV9RZsfGZWz8sH/JuA+7GG8QHA/ap6A3bznFYnP1ZPFN/jHO5he6w3+1HgB8AqIjK3muPikdj49Gbw9xKRfURkJVV9DPvcPFFEBotIXzXHqNOBWepJvxl5NMHmZpRR0WyOTX87EdlZROby39obwIOZfar6BtY4ratM67QhVlNDbaiTv6+IjAS+DHSc7No2E5ENROQeERkT2DBORObF7tVZnO9jvhw/FJFhInKFiKwdm0cT0m+4zSQUAskBsYEQmyFjC6zX8BFV/a0fn+HwISLbAROADVX1MzHnwU2x4RZPq+pJzpvhASwiqwKnAnsBh0XyJ8RoAn5Riu+8zbEG7BVYT++HwJRSepy/BnAj9kY+EnhXVfcpZ3O5OLF5ANpVNgTx+mNjrf+tqnuJyI3ANlgvz/0Bb1asN+g/vn8nNv5tPLA1sKWq3hbwBZhF3RlKRP7g9mwWyR8TqWdcDF9VrxNzypwDG+4yPzYO9SYRmYANFfo71vg+Fev1W7gJ/LmwGVemAGer6hMicjb2UjUR+AfwG+xFZERM+qo6wW1uWB5NsrkZZVQ0m2PSXwjrVZ0V+xp1sKp+LCJXY725+2DO3b/H/ApWidGjqj+r4zpaIlLTyEbaUOd1lPG/AC5W1b95o3sqgIj8GBvb/UdV3UnMwTqz4TXgWFV9S0T6qTtai8i5wG7Ara6j5jyc08j0v2y0zao6joRCIDWmGwSxXt19gBew3tfRwF+Cxmubem+wiByoqr/y7d2w8WefYj+yJ8s0kHdV1ctj+FiDsWZN2DCISvxZsAb3JsD7qnpSJT0eZzWsofqZqp7lx3bHbhw1xfE83sDGRVfkY8My9sHGns3dWRu88doHGwaxuKoeIiLbADthD+TTsGEWf/JrQJ0/O+Yg+JWX63eAv3r6h6rqrUH6bVhvzhXYTfj8SP5VkXquiOGr6g4isjewvapmvSmHASup6q6+vzU2PvBbXrdPNpj/KjBGVTf1878EZlXVvX1/f2AxbMjKq1jPZM3pq+qBYl71DcujCTY/14QyavR10dB6xnwR1lL3IxGb9eNNVT3U90/BZkpa3PlPxOjxzoPY6+j1SE0vNtKGOq6jUvz+qvoD3xdVVRG5HfhcVceKyDElbPiXqv64RJzPsHvjGM9nerU8sJemtYBvO7+r0/9LDL8em1V1Rz+eptorArQAY016esBmydgFe1vfMzjeP8fLXm7asAbMWsDVwHEBZ758nFh+nZpK8kOOb/epoqctF7dPDTbPFKfOPLrKhn7AbMH+IGBV394Va+Svn0t/YWAX354HH5OOjXN+Bdgix++P3egz/jcj+AsCq0XoWTBGv+8PBTYJ9hcBbiE3Gwo+TtD5mzaQvyywbnB8WeAych7z+Owrsen79nLAOo3Kowk2N6OMFm3wddFQG7CvUysHx9cBzspxZwUWrUdPnddRrKaG2tCF/LbgWD/sq1u2vx720lPJhkHAbvXkUWMZdSb9htvs+33C8yl0X+h2AT0tYFPT7Qd8P3d8HuzTzNlYg+5a3DEOmzLnp9g8wWGc/v4DuxQbdnEd8O06+FGaIvnfitBzPd4IjI1TB7+RNmQ3zCWAQSWuge9gvdqjfH87rHG+KtZj0yfH3w7rwdnA9/cFBtbBXwK72eb55fRE8X17VXIOmtgL3VCs90aCOJkNi9PxZaUr+ZkN+am3lsM+qWf762IPr6j0q9Rzl+TRBJubUUarYl9qGnVdNNQGbHrJOZzTN4izNvY5Pdtfho6/nZr01HkdxWpqqA0N5K9D+/1lXtpfbCraEJYpM9/DSuYRlFGfBqUfxa/H5mA/NaQLFNIKiF0IscVPlsbGoP5IRNbEFvaYrjZe7XJs3NW5wANq46dOw35oPwFOE5GLgZOBV1R1CnC/iHyJzaxwJ3ajiuGPidGENTBj+NvG6FHVW+uweZ1I/ugG23CL2Bjp/sBSIvJz4FFVfQJAVa8Qkf8BfxSRt7Dxc9/BFlcZBFwvIo+oOXuiqjeKyGfARSLyFfaJcNNI/uhMD/BzEammZ5cYvud5Q6bJtx9R1btUVV3Hq/47uBIbjxnafIPb0JX8vA2PqOqTIiKYE+a7zr8W+5R9cEz6bnO+nrs0jybYfEgTyqjR10VD6xnzX2jD7hlHAA8D73v6YJ/5cdsexBxya9ajqn+u4zo6KFLTzxppQx3XUQz/SVV9QESuz2wQkWo2PCQiMTY86ddFrWVUT/o/bLTNwLN+HE1DOwqFNJtHF0Fs7O1Q4Eeqeo2qrordzC/KOKqqwOFYg2wbEekLDAF+oap/VdX1gKnOmTdI/ljs0+ROzj+zRv4urunwWjRhTmgx/LExelR1+wLaXI8NY7AxgltgY6eXBHYQc/TM8rgZ+Ahzbroac0TZDNgT+A+wo4h8O+DfhfUoTcam84vhX499tt2yRj13xPBV9WAxx8651Mae7onNiLBDoOkDzLnrMWzM4C05G7qa/+cSNuwoIqt6/b6OzbTyJ8wB6N4Y/ap6VJl67rI8mmDz3xup38uo0ddFQ+sZeArzN9gO+zI1Hpt/eZin/wLQX0RuwX6Hz8aUqZoPRux19CrmVLxtjZr+HcmPsqGO6yiKr6onisj4SBueidT0SoPTn9xom1X1TBIKi9SY7iKo6hfYqngreoMRbIjF0iJyfkA9S1XH+/Z0rFdxdRGZ34/thw1FOD2I82tVHafmAfwwsFqN/EzTCrVoqoMfpaegNtdjwwCs5wu13uLfuV2jRWR+EekjIvtgiyTshn3ynEMNj2Ee9I8CY0RkWZjhCDWpTn5/bAy31qgnlo/HmcNtzmtajvYemadVda8qNnQFv5IN82ENpDWx3tM9s/Qj9Fer567Io9E292+w/mZcF42u577A157+NcB5wMqYQ3J2DWwDvFdnmdZzHfUFvnZ+LZpi+bE2NJqP11sjbShaGdVjczaxQUIRoQUYa9LKAbsxz+LbW2HTAC0fnJ8XuAkYFhzLektnwaYwug7rqZnNz/fzdFYO+AtiPTS18JfytPvUoqkOfpSegtocbYMfz5wZf4vNEpKNvVwF63Vb1/fnCuNgzienBPGXwCbh3973Z+skP1ZPFN//l9I0EdjB9xerwYau5JezYf1sP+BLbPpV6rlL8miCzc0oo6LZHJP+fNhXq9BJcWPgEWCk74/uTJnWcR3NG6kpll/PddFofqNtKGIZRWvKtlMoXkhvOZ2AiPwaG3d7nYjsoqqTsE/oF4vIKBGZVW2p53mwN1dE5EKsx/Mc4Ai13pNbsQUENvZPPF9jQw004J8L/LgG/gxNwPhqmurgR+kpqM312HCUiPwAu1ni/GWB74jNG/p34C5gcxFpAw4XkWNE5GdqY9t+gc0mcqTYFIQvY5+wR3sP+pGR/INF5Aci8n3nV9OzfwxfVT8RkRPFpms63m0upel+YFOxebf3rMGGzvDHuQ0/qGLDGO/B2TZIX6ulr6qvej3vV0M915VHE2weHfC1QWV0oogc28DroqH1DHxbRHYUkS3UFhZ5EdhERNbx9P+I9Wiv5/atElOmqvr34Drat8braI1A00c1aFoykh9lQx3XURTfy+gAEdkJ2LxBNsSWaUPLqB6bVfVOmDH9nZJQWKTGdJ0QkfOw6ZU2wZaw3kZEZlPVU7F5ficAZ4vIPcA7qvqi2FyT86nq+lhPyeIisoSqXgpcg33emSgif8TGbX03kr9PjCbMYSKGf0CMHlV9vIA212PDJdgUeYqNv9zT83oa69U+Q0TmBjbHxmheiM2x+ndgCxE5Qc2570Zsaq6rRWQ4Nr77XdcRw78wUs+vY/iqOk3MCbNWTe9gc2E3kn9BYMPYKjb8x22uOX1VnRLU8/Qayik6jybYfFETyii7LiYXxObYOpjocUcCe4jIRtjn9a+xWYAOFJF+WGNmau63X1WP2pzCsdfRxZGaftNIG+q4jqL4XkaZDSsD322ADbFl2tAyqsdmAmhyNiw+tADd460WMAeac+j4ufB2YMdgfwVsFoo9fH8gtsLW0gHnSuCQYH+Qx9sy4C9TIz/TtHgtmmJtiNVfUJvrsWEX4Obg/LaY8yTYGLlRwCXYFHuXuK4bAv6KwCW+3Q8bWnIO9lC/MOPT/mmwGn8X7KYtNeqJ0u/HG21Do22O0t8b67nOMiqazbF6DsR6/cTP/wg42vlzY87Il2NftX4bW6Z1XkcHAr8PNFfTFMuP1dNQvh9vtA2FKqN6bM7STqF1QrcLaNWANeQG0D6H6MXAXsH5WYLtbNW8AdgY3Wx+yWOBCQFv7ozv/wfWwg/3a9UUw69HT9Fs7kT6I7FVqbL91bBlcufN6/D/I/D5w31/KeB5YHCO379O/srA2hF6ovi+vSS+6EuDbGi0zVHp98Z6rrOMGn1dNNQGbFrR9YPjmwB3Y7MwhPzBnfjtxF5HsZoaakOj+b69HrBeA20oVBnVY7Nvp3mkWyh0u4BWD7Q30n6Kr6oH/ArYsIY4PwCO9+2LcAeZLuTXpKkT/Jr0FNzmqunTsUGxIHBfsL9tPt0cvw24N9jfo4v5sXqq8kvY3GgbGm1z1fR7Yz13QRkVzebY9FcE7gr2N+ysni64jmI1dbkNjeaXKKNG29DtZVSPzeF+CsUPacx0J6F+5QMfYhPyX4K9kd5bQ5yPgCV8LFVfVb2ui/k1aeoEvyY9nbSh0TZXTV9t4ZYMnwH/EZs+7mrM+7pDuiFfVacBn4jIfCJyFbYYS5fxY/XUws/b3GgbGm1zLennbW5EHkWr586WUdFsriP9j7Dxr3j6G3ZWT76MYm2oQ1OX29Ds+0sTbOj2MqrHZhJaCqkx3UlI+7yPX2ILfbyvqrv6OSkb0fARNlH7e6q6Rw1xauLHauqEDR30iKMCv2YbYvldZUMN/D7Y5+RHgE9Udf9yRC+OftiS4A8BH6nPMV7Ghih+rJ56+I22odE215l+Q/MoWj3Xo6doNteZ/hRs/vn7gf+p6jHl0o/V04k4sZoabUOj+dB4G4pWRvVoSig6tADd460Q8DG2Fc4vjzvq+H7V8U7YSlwXBPt9u5gfpakOfl5PzTYDA2os187aHJt+LTb8DTg7opyuA85pID9WTxS/STY02uao9HtjPddZRkWzueb0scVd3gF+2Sg9sXFiNTXDhibwG2pDQcsoWlMKxQ7dLqDIAVuxaLUy56TM9lw13mD7+v/VsMndswUGSjb+Av56wPoBv5yObJzWfsAypTSV4R+JOXBUuxn0DbYvAn4YYfP12LyvNeUB7ADsHmHz6sBKkTYMCPlhuiXiZQubtNVY1ysHttTKHxDBXxdYOIbv/5es9QbumsZgc3XXasO+5a69Mvx5I8p03XwZVamzbHGfXlXPwJIxevz/GHLOVK1Uz7Q7F9fC3zyyjrNrQiJ+O+vmNVXhb45N9xnDHxZ5XawRyd8Jc/aOKaPZIspo86C+atXU0Hqm/XkSY3NN6Yeaas0jhWKHNMyjDMTG3J0MHCsit4nIornPhW3O66v+axCRC4CjsU+NpdKc1f+Lqk4VkYmex0nYhO+ozfErZfgXAEdgcyff4XyV9mWzO2gSkZWxqaG2xqZ7y3T0KcM/D1ul6c8azGuZpZ/X49uXYL27v87ZWs6Gs7Gb7IfY1FbVyuhirCG9B7ZoSWZzWxkbLgaOAw4FbhSRwZXS9+1TXP/eIrJKiTyyuNn+ov5fsYdqSQT8bYHzxRZ9GVQDf2dsrutDsMUnsilaii8AABvJSURBVPNShj8WuF5EvpnVW5lP7W1u25+93k5Qm/9UAk65PH4E7A9MC20OrqU8fz9sjuE18nmU4e8BXAGciDXyq6W/CXCmiOyCvThVrDNV/Udvq2esTE/wMtRq6XsZXYHV89SwXFqlnrHVT88QkR3wOnB+ufQzvUoF5H47R2JTbI4Nzleqh43dht1y99Vy9bw18EsRWbLGet4aOExsYY9a0t8bOFpEZsudL1dGu2Fz9m+oFeY7zpXRL7CVKA/L7rlVNK0MHC8iW2IOfdU0bYDV8440oJ6xOaRPFZGdIu6pJwBnAt/Jccr93m7PbKxUrgmtgdSYLgERWQ8YpKrrq+qWwL+wm+cKfn4wcL+ILBI0yH6EPUwFm8R9iSC9PiIyP3CliCzrP/rTgIVUdWNVHQN8LSI7t0eZiX86sIiqbo49MF53Dt7o7KDJf8AfAE8C3wC2E5FvePp9RWSBHP90YDNVHesCFhORRYP0B+X0iIhkU9Jto6qficiaIrKppz1AROYErgri/B8wBJug/mFsSe9KZbQrMFxVt1DVDYAXROQbIiL+0jEoZ8N4YKiqfltVd8OmwZskIst5HguVsOEM7MvAb7EhInv4gzt7sRkiIqsF+5diKyter6rT/VjY6BgsItv4DXKa2GqLy2Pz224FbJO71vL8idjyxxdjC9KMyriueWioJzuFLc5yvIiskSXt6c/EF3sp66uq47J0S+QRavoeML+qbqmqn2LzpGb86WIvmnkbpmG9TQdl5V3B5l8Cg7GXxGWA4bn0O9jg19FywNXYimOHishWwfkO+j3PXlXPYR27/op17Gm0dD17+mthY6Z3AfYTkQ2D9AeLyJAg/pXABSJyppfRdAkaYyKySInfzoXAt4CnsBeV8VmZlorj9bA88Efg3OxcUA9DQk1+ah6gL3CAiCwfXEbk+a6nn6oelG+QBemHeg7Bvjpsoar/I2gDlKmDidgCIuOBfUVkaE7P4BJldI7X7S+xhvg3K9ksIr/Crv+HsRfMo4I0p5ewIazn73R1Pefq+PhqdezHwno+r8Z6nlHuJLQ8+lan9Eq8DHwlIsur6lOqur9Yr9ZPRWScqr4lIg9hb8bfU9UvgXuBScACWI/FjiJyraq+7D+WD0Tk79gNdRzWQP+/IM8ngIVgxo/rAxF5zPk7Aw+q6uHOPQLYHlsaew6gnKY3ROQybHWwsViDej5s8vgHAv7ezlnKb0rDsIeRiMjXwNaq+u9A/5beeJ6OzYSxscfZG3gPW9HpYlW9XUQme5y9gBdU9YdYwncBd4vIg6r6h8DmR7M8gJeA50RkWawBvp2XkYjIYar6TGgz8AbwtIjMoar/xXr8/w+bLm8HVX030JPZIMBxqvpXEXkeG0KznohMUdVrgR2BISLyD6wnrT/2gD9SrKE11m/A/bCHztoeHnXdQ4Fv+w38Y+AiEbkWc3zEuWs5fxlgiKp+28voT9iStXMCL6rqP70eh7qeaV5uT2ONrBeAI0TkCKyn81Hs8+wiIvIPVf1aRNbBGm/Leh7jsQffR8Ajakurr5FpAt7CVl28w/kHYcv0vgu8oqrZg3B9t2EtbK7ULZw/Bpt79xmxrwdZGa3p/M+wnqjDVPU1EXkN2F1EVnSbb/Z6H+42DwQWxoYVvSYib2C9ZmNFBLWl5NdyGx4F3vI6LlI9LxtZz9P9AVxTPbvtsXVMZD2v3eB6niWmnkXkQ2yI3UGq+pyIPOllOFpEvlLVh4DDsFUJfyQio7AVEnfDVin8haoe5vXXF3tJGJddE/7b2RZ7Wd/Mbf4A+3J5I3bPmx7Gwe5ZQ4N6vgpY3ev5SVV9D1uFVl1Tm9fz89jXuzewpdiz5dGfcRumOX8MsJeXE2K98fNgs0Q8oKrvEFzXqvo18An2QomIfB9YWUTeBJ5W1RtzdbAbNqxoKxGZHXtpWgx7rmRltDMwOCijhbFnwfdU9X0ReQDY2q/5J1R1MnCIX28/EusQWRybxvB9EXkHG/c+RUSmqS3JvTPt13bfRtYz9rW05jp2m7eLqWcSeia0AGNNihawH+uZwK7AXMHx67FGItiDYS980nU6ziG5PvAL4Bispwfax3V9Fxt7Ngh7YGTjsnYCTi+hJeNnYzGHY2/83/D9m4BbfHuBTBPWeGjDxjOPxsaKPoU1dldx/nwBf1bs5v9PrBG7hMe/HriphJ5M927A8diDbi4/dihwZ8D5Lh0nsM8WUTgQ6/EfiC+6kstjWeBc7HPhC0FZngXc49vzBzasAtzm+e+MTYq/IbYS1YR8+r49wXnzBOl9FzjZ9+fFGhi7+P6iXrZzA7/DVnhrC9IeiPU27grMjq/m6OU/EBsrvlDAnwVbLWtX388Wn9kT+K9rOQ+7HufxMEOPc5fAhvPMgY1ffRW4PajjPH8C5nl+KvAXrOF1KXCGpz879sDNNG2FvWxti61Qtx72kL4ee8DOmvGB2XPX7wFYgy0cpzwb8Jsg/TNc81lYY3E7bLjUJdjXoLlzdXAWNof4bNg1epPzj/Lzc4Tp+7FjIut58Yh6HgCsEFnPszSynt3emuvY42wXUc8DoIO/Qi31fFZkPZ8TU8/Aaa5vTt9fDDgBODy4Pz4IbB+cH4ANMbjYyz6s4zmx+0mmZyHgm9k9DPvK9hdgjtyz43asM6JPUM97A19gQ2gmAccG1+EMTX5sJew3uqj/fwL4TfDcCW34OdbI/gnwANZYuycoow7XEXbd3IvdH+/EGo8TsOfE8mEdYI30sI5PAh7O/b7nzuwNjp3nGk4DPsWG9lyEPRPnztuMDb06xOu4r5fPucB+wW9zRh7Y0MiYeh5Waz1jDe/la61j3+9L+7j+mus5hZ4Vul1AUQM2R+lt2FvoQn5sSeBM3xZyqxfl4m/sN58f+81ugh/vV4b/PdqXHr0D2LcUH7tBDwz2hwPnldOE9dzsBJyCfUb7tesamudjD/zN6Ljc9gjg3GC/by79lbDlev8JjA6O/x57W69k80ZYo2ORzLZ8Hn7jGoQtBzwoO4894OcsYcMmWE/02cABfmyHrDx9f95gew7sgXQq7Q3s4diKVtlLxzCsJzGvf05s/OcVvn+w6x2e8UuU1x8CO77rtsyUPvY5PFuhawjwJ3zVrZDv8YcDV/r+udjL0K20O5TNS7BEux+bADwLtpy85/cAsGYpm7EXpsfx1SWxB9/RwG5BmYX88GF1A3BMro7z6e+MPXw38/25sQffNiVsXhVraD2KXT8HYA/+Z2m/5ubFXg5XDfI4s0o9bwxsEVHPG2d6S8QpVc8bY73XtdZzh/Sx32Kleu6gH2tQV6rjrIxGBXFOrlLPeU0DqtRzB5uxBkulep7Bx+63F1Sp5y2AnXx7Ea/j7wOz+bFvAq/g9zTsXjA2Vwdt2H3sEuAkP5bZO5/HWbdMPd8ZbG/t/7ckWPwJu0eNDOp5Waz3eeVA03YBfzV8mXRsienXsOt9yYC/Y8A/HeuNzup5Gazz4ZtBGYX8k7DGblbmc2HPha0C/WHjPqzj64Hx4b3Ny2gsvvCI7+/r2tfzY0OBu4AN8jZjz9pfY437h7Bn4TJY58+CzvlRkP6SWMO8Uj0fna+zKvV8OO1OhH1y8UrV8XzAUcx8X61Uz4sSvGCn0LNC1nOYUAIisgX2Vv0c1iAeD7yjqntXiCPqheqfvG/EVjratUpea2MPXYCpqrpvjRqvAd5V1YMrpHs79oltHbFhHtuo6sVl+P3UPgdm+9diNpdM3zkrYT1f07AH3YbAf1X1u+XiBHEvwB6C26mPP8+dF6wX7efY9ENPYZ/xPlfVPaul72ncCvxFVU/2/D7Fps97ydNfA+uNmwX4iap+KCJ3YA+pHZ0/UVVfLpP+pVhv3bXYQ21G+gGnr9q47klYw/RQbLJ/zacffO7N23A21ps3kx4ROQp7oH2GNUx3xBq0vwhszsdZWO1TcLZ/G9YY2aGEpoWxhuj6wEgvo99jjZylyqTfpjY0YnvsQbi/H+9QBwH/e14XB6rqlyJyO9YbuUqeLyL9sZ60r9WGReCfYvfDvr6cj/XkTsWGw3xbREZiL8el6nmngD9dzTehA3L1/Ek+/Sr1TLX0PX5Wz9uX4ovI0X6uQz17HWR8UdXRzl9EVd8O0s/q+L5cGaGqY0RkHuzL13rMXM/fKKOpXD1PLMPfExuTmq/nUc6fBnypqls7f2SZev4p1kDpk6UvIjthQ0v+hV2Pn3v6EzxOxp9RRp7mAOxl5gjsPn+rqu7s1+qiXsYE5drf07kda/z9HOtt11J5yMzOgZNc/z5l+CdgjeqBWENya+zlaY2A309VN3L+MFV9LUj/FuBYrMGZ8fuo6qYisip2bc6JzSjxqfNvxl5US+nphw1xOBxr4B6a2YX1RGdlNC2o50Owl6Wf+fVxB9ZDvUnA/1JVtxbz+VkamKKqD3j8q7Cvjt8AJmMN5EnYs3gsNsznda/n/wX13IZ9YTkKuENVn6hUz9jL3d89/dtU9cnA5rZ8HavqvmLO/TPlET7/w3pWG1qV0IORHBBLwG8QqOqtWE/Nc5j38D8rNaQ9jnoDDWwIxGRtXzykUnl/jDWmp2QN6XJ8MQwTc6z4PGvoBvmGeh7Eeho28P0Ps4Z0yM+2s4a0iMwvIpdXSj8op8exG9LV2KfQv2UN6VKacrb9BhvDPVND2tNWtfHPf3AbjsEWZNiznA3Sjjm8AfSVN6RDJ9HtRWSE3/gexnpRvgAeFJE7sQbASMo4leawCNZzOTmXfin+l15O7wEvlko/bEiLyEARuQ5zJl2xgp43sc/6G3jj6VJvSJd1jM0a0iLS31+a3sc+hZbS9A724L8Mm1HiRmx4Qp8K6Wd2PADsJCJblKiD0IZ7ga+wsfS3YS8mc+X4IzztKar6mKr+U0TmFJGbgS9U9V3sK0zo3DvdG3r/wOr5c6ye/4DV82jKOwOHyOr5New638T5U0vww3r+T7X0c/W8UQn+eKe+Qa6esU//If9LEfmOl9Pbnv6MOlbVe0qU0RSxmQs+xj5V5+t5UDkbytRz3sF6amBDqXoeEfBHA32C9GeqZ+yFOnTIfkdEZlfVa7AG0mLAX72BNR17CSrpwO15fOUvgitjvcI7S0en7y3p6PQ9BX8JwXpr38Fe+PJ5LOD8sCF9DXa/H5fjvyYi2UwWn3l6G6iNM/4N9vIY8l8Rc6om15C+Bhsf/50SeuZW1UexnuO/AHd5Hf8Pa8yWc3L/2uv5CmAvEdnAszstV0ZvBTbcj/1mfueNyv9gL1Eh/wMRmVdV31LVe9R8eWZ1/pfYb/V9zJF+KS+zRdVWqn0Q+1LxcFDP/6SM473Yi26Hevb0PgjS317aHfXb1HyPZtSxN6RLOfcvTQ5ZPaeGdC+BFqB7vCgB+5RcckhCjtenljj4p8gwTjk+9unqiGBfqvAXp+M4tZnSz9IIODMteFIh/SF0/DRYk82lyqlKGYXDAarZPBv+Wa/GMh2A9a5l+6tgN8y1MMfEI/FPpwFnFLCSb48swV8i1Iv1gp0e8L9Rju+cS4Dra+FjvToH0T5espSeEVlZBOURlmk1GwbijeRqeQRxlqD9k3I1G7K5YBerpsfLczDWSzwuoky3xHqnwIbt/ICO45VPAA7NxVkV++Rbjn9Ijr8W1jOV8Reuwv8N9gCuysdeGA72OOX0/DCo5+x30laLfux3sC/2glWpjH6Ys2EE1iitxYbs2lusmiav54WxnvWdI8p0K2xI2exYT21WDsdijcffYb4b2TjljbAX8HL8S7EvhwP9+Ca0D7WbHR8GUSXObVgDM8ujTzm+h6Ox8b7lNF2OvcjMHuQtFfh5PYdl8Sukf13AXxl7Sa+qP9CzYlBGW5coo8uwF8nZsReAfbExxOU0XYZ9mcg0jQeuytl/KPa15FdehifRPoRkI3z4SBn+kZivwLr5eg5+U6X464R1XOJaz8f5BTY/9bxZPYea8s+nFHpW6HYB3Wb4zOOiRmK9ngNLcGdM3h7+KCrFCfMI4tfK79PI9GvV3xmbG8H3m2SUzbm45ZxEF/Bj+fHNA8rw56+XT0dHzGr8fjnN5fiDSunxY9UcY2u1oVwZVUs/P+a/XPoLRurJ0m/L8ftQo3NvEGehrubjzlER/H6d0BNrbz1l1O1lWqq8mNkh+2bsS1et/JuAm8uUUSWn70m+vVyNeWRjoAfXwP897vRNx3tvJT03+vb8NZbRpBI2V0o/tox+D1zXRfVQypH+A4KOkhr47+GdJBH8kc5ZJscv59z/Pu0vGuGLZFqQpReEbhfQLUa395YJNv1V9iAv29saGyeGn/04G8WvR0+jbW4Gv4brIHQSfZbgy0CN/AkR/Odwb/OwjKuk/+MI/jMhvx6ba9QUW0aNLNNngSNrsDnv3LtPJH/fCP4fcOe9CmWa5+8dwb8j5NeoZ59K6XdRGTWyTMvyKeOQXcHOcvxKy1GXinN+jiNdzD+vwXpi0y/Lr6dca+HnbCjnSD+8TPrl+ItF8E+h48tP/ktvqTgn0/GLdOqR7iWh1zog+pjdG7G3yYHAo6p6dnB+ZWyOyGn1xml1fhE11WNDHiJxTqKtzi+ipmbYHMSNcu7tbfwiaqrHBo9X0SG7s/xm5NHq/EbkIfGO9A3l1xsnoQeju1vz3RWwt+ADsfG2T9NxKqOtgd07G6fV+UXUVI8NZeo/e5GciHlwZ8fL9aS0NL+Impphs59fDnNOOr+WOL2NX0RNMXzsS9Uw4ErcvyC8XjrLb0Yerc5vkqb1KD2UrVv49cZJoWeGbhfQNENtUvj1shsyNjXQBsAttE/2PoTA2So2Tqvzi6ipHhtK1P0wusBJtFX4RdTUnTYT79zbI/lF1NSF/KoO2bXwm5FHq/ObrYlcw5QqjvSN4NcbJ4XeE7pdQNMMhZ9hXrnf8v0fYFM+/STgTMKWNa0rTqvzi6ipDn5dDpC0P6xbip/FoWODqaVsaLLNsc69LckPyihsALWUDZ3gp99OLyijWD218uuNk0LvDt0uoOEGdlxN7yDMIWcN7C3zZGz6qi0wb+KL64nT6vyeYLPzCuUA2Wh+ETUVzWbn9Cp+KqNURj2xjGL11MOvN04KKfRoB0RpX5mrH7C+qt4tIj8G1gFOxCba3wqb8/QLVT1RRNqwVazaaokDnOJ59MfmvWwpfk+wWVVP9PrOFoIpjANkchJNNqcyKia/iJqKxi+ipiLanJDQ7a35RgWCT4TYils/DY5NwObBXCMfJwhV4wTn2lqR3xNsLhGvUA6QjeYXUVOyufv5RdRUNH4RNRWNX0RNRbQ5hRS6XUDDDbQxt78scfxHwKOUcFyLjdPq/CJqqpVPwRwgG80voqZkc/fzi6ipaPwiaioav4iaimhzCinkQ/ZZvMdARI4QkS2CQ32A1/1cf/8/UFXPAI5S1Zdi4wDbtzK/J9isqi85bz5sAY/VfP9dzCFxsqqe7sfOA9buIfwiako2dz+/iJqKxi+ipqLxi6ipiDYnJHREd7fmuzrgy3jin2Gwif9/AcwbcM4B1q43Drb0rbQqv4fY3Jd2J5lud4BsND+zuUiaks3dz09llMoolVHzbM64KaSQDz3GAVFE+qvqFBHpCywA3AdcBJwNXAp8iDkTrIg5re0SGwf4Xivze4LNbkOUYykFc5iM5WsPcBJNNqcySmVUTH5vLKN6bNbA0V1Vp5OQEKIrWuTdHYBvAEcDcwBnAaOAZYC/YE4EfYEdseEEh9QTp9X5PcFmt6EP1oPdkg6TsfzA5pZ1Ek02pzJKZVRMfm8so3pszueVQgr50O0COm1A+w/gfOAz4FfBuWWAhwhW0srieKgpTmweReP3BJtLxCuEA2Sz+EXUlGzufn4RNRWNX0RNReMXUVMRbU4hhXKhLy2M4HN/X+BrrEdzsey4qj4rInsB14nIq6p6bWwc4IZW5vcEm92GI4CnVfVWr/4ODopqQ0UGquoZIvIE5tDYsnx1J9Fkc2vZkMqo+/mpjFIZdZXN2u7onpBQGVqAFn09gXbnMwGuBM7y/XOAOwPeusCgeuK0Or8n2Bzst7rDZG90Ek02pzJKZVRAfm8so3ps9v0ZS6mnkEK50PIOiCJyBrC4qm7n+3MAZwDLA+8Bz6rqUX5OVFVj4wCntzK/lW0Wcyj5GhsP1+0OkI3maw9wEk02pzJKZVRMfm8so3psVtVdSEiIQXe35jsTsB/FscDHwDq5cwcCEzobp9X5RdRUK5+COUA2mp9sLoamovFTGaUySmXUPJuDZ1HqkU6h5tDtAqLEwm/8gt8gODYL5iwwCVi9TJyja40T5LFhK/J7gs1+vqUdJmP5yeZiaCoaP5VRKqNURs2zOZ9XCinUGrpdQM1CYVbgDuAe4Fbgt8DSWKNMgIOxhtm69cZpdX4RNdVpQ5v/74t9hrvL47YFnGWAp7AehZbmJ5uLoalo/FRGqYxSGTXP5krtjxRSqBZaZjlxVf0ca3QpsBPwAbA31jgbDNyIrV60Sr1xWp1fRE2xfB/jPc3HVV8GTFfVTYF/AbfTjgWAjYDrWpmvNlNJsrnFbEhl1P38VEapjLrKZlW9loSEzqC7W/O1BIKxS9ib5Za+fTPwGuZMMBFYs944rc4voqZ6bAj4ZwA3BvtzOPchbGnXk0O7W52fbC6GpqLxUxmlMkpl1Dybs+0UUogN3S6gZqHt46V2xcbfng/c78dWATbrbJxW5xdRU502FMIBsln8ImpKNnc/v4iaisYvoqai8YuoqYg2p5BCZ0K3C4gWDMOAF4EXy5yf6e0yNk6r84uoqRKfSMfSgF8Ih8lYfhCnZZ1Ek82pjFIZFZPfG8uoHpsDTnI2TKHTodsF1CUaNsXG3M5W6w8hNk6r84uoqRSfgjlANppfRE3J5u7nF1FT0fhF1FQ0fhE1FdHmFFLo6tAyDog5PAYsDoxQ1ekNitPq/CJqmomvBXOAbDS/iJqSzd3PL6KmovGLqKlo/CJqKqLNCQldju5uzdcbsAZZQ+O0Or+ImkI+BXOAbDS/iJqSzd3PL6KmovGLqKlo/CJqKqLNKaTQiNCXFoWqvgQzplLTRsRpdX4RNeX5ItJHrZf6GmAFEdkcmEdVh4nIKsCCqvoXj9vS/CJqSjZ3P7+ImorGL6KmovGLqKmINickNALZ9DEJCd0KERkG/BFAVZcscb5DY73V+UXUlGzufn4RNRWNX0RNReMXUVMRbU5I6Cq06pjphB4GVX0N2B94SERmE5E+ufPak/hF1JRs7n5+ETUVjV9ETUXjF1FTEW1OSOgqpMZ0QpFQeIfJLuYXUVOyufv5RdRUNH4RNRWNX0RNRbQ5IaHTSMM8EgoFERmhPq66N/CLqCnZ3P38ImoqGr+ImorGL6KmItqckNBZpMZ0QiERO7at1flF1JRs7n5+ETUVjV9ETUXjF1FTEW1OSKgXqTGdkJCQkJCQkJCQUCfSmOmEhISEhISEhISEOpEa0wkJCQkJCQkJCQl1IjWmExISEhISEhISEupEakwnJCQkJCQkJCQk1InUmE5ISEhISEhISEioE/8PWpNxuXb/ZEMAAAAASUVORK5CYII=\n",
            "text/plain": [
              "<Figure size 864x720 with 2 Axes>"
            ]
          },
          "metadata": {
            "needs_background": "light"
          }
        }
      ]
    },
    {
      "cell_type": "code",
      "metadata": {
        "colab": {
          "base_uri": "https://localhost:8080/"
        },
        "id": "9--cgabHU7SY",
        "outputId": "b9b98947-e9da-4945-e228-a4d080e67086"
      },
      "source": [
        "minimum = []\n",
        "for i in pairwise_similarities:\n",
        "  minimum.append(min(i))\n",
        "  print(min(minimum))\n",
        "  "
      ],
      "execution_count": 12,
      "outputs": [
        {
          "output_type": "stream",
          "name": "stdout",
          "text": [
            "0.5235593\n",
            "0.5235593\n",
            "0.5235593\n",
            "0.5235593\n",
            "0.5235593\n",
            "0.51908576\n",
            "0.51908576\n",
            "0.51908576\n",
            "0.47544855\n",
            "0.47544855\n",
            "0.47544855\n",
            "0.47544855\n",
            "0.47544855\n",
            "0.47544855\n",
            "0.47544855\n",
            "0.47544855\n",
            "0.47544855\n",
            "0.47544855\n",
            "0.47544855\n",
            "0.47544855\n",
            "0.47544855\n",
            "0.47544855\n",
            "0.47544855\n",
            "0.47544855\n",
            "0.47544855\n",
            "0.47544855\n",
            "0.47544855\n",
            "0.47544855\n",
            "0.47544855\n",
            "0.47544855\n",
            "0.47544855\n",
            "0.47544855\n",
            "0.47544855\n",
            "0.47544855\n",
            "0.47544855\n",
            "0.47544855\n",
            "0.47544855\n",
            "0.47544855\n",
            "0.47544855\n",
            "0.47544855\n",
            "0.47544855\n",
            "0.47544855\n",
            "0.47544855\n",
            "0.47544855\n"
          ]
        }
      ]
    },
    {
      "cell_type": "code",
      "metadata": {
        "colab": {
          "base_uri": "https://localhost:8080/",
          "height": 594
        },
        "id": "zuBKPk94IJNV",
        "outputId": "c35f1e52-8eb5-4b62-ce8d-85c0af4f3b17"
      },
      "source": [
        "import seaborn as sns\n",
        "fig, ax = plt.subplots(figsize=(12,10))\n",
        "ax = sns.heatmap(\n",
        "    pairwise_differences,\n",
        "    cmap=\"YlGnBu\", mask=mask, square=True)\n",
        "ax.set_xticklabels(\n",
        "    ax.get_xticklabels(),\n",
        "    rotation=45,\n",
        "    horizontalalignment='right');\n"
      ],
      "execution_count": 13,
      "outputs": [
        {
          "output_type": "display_data",
          "data": {
            "image/png": "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\n",
            "text/plain": [
              "<Figure size 864x720 with 2 Axes>"
            ]
          },
          "metadata": {
            "needs_background": "light"
          }
        }
      ]
    },
    {
      "cell_type": "code",
      "metadata": {
        "id": "7vBwg_yVIOeJ"
      },
      "source": [
        "articles_df = articles_df.sort_values(by=['Date Published']).reset_index(drop = True)\n",
        "Pre_covid = articles_df[articles_df['Classification']=='Pre-Covid'].reset_index(drop = True)\n",
        "Covid = articles_df[articles_df['Classification']=='Covid'].reset_index(drop = True)\n",
        "Pre_covid_document_embeddings = sbert_model.encode(Pre_covid['Clean_Content'])\n",
        "Covid_document_embeddings = sbert_model.encode(Covid['Clean_Content'])"
      ],
      "execution_count": 14,
      "outputs": []
    },
    {
      "cell_type": "code",
      "metadata": {
        "id": "SuM7c-RoN00E"
      },
      "source": [
        "pairwise_similarities=cosine_similarity(Pre_covid_document_embeddings)\n",
        "pairwise_differences=euclidean_distances(Pre_covid_document_embeddings)"
      ],
      "execution_count": 15,
      "outputs": []
    },
    {
      "cell_type": "code",
      "metadata": {
        "colab": {
          "base_uri": "https://localhost:8080/",
          "height": 603
        },
        "id": "XFhE6RxyOGsX",
        "outputId": "353c61ab-d81e-4aa3-98cb-9d86b7b351d8"
      },
      "source": [
        "fig, ax = plt.subplots(figsize=(12,10))\n",
        "mask = np.zeros_like(pairwise_similarities)\n",
        "mask[np.triu_indices_from(mask)] = True\n",
        "pairwise_similarities\n",
        "ax = sns.heatmap(\n",
        "    pairwise_similarities,\n",
        "    cmap=\"YlGnBu\", mask=mask, square=True)\n",
        "ax.set_xticklabels(Pre_covid['Date Published'])\n",
        "ax.set_yticklabels(Pre_covid['Date Published'])\n",
        "ax.set_xticklabels(\n",
        "    ax.get_xticklabels(),\n",
        "    rotation=45,\n",
        "    horizontalalignment='right');"
      ],
      "execution_count": 16,
      "outputs": [
        {
          "output_type": "display_data",
          "data": {
            "image/png": "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\n",
            "text/plain": [
              "<Figure size 864x720 with 2 Axes>"
            ]
          },
          "metadata": {
            "needs_background": "light"
          }
        }
      ]
    },
    {
      "cell_type": "code",
      "metadata": {
        "colab": {
          "base_uri": "https://localhost:8080/"
        },
        "id": "axMPf4sfXdlE",
        "outputId": "d8b79053-b6e6-4f9f-e184-17b53f62d200"
      },
      "source": [
        "minimum = []\n",
        "for i in pairwise_similarities:\n",
        "  minimum.append(min(i))\n",
        "  print(min(minimum))\n",
        "  "
      ],
      "execution_count": 17,
      "outputs": [
        {
          "output_type": "stream",
          "name": "stdout",
          "text": [
            "0.59823334\n",
            "0.57971\n",
            "0.57971\n",
            "0.5288871\n",
            "0.5288871\n",
            "0.5288871\n",
            "0.5288871\n",
            "0.5288871\n",
            "0.4823981\n",
            "0.4823981\n",
            "0.4823981\n",
            "0.4823981\n",
            "0.4823981\n",
            "0.4823981\n",
            "0.4823981\n"
          ]
        }
      ]
    },
    {
      "cell_type": "code",
      "metadata": {
        "colab": {
          "base_uri": "https://localhost:8080/",
          "height": 594
        },
        "id": "bn6UoBgbOMG5",
        "outputId": "1fe57d89-fa56-4c7d-eee9-22150336deb9"
      },
      "source": [
        "import seaborn as sns\n",
        "fig, ax = plt.subplots(figsize=(12,10))\n",
        "ax = sns.heatmap(\n",
        "    pairwise_differences,\n",
        "    cmap=\"YlGnBu\", mask=mask, square=True)\n",
        "ax.set_xticklabels(\n",
        "    ax.get_xticklabels(),\n",
        "    rotation=45,\n",
        "    horizontalalignment='right');"
      ],
      "execution_count": 18,
      "outputs": [
        {
          "output_type": "display_data",
          "data": {
            "image/png": "iVBORw0KGgoAAAANSUhEUgAAAocAAAJBCAYAAAA0pR9LAAAABHNCSVQICAgIfAhkiAAAAAlwSFlzAAALEgAACxIB0t1+/AAAADh0RVh0U29mdHdhcmUAbWF0cGxvdGxpYiB2ZXJzaW9uMy4yLjIsIGh0dHA6Ly9tYXRwbG90bGliLm9yZy+WH4yJAAAgAElEQVR4nO3debhkZ1kv7N/TISSEQBgCEWQ+MnhAZWjBmSAIiDkg4ERUUHNo/T5nPUfxoAcRQbg8iBw9Di1D5CAo4kC+gBFEAygKtBpiIIgTQsIQgRAuJAJJnu+Pqq7s3aR3dVZ21apefd+56krttfaq+q1du/d+9vO+663q7gAAQJLsGTsAAACbQ3EIAMCC4hAAgAXFIQAAC4pDAAAWFIcAACzcaOwAAABHo5vc6QlrXQ/wyve+vNbxPDqHAAAsKA4BAFgwrAwAMEDVNHts6ygOvT8fALDb1jL/7likcwgAMEBNdHbeNM8KAIBBdA4BAAaY6pzDaZ4VAACD6BwCAAygcwgAwOTpHAIADFA1zdV0dA4BAFjQOQQAGGSaPbZpnhUAAIPoHAIADOBqZQAAJk9xCADAgmFlAIABpjqsvLQ4rKp7JXlMks+db7o0yTndffEqgwEAsH47lrxV9eNJfjtJJXnr/FZJXl5VT1l9PACAzVTZs9bbuizrHJ6V5N7d/ZmtG6vqF5K8I8mzVxUMAID1W1aGXpPk9tex/XbzfdepqvZV1YGqOrB///4bkg8AYCNV7VnrbV2WdQ5/KMnrq+ofkrxvvu1OST4vyfcd7qDu3p/kYFXYNzQkAADrsWNx2N3nVdU9kjww2y9IeVt3X73qcAAAm+qYvVq5u69J8ldryAIAwMiscwgAMMBUO4fTPCsAAAbROQQAGKBSY0dYCZ1DAAAWdA4BAAYw5xAAgMnTOQQAGEDnEACAyVMcAgCwYFgZAGAAw8oAAEyeziEAwCDT7LFN86wAABhk5Z3Dt1z26lU/xfXyoNt+3dgRAIAJMOcQAIDJM+cQAGAAnUMAACZP5xAAYICaaI9tmmcFAMAgOocAAAOYcwgAwOTpHAIADFBVY0dYCZ1DAAAWdA4BAAYw5xAAgMlTHAIAsGBYGQBgAItgAwAweTqHAAADuCAFAICNVVUvqqrLquqiLdt+uqouraoL5rdHLXucwcVhVX3n0GMBAI52VXvWejsCZyd55HVsf15333d+e82yB7khncOn34BjAQDYRd39xiQfvaGPs2NxWFUXHub2d0lO2+G4fVV1oKoO/OFLzruhGQEANk5lz1pvN8D3zeu3F1XVLZd98rILUk5L8ogklx+yvZK8+XAHdff+JPuT5C2XvbqXhQAAYGdVtS/Jvi2b9s9rrp38apJnJOn5/5+b5Lt2OmBZcXhukpO7+4LrCHj+kmMBAKZrzVcrb22+XY9jPnTwflX9Rma13Y52LA67+6wd9p15fcIBALBeVXW77v7A/MPHJrlop89PrHMIADDIpq1zWFUvT3J6klOr6pIkT0tyelXdN7Nh5fck+e5lj6M4BACYgO5+wnVsfuH1fRzFIQDAAFU1doSV2Kx+KAAAo9I5BAAY4AauPbixpnlWAAAMojgEAGDBsDIAwACbtpTNbpnmWQEAMIjOIQDAEJayAQBg6nQOAQCGmGiLbaKnBQDAECvvHJ58fK/6KY7Yh/9jT97wgdeMHWObB9/uUWNHAACGMOcQAICpM+cQAGAInUMAAKZO5xAAYIiJttgmeloAAAyhcwgAMECbcwgAwNTpHAIADDHNxqHOIQAA11IcAgCwYFgZAGCIPdMcV9Y5BABgQecQAGAIS9kAADB1OocAAENMs3G4vHNYVfeqqodW1cmHbH/k6mIBADCGHYvDqvqBJK9K8v1JLqqqx2zZ/axVBgMA2Gh7ar23dZ3Wkv1PTvKA7v76JKcn+amq+sH5vsOmrKp9VXWgqg787tnn7U5SAABWbtmcwz3d/Ykk6e73VNXpSV5ZVXfODsVhd+9Psj9J3nH5ub1LWQEANscxerXyh6rqvgc/mBeKZyQ5NckXrDIYAADrt6xz+MQkV23d0N1XJXliVf36ylIBAGy6aTYOdy4Ou/uSHfb9xe7HAQBgTNY5BAAYwnsrAwAwdTqHAABDTLNxqHMIAMC1dA4BAAboY3SdQwAAjiGKQwAAFgwrAwAMYSkbAACmTucQAGCIaTYOdQ4BALiWziEAwBCWsgEAYOpW3jk849mrfoYjd5+H3WzsCNv86weT5E1jx9jmwm//yrEjAMDRwdXKAABMnTmHAABDTLNxqHMIAMC1dA4BAIZwtTIAAFOncwgAMITOIQAAU6dzCAAwxERbbBM9LQAAhlAcAgBMQFW9qKouq6qLrmPfj1ZVV9Wpyx5HcQgAMETVem/LnZ3kkZ8ds+6Y5OFJ3nskD6I4BACYgO5+Y5KPXseu5yX5sSR9JI/jghQAgCGOgpVsquoxSS7t7rfXES69ozgEADgKVNW+JPu2bNrf3ft3+PyTkvyPzIaUj9jS4rCqHpiku/ttVfWfMxvLfld3v+b6PBEAwJT0nvW2DueF4GGLwevwn5LcNcnBruEdkvxNVT2wuz94uIN2LA6r6mlJvjbJjarqdUkelOTPkjylqu7X3c+8HgEBAFiT7v67JLc9+HFVvSfJ3u7+8E7HLescfkOS+yY5IckHk9yhuz9eVf8ryVuSKA4BgGPThr19XlW9PMnpSU6tqkuSPK27X3h9H2dZcXhVd1+d5JNV9U/d/fEk6e4rq+qaHcItxsRv/fDvzc3u+1lXVQMAsIu6+wlL9t/lSB5n2VI2n55PZkySBxzcWFWnJDlscdjd+7t7b3fvVRgCAJNUa76tybLO4Vd196eSpLu3FoPHJ3nSylIBADCKHYvDg4XhdWz/cJIdJzMCAEzamq9WXhfvkAIAwIJFsAEAhtiwq5V3i84hAAALOocAAENMs3GocwgAwLUUhwAALBhWBgAYwlI2AABMnc4hAMAQOocAAEydziEAwAA9zcahziEAANfSOQQAGGKicw5XXhxec6ubrPopjtimvYZnfuF/jB1hmz9630l58Ll/MXaMbd5wxpePHQEAjik6hwAAQ9SGdZ12iTmHAAAs6BwCAAyxafPVdonOIQAACzqHAABDTLTFNtHTAgBgCJ1DAIAhXK0MAMDUKQ4BAFgwrAwAMISlbAAAmDqdQwCAAdoFKQAATJ3OIQDAEBNtsU30tAAAGOJ6F4dV9ZJVBAEAOKrsqfXe1mTHYeWqOufQTUkeUlW3SJLufvSqggEAsH7L5hzeIck7k7wgSWdWHO5N8twV5wIA2GzH6NXKe5P8dZKnJrmiu89PcmV3v6G733C4g6pqX1UdqKoDn3jLubuXFgCAldqxc9jd1yR5XlX97vz/H1p2zPy4/Un2J8mdn/P63o2gAAAbZaLvkHJES9l09yVJvrGqvi7Jx1cbCQCAsVyvdQ67+9VJXr2iLAAAR49pNg6tcwgAwLW8QwoAwAA90TmHOocAACwoDgEAWDCsDAAwhGFlAACmTucQAGCIY/Tt8wAAOIboHAIADDHRFttETwsAgCF0DgEAhjDnEACAqdM5BAAYYqLrHK68ODzzoat+hiP3A//5Y2NH2OZH33rzsSNsc+kL/2nsCNtcc8eb526v/cOxYyz88//++rEjAMDK6RwCAAwx0c6hOYcAACzoHAIADNCuVgYAYOoUhwAAQ+xZ822JqnpRVV1WVRdt2faMqrqwqi6oqtdW1e2P5LQAADj6nZ3kkYds+/nu/sLuvm+Sc5P8z2UPojgEAJiA7n5jko8esu3jWz68aZJe9jguSAEAGOIouSClqp6Z5IlJrkjykGWfr3MIAHAUqKp9VXVgy23fkRzX3U/t7jsm+a0k37fs83UOAQCGWPMi2N29P8n+G/AQv5XkNUmettMn6RwCAExUVd19y4ePSfKuZcfoHAIADLFhb59XVS9PcnqSU6vqksw6hI+qqnsmuSbJvyb5nmWPozgEAJiA7n7CdWx+4fV9HMUhAMAQm9U43DXmHAIAsHC9OodV9RVJHpjkou5+7WoiAQBsvt6wOYe7ZcfOYVW9dcv9Jyf55SQ3S/K0qnrKirMBALBmy4aVj99yf1+Sr+nupyd5eJJvPdxBWxdpvOD3z92FmAAAG6Zqvbc1WVYc7qmqW1bVrZNUd/9bknT3vye56nAHdff+7t7b3Xvv+7gzdjEuAACrtGzO4SlJ/jqz63G6qm7X3R+oqpMz2Wt0AACOwETnHO5YHHb3XQ6z65okj931NAAAjGrQOofd/ckk/7LLWQAAjh7TbBxa5xAAgGspDgEAWPD2eQAAA+yZaIttoqcFAMAQOocAAAOscV3qtdI5BABgQecQAGAAnUMAACZP5xAAYICaaOtQ5xAAgAWdQwCAASbaONQ5BADgWjqHAAADTLVzuPLi8JvveuWqn+KIfc5J9xg7wjZffOp7x46wzeX/z93GjrDNScf12BEWnvmAK/Kuj507doxt7nWLM8aOAMAE6RwCAAxQE52cN9HTAgBgCJ1DAIABpjrnUOcQAIAFxSEAAAuGlQEABthjWBkAgKnTOQQAGMAFKQAATJ7OIQDAADqHAABMns4hAMAANdHWoc4hAAALOocAAAPURFtsEz0tAACG2LFzWFUPSnJxd3+8qm6S5ClJ7p/knUme1d1XrCEjAMDGmeiUw6Wdwxcl+eT8/vOTnJLkOfNtL15hLgAARrCsONzT3VfN7+/t7h/q7j/v7qcnudvhDqqqfVV1oKoO/N5vnrdrYQEANkXVem/rsqw4vKiqvnN+/+1VtTdJquoeST5zuIO6e3937+3uvY9/0iN3KSoAAKu27Grl/5rk+VX1k0k+nOQvq+p9Sd433wcAcEya6pzDHYvD+QUn31FVN09y1/nnX9LdH1pHOAAA1uuI1jns7o8nefuKswAAMDKLYAMADLBnosPKFsEGAGBB5xAAYICpXpCicwgAwILOIQDAADqHAABMns4hAMAANdHLlXUOAQBY0DkEABjAnEMAACZP5xAAYACdQwAAJk9xCAAwQNV6b8vz1Iuq6rKqumjLtp+vqndV1YVV9QdVdYtlj7PyYeXXv/+EVT/FEbvHKR8eO8I29zjlqrEjbPO8121Wnm/58mvGjrBwwUc2awbGGXc6MZ/4zPljx9jm5ONPHzsCwLHu7CS/nOQlW7a9LslPdPdVVfWcJD+R5Md3epDN+o0HAHCU2LRlDrv7jVV1l0O2vXbLh3+V5BuWPY5hZQCAY8N3JfmjZZ+kOAQAOApU1b6qOrDltu96HPvUJFcl+a1ln2tYGQBggHUvZdPd+5Psv77HVdV3JDkjyUO7u5d9vuIQAGCiquqRSX4syYO7+5NHcoziEABggNqwyXlV9fIkpyc5taouSfK0zK5OPiHJ62rW6vyr7v6enR5HcQgAMAHd/YTr2PzC6/s4ikMAgAG8fR4AAJOncwgAMEBNtHWocwgAwILOIQDAABNtHOocAgBwLZ1DAIABjsnOYVX9QFXdcV1hAAAY17Jh5WckeUtVvamq/t+qus06QgEAbLqq9d7WZVlx+M9J7pBZkfiAJO+sqvOq6klVdbOVpwMAYK2WFYfd3dd092u7+6wkt0/yK0kemVnheJ2qal9VHaiqA3/1ylfvYlwAgM2wp9Z7W5dlF6Rsi9Ldn0lyTpJzquqkwx3U3fuT7E+S5/7d6/qGhgQAYD2WFYfffLgd3f3JXc4CAHDUWGc3b512HFbu7nevKwgAAOOzCDYAAAsWwQYAGGBPTfOyCp1DAAAWdA4BAAY4Ji9IAQDg2KJzCAAwwFQ7bFM9LwAABtA5BAAYwNXKAABMns4hAMAArlYGAGDydA4BAAaYaodtqucFAMAAK+8c7n/LCat+iiO299Qrxo6wzTPeevOxI2xz4z/7p7EjbPOKj9x27AgL/3D6yWNH2Oa8S68ZO8I2z/+SK3PFp88bO8bCKTd+5NgRgGOAOYcAAEyeOYcAAAOUdQ4BAJg6xSEAAAuGlQEABnBBCgAAk6dzCAAwwFQ7bFM9LwAABtA5BAAYYI+lbAAAmDqdQwCAAVytDADA5OkcAgAMMNUO21TPCwCAAXQOAQAGmOqcwx2Lw6q6cZJvSfL+7v6TqjozyZcluTjJ/u7+zBoyAgCwJss6hy+ef85JVfWkJCcn+f0kD03ywCRPWm08AIDNNNV1DpcVh1/Q3V9YVTdKcmmS23f31VX10iRvX308AADWadkFKXvmQ8s3S3JSklPm209IcvzhDqqqfVV1oKoOfOyN5+xOUgCADbKn1ntbl2WdwxcmeVeS45I8NcnvVtU/J/mSJL99uIO6e3+S/Ulyzxe8cZo9VwCACdqxOOzu51XV78zvv7+qXpLkYUl+o7vfuo6AAACsz9KlbLr7/VvufyzJK1eaCADgKDDVxaKnel4AAAxgEWwAgAGmupSNziEAAAs6hwAAA0z17fN0DgEAWNA5BAAYQOcQAIDJUxwCAAywZ823ZarqRVV1WVVdtGXbN1bVO6rqmqrae6TnBQDA0e/sJI88ZNtFSR6X5I1H+iDmHAIADLBp6xx29xur6i6HbLs4SaqOfIKkziEAAAs6hwAAA6z7auWq2pdk35ZN+7t7/24/j+IQAOAoMC8Ed70YPNTKi8O73WlzRq7vcNOrx46wzUc+fM3YEbapT2/W16dPOWHsCAtn3PGTY0fY5mGf++mxI2xzyo3vOXaEhYs/9u68/5Pnjh1jm8+/xRljRwBWYHMqnN011fMCADimVNXLk/xlkntW1SVVdVZVPbaqLknypUleXVV/vOxxDCsDAExAdz/hMLv+4Po8juIQAGAAb58HAMDk6RwCAAxQG7YI9m7ROQQAYEHnEABgAHMOAQCYPJ1DAIABptphm+p5AQAwgM4hAMAAe1ytDADA1OkcAgAM4GplAAAmT+cQAGCAqXYOlxaHVXW3JI9LcsckVyd5d5KXdffHV5wNAIA123FYuap+IMmvJTkxyRcnOSGzIvGvqur0lacDANhQx635ti7L5hw+OcnXdvfPJnlYknt391OTPDLJ8w53UFXtq6oDVXXgfa85Z/fSAgCwUkdyQcrBoecTkpycJN393iTHH+6A7t7f3Xu7e+8dH/XoG54SAIC1WDbn8AVJ3lZVb0nylUmekyRVdZskH11xNgCAjTXVRbB3LA67+/lV9SdJPj/Jc7v7XfPt/5bkq9aQDwCANVp6tXJ3vyPJO9aQBQDgqDHVpWwsgg0AwIJFsAEABtA5BABg8nQOAQAGOE7nEACAqdM5BAAYwJxDAAAmT+cQAGCAqb5Dis4hAAALOocAAAOYcwgAwOTpHAIADHDc2AFWROcQAICFlXcOH3WHT676KY7Yi9590tgRtnnbd35i7AjbPOt+dxk7wjZP+aLN+frc/xnHjx1hmw99w4ljR9jmY5++ZOwIC7//3CvGjrDNVfe6dZLzxo6xzXue/sixIwAbzLAyAMAALkgBAGDydA4BAAawCDYAAJOncwgAMMBx5hwCADB1OocAAAO4WhkAgMnTOQQAGEDnEACAydM5BAAYQOcQAIDJ0zkEABjgOO+QAgDA1OkcAgAMMNUO21TPCwCAARSHAAAs7FgcVtUpVfXsqnpXVX20qj5SVRfPt91ih+P2VdWBqjrwF694ze6nBgAY2Z5a721t57Vk/yuSXJ7k9O6+VXffOslD5ttecbiDunt/d+/t7r1f/k2P2r20AACs1LILUu7S3c/ZuqG7P5jkOVX1XauLBQCw2Y7VRbD/tap+rKpOO7ihqk6rqh9P8r7VRgMAYN2WdQ6/OclTkryhqm473/ahJOck+cZVBgMA2GRTXQR7x+Kwuy9P8uPz2zZV9Z1JXryiXAAAjOCGLGXz9F1LAQBwlJnq1co7dg6r6sLD7Upy2mH2AQCwZlX1oiRnJLmsu+8z33arJL+T5C5J3pPkm+Yjw4e1bM7haUkekdnSNdueP8mbr3dqAICJ2MCrlc9O8stJXrJl21OSvL67n11VT5l//FnTBbdaVhyem+Tk7r7g0B1Vdf71SQsAwOp09xur6i6HbH5MktPn938zyfm5IcVhd5+1w74zl2QEAJisdXcOq2pfkn1bNu3v7v1LDjutuz8wv//BHMG0wGWdQwAANsC8EFxWDO50fFctX39HcQgAMMBxmzfn8Lp8qKpu190fqKrbJbls2QE3ZCkbAAA22zlJnjS//6Qkr1p2gM4hAMAAezbsHVKq6uWZXXxyalVdkuRpSZ6d5BVVdVaSf03yTcseR3EIADAB3f2Ew+x66PV5HMPKAAAsrLxz+GtvOXHVT3HEvvTu14wdYZs/uXSzavP3/PtmNZI/8ZkNmum7YbOO3/OJ48eOsM1f/MPmfC/3hq1KWx/71NgRtvndn7pRDnz41WPH2GbvqV83dgQYZHN+8u2uqZ4XAAADbFarCADgKLFhAxW7RucQAIAFnUMAgAE2bDr6rtE5BABgQecQAGCATVsEe7foHAIAsKBzCAAwgKuVAQCYPJ1DAIABdA4BAJg8nUMAgAGm2mGb6nkBADCAziEAwABlziEAAFOnOAQAYMGwMgDAABMdVdY5BADgWoOLw6r6ox327auqA1V14PLzzxn6FAAAG6tqvbd12XFYuaruf7hdSe57uOO6e3+S/Uly7xe/sQenAwBgrZbNOXxbkjfkuofVb7H7cQAAjg5TnZu3rDi8OMl3d/c/HLqjqt63mkgAAIxlWXH40zl8Yfz9uxsFAODoUTXNmXM7Fofd/coddt9yl7MAADCyGzJc/vRdSwEAcJSpNd/WZdnVyhcebleS03Y/DgAAY1o25/C0JI9Icvkh2yvJm1eSCADgKLDOtQfXaVlxeG6Sk7v7gkN3VNX5K0kEAMBoll2QctYO+87c/TgAAEeHiTYOJ7t+IwAAAywbVgYA4DrsmWjrUOcQAIAFxSEAAAuGlQEABpjoqLLOIQAA11p55/DKAx9e9VMcsfP/6MqxI2xz/lffcewI21xz0UfGjrDN6RffauwIC8e/9Z/GjrDNn3z4FmNH2OZGb/3A2BEW3v+hPx87wjY3O+n2Y0fY5pvu+eixI2zTnSRvGDvGwr9874PHjsBRZKqLYOscAgCwYM4hAMAAE20c6hwCAHAtnUMAgAF0DgEAmDydQwCAAbx9HgAAk6dzCAAwwEQbhzqHAABcS+cQAGCAqh47wkroHAIAsKBzCAAwgDmHAABMns4hAMAANdHWoc4hAAALikMAABYMKwMADDDVDtuO51VVN6+qn6uq/1tVZx6y71d2OG5fVR2oqgMff8drdysrAAArtqzofXFmV2r/XpJvqarfq6oT5vu+5HAHdff+7t7b3Xtvfu+H71JUAIDNUbXe27osKw7/U3c/pbv/sLsfneRvkvxpVd16DdkAADhCVfWDVXVRVb2jqn5o6OMsm3N4QlXt6e5rkqS7n1lVlyZ5Y5KThz4pAMDRbpNWsqmq+yR5cpIHJvl0kvOq6tzu/sfr+1jLOof/X5Kv3rqhu89O8qPzJwYAYHyfn+Qt3f3J7r4qyRuSPG7IA+3YOezuHzvM9vOq6llDnhAAYArWvQh2Ve1Lsm/Lpv3dvX9+/6Ikz5xP/bsyyaOSHBjyPDdkKZunZ3bBCgAAKzYvBPcfZt/FVfWcJK9N8u9JLkhy9ZDn2bE4rKoLD7cryWlDnhAAYAo2ac5hknT3C5O8MEnmI7yXDHmcZZ3D05I8Isnlh2yvJG8e8oQAAOy+qrptd19WVXfKbL7hYZcd3Mmy4vDcJCd39wXXEeD8IU8IADAFezatdZj83nzO4WeSfG93f2zIgyy7IOWsHfadebh9AACsV3d/5W48jvdWBgAYYPMah7tjqu8ZDQDAADqHAAADVPXYEVZC5xAAgAXFIQAAC4aVAQAGcEEKAACTV92rnUz5da/9842ZrfkfV29Wjf+sBwxam3Jlzrv0hLEjbPN3l9947AgLJx63Md/GSZIH3eZTY0fY5g0fPHHsCAt/87IPjR1hm77fbceOsM0vnvHJsSNsc+m/Hzd2hIVf/IvN+T4+6N1P/qqxI2yy0X+pX/Yf56z1l8NtT3z0Ws5Z5xAAgAVzDgEABhi9dbkiOocAACzoHAIADDDVDttUzwsAgAF0DgEABqiJTjrUOQQAYEHnEABgkGm2DnUOAQBY0DkEABigdA4BAJg6nUMAgAGqptljm+ZZAQAwiOIQAIAFw8oAAIO4IAUAgInTOQQAGOCYXMqmqj6nqn61qv5PVd26qn66qv6uql5RVbfb4bh9VXWgqg689zXn7H5qAABWYtmw8tlJ3pnkfUn+LMmVSR6V5E1Jfu1wB3X3/u7e29177/SoR+9SVACATVJrvq3HsuLwtO7+pe5+dpJbdPdzuvt93f1LSe68hnwAAKzRsjmHW4vHlxyy77hdzgIAcNQ4VhfBflVVnZwk3f2TBzdW1ecl+ftVBgMAYP127Bx29/88zPZ/rKpXryYSAMDR4Bi8WnmJp+9aCgAANsKOncOquvBwu5KctvtxAACODlNd53DZBSmnJXlEkssP2V5J3rySRAAAjGZZcXhukpO7+4JDd1TV+StJBABwFDgmO4fdfdYO+87c/TgAAIzJeysDAAxybK5zCADAMURxCADAgmFlAIABqqZ5QYrOIQAACzqHAACD6BwCADBxK+8cvveDveqnOGLPf9jHx46wzS9dfPLYEbb54lM/NXaEbU6+0eZ875z/+ivHjrDNGU8cO8F2L/rKzfneOffONxs7wjZfcdpm/dx59oWb9XPn76+48dgRFq4+/71jR9jmW374tnnqgdePHWObZ+596NgRNspUF8HWOQQAYMGcQwCAQabZY5vmWQEAMIjOIQDAAOYcAgAweTqHAAADeIcUAAAmT+cQAGAQnUMAACZO5xAAYICaaI9tmmcFAMAgikMAABYMKwMADOKCFAAANlRV/XBVvaOqLqqql1fViUMeR3EIADBAVa31tiTL5yb5gSR7u/s+SY5L8i1DzktxCAAwDTdKcpOqulGSk5K8f8iDXO/isKpuO+SJAACmpdZ8O7zuvjTJ/0ry3iQfSHJFd792yFntWBxW1a0Oud06yVur6pZVdasdjttXVQeq6sBH/+ycIbkAANhia301v+3bskyg/l8AAAx0SURBVO+WSR6T5K5Jbp/kplX1bUOeZ9nVyh9O8q+HbPvcJH+TpJPc7boO6u79SfYnyRe85E09JBgAwCZb9yLYW+ur6/CwJP/S3f+WJFX1+0m+LMlLr+/zLDur/57k75M8urvv2t13TXLJ/P51FoYAAKzde5N8SVWdVLOrVx6a5OIhD7Rj57C7n1tVv5PkeVX1viRPy6xjCABwjNucdQ67+y1V9crMRnevSvK3OXyXcUdLF8Hu7kuSfGNVPTrJ6zK7+gUAgA3S3U/LrJF3gxzxYHl3n5PkIZmNaaeqvvOGPjkAwNGq1vzfulyvmZTdfWV3XzT/8OkryAMAwIh2HFauqgsPtyvJabsfBwDg6LDsXUuOVsvmHJ6W5BFJLj9keyV580oSAQAwmmXF4blJTu7uCw7dUVXnryQRAMBRYZrvQrxsKZuzdth35u7HAQBgTNMseQEAGGTpOocAAHy2dS4vs046hwAALOgcAgAMonMIAMDE6RwCAAww1UWwdQ4BAFio7h47wxGpqn3dvX/sHAdtUp5NypLIs8wm5dmkLIk8O9mkLIk8y2xSnk3Kkmxenhui8/drLaIq91xLq/Jo6hzuGzvAITYpzyZlSeRZZpPybFKWRJ6dbFKWRJ5lNinPJmVJNi8PhzDnEABgAOscAgAweUdT53DT5idsUp5NypLIs8wm5dmkLIk8O9mkLIk8y2xSnk3KkmxenhvgHpNsHR41F6QAALB6hpUBAFhQHDIZNdXVSG+Aqrrp2Bm2qqrP8ToBbLaNKA6r6p5V9aVVdXxVHTd2niTZoByfV1V7q+qEsbMkSVXdu6oeXFW3HjtLklTVV1TVtydJd/fYhUdV/Zeq+sExMxxUVY9J8pyquu3YWZKkqh6R5A+S3HHsLElSVV9SVd8+//+NR85y9/m/8z2b8rPnoLH/TXHkvFbsltEvSKmqxyV5VpJL57cDVXV2d398pDz36O53d/fVVXVcd189Ro55ljMy+9p8JMkHq+pp3f3uEfN8bZLnJPnnJMdX1Vnd/cGRsuxJclKSX599WDft7l+bF4h7uvuaETI9PMkzkvz3dT/3dWR5cGav1fd392UbkOfh8zy3SPKjSUYtoKvq0Ul+NsnfJnlMkp9I8g8jZfn6JE9P8o9J3pfk3VX1m9397yPleVCSE5N8srvfdvCPrjZB/bOM/XWpqi9NckqSq7v7dWO/RvPfEbfp7peMmYMbbtTOYVUdn+Sbk5zV3Q9N8qrMugo/XlU3HyHPGUkuqKqXJcnBAnHdOeZZvizJzyd5Unc/JMnlSZ4yRpZ5ntOTPD/Jf+3ur0/y6ST3GStPd1/T3Z9I8ptJXpjky6rqhw/uW3ee+ev1f5Ps6+7XVdUpVXXnqjpp3VnmHpDkBfMst6+qr6mqB1XVKesOUlUPS/IrSb41yd2TfH5VfdW6c2zJc+sk35vkzO5+UpKPJ7lvVd22qk4cIct3J3lCdz8+yYVJvjPJj1TVzdaZZZ7na5O8NLPX6n9U1QuTcbvyY/wuOJyquv98tOKByezrMmKWRyX5tSRfneSH5n/wHNy39tdqPrr1PUl+fT5qwVFsE4aVb57ZL4xkNuR0bpLjk5y5zm/w+dys70vyQ0k+XVUvTcYtEJM8p7v/dn7/aUluNeLw8oeSfHd3v7WqPifJg5J8X1X9elV9w4jDGVdl9gfFbyZ5YFX9QlX9XM2s8/v7I0k+k+R281/4f5jkV5OcPdLX56ot91+Z5Lsy+/7+P1V1yzVnOS7JE7v7HUlumuTvk9w7GW0Y7KokN0lyr3nhcXqSJyb5xSQ/ueZ5mlclOTnJ5yRJd78oyXuSnJrkjDXmODiV5klJfqa7983v36uqXjnPtvYCcT6y9Kb5HzZjNzPOyOwP0X1J/ltVffeIWe6f5GeSfE93/1hmHfAcnEIyxmvV3Z/K7Pf3q5L8YlU9aZ5pE+oMrqdRX7Tu/kySX0jyuKr6ynnH58+TXJDkK9ac5d8z+wX6siT/LcmJWwvEdWaZe0uS308WP7RPSHLnzIrpgx2Htenui7v7z+YfnpXkV+YdxL9M8g2Z/TIbw6uSfLC7X5/kQGZ/ud68Z9bWQezuv0/ydUmel+TtmX0fnZHkvCSPT7LuguzPkjy5qn47yW909xMy+wPjE0keuM4g3f3H3f3m+XD/x5K8OsnTquoLxui8dPcVSf53ZkPJr03y4u7+L0lekOQOST5vzVl+K8l3zec/PjPJp5K8M8nD1pVjnuXqzIuM+ccf7+4vT3JaVf36fNvaXq+qukuSH0lyWZIfTnL/EbuX98tsis93dPcTk/xuknuNkWXuRkm+r7v/sqpuldnvricneW5V/VKy9tfq+Pndy5L8Xma/E36yqp6T5HmbNo+W5Tahon9TZj+gv72qvqq7r+7ulyW5fZIvWmeQ7n5/d3+iuz+c2VDPTQ4WiPPhhLX9MJh/HQ7Ou6wkH0vy0e7+t6r61iQ/W1U3WVeeQ7I9s7t/dn7/7MwK1rEuMrgyyT2r6smZFYbPTnKnMf6q7+63Z1YQPru7f2M+9P2izArDO605y99l9kfOg5Lcdb7tnzPr4t1mnVm2ZLpm/v/zMlsE94wROrwHs7wys+LrTZkXRN39p0lultkfYev08iR/lOQhSW7S3d/W3b+eWVG28iHVqrrHlg8vzWxaz9bv18cmuXVV3XvVWQ5xTZKndvfXZFYs/88kD6iqbXPl11Qw3iSzP4jfPv/4b5N8eVXdcc0jXPdIku5+a5K3zf/tPCHJT8z/wHlKkvvMpwGtM89n5psuTPK47v7rzOaD/3CSG405d59hRi8Ou/s/MvvL+e1JfqKq9s3b0acl+cCIuT6SWYH4map6V5LfyazrMkaWq+bz695XVT+X2V/Tv9LdV647y6E/CKvq8Zm9Vu9fd5ZkVtBnNon/p5L8SHf/TGbd6NeMlOed3f3LBz+ef31uk3G+l/8os27ht1XVWVV1VpL7ZdbtHdvbM+u0jnLxUJJ09+VJ/jTJ46vq4fM5W3fN7BfcOnNc0d2/ldl83h9Jkqp6YpJbJVnpL9W6dp71b8+zvDSz6T1/cbBAnP+xfFVmUwJWbkvB8d7MRpEy/3f9tsy+n+83/7wvmO9bWYdsS5Y3Z9YROziS8/7MptpcMR/CvfvhH2XXshx8rV4+z3T1/N/OC7r7N+fbLs3sgsFPrzHPy7Zs/liSf6uqb8qsm/kzSb6lqr551XnYZd29EbckN87sL+ffTnJ2kvuNnWme64eTfDDJF4yYoeZfn39K8t4kd9+Ar8sJmQ0vvyPJfUbOcsckD9jy8Z4N+PpUZj8c35nk3iNnuX9mQ2LPHfP7+DpyvSLJXUbOcIskP5DkDUn+OMkXbcDX5eD3zUpfq8yKvfMym0N3dpKXb9n3jMwK+O9O8tR5nruu4dzPSPLJQ7LceMv9n8psysazMyvib7uGLL+9Zdueg//P7I+vmyf59iTnJLnlGl+rl27Zd6Mt9x+XWRF95zV/72zN8+zMpkY8fv7xg5N83qq/d9x297Zxb583/6use6RuwiFZbpnZL7Af7e61dhMOk+c7krytZxP7x85yfJKvSfJPPZtvN7qqzVluY95hfXBm8yHfNXaeTbJJr9NBNbsyuHqkJbQOyXLnJMd39z+u4blun9nV2idmduXrZ3o2PzVV9djMLpR5QJJf7O6LVpzlppl1534/yZdlVvR823zfCT274CFVdX6SeyR5RM+mT6w7y3GZFYcvS3JFkvtmdsHVO1eRZUumQ1+r/9iS6fjMCrXvymyFi5W+VofJ8+nuPnM+1P153f3uTfy3zpHZuOJw01TViT0b+h6df2jAqswvctuf2S/5J8znGH6iu/91jRkOWwDN998jsyk+39HXzv8bK8sfZlakPnbdfyBvea2u7O5vm8+Hf0SSV6/jj4ojyHPfJJ/q7ovXnYXdoTgEIElSVadmtr7ql2V28dLp3X3JSFmuq+C4eZJ39mwe5JhZ7p7ZepQvXXXHcIdMW1+rSvJVPdKbEhyS50sz+955yFjfO9xwo1+QAsBmmBddF2b2rhuPHfOXe3/2RYG/m+Qf110YXkeWd2e2HNPzxyoM55m2vlaPH7MwPCTPLTK7YllheBRTHAKQZDHP+lFJHr6q+XzXx3UUHKOsinBIlptnVox9aKwsyea9VpuWhxvGsDIACxs2z3pjLgrcpCwHbdJrlWxeHoZTHAKwsTap4NikLLBKikMAABbMOQQAYEFxCADAguIQAIAFxSEAAAuKQwAAFhSHAAAs/P9MJOcoWEF0NAAAAABJRU5ErkJggg==\n",
            "text/plain": [
              "<Figure size 864x720 with 2 Axes>"
            ]
          },
          "metadata": {
            "needs_background": "light"
          }
        }
      ]
    },
    {
      "cell_type": "code",
      "metadata": {
        "id": "QpFOc18-Odud"
      },
      "source": [
        "pairwise_similarities=cosine_similarity(Covid_document_embeddings)\n",
        "pairwise_differences=euclidean_distances(Covid_document_embeddings)"
      ],
      "execution_count": 19,
      "outputs": []
    },
    {
      "cell_type": "code",
      "metadata": {
        "colab": {
          "base_uri": "https://localhost:8080/",
          "height": 603
        },
        "id": "-bgy9Z_xOQBe",
        "outputId": "185d57f3-73d6-463f-dc4a-1179e45d9360"
      },
      "source": [
        "fig, ax = plt.subplots(figsize=(12,10))\n",
        "mask = np.zeros_like(pairwise_similarities)\n",
        "mask[np.triu_indices_from(mask)] = True\n",
        "pairwise_similarities\n",
        "ax = sns.heatmap(\n",
        "    pairwise_similarities,\n",
        "    cmap=\"YlGnBu\", mask=mask, square=True)\n",
        "ax.set_xticklabels(Covid['Date Published'])\n",
        "ax.set_yticklabels(Covid['Date Published'])\n",
        "ax.set_xticklabels(\n",
        "    ax.get_xticklabels(),\n",
        "    rotation=45,\n",
        "    horizontalalignment='right');"
      ],
      "execution_count": 20,
      "outputs": [
        {
          "output_type": "display_data",
          "data": {
            "image/png": "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\n",
            "text/plain": [
              "<Figure size 864x720 with 2 Axes>"
            ]
          },
          "metadata": {
            "needs_background": "light"
          }
        }
      ]
    },
    {
      "cell_type": "code",
      "metadata": {
        "colab": {
          "base_uri": "https://localhost:8080/"
        },
        "id": "Fbg9iA0ZXlnt",
        "outputId": "1e370cfb-0629-4074-f36d-d328c9dd9f14"
      },
      "source": [
        "minimum = []\n",
        "for i in pairwise_similarities:\n",
        "  print(i)\n",
        "  "
      ],
      "execution_count": 21,
      "outputs": [
        {
          "output_type": "stream",
          "name": "stdout",
          "text": [
            "[0.99999994 0.6624314  0.8555907  0.6318712  0.68972915 0.63190264\n",
            " 0.7686693  0.7438259  0.7557118  0.7327683  0.78677493 0.6110694\n",
            " 0.74260575 0.85425395 0.7843356  0.6450706  0.85409224 0.6293612\n",
            " 0.69626987 0.58711255 0.60000575 0.6627079  0.79874593 0.78519094\n",
            " 0.7860807  0.8529552  0.69345856 0.6548699  0.75823045]\n",
            "[0.6624314  1.0000002  0.71750015 0.7106696  0.82749104 0.8212431\n",
            " 0.74528193 0.8279551  0.83223885 0.7731416  0.7820094  0.7888457\n",
            " 0.7958218  0.78990555 0.77633023 0.80705607 0.7428268  0.72755903\n",
            " 0.7737352  0.71411484 0.66933894 0.74311554 0.76922095 0.7578488\n",
            " 0.77815133 0.7487509  0.70548105 0.72357965 0.8033363 ]\n",
            "[0.8555907  0.71750015 0.9999999  0.6928066  0.7452785  0.7099454\n",
            " 0.78082997 0.8235489  0.81520337 0.7797062  0.7891181  0.6994185\n",
            " 0.83003736 0.79430187 0.82139355 0.7276039  0.80189687 0.68166816\n",
            " 0.7542138  0.71097314 0.6425487  0.7127186  0.78752726 0.877097\n",
            " 0.78055894 0.79497933 0.74879366 0.7594885  0.769093  ]\n",
            "[0.6318712  0.7106696  0.6928066  0.9999997  0.6931556  0.7077955\n",
            " 0.72373456 0.7063451  0.7471915  0.6824922  0.6419271  0.70886844\n",
            " 0.68724316 0.7042169  0.7176576  0.7229296  0.78047407 0.92724705\n",
            " 0.6059687  0.6986834  0.7547312  0.5909151  0.66009283 0.6913648\n",
            " 0.67660934 0.71168613 0.6614827  0.7765741  0.7573358 ]\n",
            "[0.68972915 0.82749104 0.7452785  0.6931556  1.0000001  0.81819105\n",
            " 0.7147026  0.8733504  0.8095572  0.7544347  0.75045896 0.8053824\n",
            " 0.84355336 0.74945563 0.7692899  0.8010265  0.69951314 0.7093709\n",
            " 0.82141167 0.74056923 0.5979812  0.8337276  0.7472437  0.7948231\n",
            " 0.7672417  0.69819    0.7823242  0.7277365  0.80872244]\n",
            "[0.63190264 0.8212431  0.7099454  0.7077955  0.81819105 0.9999999\n",
            " 0.60956717 0.87588894 0.76085126 0.6059072  0.70678055 0.82253325\n",
            " 0.8497017  0.7281002  0.67868817 0.8815843  0.700212   0.75355005\n",
            " 0.71531904 0.7667445  0.5836326  0.76121205 0.6501314  0.7347485\n",
            " 0.65725815 0.64991486 0.7967931  0.6642141  0.8070094 ]\n",
            "[0.7686693  0.74528193 0.78082997 0.72373456 0.7147026  0.60956717\n",
            " 1.0000002  0.77076167 0.8996372  0.92816645 0.8885956  0.68090135\n",
            " 0.7207406  0.869775   0.873278   0.63391197 0.8027326  0.6874398\n",
            " 0.7743367  0.65615207 0.76626563 0.672612   0.93147576 0.8198625\n",
            " 0.95418644 0.8892359  0.67917943 0.88513225 0.74238896]\n",
            "[0.7438259  0.8279551  0.8235489  0.7063451  0.8733504  0.87588894\n",
            " 0.77076167 1.         0.85810816 0.78145623 0.8235213  0.8173015\n",
            " 0.8743871  0.82571095 0.786073   0.82324183 0.76454854 0.73368627\n",
            " 0.7954401  0.7492112  0.61788    0.7819804  0.7907502  0.8237299\n",
            " 0.82688373 0.770547   0.7881302  0.7743679  0.8122226 ]\n",
            "[0.7557118  0.83223885 0.81520337 0.7471915  0.8095572  0.76085126\n",
            " 0.8996372  0.85810816 1.0000002  0.8978796  0.9090147  0.77800936\n",
            " 0.81869006 0.8924692  0.90430695 0.76063585 0.8218007  0.7318646\n",
            " 0.79872525 0.7701281  0.72223145 0.7442542  0.902671   0.86407006\n",
            " 0.9000604  0.8694846  0.79508364 0.8588053  0.81072325]\n",
            "[0.7327683  0.7731416  0.7797062  0.6824922  0.7544347  0.6059072\n",
            " 0.92816645 0.78145623 0.8978796  1.         0.8713788  0.7022275\n",
            " 0.7231344  0.8405911  0.8614576  0.65452904 0.7462006  0.647684\n",
            " 0.79351145 0.69980204 0.6758323  0.69714034 0.9019952  0.8305737\n",
            " 0.909036   0.844344   0.70010823 0.8574253  0.7174831 ]\n",
            "[0.78677493 0.7820094  0.7891181  0.6419271  0.75045896 0.70678055\n",
            " 0.8885956  0.8235213  0.9090147  0.8713788  0.9999999  0.7126381\n",
            " 0.787648   0.90298575 0.848912   0.7249068  0.79841214 0.6440089\n",
            " 0.78572315 0.67037296 0.70494825 0.72820884 0.8838856  0.84616786\n",
            " 0.9085892  0.8836816  0.74905306 0.77090317 0.80841106]\n",
            "[0.6110694  0.7888457  0.6994185  0.70886844 0.8053824  0.82253325\n",
            " 0.68090135 0.8173015  0.77800936 0.7022275  0.7126381  1.\n",
            " 0.8645643  0.70457935 0.72112924 0.81835103 0.67336524 0.70620793\n",
            " 0.78513473 0.83090496 0.5756725  0.7991395  0.7135571  0.76532495\n",
            " 0.69727695 0.6285981  0.7625654  0.7100979  0.72831887]\n",
            "[0.74260575 0.7958218  0.83003736 0.68724316 0.84355336 0.8497017\n",
            " 0.7207406  0.8743871  0.81869006 0.7231344  0.787648   0.8645643\n",
            " 1.0000001  0.77188784 0.77455276 0.8456024  0.72899306 0.69668436\n",
            " 0.839777   0.80171263 0.6354345  0.8487848  0.7669921  0.8458853\n",
            " 0.75073475 0.7071018  0.81630695 0.7160161  0.79095495]\n",
            "[0.85425395 0.78990555 0.79430187 0.7042169  0.74945563 0.7281002\n",
            " 0.869775   0.82571095 0.8924692  0.8405911  0.90298575 0.70457935\n",
            " 0.77188784 0.9999999  0.88350093 0.73866546 0.8909994  0.713365\n",
            " 0.7952664  0.7119858  0.69936025 0.7030908  0.89839685 0.7947005\n",
            " 0.89762604 0.94832885 0.765003   0.75359625 0.8122662 ]\n",
            "[0.7843356  0.77633023 0.82139355 0.7176576  0.7692899  0.67868817\n",
            " 0.873278   0.786073   0.90430695 0.8614576  0.848912   0.72112924\n",
            " 0.77455276 0.88350093 1.         0.6919502  0.8135624  0.7013465\n",
            " 0.81412226 0.73436123 0.701772   0.7195639  0.8848896  0.8347362\n",
            " 0.86650074 0.88064414 0.7782177  0.8041085  0.78600496]\n",
            "[0.6450706  0.80705607 0.7276039  0.7229296  0.8010265  0.8815843\n",
            " 0.63391197 0.82324183 0.76063585 0.65452904 0.7249068  0.81835103\n",
            " 0.8456024  0.73866546 0.6919502  0.99999994 0.7224245  0.7542863\n",
            " 0.7306148  0.79911584 0.6244633  0.7748122  0.6591844  0.7408565\n",
            " 0.6637002  0.65341413 0.759837   0.6300369  0.81112486]\n",
            "[0.85409224 0.7428268  0.80189687 0.78047407 0.69951314 0.700212\n",
            " 0.8027326  0.76454854 0.8218007  0.7462006  0.79841214 0.67336524\n",
            " 0.72899306 0.8909994  0.8135624  0.7224245  1.         0.766274\n",
            " 0.68432635 0.68607575 0.7344266  0.63413346 0.813321   0.7316359\n",
            " 0.81064665 0.89311093 0.67373294 0.7294309  0.81903374]\n",
            "[0.6293612  0.72755903 0.68166816 0.92724705 0.7093709  0.75355005\n",
            " 0.6874398  0.73368627 0.7318646  0.647684   0.6440089  0.70620793\n",
            " 0.69668436 0.713365   0.7013465  0.7542863  0.766274   1.\n",
            " 0.59825206 0.68097526 0.7264663  0.5847438  0.65031624 0.6838263\n",
            " 0.677343   0.71358824 0.6639434  0.7309652  0.7609506 ]\n",
            "[0.69626987 0.7737352  0.7542138  0.6059687  0.82141167 0.71531904\n",
            " 0.7743367  0.7954401  0.79872525 0.79351145 0.78572315 0.78513473\n",
            " 0.839777   0.7952664  0.81412226 0.7306148  0.68432635 0.59825206\n",
            " 0.99999976 0.74388254 0.5785106  0.8744437  0.83141804 0.8182947\n",
            " 0.7995119  0.73216    0.83655673 0.7106929  0.72903985]\n",
            "[0.58711255 0.71411484 0.71097314 0.6986834  0.74056923 0.7667445\n",
            " 0.65615207 0.7492112  0.7701281  0.69980204 0.67037296 0.83090496\n",
            " 0.80171263 0.7119858  0.73436123 0.79911584 0.68607575 0.68097526\n",
            " 0.74388254 1.0000001  0.54945546 0.71836215 0.70848566 0.7291038\n",
            " 0.65740407 0.6512824  0.7267526  0.7056823  0.6901047 ]\n",
            "[0.60000575 0.66933894 0.6425487  0.7547312  0.5979812  0.5836326\n",
            " 0.76626563 0.61788    0.72223145 0.6758323  0.70494825 0.5756725\n",
            " 0.6354345  0.69936025 0.701772   0.6244633  0.7344266  0.7264663\n",
            " 0.5785106  0.54945546 1.0000001  0.53401035 0.7003012  0.6181625\n",
            " 0.71640563 0.73861873 0.5306313  0.6982522  0.7360373 ]\n",
            "[0.6627079  0.74311554 0.7127186  0.5909151  0.8337276  0.76121205\n",
            " 0.672612   0.7819804  0.7442542  0.69714034 0.72820884 0.7991395\n",
            " 0.8487848  0.7030908  0.7195639  0.7748122  0.63413346 0.5847438\n",
            " 0.8744437  0.71836215 0.53401035 0.99999994 0.7380452  0.77766657\n",
            " 0.6933317  0.63218194 0.8128629  0.640797   0.7126512 ]\n",
            "[0.79874593 0.76922095 0.78752726 0.66009283 0.7472437  0.6501314\n",
            " 0.93147576 0.7907502  0.902671   0.9019952  0.8838856  0.7135571\n",
            " 0.7669921  0.89839685 0.8848896  0.6591844  0.813321   0.65031624\n",
            " 0.83141804 0.70848566 0.7003012  0.7380452  1.0000001  0.81675047\n",
            " 0.9251958  0.8922849  0.7175472  0.82569486 0.745748  ]\n",
            "[0.78519094 0.7578488  0.877097   0.6913648  0.7948231  0.7347485\n",
            " 0.8198625  0.8237299  0.86407006 0.8305737  0.84616786 0.76532495\n",
            " 0.8458853  0.7947005  0.8347362  0.7408565  0.7316359  0.6838263\n",
            " 0.8182947  0.7291038  0.6181625  0.77766657 0.81675047 0.9999999\n",
            " 0.81223166 0.7667748  0.8490126  0.8109928  0.7530475 ]\n",
            "[0.7860807  0.77815133 0.78055894 0.67660934 0.7672417  0.65725815\n",
            " 0.95418644 0.82688373 0.9000604  0.909036   0.9085892  0.69727695\n",
            " 0.75073475 0.89762604 0.86650074 0.6637002  0.81064665 0.677343\n",
            " 0.7995119  0.65740407 0.71640563 0.6933317  0.9251958  0.81223166\n",
            " 0.9999998  0.9004203  0.6935594  0.84094375 0.75367373]\n",
            "[0.8529552  0.7487509  0.79497933 0.71168613 0.69819    0.64991486\n",
            " 0.8892359  0.770547   0.8694846  0.844344   0.8836816  0.6285981\n",
            " 0.7071018  0.94832885 0.88064414 0.65341413 0.89311093 0.71358824\n",
            " 0.73216    0.6512824  0.73861873 0.63218194 0.8922849  0.7667748\n",
            " 0.9004203  0.9999999  0.69278365 0.7810024  0.8113172 ]\n",
            "[0.69345856 0.70548105 0.74879366 0.6614827  0.7823242  0.7967931\n",
            " 0.67917943 0.7881302  0.79508364 0.70010823 0.74905306 0.7625654\n",
            " 0.81630695 0.765003   0.7782177  0.759837   0.67373294 0.6639434\n",
            " 0.83655673 0.7267526  0.5306313  0.8128629  0.7175472  0.8490126\n",
            " 0.6935594  0.69278365 1.0000001  0.7052589  0.7536685 ]\n",
            "[0.6548699  0.72357965 0.7594885  0.7765741  0.7277365  0.6642141\n",
            " 0.88513225 0.7743679  0.8588053  0.8574253  0.77090317 0.7100979\n",
            " 0.7160161  0.75359625 0.8041085  0.6300369  0.7294309  0.7309652\n",
            " 0.7106929  0.7056823  0.6982522  0.640797   0.82569486 0.8109928\n",
            " 0.84094375 0.7810024  0.7052589  0.9999996  0.7253143 ]\n",
            "[0.75823045 0.8033363  0.769093   0.7573358  0.80872244 0.8070094\n",
            " 0.74238896 0.8122226  0.81072325 0.7174831  0.80841106 0.72831887\n",
            " 0.79095495 0.8122662  0.78600496 0.81112486 0.81903374 0.7609506\n",
            " 0.72903985 0.6901047  0.7360373  0.7126512  0.745748   0.7530475\n",
            " 0.75367373 0.8113172  0.7536685  0.7253143  0.9999999 ]\n"
          ]
        }
      ]
    },
    {
      "cell_type": "code",
      "metadata": {
        "colab": {
          "base_uri": "https://localhost:8080/",
          "height": 594
        },
        "id": "QmQloA6tOkWK",
        "outputId": "ef135cf3-61f7-4ea5-da41-0d4d04fa4f31"
      },
      "source": [
        "import seaborn as sns\n",
        "fig, ax = plt.subplots(figsize=(12,10))\n",
        "ax = sns.heatmap(\n",
        "    pairwise_differences,\n",
        "    cmap=\"YlGnBu\", mask=mask, square=True)\n",
        "ax.set_xticklabels(\n",
        "    ax.get_xticklabels(),\n",
        "    rotation=45,\n",
        "    horizontalalignment='right');"
      ],
      "execution_count": 22,
      "outputs": [
        {
          "output_type": "display_data",
          "data": {
            "image/png": "iVBORw0KGgoAAAANSUhEUgAAAocAAAJBCAYAAAA0pR9LAAAABHNCSVQICAgIfAhkiAAAAAlwSFlzAAALEgAACxIB0t1+/AAAADh0RVh0U29mdHdhcmUAbWF0cGxvdGxpYiB2ZXJzaW9uMy4yLjIsIGh0dHA6Ly9tYXRwbG90bGliLm9yZy+WH4yJAAAgAElEQVR4nOzde7xddX3n/9f7BAhgICBoQEDCVTuKopzitRLxAipCp79qlZliLXJaHdG2VGun/trym5ZRW3UYp1riBWsdbC1qYbwgjAJeECQiIN4VUYJykwCGi5Dk8/vjnMQYc85K9vnufXb2eT15rAf7rO9Zn/1ZOyfJJ5+1vt+VqkKSJEkCGJvrBCRJkjQ8LA4lSZK0gcWhJEmSNrA4lCRJ0gYWh5IkSdrA4lCSJEkbbDfXCUiSJG2LdnrkSwe6HuB9P/pQBvE+dg4lSZK0gcWhJEmSNvCysiRJUg+S0eyxDaI49Pl8kiSptYHcfzcf2TmUJEnqQUb07rzRPCtJkiT1xM6hJElSD0b1nsPRPCtJkiT1xM6hJElSD+wcSpIkaeR1dg6TPBo4AdhnatdNwPlV9c1+JiZJkjTMktFcTWfGzmGSPwP+hcm1hL48tQX4UJI39D89SZIkDVJX5/Bk4DFV9eDGO5O8Dfg68KbNHZRkApgAOOuss5iYmGiQqiRJ0jAZzbvzuorDdcAjgB9usn/vqbHNqqrlwPL1X/acnSRJkgaqqzj8I+AzSb4L3Di175HAwcCr+5mYJEnSMBvV2cozFodVdUGSQ4Ej+eUJKVdW1dp+JydJkqTB6pytXFXrgMsHkIskSZLmmItgS5Ik9WBULyuP5llJkiSpJ3YOJUmSepAR7bGN5llJkiSpJ33vHB74in9rFuv697yoWSxJkqTZ8J5DSZIkjTzvOZQkSeqBnUNJkiSNPDuHkiRJPbBzKEmSpJFn51CSJKkHIXOdQl/YOZQkSdIGPXcOk7y8qs5umYwkSdK2wnsOf9XpzbKQJEnSUJixc5jk2umGgCUzHDcBTADs8bQJdn30s3tOUJIkaRiNauew67LyEuAYYNUm+wNcNt1BVbUcWA5w4Cv+rWaToCRJkganqzj8OLCoqq7edCDJJX3JSJIkSXNmxuKwqk6eYezE9ulIkiRtG0b1svJonpUkSZJ64iLYkiRJPRnNHttonpUkSZJ6YudQkiSpB6N6z2Hfi8PXn7a4SZwzLlzII8+8tEmsH732qCZxJEmSRs1olrwdWhWZkiRp/krGBroNyrwsDiVJkrR53nMoSZLUg4xoj200z0qSJEk9sXMoSZLUg1GdrTyaZyVJkjTPJHlfkluTXLeZsdOSVJI9u+JYHEqSJPUgyUC3LfB+4NjN5Lkf8FzgR1sSpLM4TPLoJM9KsmiT/b/y5pIkSZobVfU54I7NDL0deD1QWxJnxuIwyWuA84BTgeuSnLDR8BlblqokSdLo2RbWOZyq3W6qqmu29JiudzoFOKKqfhNYBvy/SV67/v1mSGQiyYokKz7/4U9uaS6SJEmaxsb11dQ20fH9OwP/FfjLrXmfrtnKY1W1GqCqbkiyDDg3yf7MUBxW1XJgOcA/fvPCLWphSpIkaXob11db6CDgAOCaqXsW9wWuSnJkVd083UFdxeEtSQ6vqqunklqd5DjgfcBhW5GcJEnSSBn2RbCr6mvAw9d/neQGYLyqbp/puK6zOgn4pcqyqtZU1UnAM3pLVZIkSa0l+RDwJeBRSVYmObmXODN2Dqtq5QxjX+zlDSVJkkbBsC2CXVUv7RhfuiVxhuusJEmSNKd8fJ4kSVIPhq1z2MponpUkSZJ6YudQkiSpB8M+W7lXfS8O3/qaG5vEyTMf2SQOwNgt93LAa89rEusHZ57Q/U2SJEnbCDuHkiRJvfCeQ0mSJI06O4eSJEk9cLayJEmSRp6dQ0mSpB4kmesU+sLOoSRJkjbo7BwmORKoqroyyX8AjgW+VVWf7Ht2kiRJQ2pernOY5K+A5wHbJbkIeBJwMfCGJE+oqr8dQI6SJEkakK7O4W8DhwMLgZuBfavq7iR/D1wBWBxKkiSNkK5+6JqqWltV9wLfr6q7AarqPmDddAclmUiyIsmKu1Ze2jBdSZKk4ZCMDXQblK53eiDJzlOvj1i/M8liZigOq2p5VY1X1fjifY9qkKYkSZIGoeuy8jOq6ucAVbVxMbg98LK+ZSVJkjTsRnQpmxmLw/WF4Wb23w7c3peMJEmSNGdcBFuSJKkXo7mSzaieliRJknph51CSJKkXI3rPoZ1DSZIkbdD3zuGaxz2sSZyTjmlXnX/kmt2bxLnv63dywGnnN4kF8IO3Ht8sliRJ6jM7h5IkSRp13nMoSZLUixFtsY3oaUmSJKkXdg4lSZJ6UN5zKEmSpFFn51CSJKkXo9k4tHMoSZKkX9jq4jDJB/qRiCRJkubejJeVk2y6wnOAZybZDaCqXLVZkiTNT2OjeV25657DfYFvAO8BisnicBx460wHJZkAJgD2ePar2OVxx8w+U0mSJPVd12XlceArwF8Ad1XVJcB9VXVpVV063UFVtbyqxqtq3MJQkiSNpGSw24DM2DmsqnXA25P829T/b+k6RpIkSduuLSr0qmol8KIkLwDu7m9KkiRJ24DRvOVw67qAVfUJ4BN9ykWSJElzzEvEkiRJvRjR2cougi1JkqQN7BxKkiT1YoAziAfJzqEkSZI26HvncMF3VzWJ88C6hzSJA3DPLQ80iZNFOzSJA3D8sQt5zZcubhLrfz7lmU3iSJKkGYxm49DOoSRJkn7Bew4lSZJ64WxlSZIkjTo7h5IkSb0YzcahnUNJkiT9gp1DSZKkHtSIrnO4VcVhkqcDRwLXVdWF/UlJkiRJc2XGy8pJvrzR61OA/wXsAvxVkjf0OTdJkiQNWFfncPuNXk8Az6mq25L8PXA58Ka+ZSZJkjTM5ulSNmNJdk+yB5Cqug2gqu4B1kx3UJKJJCuSrLj7h5e0y1aSJEl91VUcLga+AqwAHppkb4Aki5hhAndVLa+q8aoa33X/Za1ylSRJGh4Z8DYgM15Wrqql0wytA/5j82wkSZI0p3payqaq7gV+0DgXSZKkbceILmXjItiSJEnawEWwJUmSejFPZytLkiRpHrFzKEmS1IvRbBz2vzjc6bcPbBLno1dVkzgASw5u0zC99Ws/axIH4PxP3d8kzg4X3cChfKtJLIDvfOmVzWJJkqThZ+dQkiSpF85WliRJ0qizcyhJktQLO4eSJEkadXYOJUmSejGiLbYRPS1JkiT1wuJQkiRJG8x4WTnJk4BvVtXdSXYC3gA8EfgGcEZV3TWAHCVJkobPPJ2Q8j7g3qnXZwKLgTdP7Tu7j3lJkiRpDnQVh2NVtWbq9XhV/VFVfaGqTgemffRJkokkK5KsuOPi85slK0mSNDQy4G1AuorD65K8fOr1NUnGAZIcCjw43UFVtbyqxqtq/KHPPL5RqpIkSeq3rqVsXgGcmeSNwO3Al5LcCNw4NSZJkjQv1dho3nM4Y3E4NeHk95LsChww9f0rq+qWQSQnSZKkwdqiRbCr6m7gmj7nIkmStO2Yp7OVJUmSNI/4+DxJkqRejGbj0M6hJEmSfsHOoSRJUi/m42zlFtatrSZxXv6knzeJA3DHzxc0iXPut9rEAfjnU6ZdNnKr7PDqRzaJA/DqSxbz6x/+QpNYV7746U3iSJKk/rJzKEmS1AtnK0uSJGnU2TmUJEnqxWg2Du0cSpIk6RcsDiVJkrSBl5UlSZJ6MaJL2czYOUzymiT7DSoZSZIkza2uy8r/DbgiyeeTvCrJwwaRlCRJ0tAby2C3QZ1Wx/j1wL5MFolHAN9IckGSlyXZpe/ZSZIkaaC6isOqqnVVdWFVnQw8AngncCyTheNmJZlIsiLJilWXnN8wXUmSpOFQGew2KF3F4S+lUlUPVtX5VfVSYP/pDqqq5VU1XlXjuy87vkWekiRJGoCu2cq/M91AVd3bOBdJkqRtx3ycrVxV3xlUIpIkSZp7rnMoSZLUi8zDzqEkSZLmFzuHkiRJvZiP9xxKkiRpftlmOof3rW1Xnd/+8wVN4mz3sHYf31nfXtgkzjd/3K7eP/uYO5vEueaO7fnn7326SazfPfiYJnEkSZq1EW2xjehpSZIkqRcWh5IkSb1IBrt1ppP3Jbk1yXUb7fu7JN9Kcm2SjyXZrSuOxaEkSdJoeD+Tjzje2EXAY6vqccB3gD/vCmJxKEmSNAKq6nPAHZvsu7Cq1kx9eTmwb1ecbWZCiiRJ0lDZ9pay+X3gX7u+yc6hJEnSNiDJRJIVG20TW3HsXwBrgP/d9b0zdg6T7AC8BPhxVf3fJCcCTwW+CSyvqge3NClJkqRRUgN+fF5VLQeWb+1xSX4POA54VlVV1/d3XVY+e+p7dk7yMmAR8FHgWcCRwMu2NkFJkiQNRpJjgdcDR1XVvVtyTFdxeFhVPS7JdsBNwCOqam2SDwLXzC5dSZKkbdiQ3ZyX5EPAMmDPJCuBv2JydvJC4KJMdjovr6o/nClOV3E4NnVp+SHAzsBiJmfBLAS2nyG5CWACYO+TTmP3ZcdvwSlJkiSpV1X10s3sfu/WxukqDt8LfAtYAPwF8G9JrgeeDPzLDMltuCb+mLM/13ltW5IkaZuz7c1W3iIzFodV9fYk/zr1+sdJPgA8G3h3VX15EAlKkiRpcDrXOayqH2/0+k7g3L5mJEmStC0Y8GzlQRmyWyklSZI0l3xCiiRJUi9G9J5DO4eSJEnawM6hJElSL0azcWjnUJIkSb/Q987h6lvbPH7509fv2CROS3XZTc1ifWX7vZvEWfvurzWJA7Dfbz2ySZxXff4hTeL8w2/cyTV3fLxJLIDHP/S4ZrEkSfNPec+hJEmSRp3FoSRJkjZwQookSVIvvKwsSZKkUWfnUJIkqRc+Pk+SJEmjrrNzmORA4LeA/YC1wHeAc6rq7j7nJkmSNLxGtMU242kleQ3wj8COwK8DC5ksEi9Psqzv2UmSJGmgujqHpwCHV9XaJG8DPllVy5KcBZwHPKHvGUqSJA2jeXzP4foCciGwCKCqfgRsP90BSSaSrEiyYvUV7Z5oIUmSpP7q6hy+B7gyyRXAbwBvBkjyMOCO6Q6qquXAcoD93/yZapOqJEnSEBnRdQ5nLA6r6swk/xf4NeCtVfWtqf23Ac8YQH6SJEkaoM7ZylX1deDrA8hFkiRp2zGincMRnYQtSZKkXviEFEmSpB7UPJ6tLEmSpHnCzqEkSVIvRrTF1vfi8JG/trBJnAULhq91u+q2e5rFatWZfuCYA9sEAr5x59omccaXPNAkzuLt262KdNmt2/P1VRc0iXXiQcc2iSNJ0jAY0ZpXkiRJvfCysiRJUi+ckCJJkqRRZ+dQkiSpFy6CLUmSpFFn51CSJKkXdg4lSZI06uwcSpIk9WI0G4d2DiVJkvQLMxaHSRYneVOSbyW5I8lPk3xzat9uMxw3kWRFkhU3f/r89llLkiTNsRrLQLdB6eocfhhYBSyrqodW1R7AM6f2fXi6g6pqeVWNV9X4Xscc3y5bSZIk9VXXPYdLq+rNG++oqpuBNyf5/f6lJUmSNOTm6RNSfpjk9UmWrN+RZEmSPwNu7G9qkiRJGrSu4vB3gD2AS6fuObwDuAR4KPCiPucmSZI0vMYy2G1AZrysXFWrgD+b2n5JkpcDZ/cpL0mSJM2B2Sxlc3qzLCRJkrY1GfA2IDN2DpNcO90QsGSaMUmSJG2jumYrLwGOYXLpmo0FuKwvGUmSJGnOdBWHHwcWVdXVmw4kuWRL3uDm//HNHtL6VY/7i0c3iQPwlc/d0ybQk/dpEwd42sHVJM7DH7tDkzgAv/sXP20S57dO2alJnJMueWiTOAA3fn7Tf+/0Zt1uC/lzLmoSC+CH//U5zWJJkvprbESfM9c1IeXkGcZObJ+OJEmS5lJX51CSJEmbMaJrYM9qtrIkSZJGjJ1DSZKkHtg5lCRJ0sizcyhJktSDjGjr0M6hJEmSNrBzKEmS1IMRbRz23jlM8qkZxiaSrEiy4q4ff67Xt5AkSdKAdT1b+YnTDQGHT3dcVS0HlgMccvS72zz6Q5IkaYiMauew67LylcClTBaDm9qtfTqSJEmaS13F4TeBP6iq7246kOTG/qQkSZI0/DKi03q7TuuvZ/ieU9umIkmSpLk2Y+ewqs6dYXj3xrlIkiRtM0b1nsPZNERPb5aFJEmShkLXbOVrpxsClrRPR5IkSXOpa0LKEuAYYNUm+wNc1peMJEmStgFjI3pZuas4/DiwqKqu3nQgySVb8gbb/+dH9ZDWr3rIduuaxAH4Ty/cvkmcc/7l3iZxAI7Ys81P2KLt2i0rufagNreVvuiA+5rEuX9du9+FP3zYzk3iHHrYwiZxAE577N1csHLateW3yrH7Pq9JHEnS/NM1IeXkGcZObJ+OJEnStsEJKZIkSRp5XZeVJUmStBl2DiVJkjTy7BxKkiT1ICPaOrRzKEmSpA3sHEqSJPUgI9piG9HTkiRJUi/sHEqSJPVgRG85nLlzmGTXJP89yT8nOXGTsXfOcNxEkhVJVqy69PxWuUqSJKnPui4rn83kc5Q/ArwkyUeSrH9e2JOnO6iqllfVeFWN737U8Y1SlSRJGh7JYLdB6SoOD6qqN1TVv1fV8cBVwGeT7DGA3CRJkjRgXfccLkwyVlXrAKrqb5PcBHwOWNT37CRJkobUvLznEPg/wNEb76iq9wOnAQ/0KSdJkiTNkRk7h1X1+mn2X5DkjP6kJEmSpLkym3UOT2+WhSRJ0jZmLIPdBmXGzmGSa6cbApa0T0eSJElzqWtCyhLgGGDVJvsDXNaXjCRJkrYBozohpas4/DiwqKqu3nQgySVb8gavfPL9PaT1qy5YuXOTOAC33L+gTaCx+9rEAf7xih2bxPnZz6pJHIC/fVGbX7uP3LBTkzgnH3pPkzgAD9muTU4vP2TTfzf17tgzt28SZ9/DH8LffOULTWIBfOGEpzeLJUkafl0TUk6eYezE6cYkSZJG3ah2DmczIUWSJEkjpuuysiRJkjYjg5xCPEB2DiVJkrSBnUNJkqQeeM+hJEmSRp6dQ0mSpB7YOZQkSdLIm7E4TLJXkncl+YckeyT56yRfS/LhJHvPcNxEkhVJVnzxw59sn7UkSdIcSwa7DUpX5/D9wDeAG4GLgfuA5wOfB/5xuoOqanlVjVfV+NNe/PxGqUqSJKnfOp+tXFXvAEjyqqp689T+dySZ9ukpkiRJo25Elzns7BxuPP6BTcYaPaBYkiRJw6KrODwvySKAqnrj+p1JDga+3c/EJEmSNHgzXlauqr+cZv/3knyiPylJkiQNP5ey+VWnN8tCkiRJQ2HGzmGSa6cbApa0T0eSJGnbkCFbLTrJ+4DjgFur6rFT+x4K/CuwFLgBeHFVrZopTtdpLQFOAl64me2nvacvSZKkxt4PHLvJvjcAn6mqQ4DPTH09o66lbD4OLKqqqzcdSHLJlmT5L9/eeUu+rVPL6vzRe6xpEufbO7absL3TTm1uXLjv8tuaxAHY/gUPaRLnytsXNonzikfd2yQOwL4PWdskzkdvaHNuALVjmx/yWtckDABnPPluLv1Jm4Xsj9rbNU8ljZZhu+ewqj6XZOkmu08Alk29/ifgEuDPZorTNSFl2rUMq+rEjhwlSZLUSJIJYGKjXcurannHYUuq6idTr29mC24L7OocSpIkaTMy4NbhVCHYVQzOdHwlqa7vG7JbKSVJktTQLUn2Bpj6/61dB1gcSpIk9SAZ7Naj84GXTb1+GXBe1wEWh5IkSSMgyYeALwGPSrIyycnAm4DnJPku8Oypr2fkPYeSJEk9GMLZyi+dZuhZWxPHzqEkSZI2sHMoSZLUg2HrHLay1Z3DJA/vRyKSJEmaezMWh0keusm2B/DlJLtPPatvuuMmkqxIsuLmC89vnrQkSdJcG8tgt0Hpuqx8O/DDTfbtA1wFFHDg5g7aeJHGp33sC52LLUqSJGk4dBWHrwOeA7yuqr4GkOQHVXVA3zOTJEkaYoPs5g3SjJeVq+qtwCuAv0zytiS7MNkxlCRJ0gjqnJBSVSur6kXAJcBFwM79TkqSJElzY4uXsqmq85NcBBwEkOTlVXV23zKTJEkaYmMZzYupW7WUTVXdV1XXTX15eh/ykSRJ0hyasXOY5NrphoAl7dORJEnaNozqhJSuy8pLgGOAVZvsD3BZXzKSJEnSnOkqDj8OLKqqqzcdSHLJlrzBLefcsPVZbcbRr923SRyAC69uU+rXLgubxAE4eEmb+xZO+5sdm8QBOPE/3dQkzm+fsbRJnJd8YnGTOAB3f2TT5Tt788DT9mkSB+C3jmrzM/Doxfc2iQNw8nmLmsRZ++1VwHlNYgH84O0nNIslSb3a6sfMbSNmLA6r6uQZxk5sn44kSZLm0hbPVpYkSdIvOFtZkiRJI8/OoSRJUg9GdbaynUNJkiRtYOdQkiSpB6PaYRvV85IkSVIP7BxKkiT1YF7ec5jk2I1eL07y3iTXJjknybSPz0sykWRFkhV3X//ZlvlKkiSpj7ouK5+x0eu3Aj8BXghcCZw13UFVtbyqxqtqfNcDj559lpIkSUMmqYFug7I1l5XHq+rwqddvT/KyfiQkSZKkudNVHD48yZ8AAXZNkqpaX7o6mUWSJGnEdBWH7wZ2mXr9T8CewG1J9gKu7mdikiRJw2xUJ6TMWBxW1enT7L85ycX9SUmSJElzZTaXhjdbOEqSJM0HYwPeBmXGzmGSa6cbAqZdykaSJEnbpq57DpcAxwCrNtkf4LK+ZCRJkrQNGBvg8jKDlF9MPt7MYPJe4Oyq+sJmxs6pqhO73uAd37iwySf3j1fs2CIMAIfu1+YO0lvubncn6o+v+lmbQA37zo962i7d37QF7mx0ao/fa02bQMCFV7f5tfu1Qxc0iQPw7Y/d2ibQYXu0iQOc++LVTeK85WttfpYALvvq2maxfvQnz2wWS9LAzfl0kBMvuXSg1eE5y44ayDl3TUg5eYaxzsJQkiRpVI3qbGXXKpQkSdIGW/OEFEmSJE0Z1Q7bqJ6XJEmSemDnUJIkqQfecyhJkqSRZ+dQkiSpB6O6zqGdQ0mSJG2w1Z3DJHtU1U/7kYwkSdK2Yl7ec5jkTUn2nHo9nuR64IokP0xy1AzHTSRZkWTFFz/8ycYpS5IkqV+6Liu/oKpun3r9d8DvVNXBwHOAt053UFUtr6rxqhp/2ouf3yhVSZIk9VvXZeXtkmxXVWuAnarqSoCq+k6Shf1PT5IkaTiN6sSNrvN6J/DJJEcDFyQ5M8lRSU4Hru5/epIkSRqkGTuHVfWOJF8DXgkcOvX9hwD/Dvy3/qcnSZI0nEZ1KZvO2cpVdQlwyab7k7wcOLt9SpIkSZors7lcfnqzLCRJkrYxYxnsNigzdg6TXDvdELCkfTqSJEmaS12XlZcAxwCrNtkf4LK+ZCRJkrQNGNVFsFM1/c2USd4LnF1VX9jM2DlVdWLXGxzy3Pc2uVtz7W8e3CLMpK+3ecDLV9++c5M4AI97y4ImcRbvv2OTOACrL725SZztntSmyXz/ve1u/N3h09e3CbRdu4UM1vz63o0CrWsTB5r9yZefPdAkDsAuj9+tSZztGz9Z/isv/Y22ASV1mfPS7NVfunigM1L+11OeOZBz7pqtfPIMY52FoSRJ0qiar+scSpIkaR5pfGFFkiRpfhjVdQ7tHEqSJGkDO4eSJEk9GNXZynYOJUmStIGdQ0mSpB6MaodtVM9LkiRJPZixOExyVZI3Jjloa4ImmUiyIsmKu1ZeOrsMJUmSNDBdncPdgd2Ai5N8OckfJ3lEV9CqWl5V41U1vnjfo5okKkmSNEzGMthtYOfVMb6qqv60qh4JnAYcAlyV5OIkE/1PT5IkSYO0xfccVtXnq+pVwD7Am4Gn9C0rSZKkIZfUQLdB6Zqt/J1Nd1TVWuCCqU2SJEkjZMbOYVW9ZLqxJC9vn44kSdK2Yb7ecziT05tlIUmSpKEw42XlJNdONwQsaZ+OJEnStmFUF4vuuudwCXAMsGqT/QEu60tGkiRJmjNdxeHHgUVVdfWmA0ku2ZI3WPOYPXtI61fts8+CJnEA7tixTU7jT72mSRyA55352CZxPvW5nzeJA7D7M/dqEmf/Rj3mB9a1+zfa6gMOaRKnGk4e2267NjeUPPsR9zWJA3DpLTs1ibP7wrVN4gBc/rV1TeJs9/Xbm8QBWPCVH3PIW3/lj8mefHfFqU3iSOq/sQHOIB6kGYvDqjp5hrET26cjSZKkudTVOZQkSdJmDHIG8SCN6r2UkiRJ6oGdQ0mSpB7YOZQkSdLIs3MoSZLUg3brqAwXO4eSJEnawOJQkiRJG3hZWZIkqQejugj2jJ3DJONJLk7ywST7JbkoyV1JrkzyhBmOm0iyIsmKn33t0+2zliRJUl90XVZ+J/AW4BNMPkv5rKpaDLxhamyzqmp5VY1X1fguhx3TLFlJkqRhMZbBbgM7r47x7avqU1X1IaCq6lwmX3wG2LHv2UmSJGmguu45vD/Jc4HFQCX5zar69yRHAWv7n54kSdJwGtVFsLuKwz9k8rLyOuAY4JVJ3g/cBJzS39QkSZI0aDMWh1V1DZNF4XqvndpI8nIm70OUJEmadxaMaOdwNuscnt4sC0mSJA2FGTuHSa6dbghY0j4dSZKkbcN8vedwCZOXlVdtsj9sxSXlXPr9rUxrM5btwY++/+Ds4wCLdlvAvTfdP+s42wNrli2ddZz1PvuNFk9pXMteh7SZSP7znxer/+0Hsw/06gO44ebZh3nEw+H2O2cfB2DHHWHlZ3466zj7HL0HP/noTQ0ygv1evC9PWTL7n0uAb9y1fZM4AN+9YvWsYxz5jJ24/Op1DbIBFoRff8zsH+701a8DC9s9GXXtk/aZdYwFV9zEQe/6XINs4PuvfEaTOJLmn67i8OPAoqq6etOBJJdsyRs0KQyhWWEINCkMYRgLQ5oVhkCbwhCaFIbQrjCENoUh0KwwBEa2MATaFYbQpDAEhq4wBFh38uObxAE46F2fs0CU+mxUn5DSNSHl5BnGTmyfjiRJkuaSz1aWJEnqwajec9jo+owkSZJGgZ1DSZKkHrS7c3m42DmUJEnSBhaHkiRJ2sDLypIkST1wQookSZJG3ozFYZMfvpkAACAASURBVJJFSf6/JF9PcleS25JcnuT3Oo6bSLIiyYq7b/9S04QlSZKGwVhqoNvAzqtj/H8D1zP5CL3Tgf8J/C7wzCRnTHdQVS2vqvGqGt91z6c0S1aSJEn91VUcLq2q91fVyqp6G3B8VX0XeDnwW/1PT5IkaTgtyGC3Lkn+eOpq73VJPpSkp2fqdhWH9yR5+tQbHg/cAVBV64ARvQ1TkiRp25JkH+A1wHhVPZbJZRhf0kusrtnKfwi8J8khwNeB359K4GHAP/TyhpIkSaNgCGcrbwfslORBYGfgx70GmVZVXQscuZn9tyX5WS9vKEmSpLaq6qYkfw/8CLgPuLCqLuwl1myWsjl9FsdKkiRt08Yy2G3j1WCmton1uSTZHTgBOAB4BPCQJP+5l/OasXOY5NrphoAlvbyhJEmStl5VLQeWTzP8bOAHVXUbQJKPAk8FPri179N1z+ESJpexWbXJ/gCXbe2bSZIkjYohu+fwR8CTk+zM5GXlZwEregnUVRx+HFhUVVdvOpDkki16gwULe0hrM76/aX3au7GbVjeJs/0LlzaJA7D2PV9vEuenDz7QJA7Ajq9+YpM495zzvSZx7vyN/ZrEAdju9nubxFm37y5N4gD86ylfbRJn7MC9msQByEG7NYmz4O6fN4kDcO2FtzeJs+Z5BzWJA5AH1jaJs/adFzeJA3D/A6vY8398tEms27/9P5rEkdQ/VXVFknOBq4A1wFeZvss4o64JKSfPMHZiL28oSZI0ChYM8KklW6Kq/gr4q9nG8dnKkiRJ2qDrsrIkSZI2Y1Q7bKN6XpIkSeqBxaEkSZI28LKyJElSD4ZsKZtm7BxKkiRpg64npCwG/hz4TeDhQAG3AucBb6qqO/ueoSRJ0hCar53DDzP5dJRlVfXQqtoDeObUvg/3OzlJkiQNVldxuLSq3lxVN6/fUVU3V9Wbgf2nO2jjB0PfddsXWuUqSZI0NBakBroNSldx+MMkr0+yZP2OJEuS/Blw43QHVdXyqhqvqvHFD3t6q1wlSZLUZ13F4e8AewCXJlmV5A7gEuChwIv7nJskSdLQGstgt0HperbyqiRnAxcBl1fV6vVjSY4FLuhzfpIkSRqgGTuHSV7D5MzkVwPXJTlho+Ez+pmYJEnSMJuXnUPgFOCIqlqdZClwbpKlVXUmMKITuCVJkuavruJwbP2l5Kq6IckyJgvE/bE4lCRJ89h8XefwliSHr/9iqlA8DtgTOKyfiUmSJGnwujqHJwFrNt5RVWuAk5KctSVvsPbX9uwxtV+26MkPaxIH4K6Vu7YJ9K6vtokD/Kflj2kS51Pf37FJHICfnr+ySZxD/+iQJnEArv/RuiZxHthz5yZx1u61qEkcgKe+7cgmcY7e+74mcQDOOKfN5107LmwSB2DvVz2qSZwfv/t7TeJMBmvzsKizPtXmZwDgDz7U5jO/+6xz2f3gVzWJBbDqe+9sFkuaawtGtHPYNVt52uqgqr7YPh1peq0KQ0mSNL2uzqEkSZI2Y2yATy0ZpK57DiVJkjSPWBxKkiRpAy8rS5Ik9WBUO2yjel6SJEnqgZ1DSZKkHszXRbAlSZI0j/TcOUzyqap6XstkJEmSthXzchHsJE+cbgg4fJoxkkwAEwB7PukV7Hros3tOUJIkSYPT1Tm8EriUyWJwU7tNd1BVLQeWAxx00r+O5gqRkiRpXhvVRbC7isNvAn9QVd/ddCDJjf1JSZIkSXOlqzj8a6aftHJq21QkSZK2HfNytnJVnQskybOSLNpk+P7+pSVJkqS5MGNxmOQ1wHlMdgmvS3LCRsNn9DMxSZKkYTaWwW6D0nVZ+RTgiKpanWQpcG6SpVV1JpufpCJJkqRtWFdxOFZVqwGq6oYky5gsEPfH4lCSJM1jo/okka7zuiXJhvUMpwrF44A9gcP6mZgkSZIGL1XTr9GTZF9gTVXdvJmxp1XVF7ve4JhPf6HJIkB3rW4RZdLChW2anjf90w+axAFYcMwjm8RZe1G7FYau+uDDm8T5nYt3ahLn7Ufe2SQOwNpGS1Pd8fN2DfT//L4dmsTZ69A2nzfAe5/V5jNf1fBz+r3T7m4S50mnPKJJHIAv/88fNYnz/Nft2yQOwPmfaDNnMPevaRIHIAfu2izW9a86qlksbbPm/Arml2/7xEAXOjzyYS8YyDnPeFm5qlbOMNZZGEqSJGnbMqqXyyVJktSDrgkpkiRJ2ow5v67dJ3YOJUmStIGdQ0mSpB5kRFuHdg4lSZK0gZ1DSZKkHoxqh21Uz0uSJEk9mLE4TLJrkv+e5J+TnLjJ2Dv7m5okSdLwSmqg26B0dQ7PZnKm9keAlyT5SJKFU2NPnu6gJBNJViRZsfKT5zdKVZIkSf3WVRweVFVvqKp/r6rjgauAzybZY6aDqmp5VY1X1fi+zz++WbKSJEnDIgPeBqVrQsrCJGNVtQ6gqv42yU3A54BFfc9OkiRJA9XVOfw/wNEb76iq9wOnAQ/0KSdJkqShlwx2G5QZi8Oqej2wMsmzkizaaP8FwGv6nZwkSZIGq2u28qnAecCpwHVJTtho+G/7mZgkSdIwm6/3HE4AR1TV6iRLgXOTLK2qMxnd501LkiTNW13F4VhVrQaoqhuSLGOyQNwfi0NJkjSPjY1oJdRVHN6S5PCquhpgqoN4HPA+4LAteYP7Hmjzya15cF2TOAB/8+S7m8SZuOAhTeIAPOqRbR5W861l+zWJA/Cqy9osuPmYxW3mLr3n2zvz+D0ebBLrS7fu0CTOvjuvaRIHYMkhOzWJc+Kv3dskDsBpX96tSZzDdms3f23Bsl2axPnCNe0WlN1u7zZ/Ftz9YLuHVq3bo83P08LzvtMkDsCS39i9SZwDd1vLSZde2iQWwAeOOqpZLGkUdP1JdBJw88Y7qmpNVZ0EPKNvWUmb0aowlCRJ05uxc1hVK2cY+2L7dCRJkrYNI3pVubNzKEmSpHmk655DSZIkbcYgF6YeJDuHkiRJ2sDOoSRJUg9GtHFo51CSJEm/YOdQkiSpB/Oyc5hkryTvSvIPSfZI8tdJvpbkw0n2HlSSkiRJGoyuy8rvB74B3AhcDNwHPB/4PPCP0x2UZCLJiiQrfnLBeY1SlSRJGh5jGew2sPPqGF9SVe+oqjcBu1XVm6vqxqp6B7D/dAdV1fKqGq+q8b2PPaFpwpIkSeqfrnsONy4eP7DJ2ILGuUiSJG0z5uU9h8B5SRYBVNUb1+9McjDw7X4mJkmSpMHrerbyXyZ5dJJ9gCuqavXU/u8lec9AMpQkSRpCSc11Cn3RNVv5VOA84FTguiQb30B4Rj8TkyRJ0uB13XM4ARxRVauTLAXOTbK0qs5kdC+1S5IkdRrVQqhzQspGl5JvSLKMyQJxf0b3M5EkSZq3uiak3JLk8PVfTBWKxwF7Aof1MzFJkqRhlgx2G5SuzuFJwJqNd1TVGuCkJGdtyRusXdPmZs0dd2r3qbzx8l2bxMldK5vEAfjJ7W0+p1xyY5M4AB985a83ifNHl7f5nJ64x4NN4gA8+WFtYrW8Gfnd5/y8SZzlq9v8fAOcc8KdTeJcdfv2TeIAfOySW5rEOfLkfZrEAfjqVW1+nm68p90TTXf4wg+axHnwGfs1iQNw02d/2iTO+W/p6mtsuYkvLua3P/u5JrHOPfoZTeJIc61rtvK0f6tX1RfbpyNJkqS51O6fqZIkSfNIux72cBnV85IkSVIP7BxKkiT1YJCTRAbJzqEkSZI2sHMoSZLUgxFtHG595zDJw/uRiCRJkubejJ3DJA/ddBfw5SRPAFJVd/QtM0mSpCE2qvccdl1Wvh344Sb79gGuAgo4sB9JSZIkaW50XVZ+HfBt4PiqOqCqDgBWTr2etjBMMpFkRZIVN194fst8JUmShkIGvA3KjMVhVb0VeAXwl0nelmQXJjuGM6qq5VU1XlXjez33+EapSpIkqd86ZytPPULvRUmOBy4Cdu57VpIkSUNubETvOeycrZzk0UmeBXwWeCbw7Kn9x/Y5N0mSJA3YjMVhktcA5wGnAtcBz62q66aGz+hzbpIkSUNrVO857LqsfApwRFWtTrIUODfJ0qo6k9Fd+1GSJGne6ioOx6pqNUBV3ZBkGZMF4v5YHEqSpHks6Zyju03quufwliSHr/9iqlA8DtgTOKyfiUmSJGnwujqHJwFrNt5RVWuAk5KctSVvcMJB9/WY2i87+8qFTeIA7LX3giZx1u29qEkcgFVfWdUkzoIH1zWJA/D5m7/bJM5lNy5uEufIhz3QJA7ANXds3yTOMfv8vEkcgO2u/kmTOPfs2ObnG+Cxuy9tEmflPTc2iQOQ+9c2ifOGx/2sSRyA3953lyZxvnd1mz8vAbZ/sM3ntG73nZrEAVh4+Y+bxPn+3Xs1iQPwnZvaXAT74Avu4to7Pt4k1uMeelyTOFKvZiwOp5axmW7si+3TkSRJ2jaM6v11nUvZSJIkaf7oXARbkiRJvyoj2jq0cyhJkqQN7BxKkiT1YEQbh3YOJUmS9At2DiVJknowqh22UT0vSZKkeSXJbknOTfKtJN9M8pRe4sxYHCY5dqPXi5O8N8m1Sc5JsqSXN5QkSRoFyWC3LXAmcEFVPRp4PPDNXs6rq3N4xkav3wr8BHghcCUw7RNSkkwkWZFkxRXnfqKXvCRJkrSFkiwGngG8F6CqHqiqO3uJtTX3HI5X1frnLL89ycum+8aqWg4sB3jLtReN5lOpJUnSPDdU85UPAG4Dzk7yeOArwGur6p6tDdTVOXx4kj9Jchqwa/JLTU3vV5QkSRqQja/MTm0TGw1vBzwReFdVPQG4B3hDL+/T1Tl8N7D+ifL/BOwJ3JZkL+DqXt5QkiRpFGTAncONr8xuxkpgZVVdMfX1ufSjOKyq05M8GtgHuKKqVk/tvznJOb28oSRJktqaqs1uTPKoqvo28CzgG73E6pqtfCpwHnAqcF2SEzYaPmPzR0mSJI2+ZGyg2xY4FfjfSa4FDqfHWq3rsvIEcERVrU6yFDg3ydKqOpMhuwtTkiRpPquqq4Hx2cbpKg7HNrqUfEOSZUwWiPtjcShJkjRyunqUtyRZv3wNU4XicUxOTDmsn4lJkiQNtwx4G4xUTb8MYZJ9gTVVdfNmxp5WVV/seoMD/8tHm6xzuG7PnVuEAWC7vRvFuvCHbeIAe73sgCZxdtmpSRgAvnP2j5rEWXrS/k3irGu4YuYP/88tbQIdtkebOMCui9usDvXER65tEgfgyh8saBJn4Q5NwgDw8wfaxLn3opvaBALyQJvP/Pg/2btJHICPfHZdkzi3vuu9TeIA/McP/GGTOJf933ubxAGY+O2tWe53eu95511N4jT9gw64/j0vahpvyMz5Fcw7H/jUQNdy3m2H5w3knLtmK6+cYayzMJQkSRpVg17KZlBcyFqSJEkbtOmnS5IkzTt2DiVJkjTi7BxKkiT1YAsXpt7mjOZZSZIkqSdb3TlMskdV/bQfyUiSJG075uE9h0nelGTPqdfjSa4HrkjywyRHDSRDSZIkDUzXZeUXVNXtU6//DvidqjoYeA7w1r5mJkmSNMQy4P8Gpas43C7J+kvPO1XVlQBV9R1g4XQHJZlIsiLJiru/fmGjVCVJktRvXcXhO4FPJjkauCDJmUmOSnI6cPV0B1XV8qoar6rxXR/z3Jb5SpIkDYVR7Rx2PT7vHUm+BrwSOHTq+w8B/h34m/6nJ0mSpEHaktnKNwPLgSuqavX6nUmOBS7oV2KSJEnDbTRXBOyarfwa4DzgVOC6JCdsNHxGPxOTJEnS4HV1Dk8Bjqiq1UmWAucmWVpVZzKqi/tIkiTNY13F4dj6S8lVdUOSZUwWiPtjcShJkuaxZDRLoa6L5bckOXz9F1OF4nHAnsBh/UxMkiRJg5eqmn4w2RdYU1U3b2bsaVX1xa43OPhFH5z+DbbCmqP2axEGgF0Xt7mBdMcd2/2L4eYfr20SZ/urb2kSB+B9ZyxqEueNV+7aJM7vHnpPkzgA961t82v3gWt3ahIH4PYf3N8kTu241U/FnNai3RY0iXPQfu1+r3zzzO83ifPA0fs3iQNAo+7B2E/vaxKnpdy/plmsBd9f1STOc1/X7u+DO37e5mf8gF0ebBIH4LM3TLuM8Fa59fI2nzfAD/7+hc1iNTTnbbt71nyuSY2zpR6y3TMGcs5dS9msnGGsszCUJElbrlVhKM1GuxaDJEnSPDLIhakHaTQX6JEkSVJP7BxKkiT1ZDR7bKN5VpIkSeqJnUNJkqQeeM+hJEmSRp6dQ0mSpB7MyyekJLkqyRuTHDSohCRJkjR3ui4r7w7sBlyc5MtJ/jjJI7qCJplIsiLJiruv/2yTRCVJkoZLBrwNRldxuKqq/rSqHgmcBhwCXJXk4iQT0x1UVcuraryqxnc98OiW+UqSJKmPtnhCSlV9vqpeBewDvBl4St+ykiRJGnJhbKDboHRNSPnOpjuqai1wwdQmSZKkETJjGVpVL0ny6CTPSrJo47Ekx/Y3NUmSJA1a12zlU4HzgFOB65KcsNHwGf1MTJIkabiN5oSUrsvKE8ARVbU6yVLg3CRLq+pMBpmlJEmSBqKrOByrqtUAVXVDkmVMFoj7Y3EoSZLmsXm5CDZwS5LD138xVSgeB+wJHNbPxCRJkjR4qarpB5N9gTVVdfNmxp5WVV/seoPHvv/z07/BVnjc0nUtwgDw3VsXNIlzz+p2OT3xoCYfE+vahAHgC9e0ifPcI9oktfrBdtP4L//MPU3ijB/9kCZxAFZ8o83ndNij2n1Ou2zf5mf8R3e1+T0HcOBua5vE2WFBu98sV97Q5vzuvPnBJnEAxm78WZM4aw/arUkcgNz9QJM42+2xsEkcgIWNQq1p82PJYQe260R97fo2P+M/v3NNkzjr/fB1zdY/nvO23QPrvtLwb91uO4wdMZBznvGyclWtnGGsszCUJEnStqXrnkNJkiRtxiAXph6k0TwrSZIk9cTOoSRJUk/m/LbHvrBzKEmSpA3sHEqSJPUgdg4lSZI06rqerTye5OIkH0yyX5KLktyV5MokTxhUkpIkScMmyUC3QenqHL4TeAvwCeAy4KyqWgy8YWpss5JMJFmRZMUdl5zfLFlJkiT1V1dxuH1VfaqqPgRUVZ3L5IvPADtOd1BVLa+q8aoaf+iy4xumK0mSNCzGBrwNRtc73Z/kuUleBFSS3wRIchTQ6GFBkiRJGhZds5X/kMnLyuuAY4BXJnk/cBNwSn9TkyRJ0qB1PVv5miR/BDwCWFlVrwVeC5Dk2AHkJ0mSNJTm5VI2SV4DfAw4FbguyQkbDZ/Rz8QkSZI0eF2XlU8BxqtqdZKlwLlJllbVmYzqM2MkSZK2yGiWQl3F4VhVrQaoqhuSLGOyQNyfUf1EJEmS5rGu2cq3JDl8/RdTheJxwJ7AYf1MTJIkaZjN10WwTwJu3nhHVa2pqpOAZ/QtK0mSJM2NqprzDZgYtljmZE7mZE7DGMeczMmchmdbV9+qQW6DOq/BLbc9s4khjGVOg43TMpY5DTZOy1ijnNMon1vLWOY02DgtYw1jTupB14QUSZIkbca8XOdQkiRJ88uwdA6XD2EscxpsnJaxzGmwcVrGGuWcRvncWsYyp8HGaRlrGHPqs0NHsnWYqRs/JUmSJC8rS5Ik6RcsDodQBrnSZYckD2kYa69hOjdJ2liLP59G9c+4fpzXqH5Wo6DvxWGSRyV5SpLtkyxoEK9FjIOTjCdZ2CDWY5IclWSPWcZ5epLfBaiqms1vmiQvTPLa2eQzFecE4M1JHt4g1jHAx4D9ZhnnyUl+d+r/O8wiziFTPwNjLX6mNoo7sn/YeW6Di9OveD3msF+SHdb/QzHJSDUVkixNsjjJ4tn82ZvkiCRj1eherYY/k63mFiycijerX/8kv5bkPyTZa7Z/16l/+vqbPMlvAecBfwO8F/gvSXbtMdahAFW1djZ/mSc5Dvgo8HfA+9fH7THW84APAX8MfCDJXj3EGEuyCDgL+PMkfwgbCsSt/vVJ8lzgvwHf2NpjN4lzFPBm4LyqunWWsZ47FWtv4LRZxDmeyZuUnw38KbB/j3F+EzgX+HPgbcAf9NohTfKkqX8c/DrMvrDvh1n8ZfeUJMcmeQ5MntsscnhekpN6PX6TWDu1iDMVay+Y3blNxTmkUZyjk5yS5JQW8TaK2+vPwAuATwH/Czg7yaOqal2vBULDgucRGxess4hzDJN/H5wBvDPJ7r185lM/R5cB/5Rk+9nkNBXvScBTG8R5JvC62TZCpj6nTyZZUlXrZhnn34E/Aj6W5GGtfsbVWL9W1wa2B/4VeNrU1/8PkwXZ3wK7bmWs44B7gXM22regh5yeCnwTeMLU1+8E3tfj+S0DvgMcOfX1x4Bnz+Lzej2ThdMHgD/uMcZTgVs2ymkxkwXUzj3E+hPgT6dePwJ4DvAkYPFWxnk28D3gMVM/ExcCz+ghnz2ATwOPnfr6fcCLgIcDO25lnE8B/2Hq698HrgT+X2CXrczpecB3mSxYPwa8d6OxbGWsrfo90RHricDT1/8c9Bjj+cA1wFuATwDHz+LcFjL5j8T7gBNmeW7HAK/bml/zjl+/DwMHzzLOc4DbgN9vkM91TP7D5xLgpbP4zI8EngaM9xIDCJNd/q9N/Vm3ZCqvnwCPmfqesa3M6QVTf64smuXndCzwJeBsJv9RvVePcZZNfd7PBB499ft4N6b+btma8wN2By5g8h/lHwZ2mMX5HQN8Cziiwc/T9cBzN9m/tb9u6/P5DLCslxhTxzwK+P/bO/dgq6o6jn9+F1ARU1CwQFBEriAoIuL1iYDmI8Ua06zkyiNTEFExH+SIOqGOYqGYj0TSriMI+CgEKkdNJG1KEhlpaGx8NWm+0slpxlGJafXH77dhsTlnn7322RePuL4ze+7e+5zzvWv99tprfX+Pfc46YLQdzwG6A12Kcsat/bb2Tg/sDDTb/q+A5ahAODOvB2me4VTU01gvIvOhrgjiLOfcGtu/Bti1oFf1LjDJObfKvMZDgakiMldETi/gIW9AJ+P7gBYRuVlEbhBF3uv0AfBfoKeluZcAP0MjpKFt2uDtP4yKqKnAHSLSLYCnAzDOObcO6AL8DRWKoVGEDUBnYKBFn0ehv/09B5gREEHYAOwEJBGje4G/o5PUmLyNsbE3HpjpnDvX9geKyMPGmzuCaBH2ZywKWW/KZgwapT8XuFREJhXgGAbMBCY75y4H1tj53SE8Ouqc+xS99x8F5ojIeOML6qtF6m8C/uyc+yT1WtD9JiItwF3AXc65V1Kv5W6XiJyIOr2/xcZUkeiYjd9pwHTn3E/Qew4RGQ7B4+lkYB4qxi4UkbmhHE5X67dQEfYy8J6160bgcRHZ1wVEkCyy/iAwBZ3/d8r72RTPaOCnqINwB/Ah6oAWsfsBwAXOuRXAJ+j9fw1wm4g0O42Q5rXXv4GlqCAT4G4RGZFkFPJCRI5CHd/znHOrEzsl0fI8Y9PWjO1QB2+qc+5xEekqIruLSPfA63YCcANwDip+L7H+FokefgqsdM6tEJG+QCt6P/9BRPYPsXfEVkB7Kk/Uo14KjLDjDsCZwHzCvNhe6ILeHZ005xdsTwcsQmP7vdGFr4ed260g75XADNufACxKOAM49gF+aPuXoJHSOwq05UDUW3wTvaGbUGG3ENg1gOcAVMgtAibauX7ognpCgXY12d8TgXeAAwpwnA6sBv4EXGXnjgHagAMDeCbbGDwLjWTPBybhRf5y8kwHzkqdewaYG8DRF3gWeMJsPTzk3khxHQSsTWyBRlZvKcDTAhxm+7uiImEZcD9wWyBXJ/v7DWvPwajYmAXcSs4MADAIeB37vVU0AjzAH0eBc0orcL3t90KF1Lj0eK3BMcrmj4OBHjaujyt47brYOD4ZGIo6LIvRVOUjATw7okL1WDveE3iPgAwJ0B84xGy8GLg89frl1tYd8tocjc4dj0a1VwDn40UQ89jb3neZf89ZW3Lfb17/9mPTWrCD9ecy1HGdbm3MjOYbz3Cgsx1fBVxm+88B/wNOCWzbFFRED0GzPg+gc+5DQHPIOAdmow50bzQ7ch/wBpuyeZk2R9eOW4GRdtwJWElghNzsNMzasQoNWLxt164JLct6ncA1M27tu7Uvud50U9Fw/dHe+aeAoQU5dwMewQSiDbqBBXg6ooLzd3Y81gZt5xL6/RtgWOBneqFpknPQxfNqdEGeVOD/D0I9Rv/cY6E2B06xm3amd24e0FqnfWai9X6Sd1HwPtsNjdSM8c49gpf2zMGxi13ve4GbvfPLcywI+3r7rWhaak/vXOLADM7Zlj29yfdq1JkaDnRMva/mgoCWFUz2jvvbZNwn5+f9vnWwift8YLyd2wNdNEeFcNnx3sBC278UWE+A84MKsDuB76MOxpOocHmCQMFqfKPQyFMf4AU0IvY8sCiA4yTgUO94qo2p3KUXKZtPQ0XAKuAm7/wqvBRzDb4uqLjY3zv3YzSdNzvH58egDsZKtM7w66hQvcJ7T180nZtnTPVHhc4umPONZlmeMnvtZOcy513jGYiWkezlnT/Uv2bA9jn79zTqMCcp8gHee3radaxauuDxrLBx2IwKzotsTL2GRl0fxhykHP0bhEafp6Fr0ZvAhaizdgVaVpNZ+mI8LejaOxGNhE5HI5GgGYW3gZ41eJptSwR04txPAa6z/TzXP7HT79EszzFmnzm+fVHhukfe+yZu7b+1/z/Qxfx81JtN0m/rgC/XwdkdFVIvoUKqdx1cbWjYfDXFolmSOj7NuILrYFDR9A/M20S97T4lXIOkTUE2RwX0OJvozrbteWCfEtrzLAXqRu3zX7Prfzy6eL0A9C3A0+Ttj0OjNF0y3p/UvvqL0bWoN+4LxEXUqPdjc1Gwi7d/FeoUHGLHNcdkiiuJgndAo0jLvAm+OUffFqbOb586vgc4okZ7KtUId0PTgWegdVkz0DKIbwf07UjgFuBVNPqb1MU9iWUnArgORIX4lcAPvPN/BC6s194ymgAABpBJREFUwTMgdZwsnC3GuVd6fAWMpx1tLH7VO3cTcHpA365BhcUZqIi7HY36zwO6ZnCka7LvRh8m7IXOSzNQ8TEBnQe65ehfIsQWsHmU9zBUIH4HFYn3k3KIKvCstPcN9l47BHjO9pNMQMV5pUL/7gTuq/C+sfa/KvavCs/ddu1eAT7C6vxQoZ65PrG5gJpn4/wCLEpu7+mNCtaqtYwpe9+Dzo+Po/Pjyd77fkFGQCXFs5jNHY0haCbhxBz3W9pOc7HsDDpHTvfs/SJ1aIK4lb9tnX8C26FCZxEqxg4qgfNiCqYn7fNi7XrVJr6qC2dOvu1R8bTOv5kCOfrgFSFTZ4Gu9fF76GKcK5JVhWcY+jTf7KL2rsD5IAUEnX22K+pRr0S96dwp5Sp8iY2q9g2NyDyGOjhteCIKFYgvoqnpK41r7wyuLYSYP+mjAvEBNJq1Ftg9B5cvMBKx0oQ6ZTujC+dSKix4Ffo233uto7f/TTQ9tVeAnXyuG9G6o9PseCQZD4NU6VsLcGrqfW1YGjzQ5pNRx+d2TDShqa6JgTy+je4BluUYc2k7+UJ6PDontdjra0hFYqu0abF37iJUzM1iU2r/UTIiRuhiPsE77gH82vb7oeLkTnI40mQ8/MemX+bqg0ax3gCGhPLYcTN6r3zL2pUleir1bwnmAKHRtinovVx1vqzCs8z2TyLggbsK/bsLi4TjOWaogHqaKuK+As9c1Knoij5IMgsYgc4DL1UbBzmv29moSM8sw6pip6W2vy8qMheg2ZdBeW0Wt62zbd1/ZqmqEni6oemkihNKINeErIkggKeTTQwDSuAqVHNWiQdNnwWn3dtxDJTSN+P6EiU85YvW9tR8YpUta199gXAqcB7wczKcA7LFk78YPG2TZ4hg9bk62Jh8yNr0fNYEXKFvPlcnNPq/OqtvGVwP2PkmTOTUGgcV+uaLp87e/mmEC1af6xzUwZgG/AhdGCveL3munfX5l8BRBey0wHstcRCWB46nhVXe14pG67tncFWrye7p3ScdyZE2J0OIscl5OQJ9oCRUiC3BUpJouvpfNjYz5/GM/iXR9v6oGNqvIE93O7czOVLJGf1byubO4tkUE6zLbX8PNC19HVryVMTe/nU7Go0+1kpxV7NTLzs3GBX3VZ3fuH1222fegMINL+GrLIynNLESty/Oxqba16SObjAZAiX12cwHrFCveg05IqI5uJagkczcTgtb1vUORCNRwV/5UoFraK3FN6NvC1Kvj0eFYRHB6gv7o9D62utq2SmHvXdEozRBZSWenRbZcT+zVc2vRKnQJl/8dkRrNFcRUHPMljXZrWg0KldNdoYw6OG1eTQ1SlRy8DSjGYQgB7hC/85CI9uhX7OW8Dxlx0ntetXylMD+9UO/izWzfxk8X0nsbX8z25WjPUndaGZJQQ57j0Nrfuuu8Y9b+2xJmDgiIiIQItIdLfY/Ap1IRznn3gzk2A2tV/rYOdcqIkPRyMNfnXPv18nVjBalz3fOBX0peqpvgqbK3gnhqMB1OGqn0SXYaT9UXDzmnHutINd659x3RWQI8IFz7p91tmk4Wuv3nivwVR+enY5EbV6GnfZHBcaqItdPRNrQ1O/xaETpLwU4OqIp20edc8eKyFj0QZIrnHMf1cEzDhWHs51zH4a2yzjb2NS/ic65tSXwlGWnVvRbI653zv2nTp4RwDTn3Md18IxFS0EuCuFJcbZRp50itg6iOIyIqAMicjH6NOBxRSe6CuJppHPurTq5jrRTI5xz7xbkqrtvZXJVEKwjnXNvl8BVSNineA5HoyOFeDy+su3URIHxZN831wlNs3dCvxrn5SLt8TjbKF+IFeIpq3+fIzsVFmIlCd/S7RTRvijrNxcjIr5wsC8DPwl9MrGweHLOvS8ia9GnsI8rKgyrcBUVhqX0rUyuCn0rJAyrcBUSdGXxQGONJ6dRg/Uici36peOFF3JPGIygHCFWFw+U179t2U6NaO+IrYcYOYyIqAMisoNL/VpHAY5u6NPblxSNErQTV919K5OrEe1UZpuMr9HsJK6kRUJEJqDCYF0j8BhXKf3blu3UiPaOaH9EcRgR0QBoNCHWqGhEOzWivRu0TQ0nxBoRjWanbd3eEZURxWFERERERERERMRGBP3wfURERERERERExLaNKA4jIiIiIiIiIiI2IorDiIiIiIiIiIiIjYjiMCIiIiIiIiIiYiOiOIyIiIiIiIiIiNiIKA4jIiIiIiIiIiI24v9Ez0vcoMxumgAAAABJRU5ErkJggg==\n",
            "text/plain": [
              "<Figure size 864x720 with 2 Axes>"
            ]
          },
          "metadata": {
            "needs_background": "light"
          }
        }
      ]
    },
    {
      "cell_type": "markdown",
      "metadata": {
        "id": "2yLPAIlNPg_h"
      },
      "source": [
        "Calculate cosine similarity between pre- and post-covid corpora"
      ]
    },
    {
      "cell_type": "code",
      "metadata": {
        "id": "p12R5rFnOmc2"
      },
      "source": [
        "articles_df2 = articles_df.groupby(['Classification'])['Clean_Content'].apply(lambda x: ','.join(x)).reset_index()"
      ],
      "execution_count": 23,
      "outputs": []
    },
    {
      "cell_type": "code",
      "metadata": {
        "colab": {
          "base_uri": "https://localhost:8080/",
          "height": 110
        },
        "id": "aBAp-uaLPbqu",
        "outputId": "cd8f0fd8-dc16-4390-f55f-904a498c6393"
      },
      "source": [
        "articles_df2"
      ],
      "execution_count": 24,
      "outputs": [
        {
          "output_type": "execute_result",
          "data": {
            "text/html": [
              "<div>\n",
              "<style scoped>\n",
              "    .dataframe tbody tr th:only-of-type {\n",
              "        vertical-align: middle;\n",
              "    }\n",
              "\n",
              "    .dataframe tbody tr th {\n",
              "        vertical-align: top;\n",
              "    }\n",
              "\n",
              "    .dataframe thead th {\n",
              "        text-align: right;\n",
              "    }\n",
              "</style>\n",
              "<table border=\"1\" class=\"dataframe\">\n",
              "  <thead>\n",
              "    <tr style=\"text-align: right;\">\n",
              "      <th></th>\n",
              "      <th>Classification</th>\n",
              "      <th>Clean_Content</th>\n",
              "    </tr>\n",
              "  </thead>\n",
              "  <tbody>\n",
              "    <tr>\n",
              "      <th>0</th>\n",
              "      <td>Covid</td>\n",
              "      <td>child onset disruptive behavior disorder disru...</td>\n",
              "    </tr>\n",
              "    <tr>\n",
              "      <th>1</th>\n",
              "      <td>Pre-Covid</td>\n",
              "      <td>disruptive behavior disorder disruptive behavi...</td>\n",
              "    </tr>\n",
              "  </tbody>\n",
              "</table>\n",
              "</div>"
            ],
            "text/plain": [
              "  Classification                                      Clean_Content\n",
              "0          Covid  child onset disruptive behavior disorder disru...\n",
              "1      Pre-Covid  disruptive behavior disorder disruptive behavi..."
            ]
          },
          "metadata": {},
          "execution_count": 24
        }
      ]
    },
    {
      "cell_type": "code",
      "metadata": {
        "id": "_EZ2ed5XPde5"
      },
      "source": [
        "document_embeddings = sbert_model.encode(articles_df2['Clean_Content'])"
      ],
      "execution_count": 25,
      "outputs": []
    },
    {
      "cell_type": "code",
      "metadata": {
        "colab": {
          "base_uri": "https://localhost:8080/"
        },
        "id": "YywCnBCaP2mF",
        "outputId": "f17e5df8-f466-4e3b-e6f7-53ae1bd66d97"
      },
      "source": [
        "pairwise_similarities=cosine_similarity(document_embeddings)\n",
        "print('Cosine Similarity: ' + str(pairwise_similarities[0][1]))"
      ],
      "execution_count": 26,
      "outputs": [
        {
          "output_type": "stream",
          "name": "stdout",
          "text": [
            "Cosine Similarity: 0.8124601\n"
          ]
        }
      ]
    },
    {
      "cell_type": "code",
      "metadata": {
        "colab": {
          "base_uri": "https://localhost:8080/",
          "height": 531
        },
        "id": "LzastX_1QDwP",
        "outputId": "66bb929e-f6fd-48e3-883b-1e271fc3368c"
      },
      "source": [
        "Pre_covid_pairwise_similarities=cosine_similarity(Pre_covid_document_embeddings)\n",
        "Covid_pairwise_similarities=cosine_similarity(Covid_document_embeddings)\n",
        "Pre_covid_pairwise_similarities = pd.DataFrame(Pre_covid_pairwise_similarities)\n",
        "Covid_pairwise_similarities = pd.DataFrame(Covid_pairwise_similarities)\n",
        "Pre_covid_pairwise_similarities"
      ],
      "execution_count": 27,
      "outputs": [
        {
          "output_type": "execute_result",
          "data": {
            "text/html": [
              "<div>\n",
              "<style scoped>\n",
              "    .dataframe tbody tr th:only-of-type {\n",
              "        vertical-align: middle;\n",
              "    }\n",
              "\n",
              "    .dataframe tbody tr th {\n",
              "        vertical-align: top;\n",
              "    }\n",
              "\n",
              "    .dataframe thead th {\n",
              "        text-align: right;\n",
              "    }\n",
              "</style>\n",
              "<table border=\"1\" class=\"dataframe\">\n",
              "  <thead>\n",
              "    <tr style=\"text-align: right;\">\n",
              "      <th></th>\n",
              "      <th>0</th>\n",
              "      <th>1</th>\n",
              "      <th>2</th>\n",
              "      <th>3</th>\n",
              "      <th>4</th>\n",
              "      <th>5</th>\n",
              "      <th>6</th>\n",
              "      <th>7</th>\n",
              "      <th>8</th>\n",
              "      <th>9</th>\n",
              "      <th>10</th>\n",
              "      <th>11</th>\n",
              "      <th>12</th>\n",
              "      <th>13</th>\n",
              "      <th>14</th>\n",
              "    </tr>\n",
              "  </thead>\n",
              "  <tbody>\n",
              "    <tr>\n",
              "      <th>0</th>\n",
              "      <td>1.000000</td>\n",
              "      <td>0.782625</td>\n",
              "      <td>0.805753</td>\n",
              "      <td>0.598233</td>\n",
              "      <td>0.630011</td>\n",
              "      <td>0.747920</td>\n",
              "      <td>0.794895</td>\n",
              "      <td>0.750810</td>\n",
              "      <td>0.653452</td>\n",
              "      <td>0.685302</td>\n",
              "      <td>0.759515</td>\n",
              "      <td>0.655643</td>\n",
              "      <td>0.609195</td>\n",
              "      <td>0.706599</td>\n",
              "      <td>0.641572</td>\n",
              "    </tr>\n",
              "    <tr>\n",
              "      <th>1</th>\n",
              "      <td>0.782625</td>\n",
              "      <td>1.000000</td>\n",
              "      <td>0.785216</td>\n",
              "      <td>0.693356</td>\n",
              "      <td>0.704073</td>\n",
              "      <td>0.830850</td>\n",
              "      <td>0.864706</td>\n",
              "      <td>0.848150</td>\n",
              "      <td>0.786165</td>\n",
              "      <td>0.804560</td>\n",
              "      <td>0.741022</td>\n",
              "      <td>0.718091</td>\n",
              "      <td>0.579710</td>\n",
              "      <td>0.699417</td>\n",
              "      <td>0.771364</td>\n",
              "    </tr>\n",
              "    <tr>\n",
              "      <th>2</th>\n",
              "      <td>0.805753</td>\n",
              "      <td>0.785216</td>\n",
              "      <td>1.000000</td>\n",
              "      <td>0.669521</td>\n",
              "      <td>0.760846</td>\n",
              "      <td>0.732112</td>\n",
              "      <td>0.758385</td>\n",
              "      <td>0.785516</td>\n",
              "      <td>0.690078</td>\n",
              "      <td>0.647012</td>\n",
              "      <td>0.842398</td>\n",
              "      <td>0.779684</td>\n",
              "      <td>0.673587</td>\n",
              "      <td>0.803343</td>\n",
              "      <td>0.711888</td>\n",
              "    </tr>\n",
              "    <tr>\n",
              "      <th>3</th>\n",
              "      <td>0.598233</td>\n",
              "      <td>0.693356</td>\n",
              "      <td>0.669521</td>\n",
              "      <td>1.000000</td>\n",
              "      <td>0.696627</td>\n",
              "      <td>0.575878</td>\n",
              "      <td>0.696891</td>\n",
              "      <td>0.638218</td>\n",
              "      <td>0.559057</td>\n",
              "      <td>0.528887</td>\n",
              "      <td>0.741889</td>\n",
              "      <td>0.712412</td>\n",
              "      <td>0.616509</td>\n",
              "      <td>0.754126</td>\n",
              "      <td>0.745735</td>\n",
              "    </tr>\n",
              "    <tr>\n",
              "      <th>4</th>\n",
              "      <td>0.630011</td>\n",
              "      <td>0.704073</td>\n",
              "      <td>0.760846</td>\n",
              "      <td>0.696627</td>\n",
              "      <td>1.000000</td>\n",
              "      <td>0.621544</td>\n",
              "      <td>0.713639</td>\n",
              "      <td>0.744513</td>\n",
              "      <td>0.628912</td>\n",
              "      <td>0.629463</td>\n",
              "      <td>0.839810</td>\n",
              "      <td>0.826191</td>\n",
              "      <td>0.670566</td>\n",
              "      <td>0.726277</td>\n",
              "      <td>0.717287</td>\n",
              "    </tr>\n",
              "    <tr>\n",
              "      <th>5</th>\n",
              "      <td>0.747920</td>\n",
              "      <td>0.830850</td>\n",
              "      <td>0.732112</td>\n",
              "      <td>0.575878</td>\n",
              "      <td>0.621544</td>\n",
              "      <td>1.000000</td>\n",
              "      <td>0.817879</td>\n",
              "      <td>0.782810</td>\n",
              "      <td>0.723815</td>\n",
              "      <td>0.769515</td>\n",
              "      <td>0.638551</td>\n",
              "      <td>0.637478</td>\n",
              "      <td>0.588060</td>\n",
              "      <td>0.737753</td>\n",
              "      <td>0.622748</td>\n",
              "    </tr>\n",
              "    <tr>\n",
              "      <th>6</th>\n",
              "      <td>0.794895</td>\n",
              "      <td>0.864706</td>\n",
              "      <td>0.758385</td>\n",
              "      <td>0.696891</td>\n",
              "      <td>0.713639</td>\n",
              "      <td>0.817879</td>\n",
              "      <td>1.000000</td>\n",
              "      <td>0.846075</td>\n",
              "      <td>0.723305</td>\n",
              "      <td>0.813528</td>\n",
              "      <td>0.753238</td>\n",
              "      <td>0.725528</td>\n",
              "      <td>0.612882</td>\n",
              "      <td>0.765812</td>\n",
              "      <td>0.760893</td>\n",
              "    </tr>\n",
              "    <tr>\n",
              "      <th>7</th>\n",
              "      <td>0.750810</td>\n",
              "      <td>0.848150</td>\n",
              "      <td>0.785516</td>\n",
              "      <td>0.638218</td>\n",
              "      <td>0.744513</td>\n",
              "      <td>0.782810</td>\n",
              "      <td>0.846075</td>\n",
              "      <td>1.000000</td>\n",
              "      <td>0.842953</td>\n",
              "      <td>0.868633</td>\n",
              "      <td>0.744534</td>\n",
              "      <td>0.664795</td>\n",
              "      <td>0.544405</td>\n",
              "      <td>0.721813</td>\n",
              "      <td>0.837614</td>\n",
              "    </tr>\n",
              "    <tr>\n",
              "      <th>8</th>\n",
              "      <td>0.653452</td>\n",
              "      <td>0.786165</td>\n",
              "      <td>0.690078</td>\n",
              "      <td>0.559057</td>\n",
              "      <td>0.628912</td>\n",
              "      <td>0.723815</td>\n",
              "      <td>0.723305</td>\n",
              "      <td>0.842953</td>\n",
              "      <td>1.000000</td>\n",
              "      <td>0.808260</td>\n",
              "      <td>0.583022</td>\n",
              "      <td>0.579808</td>\n",
              "      <td>0.482398</td>\n",
              "      <td>0.606887</td>\n",
              "      <td>0.765916</td>\n",
              "    </tr>\n",
              "    <tr>\n",
              "      <th>9</th>\n",
              "      <td>0.685302</td>\n",
              "      <td>0.804560</td>\n",
              "      <td>0.647012</td>\n",
              "      <td>0.528887</td>\n",
              "      <td>0.629463</td>\n",
              "      <td>0.769515</td>\n",
              "      <td>0.813528</td>\n",
              "      <td>0.868633</td>\n",
              "      <td>0.808260</td>\n",
              "      <td>1.000000</td>\n",
              "      <td>0.616488</td>\n",
              "      <td>0.591027</td>\n",
              "      <td>0.493041</td>\n",
              "      <td>0.647306</td>\n",
              "      <td>0.808531</td>\n",
              "    </tr>\n",
              "    <tr>\n",
              "      <th>10</th>\n",
              "      <td>0.759515</td>\n",
              "      <td>0.741022</td>\n",
              "      <td>0.842398</td>\n",
              "      <td>0.741889</td>\n",
              "      <td>0.839810</td>\n",
              "      <td>0.638551</td>\n",
              "      <td>0.753238</td>\n",
              "      <td>0.744534</td>\n",
              "      <td>0.583022</td>\n",
              "      <td>0.616488</td>\n",
              "      <td>1.000000</td>\n",
              "      <td>0.802749</td>\n",
              "      <td>0.670241</td>\n",
              "      <td>0.789594</td>\n",
              "      <td>0.724416</td>\n",
              "    </tr>\n",
              "    <tr>\n",
              "      <th>11</th>\n",
              "      <td>0.655643</td>\n",
              "      <td>0.718091</td>\n",
              "      <td>0.779684</td>\n",
              "      <td>0.712412</td>\n",
              "      <td>0.826191</td>\n",
              "      <td>0.637478</td>\n",
              "      <td>0.725528</td>\n",
              "      <td>0.664795</td>\n",
              "      <td>0.579808</td>\n",
              "      <td>0.591027</td>\n",
              "      <td>0.802749</td>\n",
              "      <td>1.000000</td>\n",
              "      <td>0.665834</td>\n",
              "      <td>0.770526</td>\n",
              "      <td>0.687696</td>\n",
              "    </tr>\n",
              "    <tr>\n",
              "      <th>12</th>\n",
              "      <td>0.609195</td>\n",
              "      <td>0.579710</td>\n",
              "      <td>0.673587</td>\n",
              "      <td>0.616509</td>\n",
              "      <td>0.670566</td>\n",
              "      <td>0.588060</td>\n",
              "      <td>0.612882</td>\n",
              "      <td>0.544405</td>\n",
              "      <td>0.482398</td>\n",
              "      <td>0.493041</td>\n",
              "      <td>0.670241</td>\n",
              "      <td>0.665834</td>\n",
              "      <td>1.000000</td>\n",
              "      <td>0.682378</td>\n",
              "      <td>0.583699</td>\n",
              "    </tr>\n",
              "    <tr>\n",
              "      <th>13</th>\n",
              "      <td>0.706599</td>\n",
              "      <td>0.699417</td>\n",
              "      <td>0.803343</td>\n",
              "      <td>0.754126</td>\n",
              "      <td>0.726277</td>\n",
              "      <td>0.737753</td>\n",
              "      <td>0.765812</td>\n",
              "      <td>0.721813</td>\n",
              "      <td>0.606887</td>\n",
              "      <td>0.647306</td>\n",
              "      <td>0.789594</td>\n",
              "      <td>0.770526</td>\n",
              "      <td>0.682378</td>\n",
              "      <td>1.000000</td>\n",
              "      <td>0.743822</td>\n",
              "    </tr>\n",
              "    <tr>\n",
              "      <th>14</th>\n",
              "      <td>0.641572</td>\n",
              "      <td>0.771364</td>\n",
              "      <td>0.711888</td>\n",
              "      <td>0.745735</td>\n",
              "      <td>0.717287</td>\n",
              "      <td>0.622748</td>\n",
              "      <td>0.760893</td>\n",
              "      <td>0.837614</td>\n",
              "      <td>0.765916</td>\n",
              "      <td>0.808531</td>\n",
              "      <td>0.724416</td>\n",
              "      <td>0.687696</td>\n",
              "      <td>0.583699</td>\n",
              "      <td>0.743822</td>\n",
              "      <td>1.000000</td>\n",
              "    </tr>\n",
              "  </tbody>\n",
              "</table>\n",
              "</div>"
            ],
            "text/plain": [
              "          0         1         2   ...        12        13        14\n",
              "0   1.000000  0.782625  0.805753  ...  0.609195  0.706599  0.641572\n",
              "1   0.782625  1.000000  0.785216  ...  0.579710  0.699417  0.771364\n",
              "2   0.805753  0.785216  1.000000  ...  0.673587  0.803343  0.711888\n",
              "3   0.598233  0.693356  0.669521  ...  0.616509  0.754126  0.745735\n",
              "4   0.630011  0.704073  0.760846  ...  0.670566  0.726277  0.717287\n",
              "5   0.747920  0.830850  0.732112  ...  0.588060  0.737753  0.622748\n",
              "6   0.794895  0.864706  0.758385  ...  0.612882  0.765812  0.760893\n",
              "7   0.750810  0.848150  0.785516  ...  0.544405  0.721813  0.837614\n",
              "8   0.653452  0.786165  0.690078  ...  0.482398  0.606887  0.765916\n",
              "9   0.685302  0.804560  0.647012  ...  0.493041  0.647306  0.808531\n",
              "10  0.759515  0.741022  0.842398  ...  0.670241  0.789594  0.724416\n",
              "11  0.655643  0.718091  0.779684  ...  0.665834  0.770526  0.687696\n",
              "12  0.609195  0.579710  0.673587  ...  1.000000  0.682378  0.583699\n",
              "13  0.706599  0.699417  0.803343  ...  0.682378  1.000000  0.743822\n",
              "14  0.641572  0.771364  0.711888  ...  0.583699  0.743822  1.000000\n",
              "\n",
              "[15 rows x 15 columns]"
            ]
          },
          "metadata": {},
          "execution_count": 27
        }
      ]
    },
    {
      "cell_type": "markdown",
      "metadata": {
        "id": "pd4x3c8_mW1Q"
      },
      "source": [
        "Reformat and drop duplicates:"
      ]
    },
    {
      "cell_type": "code",
      "metadata": {
        "colab": {
          "base_uri": "https://localhost:8080/",
          "height": 450
        },
        "id": "X0MKHjwng_rY",
        "outputId": "00c66d87-4d16-4ced-8e10-619b10ea0d97"
      },
      "source": [
        "Pre_covid_pairwise_similarities = Pre_covid_pairwise_similarities[abs(Pre_covid_pairwise_similarities) >= 0.01].stack().reset_index()\n",
        "Pre_covid_pairwise_similarities = Pre_covid_pairwise_similarities[Pre_covid_pairwise_similarities['level_0'].astype(str)!=Pre_covid_pairwise_similarities['level_1'].astype(str)]\n",
        "Pre_covid_pairwise_similarities['ordered-cols'] = Pre_covid_pairwise_similarities.apply(lambda x: '-'.join(sorted([str(x['level_0']),str(x['level_1'])])),axis=1)\n",
        "print(Pre_covid_pairwise_similarities.shape)\n",
        "Pre_covid_pairwise_similarities = Pre_covid_pairwise_similarities.drop_duplicates(['ordered-cols'])\n",
        "print(Pre_covid_pairwise_similarities.shape)\n",
        "Pre_covid_pairwise_similarities.drop(['ordered-cols'], axis=1, inplace=True)\n",
        "Pre_covid_pairwise_similarities"
      ],
      "execution_count": 28,
      "outputs": [
        {
          "output_type": "stream",
          "name": "stdout",
          "text": [
            "(210, 4)\n",
            "(105, 4)\n"
          ]
        },
        {
          "output_type": "execute_result",
          "data": {
            "text/html": [
              "<div>\n",
              "<style scoped>\n",
              "    .dataframe tbody tr th:only-of-type {\n",
              "        vertical-align: middle;\n",
              "    }\n",
              "\n",
              "    .dataframe tbody tr th {\n",
              "        vertical-align: top;\n",
              "    }\n",
              "\n",
              "    .dataframe thead th {\n",
              "        text-align: right;\n",
              "    }\n",
              "</style>\n",
              "<table border=\"1\" class=\"dataframe\">\n",
              "  <thead>\n",
              "    <tr style=\"text-align: right;\">\n",
              "      <th></th>\n",
              "      <th>level_0</th>\n",
              "      <th>level_1</th>\n",
              "      <th>0</th>\n",
              "    </tr>\n",
              "  </thead>\n",
              "  <tbody>\n",
              "    <tr>\n",
              "      <th>1</th>\n",
              "      <td>0</td>\n",
              "      <td>1</td>\n",
              "      <td>0.782625</td>\n",
              "    </tr>\n",
              "    <tr>\n",
              "      <th>2</th>\n",
              "      <td>0</td>\n",
              "      <td>2</td>\n",
              "      <td>0.805753</td>\n",
              "    </tr>\n",
              "    <tr>\n",
              "      <th>3</th>\n",
              "      <td>0</td>\n",
              "      <td>3</td>\n",
              "      <td>0.598233</td>\n",
              "    </tr>\n",
              "    <tr>\n",
              "      <th>4</th>\n",
              "      <td>0</td>\n",
              "      <td>4</td>\n",
              "      <td>0.630011</td>\n",
              "    </tr>\n",
              "    <tr>\n",
              "      <th>5</th>\n",
              "      <td>0</td>\n",
              "      <td>5</td>\n",
              "      <td>0.747920</td>\n",
              "    </tr>\n",
              "    <tr>\n",
              "      <th>...</th>\n",
              "      <td>...</td>\n",
              "      <td>...</td>\n",
              "      <td>...</td>\n",
              "    </tr>\n",
              "    <tr>\n",
              "      <th>178</th>\n",
              "      <td>11</td>\n",
              "      <td>13</td>\n",
              "      <td>0.770526</td>\n",
              "    </tr>\n",
              "    <tr>\n",
              "      <th>179</th>\n",
              "      <td>11</td>\n",
              "      <td>14</td>\n",
              "      <td>0.687696</td>\n",
              "    </tr>\n",
              "    <tr>\n",
              "      <th>193</th>\n",
              "      <td>12</td>\n",
              "      <td>13</td>\n",
              "      <td>0.682378</td>\n",
              "    </tr>\n",
              "    <tr>\n",
              "      <th>194</th>\n",
              "      <td>12</td>\n",
              "      <td>14</td>\n",
              "      <td>0.583699</td>\n",
              "    </tr>\n",
              "    <tr>\n",
              "      <th>209</th>\n",
              "      <td>13</td>\n",
              "      <td>14</td>\n",
              "      <td>0.743822</td>\n",
              "    </tr>\n",
              "  </tbody>\n",
              "</table>\n",
              "<p>105 rows × 3 columns</p>\n",
              "</div>"
            ],
            "text/plain": [
              "     level_0  level_1         0\n",
              "1          0        1  0.782625\n",
              "2          0        2  0.805753\n",
              "3          0        3  0.598233\n",
              "4          0        4  0.630011\n",
              "5          0        5  0.747920\n",
              "..       ...      ...       ...\n",
              "178       11       13  0.770526\n",
              "179       11       14  0.687696\n",
              "193       12       13  0.682378\n",
              "194       12       14  0.583699\n",
              "209       13       14  0.743822\n",
              "\n",
              "[105 rows x 3 columns]"
            ]
          },
          "metadata": {},
          "execution_count": 28
        }
      ]
    },
    {
      "cell_type": "markdown",
      "metadata": {
        "id": "R0zK0dvOmVHx"
      },
      "source": [
        ""
      ]
    },
    {
      "cell_type": "code",
      "metadata": {
        "colab": {
          "base_uri": "https://localhost:8080/",
          "height": 450
        },
        "id": "8PfFijhSjSAP",
        "outputId": "e70396ec-b1e8-4a45-cf14-14fc5c3f5774"
      },
      "source": [
        "Covid_pairwise_similarities = Covid_pairwise_similarities[abs(Covid_pairwise_similarities) >= 0.01].stack().reset_index()\n",
        "Covid_pairwise_similarities = Covid_pairwise_similarities[Covid_pairwise_similarities['level_0'].astype(str)!=Covid_pairwise_similarities['level_1'].astype(str)]\n",
        "Covid_pairwise_similarities['ordered-cols'] = Covid_pairwise_similarities.apply(lambda x: '-'.join(sorted([str(x['level_0']),str(x['level_1'])])),axis=1)\n",
        "print(Covid_pairwise_similarities.shape)\n",
        "Covid_pairwise_similarities = Covid_pairwise_similarities.drop_duplicates(['ordered-cols'])\n",
        "print(Covid_pairwise_similarities.shape)\n",
        "Covid_pairwise_similarities.drop(['ordered-cols'], axis=1, inplace=True)\n",
        "Covid_pairwise_similarities"
      ],
      "execution_count": 29,
      "outputs": [
        {
          "output_type": "stream",
          "name": "stdout",
          "text": [
            "(812, 4)\n",
            "(406, 4)\n"
          ]
        },
        {
          "output_type": "execute_result",
          "data": {
            "text/html": [
              "<div>\n",
              "<style scoped>\n",
              "    .dataframe tbody tr th:only-of-type {\n",
              "        vertical-align: middle;\n",
              "    }\n",
              "\n",
              "    .dataframe tbody tr th {\n",
              "        vertical-align: top;\n",
              "    }\n",
              "\n",
              "    .dataframe thead th {\n",
              "        text-align: right;\n",
              "    }\n",
              "</style>\n",
              "<table border=\"1\" class=\"dataframe\">\n",
              "  <thead>\n",
              "    <tr style=\"text-align: right;\">\n",
              "      <th></th>\n",
              "      <th>level_0</th>\n",
              "      <th>level_1</th>\n",
              "      <th>0</th>\n",
              "    </tr>\n",
              "  </thead>\n",
              "  <tbody>\n",
              "    <tr>\n",
              "      <th>1</th>\n",
              "      <td>0</td>\n",
              "      <td>1</td>\n",
              "      <td>0.662431</td>\n",
              "    </tr>\n",
              "    <tr>\n",
              "      <th>2</th>\n",
              "      <td>0</td>\n",
              "      <td>2</td>\n",
              "      <td>0.855591</td>\n",
              "    </tr>\n",
              "    <tr>\n",
              "      <th>3</th>\n",
              "      <td>0</td>\n",
              "      <td>3</td>\n",
              "      <td>0.631871</td>\n",
              "    </tr>\n",
              "    <tr>\n",
              "      <th>4</th>\n",
              "      <td>0</td>\n",
              "      <td>4</td>\n",
              "      <td>0.689729</td>\n",
              "    </tr>\n",
              "    <tr>\n",
              "      <th>5</th>\n",
              "      <td>0</td>\n",
              "      <td>5</td>\n",
              "      <td>0.631903</td>\n",
              "    </tr>\n",
              "    <tr>\n",
              "      <th>...</th>\n",
              "      <td>...</td>\n",
              "      <td>...</td>\n",
              "      <td>...</td>\n",
              "    </tr>\n",
              "    <tr>\n",
              "      <th>752</th>\n",
              "      <td>25</td>\n",
              "      <td>27</td>\n",
              "      <td>0.781002</td>\n",
              "    </tr>\n",
              "    <tr>\n",
              "      <th>753</th>\n",
              "      <td>25</td>\n",
              "      <td>28</td>\n",
              "      <td>0.811317</td>\n",
              "    </tr>\n",
              "    <tr>\n",
              "      <th>781</th>\n",
              "      <td>26</td>\n",
              "      <td>27</td>\n",
              "      <td>0.705259</td>\n",
              "    </tr>\n",
              "    <tr>\n",
              "      <th>782</th>\n",
              "      <td>26</td>\n",
              "      <td>28</td>\n",
              "      <td>0.753668</td>\n",
              "    </tr>\n",
              "    <tr>\n",
              "      <th>811</th>\n",
              "      <td>27</td>\n",
              "      <td>28</td>\n",
              "      <td>0.725314</td>\n",
              "    </tr>\n",
              "  </tbody>\n",
              "</table>\n",
              "<p>406 rows × 3 columns</p>\n",
              "</div>"
            ],
            "text/plain": [
              "     level_0  level_1         0\n",
              "1          0        1  0.662431\n",
              "2          0        2  0.855591\n",
              "3          0        3  0.631871\n",
              "4          0        4  0.689729\n",
              "5          0        5  0.631903\n",
              "..       ...      ...       ...\n",
              "752       25       27  0.781002\n",
              "753       25       28  0.811317\n",
              "781       26       27  0.705259\n",
              "782       26       28  0.753668\n",
              "811       27       28  0.725314\n",
              "\n",
              "[406 rows x 3 columns]"
            ]
          },
          "metadata": {},
          "execution_count": 29
        }
      ]
    },
    {
      "cell_type": "markdown",
      "metadata": {
        "id": "jd-Lq3Lrmde0"
      },
      "source": [
        "Test significance of differences"
      ]
    },
    {
      "cell_type": "code",
      "metadata": {
        "colab": {
          "base_uri": "https://localhost:8080/"
        },
        "id": "4D5-hqMklhS2",
        "outputId": "2f53e698-63cc-478d-ceb8-b92a76f09d2b"
      },
      "source": [
        "!pip install researchpy"
      ],
      "execution_count": 31,
      "outputs": [
        {
          "output_type": "stream",
          "name": "stdout",
          "text": [
            "Requirement already satisfied: researchpy in /usr/local/lib/python3.7/dist-packages (0.3.2)\n",
            "Requirement already satisfied: scipy in /usr/local/lib/python3.7/dist-packages (from researchpy) (1.4.1)\n",
            "Requirement already satisfied: numpy in /usr/local/lib/python3.7/dist-packages (from researchpy) (1.19.5)\n",
            "Requirement already satisfied: statsmodels in /usr/local/lib/python3.7/dist-packages (from researchpy) (0.10.2)\n",
            "Requirement already satisfied: patsy in /usr/local/lib/python3.7/dist-packages (from researchpy) (0.5.1)\n",
            "Requirement already satisfied: pandas in /usr/local/lib/python3.7/dist-packages (from researchpy) (1.1.5)\n",
            "Requirement already satisfied: pytz>=2017.2 in /usr/local/lib/python3.7/dist-packages (from pandas->researchpy) (2018.9)\n",
            "Requirement already satisfied: python-dateutil>=2.7.3 in /usr/local/lib/python3.7/dist-packages (from pandas->researchpy) (2.8.2)\n",
            "Requirement already satisfied: six>=1.5 in /usr/local/lib/python3.7/dist-packages (from python-dateutil>=2.7.3->pandas->researchpy) (1.15.0)\n"
          ]
        }
      ]
    },
    {
      "cell_type": "code",
      "metadata": {
        "colab": {
          "base_uri": "https://localhost:8080/"
        },
        "id": "YIBJeN5YeJO2",
        "outputId": "7be85c66-4f9b-45b5-99f4-7bbc7c234df6"
      },
      "source": [
        "import researchpy as rp\n",
        "\n",
        "summary, results = rp.ttest(group1= Pre_covid_pairwise_similarities[0], group1_name= \"Pre-Covid\",\n",
        "                            group2= Covid_pairwise_similarities[0], group2_name= \"During Covid\")\n",
        "print(summary)"
      ],
      "execution_count": 32,
      "outputs": [
        {
          "output_type": "stream",
          "name": "stdout",
          "text": [
            "       Variable      N      Mean        SD        SE  95% Conf.  Interval\n",
            "0     Pre-Covid  105.0  0.709860  0.087008  0.008491   0.693022  0.726698\n",
            "1  During Covid  406.0  0.757244  0.079360  0.003939   0.749501  0.764986\n",
            "2      combined  511.0  0.747507  0.083141  0.003678   0.740282  0.754733\n"
          ]
        },
        {
          "output_type": "stream",
          "name": "stderr",
          "text": [
            "/usr/local/lib/python3.7/dist-packages/statsmodels/tools/_testing.py:19: FutureWarning: pandas.util.testing is deprecated. Use the functions in the public API at pandas.testing instead.\n",
            "  import pandas.util.testing as tm\n"
          ]
        }
      ]
    },
    {
      "cell_type": "code",
      "metadata": {
        "colab": {
          "base_uri": "https://localhost:8080/"
        },
        "id": "zc62fY1EeN7V",
        "outputId": "90a4413d-749a-4e19-8fd8-a1bb08cea545"
      },
      "source": [
        "print(results)"
      ],
      "execution_count": 33,
      "outputs": [
        {
          "output_type": "stream",
          "name": "stdout",
          "text": [
            "                         Independent t-test   results\n",
            "0  Difference (Pre-Covid - During Covid) =    -0.0474\n",
            "1                     Degrees of freedom =   509.0000\n",
            "2                                      t =    -5.3443\n",
            "3                  Two side test p value =     0.0000\n",
            "4                 Difference < 0 p value =     0.0000\n",
            "5                 Difference > 0 p value =     1.0000\n",
            "6                              Cohen's d =    -0.5851\n",
            "7                              Hedge's g =    -0.5843\n",
            "8                          Glass's delta =    -0.5446\n",
            "9                            Pearson's r =     0.2305\n"
          ]
        }
      ]
    },
    {
      "cell_type": "code",
      "metadata": {
        "id": "6xoCPrUsl5fv"
      },
      "source": [
        ""
      ],
      "execution_count": null,
      "outputs": []
    }
  ]
}
