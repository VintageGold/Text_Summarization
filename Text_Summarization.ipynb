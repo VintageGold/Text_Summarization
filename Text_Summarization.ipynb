{
 "cells": [
  {
   "cell_type": "code",
   "execution_count": 1,
   "metadata": {},
   "outputs": [],
   "source": [
    "import pandas as pd"
   ]
  },
  {
   "cell_type": "code",
   "execution_count": 5,
   "metadata": {},
   "outputs": [],
   "source": [
    "df_overview = pd.read_csv(\"./Data/processed/LongForm_Clean_Lemma_Telehealth.csv\")"
   ]
  },
  {
   "cell_type": "code",
   "execution_count": 6,
   "metadata": {},
   "outputs": [
    {
     "data": {
      "text/plain": [
       "['treat various disorder bee 2008 postel de haan de jong 2008 include posttraumatic stress disorder germain marchand bouchard drouin guay 2009 depression sloan gallagher feinstein lee pruneau 2011 anxiety ruskin 2004 substance use frueh henderson myrick 2005 chronic pain macea gajos calil fregni 2010',\n",
       " 'largely positive adler pritchett kauth nadorff 2014 baird whitney caedo 2018 brooks manson bair dailey shore 2012 cunningham connors lever stephan 2013 levy strachan 2013 mitchell maclaren mortimes locate withinn carachi 2009 moreau 2018 whitten kuwahara 2004 wynn bergvik pettersen fossum 2012',\n",
       " 'neuropsychological testing bouchard 2004 cullum hynan grosch parikh weiner 2014 cullum weiner gehrmasculine gendern hynan 2006 gehrmasculine gender shah miles kuna godleski 2016 gros yoder tuerk lozano acierno 2011 hilty 2013 morland 2014 morland hynes mackintimes locate withinsh resick chard 2011the veteran ’',\n",
       " 'autism goodwin mazefsky ioannidis erdogmus siegel 2019 hollis falconer martin whittingtimes locate withinn stimes locate withincktime locate withinn glazebrook davies 2017 voss 2019 wearable sensor facilitate ecological momentary assessment ecological momentary assessment',\n",
       " 'nebraska statewide telehealth network 2006 nebraska statewide telehealth network 2006 statewide telehealth network 2006 oklahoma missouri telehealth network 2015 missouri telehealth network 2015 telehealth research network 2015 california california telehealth research network 2013 alaska idaho montana oregon utah washingtimes locate withinn',\n",
       " 'encopresis eg davis sampilo gallagher landrum malone 2013 palermo wilson peters lewandowski somhegyi 2009 richardson frueh grubaugh egede elhai 2009 ritterband 2008 van allen davis lassen 2011 wade 2015recognizing',\n",
       " 'receive health research education hsiao chu sung perng wang 2014 jaureguizar oriol galarza jiménez mayoralas alises díaz lobatimes locate within gómez garcía 2016 thoover merenbloom johnson 2018',\n",
       " 'guideline american telemedicine association 2017 coffey vanderlip sarvet 2017 myers vander stimes locate withinep zhou mccarty katimes locate withinn 2015 nelson pattimes locate withinn 2016 nelson sharp 2016 mobile health research social medium',\n",
       " 'hispanic americans time locate within access mental health research treatment shim comptimes locate withinn rust druss kaslow 2009 similar systemic barrier time locate within physical health research care limit access time locate within mental health research care service',\n",
       " 'breathlessness gift moore soeken 1992 guided imagery louie 2004 progressive muscle relaxation renfroe 1988 listen time locate within soothe music singh rao prem sahoo keshav 2009']"
      ]
     },
     "execution_count": 6,
     "metadata": {},
     "output_type": "execute_result"
    }
   ],
   "source": [
    "from rake_nltk import Rake\n",
    "\n",
    "keyword_corpus = \" \".join(df_overview[\"LongForm_Clean_Content_Lemma\"].str.replace(\"et al\",\"\"))\n",
    "\n",
    "r_extraction = Rake()\n",
    "\n",
    "r_extraction.extract_keywords_from_text(keyword_corpus)\n",
    "\n",
    "\n",
    "r_extraction.get_ranked_phrases()[:10]"
   ]
  },
  {
   "cell_type": "code",
   "execution_count": null,
   "metadata": {},
   "outputs": [],
   "source": []
  }
 ],
 "metadata": {
  "kernelspec": {
   "display_name": "Python 3",
   "language": "python",
   "name": "python3"
  },
  "language_info": {
   "codemirror_mode": {
    "name": "ipython",
    "version": 3
   },
   "file_extension": ".py",
   "mimetype": "text/x-python",
   "name": "python",
   "nbconvert_exporter": "python",
   "pygments_lexer": "ipython3",
   "version": "3.7.6"
  }
 },
 "nbformat": 4,
 "nbformat_minor": 4
}
