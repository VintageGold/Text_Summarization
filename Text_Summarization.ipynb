{
  "nbformat": 4,
  "nbformat_minor": 0,
  "metadata": {
    "colab": {
      "name": "Text_Summarization.ipynb",
      "provenance": [],
      "collapsed_sections": [],
      "toc_visible": true,
      "authorship_tag": "ABX9TyMSXdcPrQOmLedEUJ5CB2W2",
      "include_colab_link": true
    },
    "kernelspec": {
      "name": "python3",
      "display_name": "Python 3"
    }
  },
  "cells": [
    {
      "cell_type": "markdown",
      "metadata": {
        "id": "view-in-github",
        "colab_type": "text"
      },
      "source": [
        "<a href=\"https://colab.research.google.com/github/VintageGold/Text_Summarization/blob/main/Text_Summarization.ipynb\" target=\"_parent\"><img src=\"https://colab.research.google.com/assets/colab-badge.svg\" alt=\"Open In Colab\"/></a>"
      ]
    },
    {
      "cell_type": "code",
      "metadata": {
        "colab": {
          "base_uri": "https://localhost:8080/"
        },
        "id": "bebIsaEQGwho",
        "outputId": "c3234644-6484-4f12-97ec-840f98dd8866"
      },
      "source": [
        "from google.colab import drive\n",
        "\n",
        "drive.mount('/content/drive/')\n",
        "\n",
        "%cd drive/My \\ Drive/Text_Summarization"
      ],
      "execution_count": 1,
      "outputs": [
        {
          "output_type": "stream",
          "text": [
            "Drive already mounted at /content/drive/; to attempt to forcibly remount, call drive.mount(\"/content/drive/\", force_remount=True).\n",
            "/content/drive/My  Drive/Text_Summarization\n"
          ],
          "name": "stdout"
        }
      ]
    },
    {
      "cell_type": "code",
      "metadata": {
        "id": "QXb-LPeB0Zn3"
      },
      "source": [
        "import json\n",
        "import pandas as pd"
      ],
      "execution_count": 2,
      "outputs": []
    },
    {
      "cell_type": "markdown",
      "metadata": {
        "id": "RqSWrd99NNTI"
      },
      "source": [
        "# Load Data"
      ]
    },
    {
      "cell_type": "code",
      "metadata": {
        "id": "hT7KP5MwHVxN"
      },
      "source": [
        "with open(\"Data/Telehealth_article_texts.txt\") as f:\n",
        "    for i in range(4):\n",
        "        next(f)\n",
        "    corpus = f.read()"
      ],
      "execution_count": 3,
      "outputs": []
    },
    {
      "cell_type": "code",
      "metadata": {
        "id": "KiVKRILyDt6N"
      },
      "source": [
        "dict_articles = json.loads(corpus.replace('\\n',''))"
      ],
      "execution_count": 4,
      "outputs": []
    },
    {
      "cell_type": "code",
      "metadata": {
        "id": "tXDvrlaEqH3V"
      },
      "source": [
        "df_metadata = pd.read_excel('Data/Metadata_telehealth_article_key_2.25.xlsx',dtype={'Index':'object'},index_col='Index')"
      ],
      "execution_count": 6,
      "outputs": []
    },
    {
      "cell_type": "code",
      "metadata": {
        "id": "x2tvymjNqryb"
      },
      "source": [
        "df_metadata['Content'] = dict_articles.values()"
      ],
      "execution_count": 7,
      "outputs": []
    },
    {
      "cell_type": "code",
      "metadata": {
        "colab": {
          "base_uri": "https://localhost:8080/",
          "height": 316
        },
        "id": "simUKdJTq2Z9",
        "outputId": "5c0011f6-7595-49dc-d8f8-255ec055a134"
      },
      "source": [
        "df_metadata.head()"
      ],
      "execution_count": 8,
      "outputs": [
        {
          "output_type": "execute_result",
          "data": {
            "text/html": [
              "<div>\n",
              "<style scoped>\n",
              "    .dataframe tbody tr th:only-of-type {\n",
              "        vertical-align: middle;\n",
              "    }\n",
              "\n",
              "    .dataframe tbody tr th {\n",
              "        vertical-align: top;\n",
              "    }\n",
              "\n",
              "    .dataframe thead th {\n",
              "        text-align: right;\n",
              "    }\n",
              "</style>\n",
              "<table border=\"1\" class=\"dataframe\">\n",
              "  <thead>\n",
              "    <tr style=\"text-align: right;\">\n",
              "      <th></th>\n",
              "      <th>Journal Title</th>\n",
              "      <th>Article Title</th>\n",
              "      <th>Date Published</th>\n",
              "      <th>Authors</th>\n",
              "      <th>Abstract</th>\n",
              "      <th>Keywords</th>\n",
              "      <th>Citation</th>\n",
              "      <th>Content</th>\n",
              "    </tr>\n",
              "    <tr>\n",
              "      <th>Index</th>\n",
              "      <th></th>\n",
              "      <th></th>\n",
              "      <th></th>\n",
              "      <th></th>\n",
              "      <th></th>\n",
              "      <th></th>\n",
              "      <th></th>\n",
              "      <th></th>\n",
              "    </tr>\n",
              "  </thead>\n",
              "  <tbody>\n",
              "    <tr>\n",
              "      <th>0</th>\n",
              "      <td>Psychological Servies</td>\n",
              "      <td>The Effectiveness of Telepsychology With Veter...</td>\n",
              "      <td>2021</td>\n",
              "      <td>Michael J. McClellan; Richard Osbaldiston; Ron...</td>\n",
              "      <td>Veterans face a variety of stressors due to th...</td>\n",
              "      <td>KEYWORDS:\\n\\ntelepsychology, meta-analysis, ve...</td>\n",
              "      <td>McClellan, M. J., Osbaldiston, R., Wu, R., Yea...</td>\n",
              "      <td>Veterans face a variety of stressors related t...</td>\n",
              "    </tr>\n",
              "    <tr>\n",
              "      <th>1</th>\n",
              "      <td>Psychology, Public Policy, and Law</td>\n",
              "      <td>Making the Case for Videoconferencing and Remo...</td>\n",
              "      <td>2021</td>\n",
              "      <td>Milfred D. Dale; Desiree Smith</td>\n",
              "      <td>The COVID-19 pandemic and its requirements for...</td>\n",
              "      <td>KEYWORDS:\\n\\nremote child custody evaluations,...</td>\n",
              "      <td>Dale, M. D., &amp; Smith, D. (2021). Making the ca...</td>\n",
              "      <td>The impact of the COVID-19 pandemic on the chi...</td>\n",
              "    </tr>\n",
              "    <tr>\n",
              "      <th>2</th>\n",
              "      <td>Psychology, Public Policy, and Law</td>\n",
              "      <td>Forensic E-Mental Health: Review, Research Pri...</td>\n",
              "      <td>2021</td>\n",
              "      <td>Lauren E. Kois; Jennifer Cox; Ashley T. Peck</td>\n",
              "      <td>Forensic e-mental health is an area of psychol...</td>\n",
              "      <td>KEYWORDS:\\n\\nforensic e-mental health, telehea...</td>\n",
              "      <td>Kois, L. E., Cox, J., &amp; Peck, A. T. (2021). Fo...</td>\n",
              "      <td>In November 2019, COVID-19—the infectious, hig...</td>\n",
              "    </tr>\n",
              "    <tr>\n",
              "      <th>3</th>\n",
              "      <td>Training and Education in Professional Psychology</td>\n",
              "      <td>Moving Toward a New Era of Telepsychology in U...</td>\n",
              "      <td>2021</td>\n",
              "      <td>Allison L. Baier; Sarah Danzo</td>\n",
              "      <td>Many university training clinics are facing nu...</td>\n",
              "      <td>KEYWORDS:\\n\\neducation and training, telepsych...</td>\n",
              "      <td>Baier, A. L., &amp; Danzo, S. (2021). Moving towar...</td>\n",
              "      <td>Anxiety and depressive disorders are among the...</td>\n",
              "    </tr>\n",
              "    <tr>\n",
              "      <th>4</th>\n",
              "      <td>Practice Innovations</td>\n",
              "      <td>Navigating Changes in the Physical and Psychol...</td>\n",
              "      <td>2021</td>\n",
              "      <td>Liat Shklarski; Allison Abrams; Elana Bakst</td>\n",
              "      <td>The emergence of the Covid-19 pandemic at the ...</td>\n",
              "      <td>KEYWORDS:\\n\\nremote psychotherapy, Covid-19, p...</td>\n",
              "      <td>Shklarski, L., Abrams, A., &amp; Bakst, E. (2021)....</td>\n",
              "      <td>In mid-March, 2020, the authors—as well as the...</td>\n",
              "    </tr>\n",
              "  </tbody>\n",
              "</table>\n",
              "</div>"
            ],
            "text/plain": [
              "                                           Journal Title  ...                                            Content\n",
              "Index                                                     ...                                                   \n",
              "0                                  Psychological Servies  ...  Veterans face a variety of stressors related t...\n",
              "1                     Psychology, Public Policy, and Law  ...  The impact of the COVID-19 pandemic on the chi...\n",
              "2                     Psychology, Public Policy, and Law  ...  In November 2019, COVID-19—the infectious, hig...\n",
              "3      Training and Education in Professional Psychology  ...  Anxiety and depressive disorders are among the...\n",
              "4                                   Practice Innovations  ...  In mid-March, 2020, the authors—as well as the...\n",
              "\n",
              "[5 rows x 8 columns]"
            ]
          },
          "metadata": {
            "tags": []
          },
          "execution_count": 8
        }
      ]
    },
    {
      "cell_type": "code",
      "metadata": {
        "id": "n4e2oCslztSP"
      },
      "source": [
        ""
      ],
      "execution_count": null,
      "outputs": []
    }
  ]
}