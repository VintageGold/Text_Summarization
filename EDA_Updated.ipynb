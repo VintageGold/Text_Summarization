{
 "cells": [
  {
   "cell_type": "code",
   "execution_count": 1,
   "metadata": {},
   "outputs": [],
   "source": [
    "%ls"
   ]
  },
  {
   "cell_type": "code",
   "execution_count": 2,
   "metadata": {
    "colab": {
     "base_uri": "https://localhost:8080/"
    },
    "id": "bebIsaEQGwho",
    "outputId": "71b75e42-77a8-4548-9536-a8913125b6f1"
   },
   "outputs": [
    {
     "name": "stdout",
     "output_type": "stream",
     "text": [
      "No Colab Environment\n"
     ]
    }
   ],
   "source": [
    "try:\n",
    "    from google.colab import drive\n",
    "\n",
    "    drive.mount('./drive/')\n",
    "\n",
    "    %cd drive/My \\ Drive/Text_Summarization\n",
    "\n",
    "except:\n",
    "    print(\"No Colab Environment\")"
   ]
  },
  {
   "cell_type": "code",
   "execution_count": 3,
   "metadata": {
    "id": "QXb-LPeB0Zn3"
   },
   "outputs": [],
   "source": [
    "import json\n",
    "import pandas as pd\n",
    "import numpy as np\n",
    "import re\n",
    "import seaborn as sns\n",
    "import matplotlib\n",
    "import textwrap\n"
   ]
  },
  {
   "cell_type": "code",
   "execution_count": 4,
   "metadata": {},
   "outputs": [
    {
     "ename": "NameError",
     "evalue": "name 'plt' is not defined",
     "output_type": "error",
     "traceback": [
      "\u001b[0;31m---------------------------------------------------------------------------\u001b[0m",
      "\u001b[0;31mNameError\u001b[0m                                 Traceback (most recent call last)",
      "\u001b[0;32m<ipython-input-4-e548c3fdcb98>\u001b[0m in \u001b[0;36m<module>\u001b[0;34m\u001b[0m\n\u001b[1;32m      6\u001b[0m \u001b[0;34m\u001b[0m\u001b[0m\n\u001b[1;32m      7\u001b[0m \u001b[0;34m\u001b[0m\u001b[0m\n\u001b[0;32m----> 8\u001b[0;31m \u001b[0mplt\u001b[0m\u001b[0;34m.\u001b[0m\u001b[0mrcParams\u001b[0m\u001b[0;34m.\u001b[0m\u001b[0mupdate\u001b[0m\u001b[0;34m(\u001b[0m\u001b[0mparameters\u001b[0m\u001b[0;34m)\u001b[0m\u001b[0;34m\u001b[0m\u001b[0;34m\u001b[0m\u001b[0m\n\u001b[0m",
      "\u001b[0;31mNameError\u001b[0m: name 'plt' is not defined"
     ]
    }
   ],
   "source": [
    "parameters = {'axes.labelsize': 25,\n",
    "          'axes.titlesize': 35,\n",
    "             'xtick.labelsize':20,\n",
    "             \"figure.figsize\" : (20, 10)\n",
    "             }\n",
    "\n",
    "\n",
    "plt.rcParams.update(parameters)"
   ]
  },
  {
   "cell_type": "markdown",
   "metadata": {
    "id": "RqSWrd99NNTI"
   },
   "source": [
    "# Load Data"
   ]
  },
  {
   "cell_type": "code",
   "execution_count": null,
   "metadata": {
    "colab": {
     "base_uri": "https://localhost:8080/",
     "height": 669
    },
    "id": "OB1zW2GXJF_z",
    "outputId": "036d40f3-9c53-4606-db76-df5c0d7c5a8f"
   },
   "outputs": [],
   "source": [
    "df_overview = pd.read_csv(\"./Data/processed/Telehealth.csv\")\n",
    "df_overview.head()"
   ]
  },
  {
   "cell_type": "markdown",
   "metadata": {
    "id": "hmc702E_vnAf"
   },
   "source": [
    "## Pre and Post Covid Dataset"
   ]
  },
  {
   "cell_type": "code",
   "execution_count": null,
   "metadata": {
    "id": "kbQPmkPSJ3B7"
   },
   "outputs": [],
   "source": [
    "df_precovid = df_overview[df_overview[\"Classification\"] == \"Pre-Covid\"]\n",
    "df_covid = df_overview[df_overview[\"Classification\"] == \"Covid\"]"
   ]
  },
  {
   "cell_type": "markdown",
   "metadata": {
    "id": "zHqzOkbNH1dt"
   },
   "source": [
    "## EDA"
   ]
  },
  {
   "cell_type": "code",
   "execution_count": null,
   "metadata": {
    "colab": {
     "base_uri": "https://localhost:8080/"
    },
    "id": "da251IfnRArZ",
    "outputId": "5860669a-b3c7-4a48-f1ba-c188dfba461e"
   },
   "outputs": [],
   "source": [
    "import matplotlib\n",
    "import matplotlib.pyplot as plt\n",
    "\n",
    "from yellowbrick.text import FreqDistVisualizer, TSNEVisualizer, DispersionPlot, PosTagVisualizer\n",
    "\n",
    "from sklearn.feature_extraction.text import TfidfVectorizer, CountVectorizer\n",
    "\n",
    "matplotlib.rcParams[\"figure.figsize\"] = (20, 7)"
   ]
  },
  {
   "cell_type": "code",
   "execution_count": null,
   "metadata": {
    "colab": {
     "base_uri": "https://localhost:8080/",
     "height": 443
    },
    "id": "_rp0Rv2078a3",
    "outputId": "55ecf10c-58ec-48e1-9e86-d93b9a63a3cd"
   },
   "outputs": [],
   "source": [
    "_ = df_overview.hist()"
   ]
  },
  {
   "cell_type": "code",
   "execution_count": null,
   "metadata": {
    "colab": {
     "base_uri": "https://localhost:8080/",
     "height": 443
    },
    "id": "UYf0Jy6Q8ZlK",
    "outputId": "5618000b-eaee-4755-e737-27e0c754974d"
   },
   "outputs": [],
   "source": [
    "_ = df_precovid.hist()"
   ]
  },
  {
   "cell_type": "code",
   "execution_count": null,
   "metadata": {
    "colab": {
     "base_uri": "https://localhost:8080/",
     "height": 443
    },
    "id": "vHwn_UO88geD",
    "outputId": "13ff5c17-553f-455b-b790-687ec8531920"
   },
   "outputs": [],
   "source": [
    "_ = df_covid.hist()"
   ]
  },
  {
   "cell_type": "code",
   "execution_count": null,
   "metadata": {
    "id": "Fix6_Fpd7yvB"
   },
   "outputs": [],
   "source": [
    "datasets = [df_overview,df_covid,df_precovid]\n",
    "dataset_labels = [\"Overview\",\"During Covid\",\"Pre-Covid\"]"
   ]
  },
  {
   "cell_type": "code",
   "execution_count": null,
   "metadata": {
    "colab": {
     "base_uri": "https://localhost:8080/",
     "height": 501
    },
    "id": "ebK1Xjdhd51D",
    "outputId": "ff9f7e2d-b6c1-4348-a2f3-906c1ee12da9"
   },
   "outputs": [],
   "source": [
    "# There are not strong linear correlations between the lengths or Date Published\n",
    "\n",
    "fig, ax = plt.subplots(1,3)\n",
    "\n",
    "fig.tight_layout(h_pad=2,w_pad=8)\n",
    "\n",
    "for index, dataset in enumerate(datasets):\n",
    "\n",
    "    corr = dataset.corr()\n",
    "\n",
    "    mask = np.zeros_like(corr)\n",
    "    mask[np.triu_indices_from(mask)] = True\n",
    "\n",
    "    sns.heatmap(corr,ax=ax[index], annot=True,square=True,mask=mask)\n",
    "    ax[index].set_title(f\"{dataset_labels[index]}\")\n"
   ]
  },
  {
   "cell_type": "code",
   "execution_count": null,
   "metadata": {
    "colab": {
     "base_uri": "https://localhost:8080/",
     "height": 505
    },
    "id": "rwR3jEWOU9_b",
    "outputId": "e3bf864b-db9e-4745-8d44-a25127bfe5ae"
   },
   "outputs": [],
   "source": [
    "fig, ax = plt.subplots(1,3,figsize=(30,10))\n",
    "\n",
    "fig.tight_layout(h_pad=2,w_pad=8)\n",
    "\n",
    "\n",
    "for index, dataset in enumerate(datasets):\n",
    "\n",
    "    dataset[[\"Journal Title\",\"Content\"]].rename(columns={\"Content\":\"Count\"}).groupby(\"Journal Title\").count().sort_values(\"Count\",ascending=False).T.plot(kind=\"bar\"\n",
    "    ,ax=ax[index]\n",
    "    ,title=f\"Article Frequency by Journal: {dataset_labels[index]}\")\n",
    "    "
   ]
  },
  {
   "cell_type": "markdown",
   "metadata": {
    "id": "pUaNSKnztEBa"
   },
   "source": [
    "# Text Mining - frequency counts of words, length of sentences, presence/absence of specific words"
   ]
  },
  {
   "cell_type": "code",
   "execution_count": null,
   "metadata": {
    "id": "hn-n3j52OImI"
   },
   "outputs": [],
   "source": [
    "def countplots(data,dataset_name,vectorizers,cols=4,):\n",
    "\n",
    "    rows = len(vectorizers)\n",
    "    cols = cols #dynamically change n_grams and plots\n",
    "\n",
    "    fig, ax = plt.subplots(rows,cols,figsize=(30,15))\n",
    "    fig.tight_layout(h_pad=2,w_pad=cols*4)\n",
    "\n",
    "    for index, vect in enumerate(vectorizers):\n",
    "\n",
    "        for i in range(cols):\n",
    "\n",
    "            vectorizer = vect(stop_words=None,ngram_range=(i+1,i+1),lowercase=True)\n",
    "            \n",
    "            vectorizer_name = str(vectorizer)\n",
    "            \n",
    "            vectorizer_title = vectorizer_name[:vectorizer_name.find(\"(\")]\n",
    "            \n",
    "            documents = vectorizer.fit_transform(data)\n",
    "            \n",
    "            features = vectorizer.get_feature_names()\n",
    "            \n",
    "            if len(vectorizers) < 2:\n",
    "                axis = ax[i]\n",
    "            else:\n",
    "                axis = ax[index][i]\n",
    "            \n",
    "            visualizer = FreqDistVisualizer(features=features, orient=\"h\",n=10,ax=axis)\n",
    "            \n",
    "            axis.set_title(f\"Dataset: {dataset_name} - {vectorizer_title} {vectorizer.ngram_range}\")\n",
    "            \n",
    "            _ = visualizer.fit(documents) \n",
    "            #ax[index,i].set_yticklabels([textwrap.fill(phrase, 20) for phrase in data.head(25)])\n",
    "\n"
   ]
  },
  {
   "cell_type": "markdown",
   "metadata": {
    "id": "kW8Qv9nHVMSw"
   },
   "source": [
    "# Keyword Extraction Based on Count\n",
    "\n"
   ]
  },
  {
   "cell_type": "code",
   "execution_count": null,
   "metadata": {
    "colab": {
     "base_uri": "https://localhost:8080/",
     "height": 663
    },
    "id": "3aCb7RPYPJXG",
    "outputId": "9157220e-6468-4f4b-b74e-cbeaef8520f5"
   },
   "outputs": [],
   "source": [
    "countplots(df_overview[\"Clean_Content\"],\"Overview\",[CountVectorizer,TfidfVectorizer],cols=2)\n"
   ]
  },
  {
   "cell_type": "code",
   "execution_count": null,
   "metadata": {
    "colab": {
     "base_uri": "https://localhost:8080/",
     "height": 658
    },
    "id": "UO7AAIH2YT9F",
    "outputId": "268b3283-3cde-4947-dee8-19da31190bda"
   },
   "outputs": [],
   "source": [
    "countplots(df_covid[\"Clean_Content\"],\"Covid\",[CountVectorizer,TfidfVectorizer],cols=2)\n"
   ]
  },
  {
   "cell_type": "code",
   "execution_count": null,
   "metadata": {
    "colab": {
     "base_uri": "https://localhost:8080/",
     "height": 663
    },
    "id": "SndEWjb2YRnC",
    "outputId": "7b5d9d71-2adb-44dd-b3b8-d31e75444b80"
   },
   "outputs": [],
   "source": [
    "countplots(df_precovid[\"Clean_Content\"],\"Pre-covid\",[CountVectorizer,TfidfVectorizer],cols=2)\n"
   ]
  },
  {
   "cell_type": "markdown",
   "metadata": {
    "id": "z-swFRbPVIiM"
   },
   "source": [
    "# Keyword Extraction from Given Dataset - Count"
   ]
  },
  {
   "cell_type": "code",
   "execution_count": null,
   "metadata": {
    "colab": {
     "base_uri": "https://localhost:8080/",
     "height": 662
    },
    "id": "ezpRY4y-DIYK",
    "outputId": "9b6e72ce-1e03-4d34-cb23-cd279c62d141"
   },
   "outputs": [],
   "source": [
    "parsed_words = df_overview[\"Parsed_Keywords\"].to_list()\n",
    "countplots(parsed_words,\"Overview\",[CountVectorizer,TfidfVectorizer],cols=2)"
   ]
  },
  {
   "cell_type": "code",
   "execution_count": null,
   "metadata": {
    "colab": {
     "base_uri": "https://localhost:8080/",
     "height": 662
    },
    "id": "AFo6oWkwbIFZ",
    "outputId": "1ed6f8e1-1759-4007-e2a0-5ee40ed8ce75"
   },
   "outputs": [],
   "source": [
    "parsed_words = df_overview[\"Parsed_Keywords\"].to_list()\n",
    "countplots(parsed_words,\"Overview\",[CountVectorizer,TfidfVectorizer],cols=2)"
   ]
  },
  {
   "cell_type": "markdown",
   "metadata": {
    "id": "Z6XV0lc7rtW-"
   },
   "source": [
    "## Keyword Extraction Gensim"
   ]
  },
  {
   "cell_type": "code",
   "execution_count": null,
   "metadata": {
    "colab": {
     "base_uri": "https://localhost:8080/",
     "height": 195
    },
    "id": "AtwebelKrsK5",
    "outputId": "5829d6e8-c2fe-4881-97a9-b28bafb650f9"
   },
   "outputs": [],
   "source": [
    "import gensim\n",
    "from gensim.summarization import keywords, mz_keywords\n",
    "full_text = ''\n",
    "for i in df_overview[\"Clean_Content\"]:\n",
    "  full_text = full_text + i\n",
    "Overall_Keywords = keywords(full_text, words = 10, scores = True) #Returns list of keywords and their relevance scores\n",
    "# print(Overall_Keywords)\n",
    "Overall1 = pd.DataFrame(Overall_Keywords)\n",
    "Overall1.head()"
   ]
  },
  {
   "cell_type": "code",
   "execution_count": null,
   "metadata": {
    "colab": {
     "base_uri": "https://localhost:8080/",
     "height": 262
    },
    "id": "kpGkH3Mav_eF",
    "outputId": "19752efa-87f8-4a02-cda9-4cc66fef08d7"
   },
   "outputs": [],
   "source": [
    "Overall2 = pd.DataFrame(mz_keywords(full_text, scores=True, split = True, weighted=False, threshold=1.0))\n",
    "Overall2.head()"
   ]
  },
  {
   "cell_type": "code",
   "execution_count": null,
   "metadata": {
    "colab": {
     "base_uri": "https://localhost:8080/"
    },
    "id": "zffZtR7jvfM3",
    "outputId": "3f4d6324-172d-48d1-b886-2f2b588e0db3"
   },
   "outputs": [],
   "source": [
    "full_text = ''\n",
    "for i in df_precovid[\"Clean_Content\"]:\n",
    "  full_text = full_text + i\n",
    "Pre_Keywords = keywords(full_text, words = 10, scores = True) #Returns list of keywords and their relevance scores\n",
    "# print(Overall_Keywords)\n",
    "pre1 = pd.DataFrame(Pre_Keywords)\n",
    "pre2 = pd.DataFrame(mz_keywords(full_text,blocksize = 25, scores=True, split = True, weighted=False, threshold=.5))"
   ]
  },
  {
   "cell_type": "code",
   "execution_count": null,
   "metadata": {
    "colab": {
     "base_uri": "https://localhost:8080/"
    },
    "id": "J9B4FoNBvsil",
    "outputId": "dcc7de1e-b3bd-4d28-cac4-7f6c07a78c7c"
   },
   "outputs": [],
   "source": [
    "full_text = ''\n",
    "for i in df_covid[\"Clean_Content\"]:\n",
    "  full_text = full_text + i\n",
    "Covid_Keywords = keywords(full_text, words = 10, scores = True) #Returns list of keywords and their relevance scores\n",
    "# print(Overall_Keywords)\n",
    "covid1 = pd.DataFrame(Covid_Keywords)\n",
    "covid2 = pd.DataFrame(mz_keywords(full_text, blocksize = 25, scores=True, split = True, weighted=False, threshold=.5))"
   ]
  },
  {
   "cell_type": "code",
   "execution_count": null,
   "metadata": {
    "colab": {
     "base_uri": "https://localhost:8080/"
    },
    "id": "V1PF1lheFYxm",
    "outputId": "2c69a740-e819-468f-f364-4ee59b9ffa84"
   },
   "outputs": [],
   "source": [
    "covid2[0][:10].tolist"
   ]
  },
  {
   "cell_type": "code",
   "execution_count": null,
   "metadata": {
    "colab": {
     "base_uri": "https://localhost:8080/"
    },
    "id": "oxVsiBC1zDPK",
    "outputId": "033736f2-08ec-4047-fcf5-d1f146535464"
   },
   "outputs": [],
   "source": [
    "data = {'Overall Keywords': Overall1[0][:10].to_list(), 'Overall MZ Keywords':Overall2[0][:10].to_list(), 'Prepandemic Keywords':pre1[0][:10].to_list(), 'Prepandemic MZ Keywords':pre2[0][:10].to_list(), 'Covid Keywords':covid1[0][:10].to_list(), 'Covid MZ Keywords': covid2[0][:10].tolist()}\n",
    "data.keys()"
   ]
  },
  {
   "cell_type": "code",
   "execution_count": null,
   "metadata": {
    "colab": {
     "base_uri": "https://localhost:8080/",
     "height": 343
    },
    "id": "G7uWTlPyxERW",
    "outputId": "b9aad96d-2a40-4a1d-cf29-9546b11c6770"
   },
   "outputs": [],
   "source": [
    "merged_df = pd.DataFrame(data=data)\n",
    "merged_df"
   ]
  },
  {
   "cell_type": "code",
   "execution_count": null,
   "metadata": {
    "id": "ggCf-9tZ0psy"
   },
   "outputs": [],
   "source": [
    "merged_df.to_csv('./references/Keywords.csv')"
   ]
  },
  {
   "cell_type": "code",
   "execution_count": null,
   "metadata": {},
   "outputs": [],
   "source": []
  }
 ],
 "metadata": {
  "colab": {
   "collapsed_sections": [],
   "machine_shape": "hm",
   "name": "EDA.ipynb",
   "provenance": []
  },
  "kernelspec": {
   "display_name": "Python 3",
   "language": "python",
   "name": "python3"
  },
  "language_info": {
   "codemirror_mode": {
    "name": "ipython",
    "version": 3
   },
   "file_extension": ".py",
   "mimetype": "text/x-python",
   "name": "python",
   "nbconvert_exporter": "python",
   "pygments_lexer": "ipython3",
   "version": "3.7.6"
  }
 },
 "nbformat": 4,
 "nbformat_minor": 1
}
