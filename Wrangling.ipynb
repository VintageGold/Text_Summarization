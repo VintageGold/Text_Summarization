{
 "cells": [
  {
   "cell_type": "markdown",
   "metadata": {
    "id": "GKNT0GwwG1Aa"
   },
   "source": [
    "# Runtime ≈\t1 minute\n",
    "\n",
    "\n"
   ]
  },
  {
   "cell_type": "markdown",
   "metadata": {
    "id": "RZ-i-lY2HfTK"
   },
   "source": [
    "# This notebook completes the process of wrangling the text for EDA and other future analyses.\n",
    "\n",
    "# The processing is the following order:\n",
    "*   Scispacy - Acronyms\n",
    "*   General Cleaning\n",
    "* Spacy - Lemmatization"
   ]
  },
  {
   "cell_type": "code",
   "execution_count": 1,
   "metadata": {
    "colab": {
     "base_uri": "https://localhost:8080/"
    },
    "id": "bebIsaEQGwho",
    "outputId": "56e97de4-ee55-4b42-e0ef-3212ecd69726"
   },
   "outputs": [
    {
     "name": "stdout",
     "output_type": "stream",
     "text": [
      "No Colab Environment\n"
     ]
    }
   ],
   "source": [
    "try:\n",
    "    from google.colab import drive\n",
    "\n",
    "    drive.mount('./drive/')\n",
    "\n",
    "    %cd drive/My \\ Drive/Text_Summarization\n",
    "\n",
    "except:\n",
    "  \n",
    "    print(\"No Colab Environment\")"
   ]
  },
  {
   "cell_type": "code",
   "execution_count": 2,
   "metadata": {
    "id": "QXb-LPeB0Zn3"
   },
   "outputs": [],
   "source": [
    "import json\n",
    "import pandas as pd\n",
    "import numpy as np\n",
    "import re\n",
    "import seaborn as sns\n",
    "\n",
    "import matplotlib\n",
    "\n",
    "matplotlib.rcParams[\"figure.figsize\"] = (20, 7)"
   ]
  },
  {
   "cell_type": "markdown",
   "metadata": {
    "id": "RqSWrd99NNTI"
   },
   "source": [
    "# Load Data"
   ]
  },
  {
   "cell_type": "code",
   "execution_count": 3,
   "metadata": {
    "id": "hT7KP5MwHVxN"
   },
   "outputs": [],
   "source": [
    "with open(\"./Data/raw/Telehealth_article_texts.txt\") as f:\n",
    "    #Skip header\n",
    "    for i in range(4):\n",
    "        next(f) \n",
    "    corpus = f.read()"
   ]
  },
  {
   "cell_type": "code",
   "execution_count": 4,
   "metadata": {
    "colab": {
     "base_uri": "https://localhost:8080/",
     "height": 195
    },
    "id": "KiVKRILyDt6N",
    "outputId": "a7a12a11-f512-4459-9490-79b2c1a4d239"
   },
   "outputs": [
    {
     "data": {
      "text/html": [
       "<div>\n",
       "<style scoped>\n",
       "    .dataframe tbody tr th:only-of-type {\n",
       "        vertical-align: middle;\n",
       "    }\n",
       "\n",
       "    .dataframe tbody tr th {\n",
       "        vertical-align: top;\n",
       "    }\n",
       "\n",
       "    .dataframe thead th {\n",
       "        text-align: right;\n",
       "    }\n",
       "</style>\n",
       "<table border=\"1\" class=\"dataframe\">\n",
       "  <thead>\n",
       "    <tr style=\"text-align: right;\">\n",
       "      <th></th>\n",
       "      <th>Content</th>\n",
       "    </tr>\n",
       "  </thead>\n",
       "  <tbody>\n",
       "    <tr>\n",
       "      <th>0</th>\n",
       "      <td>Veterans face a variety of stressors related t...</td>\n",
       "    </tr>\n",
       "    <tr>\n",
       "      <th>1</th>\n",
       "      <td>The impact of the COVID-19 pandemic on the chi...</td>\n",
       "    </tr>\n",
       "    <tr>\n",
       "      <th>2</th>\n",
       "      <td>In November 2019, COVID-19—the infectious, hig...</td>\n",
       "    </tr>\n",
       "    <tr>\n",
       "      <th>3</th>\n",
       "      <td>Anxiety and depressive disorders are among the...</td>\n",
       "    </tr>\n",
       "    <tr>\n",
       "      <th>4</th>\n",
       "      <td>In mid-March, 2020, the authors—as well as the...</td>\n",
       "    </tr>\n",
       "  </tbody>\n",
       "</table>\n",
       "</div>"
      ],
      "text/plain": [
       "                                             Content\n",
       "0  Veterans face a variety of stressors related t...\n",
       "1  The impact of the COVID-19 pandemic on the chi...\n",
       "2  In November 2019, COVID-19—the infectious, hig...\n",
       "3  Anxiety and depressive disorders are among the...\n",
       "4  In mid-March, 2020, the authors—as well as the..."
      ]
     },
     "execution_count": 4,
     "metadata": {},
     "output_type": "execute_result"
    }
   ],
   "source": [
    "dict_articles = json.loads(corpus.replace(\"\\n\",\"\"))\n",
    "df_articles = pd.DataFrame.from_dict(dict_articles,orient=\"index\",columns=[\"Content\"]).reset_index().drop(columns=[\"index\"])\n",
    "\n",
    "df_articles.head()"
   ]
  },
  {
   "cell_type": "code",
   "execution_count": 5,
   "metadata": {
    "colab": {
     "base_uri": "https://localhost:8080/",
     "height": 544
    },
    "id": "tXDvrlaEqH3V",
    "outputId": "cd619f3c-27fc-4072-9ec0-cef040815215"
   },
   "outputs": [
    {
     "data": {
      "text/html": [
       "<div>\n",
       "<style scoped>\n",
       "    .dataframe tbody tr th:only-of-type {\n",
       "        vertical-align: middle;\n",
       "    }\n",
       "\n",
       "    .dataframe tbody tr th {\n",
       "        vertical-align: top;\n",
       "    }\n",
       "\n",
       "    .dataframe thead th {\n",
       "        text-align: right;\n",
       "    }\n",
       "</style>\n",
       "<table border=\"1\" class=\"dataframe\">\n",
       "  <thead>\n",
       "    <tr style=\"text-align: right;\">\n",
       "      <th></th>\n",
       "      <th>Journal Title</th>\n",
       "      <th>Article Title</th>\n",
       "      <th>Date Published</th>\n",
       "      <th>Authors</th>\n",
       "      <th>Abstract</th>\n",
       "      <th>Keywords</th>\n",
       "      <th>Citation</th>\n",
       "    </tr>\n",
       "    <tr>\n",
       "      <th>Index</th>\n",
       "      <th></th>\n",
       "      <th></th>\n",
       "      <th></th>\n",
       "      <th></th>\n",
       "      <th></th>\n",
       "      <th></th>\n",
       "      <th></th>\n",
       "    </tr>\n",
       "  </thead>\n",
       "  <tbody>\n",
       "    <tr>\n",
       "      <th>0</th>\n",
       "      <td>Psychological Servies</td>\n",
       "      <td>The Effectiveness of Telepsychology With Veter...</td>\n",
       "      <td>2021</td>\n",
       "      <td>Michael J. McClellan; Richard Osbaldiston; Ron...</td>\n",
       "      <td>Veterans face a variety of stressors due to th...</td>\n",
       "      <td>KEYWORDS:\\n\\ntelepsychology, meta-analysis, ve...</td>\n",
       "      <td>McClellan, M. J., Osbaldiston, R., Wu, R., Yea...</td>\n",
       "    </tr>\n",
       "    <tr>\n",
       "      <th>1</th>\n",
       "      <td>Psychology, Public Policy, and Law</td>\n",
       "      <td>Making the Case for Videoconferencing and Remo...</td>\n",
       "      <td>2021</td>\n",
       "      <td>Milfred D. Dale; Desiree Smith</td>\n",
       "      <td>The COVID-19 pandemic and its requirements for...</td>\n",
       "      <td>KEYWORDS:\\n\\nremote child custody evaluations,...</td>\n",
       "      <td>Dale, M. D., &amp; Smith, D. (2021). Making the ca...</td>\n",
       "    </tr>\n",
       "    <tr>\n",
       "      <th>2</th>\n",
       "      <td>Psychology, Public Policy, and Law</td>\n",
       "      <td>Forensic E-Mental Health: Review, Research Pri...</td>\n",
       "      <td>2021</td>\n",
       "      <td>Lauren E. Kois; Jennifer Cox; Ashley T. Peck</td>\n",
       "      <td>Forensic e-mental health is an area of psychol...</td>\n",
       "      <td>KEYWORDS:\\n\\nforensic e-mental health, telehea...</td>\n",
       "      <td>Kois, L. E., Cox, J., &amp; Peck, A. T. (2021). Fo...</td>\n",
       "    </tr>\n",
       "    <tr>\n",
       "      <th>3</th>\n",
       "      <td>Training and Education in Professional Psychology</td>\n",
       "      <td>Moving Toward a New Era of Telepsychology in U...</td>\n",
       "      <td>2021</td>\n",
       "      <td>Allison L. Baier; Sarah Danzo</td>\n",
       "      <td>Many university training clinics are facing nu...</td>\n",
       "      <td>KEYWORDS:\\n\\neducation and training, telepsych...</td>\n",
       "      <td>Baier, A. L., &amp; Danzo, S. (2021). Moving towar...</td>\n",
       "    </tr>\n",
       "    <tr>\n",
       "      <th>4</th>\n",
       "      <td>Practice Innovations</td>\n",
       "      <td>Navigating Changes in the Physical and Psychol...</td>\n",
       "      <td>2021</td>\n",
       "      <td>Liat Shklarski; Allison Abrams; Elana Bakst</td>\n",
       "      <td>The emergence of the Covid-19 pandemic at the ...</td>\n",
       "      <td>KEYWORDS:\\n\\nremote psychotherapy, Covid-19, p...</td>\n",
       "      <td>Shklarski, L., Abrams, A., &amp; Bakst, E. (2021)....</td>\n",
       "    </tr>\n",
       "  </tbody>\n",
       "</table>\n",
       "</div>"
      ],
      "text/plain": [
       "                                           Journal Title  \\\n",
       "Index                                                      \n",
       "0                                  Psychological Servies   \n",
       "1                     Psychology, Public Policy, and Law   \n",
       "2                     Psychology, Public Policy, and Law   \n",
       "3      Training and Education in Professional Psychology   \n",
       "4                                   Practice Innovations   \n",
       "\n",
       "                                           Article Title  Date Published  \\\n",
       "Index                                                                      \n",
       "0      The Effectiveness of Telepsychology With Veter...            2021   \n",
       "1      Making the Case for Videoconferencing and Remo...            2021   \n",
       "2      Forensic E-Mental Health: Review, Research Pri...            2021   \n",
       "3      Moving Toward a New Era of Telepsychology in U...            2021   \n",
       "4      Navigating Changes in the Physical and Psychol...            2021   \n",
       "\n",
       "                                                 Authors  \\\n",
       "Index                                                      \n",
       "0      Michael J. McClellan; Richard Osbaldiston; Ron...   \n",
       "1                         Milfred D. Dale; Desiree Smith   \n",
       "2           Lauren E. Kois; Jennifer Cox; Ashley T. Peck   \n",
       "3                          Allison L. Baier; Sarah Danzo   \n",
       "4            Liat Shklarski; Allison Abrams; Elana Bakst   \n",
       "\n",
       "                                                Abstract  \\\n",
       "Index                                                      \n",
       "0      Veterans face a variety of stressors due to th...   \n",
       "1      The COVID-19 pandemic and its requirements for...   \n",
       "2      Forensic e-mental health is an area of psychol...   \n",
       "3      Many university training clinics are facing nu...   \n",
       "4      The emergence of the Covid-19 pandemic at the ...   \n",
       "\n",
       "                                                Keywords  \\\n",
       "Index                                                      \n",
       "0      KEYWORDS:\\n\\ntelepsychology, meta-analysis, ve...   \n",
       "1      KEYWORDS:\\n\\nremote child custody evaluations,...   \n",
       "2      KEYWORDS:\\n\\nforensic e-mental health, telehea...   \n",
       "3      KEYWORDS:\\n\\neducation and training, telepsych...   \n",
       "4      KEYWORDS:\\n\\nremote psychotherapy, Covid-19, p...   \n",
       "\n",
       "                                                Citation  \n",
       "Index                                                     \n",
       "0      McClellan, M. J., Osbaldiston, R., Wu, R., Yea...  \n",
       "1      Dale, M. D., & Smith, D. (2021). Making the ca...  \n",
       "2      Kois, L. E., Cox, J., & Peck, A. T. (2021). Fo...  \n",
       "3      Baier, A. L., & Danzo, S. (2021). Moving towar...  \n",
       "4      Shklarski, L., Abrams, A., & Bakst, E. (2021)....  "
      ]
     },
     "execution_count": 5,
     "metadata": {},
     "output_type": "execute_result"
    }
   ],
   "source": [
    "df_metadata = pd.read_excel(\"./Data/raw/Metadata_telehealth_article_key_2.25.xlsx\",sheet_name=\"Tied_to_Notebook\",index_col=\"Index\")\n",
    "\n",
    "df_metadata.head()"
   ]
  },
  {
   "cell_type": "code",
   "execution_count": 6,
   "metadata": {
    "colab": {
     "base_uri": "https://localhost:8080/",
     "height": 561
    },
    "id": "x2tvymjNqryb",
    "outputId": "b041a996-87ba-4d03-b20b-9fd9ead7c1d3"
   },
   "outputs": [
    {
     "data": {
      "text/html": [
       "<div>\n",
       "<style scoped>\n",
       "    .dataframe tbody tr th:only-of-type {\n",
       "        vertical-align: middle;\n",
       "    }\n",
       "\n",
       "    .dataframe tbody tr th {\n",
       "        vertical-align: top;\n",
       "    }\n",
       "\n",
       "    .dataframe thead th {\n",
       "        text-align: right;\n",
       "    }\n",
       "</style>\n",
       "<table border=\"1\" class=\"dataframe\">\n",
       "  <thead>\n",
       "    <tr style=\"text-align: right;\">\n",
       "      <th></th>\n",
       "      <th>Journal Title</th>\n",
       "      <th>Article Title</th>\n",
       "      <th>Date Published</th>\n",
       "      <th>Authors</th>\n",
       "      <th>Abstract</th>\n",
       "      <th>Keywords</th>\n",
       "      <th>Citation</th>\n",
       "      <th>Content</th>\n",
       "    </tr>\n",
       "    <tr>\n",
       "      <th>Index</th>\n",
       "      <th></th>\n",
       "      <th></th>\n",
       "      <th></th>\n",
       "      <th></th>\n",
       "      <th></th>\n",
       "      <th></th>\n",
       "      <th></th>\n",
       "      <th></th>\n",
       "    </tr>\n",
       "  </thead>\n",
       "  <tbody>\n",
       "    <tr>\n",
       "      <th>0</th>\n",
       "      <td>Psychological Servies</td>\n",
       "      <td>The Effectiveness of Telepsychology With Veter...</td>\n",
       "      <td>2021</td>\n",
       "      <td>Michael J. McClellan; Richard Osbaldiston; Ron...</td>\n",
       "      <td>Veterans face a variety of stressors due to th...</td>\n",
       "      <td>KEYWORDS:\\n\\ntelepsychology, meta-analysis, ve...</td>\n",
       "      <td>McClellan, M. J., Osbaldiston, R., Wu, R., Yea...</td>\n",
       "      <td>Veterans face a variety of stressors related t...</td>\n",
       "    </tr>\n",
       "    <tr>\n",
       "      <th>1</th>\n",
       "      <td>Psychology, Public Policy, and Law</td>\n",
       "      <td>Making the Case for Videoconferencing and Remo...</td>\n",
       "      <td>2021</td>\n",
       "      <td>Milfred D. Dale; Desiree Smith</td>\n",
       "      <td>The COVID-19 pandemic and its requirements for...</td>\n",
       "      <td>KEYWORDS:\\n\\nremote child custody evaluations,...</td>\n",
       "      <td>Dale, M. D., &amp; Smith, D. (2021). Making the ca...</td>\n",
       "      <td>The impact of the COVID-19 pandemic on the chi...</td>\n",
       "    </tr>\n",
       "    <tr>\n",
       "      <th>2</th>\n",
       "      <td>Psychology, Public Policy, and Law</td>\n",
       "      <td>Forensic E-Mental Health: Review, Research Pri...</td>\n",
       "      <td>2021</td>\n",
       "      <td>Lauren E. Kois; Jennifer Cox; Ashley T. Peck</td>\n",
       "      <td>Forensic e-mental health is an area of psychol...</td>\n",
       "      <td>KEYWORDS:\\n\\nforensic e-mental health, telehea...</td>\n",
       "      <td>Kois, L. E., Cox, J., &amp; Peck, A. T. (2021). Fo...</td>\n",
       "      <td>In November 2019, COVID-19—the infectious, hig...</td>\n",
       "    </tr>\n",
       "    <tr>\n",
       "      <th>3</th>\n",
       "      <td>Training and Education in Professional Psychology</td>\n",
       "      <td>Moving Toward a New Era of Telepsychology in U...</td>\n",
       "      <td>2021</td>\n",
       "      <td>Allison L. Baier; Sarah Danzo</td>\n",
       "      <td>Many university training clinics are facing nu...</td>\n",
       "      <td>KEYWORDS:\\n\\neducation and training, telepsych...</td>\n",
       "      <td>Baier, A. L., &amp; Danzo, S. (2021). Moving towar...</td>\n",
       "      <td>Anxiety and depressive disorders are among the...</td>\n",
       "    </tr>\n",
       "    <tr>\n",
       "      <th>4</th>\n",
       "      <td>Practice Innovations</td>\n",
       "      <td>Navigating Changes in the Physical and Psychol...</td>\n",
       "      <td>2021</td>\n",
       "      <td>Liat Shklarski; Allison Abrams; Elana Bakst</td>\n",
       "      <td>The emergence of the Covid-19 pandemic at the ...</td>\n",
       "      <td>KEYWORDS:\\n\\nremote psychotherapy, Covid-19, p...</td>\n",
       "      <td>Shklarski, L., Abrams, A., &amp; Bakst, E. (2021)....</td>\n",
       "      <td>In mid-March, 2020, the authors—as well as the...</td>\n",
       "    </tr>\n",
       "  </tbody>\n",
       "</table>\n",
       "</div>"
      ],
      "text/plain": [
       "                                           Journal Title  \\\n",
       "Index                                                      \n",
       "0                                  Psychological Servies   \n",
       "1                     Psychology, Public Policy, and Law   \n",
       "2                     Psychology, Public Policy, and Law   \n",
       "3      Training and Education in Professional Psychology   \n",
       "4                                   Practice Innovations   \n",
       "\n",
       "                                           Article Title  Date Published  \\\n",
       "Index                                                                      \n",
       "0      The Effectiveness of Telepsychology With Veter...            2021   \n",
       "1      Making the Case for Videoconferencing and Remo...            2021   \n",
       "2      Forensic E-Mental Health: Review, Research Pri...            2021   \n",
       "3      Moving Toward a New Era of Telepsychology in U...            2021   \n",
       "4      Navigating Changes in the Physical and Psychol...            2021   \n",
       "\n",
       "                                                 Authors  \\\n",
       "Index                                                      \n",
       "0      Michael J. McClellan; Richard Osbaldiston; Ron...   \n",
       "1                         Milfred D. Dale; Desiree Smith   \n",
       "2           Lauren E. Kois; Jennifer Cox; Ashley T. Peck   \n",
       "3                          Allison L. Baier; Sarah Danzo   \n",
       "4            Liat Shklarski; Allison Abrams; Elana Bakst   \n",
       "\n",
       "                                                Abstract  \\\n",
       "Index                                                      \n",
       "0      Veterans face a variety of stressors due to th...   \n",
       "1      The COVID-19 pandemic and its requirements for...   \n",
       "2      Forensic e-mental health is an area of psychol...   \n",
       "3      Many university training clinics are facing nu...   \n",
       "4      The emergence of the Covid-19 pandemic at the ...   \n",
       "\n",
       "                                                Keywords  \\\n",
       "Index                                                      \n",
       "0      KEYWORDS:\\n\\ntelepsychology, meta-analysis, ve...   \n",
       "1      KEYWORDS:\\n\\nremote child custody evaluations,...   \n",
       "2      KEYWORDS:\\n\\nforensic e-mental health, telehea...   \n",
       "3      KEYWORDS:\\n\\neducation and training, telepsych...   \n",
       "4      KEYWORDS:\\n\\nremote psychotherapy, Covid-19, p...   \n",
       "\n",
       "                                                Citation  \\\n",
       "Index                                                      \n",
       "0      McClellan, M. J., Osbaldiston, R., Wu, R., Yea...   \n",
       "1      Dale, M. D., & Smith, D. (2021). Making the ca...   \n",
       "2      Kois, L. E., Cox, J., & Peck, A. T. (2021). Fo...   \n",
       "3      Baier, A. L., & Danzo, S. (2021). Moving towar...   \n",
       "4      Shklarski, L., Abrams, A., & Bakst, E. (2021)....   \n",
       "\n",
       "                                                 Content  \n",
       "Index                                                     \n",
       "0      Veterans face a variety of stressors related t...  \n",
       "1      The impact of the COVID-19 pandemic on the chi...  \n",
       "2      In November 2019, COVID-19—the infectious, hig...  \n",
       "3      Anxiety and depressive disorders are among the...  \n",
       "4      In mid-March, 2020, the authors—as well as the...  "
      ]
     },
     "execution_count": 6,
     "metadata": {},
     "output_type": "execute_result"
    }
   ],
   "source": [
    "#Ensure both Indexes are of same type before merge\n",
    "assert df_metadata.index.dtype == df_articles.index.dtype\n",
    "\n",
    "#Merge dataframes\n",
    "df_metadata = df_metadata.merge(df_articles,left_index=True,right_index=True,how=\"left\")\n",
    "\n",
    "df_metadata.head()"
   ]
  },
  {
   "cell_type": "code",
   "execution_count": 7,
   "metadata": {
    "id": "ayKVZJcm6XuC"
   },
   "outputs": [],
   "source": [
    "JournalCrosswalk = pd.read_excel('./Data/raw/JournalTitles.xlsx')\n",
    "JournalCrosswalk.set_index('Journal', inplace=True)"
   ]
  },
  {
   "cell_type": "code",
   "execution_count": 8,
   "metadata": {
    "colab": {
     "base_uri": "https://localhost:8080/",
     "height": 225
    },
    "id": "_z8t_wINCMpr",
    "outputId": "990aa1b3-df24-4f76-d652-1b48272d28c4"
   },
   "outputs": [
    {
     "data": {
      "text/html": [
       "<div>\n",
       "<style scoped>\n",
       "    .dataframe tbody tr th:only-of-type {\n",
       "        vertical-align: middle;\n",
       "    }\n",
       "\n",
       "    .dataframe tbody tr th {\n",
       "        vertical-align: top;\n",
       "    }\n",
       "\n",
       "    .dataframe thead th {\n",
       "        text-align: right;\n",
       "    }\n",
       "</style>\n",
       "<table border=\"1\" class=\"dataframe\">\n",
       "  <thead>\n",
       "    <tr style=\"text-align: right;\">\n",
       "      <th></th>\n",
       "      <th>Journal Code</th>\n",
       "      <th>Peer Review System</th>\n",
       "      <th>Journal Subfield</th>\n",
       "    </tr>\n",
       "    <tr>\n",
       "      <th>Journal</th>\n",
       "      <th></th>\n",
       "      <th></th>\n",
       "      <th></th>\n",
       "    </tr>\n",
       "  </thead>\n",
       "  <tbody>\n",
       "    <tr>\n",
       "      <th>Asian American Journal of Psychology</th>\n",
       "      <td>AAP</td>\n",
       "      <td>EM (AJP)</td>\n",
       "      <td>Social Psychology</td>\n",
       "    </tr>\n",
       "    <tr>\n",
       "      <th>Journal of Abnormal Psychology</th>\n",
       "      <td>ABN</td>\n",
       "      <td>EM</td>\n",
       "      <td>Clinical &amp; Counseling Psychology</td>\n",
       "    </tr>\n",
       "    <tr>\n",
       "      <th>Psychology of Aesthetics, Creativity, and the Arts</th>\n",
       "      <td>ACA</td>\n",
       "      <td>EM</td>\n",
       "      <td>Social Psychology</td>\n",
       "    </tr>\n",
       "    <tr>\n",
       "      <th>Psychology of Addictive Behaviors</th>\n",
       "      <td>ADB</td>\n",
       "      <td>EM</td>\n",
       "      <td>Health Psychology &amp; Medicine</td>\n",
       "    </tr>\n",
       "    <tr>\n",
       "      <th>American Psychologist</th>\n",
       "      <td>AMP</td>\n",
       "      <td>EM</td>\n",
       "      <td>General Psychology</td>\n",
       "    </tr>\n",
       "  </tbody>\n",
       "</table>\n",
       "</div>"
      ],
      "text/plain": [
       "                                                   Journal Code  \\\n",
       "Journal                                                           \n",
       "Asian American Journal of Psychology                        AAP   \n",
       "Journal of Abnormal Psychology                              ABN   \n",
       "Psychology of Aesthetics, Creativity, and the Arts          ACA   \n",
       "Psychology of Addictive Behaviors                           ADB   \n",
       "American Psychologist                                       AMP   \n",
       "\n",
       "                                                   Peer Review System   \\\n",
       "Journal                                                                  \n",
       "Asian American Journal of Psychology                          EM (AJP)   \n",
       "Journal of Abnormal Psychology                                      EM   \n",
       "Psychology of Aesthetics, Creativity, and the Arts                  EM   \n",
       "Psychology of Addictive Behaviors                                   EM   \n",
       "American Psychologist                                               EM   \n",
       "\n",
       "                                                                    Journal Subfield  \n",
       "Journal                                                                               \n",
       "Asian American Journal of Psychology                               Social Psychology  \n",
       "Journal of Abnormal Psychology                      Clinical & Counseling Psychology  \n",
       "Psychology of Aesthetics, Creativity, and the Arts                 Social Psychology  \n",
       "Psychology of Addictive Behaviors                       Health Psychology & Medicine  \n",
       "American Psychologist                                             General Psychology  "
      ]
     },
     "execution_count": 8,
     "metadata": {},
     "output_type": "execute_result"
    }
   ],
   "source": [
    "JournalCrosswalk.head()"
   ]
  },
  {
   "cell_type": "code",
   "execution_count": 9,
   "metadata": {
    "colab": {
     "base_uri": "https://localhost:8080/"
    },
    "id": "2glsMI-OVcnc",
    "outputId": "d383cc04-a6b2-433a-e679-eca0a28b7a81"
   },
   "outputs": [
    {
     "data": {
      "text/plain": [
       "Journal Title     object\n",
       "Article Title     object\n",
       "Date Published     int64\n",
       "Authors           object\n",
       "Abstract          object\n",
       "Keywords          object\n",
       "Citation          object\n",
       "Content           object\n",
       "dtype: object"
      ]
     },
     "execution_count": 9,
     "metadata": {},
     "output_type": "execute_result"
    }
   ],
   "source": [
    "df_metadata.dtypes"
   ]
  },
  {
   "cell_type": "code",
   "execution_count": 10,
   "metadata": {
    "colab": {
     "base_uri": "https://localhost:8080/"
    },
    "id": "w9IzilPcWarG",
    "outputId": "489f80f8-d6f6-4ece-a83d-8831dbf0da4e"
   },
   "outputs": [
    {
     "name": "stdout",
     "output_type": "stream",
     "text": [
      "Psychological Services\n",
      "Psychology, Public Policy, and Law\n",
      "Psychology, Public Policy, and Law\n",
      "Training and Education in Professional Psychology\n",
      "Practice Innovations\n",
      "American Psychologist\n",
      "Psychological Services\n",
      "Canadian Psychology/Psychologie canadienne\n",
      "Psychological Assessment\n",
      "Journal of Psychotherapy Integration\n",
      "Professional Psychology: Research and Practice\n",
      "Journal of Psychotherapy Integration\n",
      "Journal of Psychotherapy Integration\n",
      "Practice Innovations\n",
      "Practice Innovations\n",
      "Journal of Psychotherapy Integration\n",
      "Professional Psychology: Research and Practice\n",
      "Professional Psychology: Research and Practice\n",
      "Professional Psychology: Research and Practice\n",
      "Professional Psychology: Research and Practice\n",
      "Rehabilitation Psychology\n",
      "Psychological Services\n",
      "Translational Issues in Psychological Science\n",
      "Clinical Psychology: Science and Practice\n",
      "Clinical Psychology: Science and Practice\n",
      "Clinical Psychology: Science and Practice\n",
      "Clinical Psychology: Science and Practice\n",
      "American Psychologist\n",
      "Families, Systems, & Health\n",
      "Psychological Trauma: Theory, Research, Practice, and Policy\n",
      "Clinical Psychology: Science and Practice\n",
      "Clinical Psychology: Science and Practice\n",
      "Practice Innovations\n",
      "Clinical Psychology: Science and Practice\n",
      "Journal of Psychotherapy Integration\n",
      "Journal of Rural Mental Health\n",
      "Training and Education in Professional Psychology\n",
      "Journal of Rural Mental Health\n",
      "Psychological Services\n",
      "Families, Systems, & Health\n",
      "Journal of Family Psychology\n",
      "American Psychologist\n",
      "Psychological Services\n",
      "Journal of Consulting and Clinical Psychology\n"
     ]
    }
   ],
   "source": [
    "df_metadata[\"Content_Length\"] = df_metadata[\"Content\"].apply(lambda text: len(text))\n",
    "df_metadata[\"Abstract_Length\"] = df_metadata[\"Abstract\"].apply(lambda text: len(str(text)))\n",
    "df_metadata[\"Parsed_Keywords\"] = df_metadata[\"Keywords\"].apply(lambda keywords: str(keywords).replace(\"\\n\\n\",\" \").split()[1:])\n",
    "df_metadata[\"Parsed_Keywords_Length\"] = df_metadata[\"Parsed_Keywords\"].apply(lambda text: len(text))\n",
    "df_metadata[\"Journal Title\"] = df_metadata[\"Journal Title\"].replace('Psychological Servies', 'Psychological Services')\n",
    "subfield = []\n",
    "for i in df_metadata['Journal Title']:\n",
    "  print(i)\n",
    "  try:\n",
    "    if i == 'Clinical Psychology: Science and Practice': # Journal is missing from Crosswalk\n",
    "      subfield.append('Clinical & Counseling Psychology')\n",
    "    else:\n",
    "      subfield.append(JournalCrosswalk['Journal Subfield'][i])\n",
    "  except:\n",
    "    subfield.append('No Match')\n",
    "    \n",
    "df_metadata[\"Subfield\"] = subfield\n",
    "\n",
    "#Have an idea of reference amount per document\n",
    "df_metadata[\"et_al_Count\"] = df_metadata[\"Content\"].apply(lambda text: len(list(re.finditer(\"et al\",text))))\n"
   ]
  },
  {
   "cell_type": "code",
   "execution_count": 11,
   "metadata": {
    "colab": {
     "base_uri": "https://localhost:8080/",
     "height": 1000
    },
    "id": "qTN97de1CoSZ",
    "outputId": "1540722b-3831-4332-abfa-49347918a249"
   },
   "outputs": [
    {
     "data": {
      "text/html": [
       "<div>\n",
       "<style scoped>\n",
       "    .dataframe tbody tr th:only-of-type {\n",
       "        vertical-align: middle;\n",
       "    }\n",
       "\n",
       "    .dataframe tbody tr th {\n",
       "        vertical-align: top;\n",
       "    }\n",
       "\n",
       "    .dataframe thead th {\n",
       "        text-align: right;\n",
       "    }\n",
       "</style>\n",
       "<table border=\"1\" class=\"dataframe\">\n",
       "  <thead>\n",
       "    <tr style=\"text-align: right;\">\n",
       "      <th></th>\n",
       "      <th>Journal Title</th>\n",
       "      <th>Article Title</th>\n",
       "      <th>Date Published</th>\n",
       "      <th>Authors</th>\n",
       "      <th>Abstract</th>\n",
       "      <th>Keywords</th>\n",
       "      <th>Citation</th>\n",
       "      <th>Content</th>\n",
       "      <th>Content_Length</th>\n",
       "      <th>Abstract_Length</th>\n",
       "      <th>Parsed_Keywords</th>\n",
       "      <th>Parsed_Keywords_Length</th>\n",
       "      <th>Subfield</th>\n",
       "      <th>et_al_Count</th>\n",
       "    </tr>\n",
       "    <tr>\n",
       "      <th>Index</th>\n",
       "      <th></th>\n",
       "      <th></th>\n",
       "      <th></th>\n",
       "      <th></th>\n",
       "      <th></th>\n",
       "      <th></th>\n",
       "      <th></th>\n",
       "      <th></th>\n",
       "      <th></th>\n",
       "      <th></th>\n",
       "      <th></th>\n",
       "      <th></th>\n",
       "      <th></th>\n",
       "      <th></th>\n",
       "    </tr>\n",
       "  </thead>\n",
       "  <tbody>\n",
       "    <tr>\n",
       "      <th>0</th>\n",
       "      <td>Psychological Services</td>\n",
       "      <td>The Effectiveness of Telepsychology With Veter...</td>\n",
       "      <td>2021</td>\n",
       "      <td>Michael J. McClellan; Richard Osbaldiston; Ron...</td>\n",
       "      <td>Veterans face a variety of stressors due to th...</td>\n",
       "      <td>KEYWORDS:\\n\\ntelepsychology, meta-analysis, ve...</td>\n",
       "      <td>McClellan, M. J., Osbaldiston, R., Wu, R., Yea...</td>\n",
       "      <td>Veterans face a variety of stressors related t...</td>\n",
       "      <td>37477</td>\n",
       "      <td>2411</td>\n",
       "      <td>[telepsychology,, meta-analysis,, veteran,, vi...</td>\n",
       "      <td>5</td>\n",
       "      <td>Clinical &amp; Counseling Psychology</td>\n",
       "      <td>50</td>\n",
       "    </tr>\n",
       "    <tr>\n",
       "      <th>1</th>\n",
       "      <td>Psychology, Public Policy, and Law</td>\n",
       "      <td>Making the Case for Videoconferencing and Remo...</td>\n",
       "      <td>2021</td>\n",
       "      <td>Milfred D. Dale; Desiree Smith</td>\n",
       "      <td>The COVID-19 pandemic and its requirements for...</td>\n",
       "      <td>KEYWORDS:\\n\\nremote child custody evaluations,...</td>\n",
       "      <td>Dale, M. D., &amp; Smith, D. (2021). Making the ca...</td>\n",
       "      <td>The impact of the COVID-19 pandemic on the chi...</td>\n",
       "      <td>74025</td>\n",
       "      <td>1577</td>\n",
       "      <td>[remote, child, custody, evaluations,, videoco...</td>\n",
       "      <td>10</td>\n",
       "      <td>Forensic Psychology</td>\n",
       "      <td>48</td>\n",
       "    </tr>\n",
       "    <tr>\n",
       "      <th>2</th>\n",
       "      <td>Psychology, Public Policy, and Law</td>\n",
       "      <td>Forensic E-Mental Health: Review, Research Pri...</td>\n",
       "      <td>2021</td>\n",
       "      <td>Lauren E. Kois; Jennifer Cox; Ashley T. Peck</td>\n",
       "      <td>Forensic e-mental health is an area of psychol...</td>\n",
       "      <td>KEYWORDS:\\n\\nforensic e-mental health, telehea...</td>\n",
       "      <td>Kois, L. E., Cox, J., &amp; Peck, A. T. (2021). Fo...</td>\n",
       "      <td>In November 2019, COVID-19—the infectious, hig...</td>\n",
       "      <td>63568</td>\n",
       "      <td>1842</td>\n",
       "      <td>[forensic, e-mental, health,, telehealth,, tel...</td>\n",
       "      <td>8</td>\n",
       "      <td>Forensic Psychology</td>\n",
       "      <td>128</td>\n",
       "    </tr>\n",
       "    <tr>\n",
       "      <th>3</th>\n",
       "      <td>Training and Education in Professional Psychology</td>\n",
       "      <td>Moving Toward a New Era of Telepsychology in U...</td>\n",
       "      <td>2021</td>\n",
       "      <td>Allison L. Baier; Sarah Danzo</td>\n",
       "      <td>Many university training clinics are facing nu...</td>\n",
       "      <td>KEYWORDS:\\n\\neducation and training, telepsych...</td>\n",
       "      <td>Baier, A. L., &amp; Danzo, S. (2021). Moving towar...</td>\n",
       "      <td>Anxiety and depressive disorders are among the...</td>\n",
       "      <td>30147</td>\n",
       "      <td>1650</td>\n",
       "      <td>[education, and, training,, telepsychology,, C...</td>\n",
       "      <td>6</td>\n",
       "      <td>Clinical &amp; Counseling Psychology</td>\n",
       "      <td>21</td>\n",
       "    </tr>\n",
       "    <tr>\n",
       "      <th>4</th>\n",
       "      <td>Practice Innovations</td>\n",
       "      <td>Navigating Changes in the Physical and Psychol...</td>\n",
       "      <td>2021</td>\n",
       "      <td>Liat Shklarski; Allison Abrams; Elana Bakst</td>\n",
       "      <td>The emergence of the Covid-19 pandemic at the ...</td>\n",
       "      <td>KEYWORDS:\\n\\nremote psychotherapy, Covid-19, p...</td>\n",
       "      <td>Shklarski, L., Abrams, A., &amp; Bakst, E. (2021)....</td>\n",
       "      <td>In mid-March, 2020, the authors—as well as the...</td>\n",
       "      <td>42367</td>\n",
       "      <td>1871</td>\n",
       "      <td>[remote, psychotherapy,, Covid-19,, pandemic,,...</td>\n",
       "      <td>6</td>\n",
       "      <td>Clinical &amp; Counseling Psychology</td>\n",
       "      <td>14</td>\n",
       "    </tr>\n",
       "  </tbody>\n",
       "</table>\n",
       "</div>"
      ],
      "text/plain": [
       "                                           Journal Title  \\\n",
       "Index                                                      \n",
       "0                                 Psychological Services   \n",
       "1                     Psychology, Public Policy, and Law   \n",
       "2                     Psychology, Public Policy, and Law   \n",
       "3      Training and Education in Professional Psychology   \n",
       "4                                   Practice Innovations   \n",
       "\n",
       "                                           Article Title  Date Published  \\\n",
       "Index                                                                      \n",
       "0      The Effectiveness of Telepsychology With Veter...            2021   \n",
       "1      Making the Case for Videoconferencing and Remo...            2021   \n",
       "2      Forensic E-Mental Health: Review, Research Pri...            2021   \n",
       "3      Moving Toward a New Era of Telepsychology in U...            2021   \n",
       "4      Navigating Changes in the Physical and Psychol...            2021   \n",
       "\n",
       "                                                 Authors  \\\n",
       "Index                                                      \n",
       "0      Michael J. McClellan; Richard Osbaldiston; Ron...   \n",
       "1                         Milfred D. Dale; Desiree Smith   \n",
       "2           Lauren E. Kois; Jennifer Cox; Ashley T. Peck   \n",
       "3                          Allison L. Baier; Sarah Danzo   \n",
       "4            Liat Shklarski; Allison Abrams; Elana Bakst   \n",
       "\n",
       "                                                Abstract  \\\n",
       "Index                                                      \n",
       "0      Veterans face a variety of stressors due to th...   \n",
       "1      The COVID-19 pandemic and its requirements for...   \n",
       "2      Forensic e-mental health is an area of psychol...   \n",
       "3      Many university training clinics are facing nu...   \n",
       "4      The emergence of the Covid-19 pandemic at the ...   \n",
       "\n",
       "                                                Keywords  \\\n",
       "Index                                                      \n",
       "0      KEYWORDS:\\n\\ntelepsychology, meta-analysis, ve...   \n",
       "1      KEYWORDS:\\n\\nremote child custody evaluations,...   \n",
       "2      KEYWORDS:\\n\\nforensic e-mental health, telehea...   \n",
       "3      KEYWORDS:\\n\\neducation and training, telepsych...   \n",
       "4      KEYWORDS:\\n\\nremote psychotherapy, Covid-19, p...   \n",
       "\n",
       "                                                Citation  \\\n",
       "Index                                                      \n",
       "0      McClellan, M. J., Osbaldiston, R., Wu, R., Yea...   \n",
       "1      Dale, M. D., & Smith, D. (2021). Making the ca...   \n",
       "2      Kois, L. E., Cox, J., & Peck, A. T. (2021). Fo...   \n",
       "3      Baier, A. L., & Danzo, S. (2021). Moving towar...   \n",
       "4      Shklarski, L., Abrams, A., & Bakst, E. (2021)....   \n",
       "\n",
       "                                                 Content  Content_Length  \\\n",
       "Index                                                                      \n",
       "0      Veterans face a variety of stressors related t...           37477   \n",
       "1      The impact of the COVID-19 pandemic on the chi...           74025   \n",
       "2      In November 2019, COVID-19—the infectious, hig...           63568   \n",
       "3      Anxiety and depressive disorders are among the...           30147   \n",
       "4      In mid-March, 2020, the authors—as well as the...           42367   \n",
       "\n",
       "       Abstract_Length                                    Parsed_Keywords  \\\n",
       "Index                                                                       \n",
       "0                 2411  [telepsychology,, meta-analysis,, veteran,, vi...   \n",
       "1                 1577  [remote, child, custody, evaluations,, videoco...   \n",
       "2                 1842  [forensic, e-mental, health,, telehealth,, tel...   \n",
       "3                 1650  [education, and, training,, telepsychology,, C...   \n",
       "4                 1871  [remote, psychotherapy,, Covid-19,, pandemic,,...   \n",
       "\n",
       "       Parsed_Keywords_Length                          Subfield  et_al_Count  \n",
       "Index                                                                         \n",
       "0                           5  Clinical & Counseling Psychology           50  \n",
       "1                          10               Forensic Psychology           48  \n",
       "2                           8               Forensic Psychology          128  \n",
       "3                           6  Clinical & Counseling Psychology           21  \n",
       "4                           6  Clinical & Counseling Psychology           14  "
      ]
     },
     "execution_count": 11,
     "metadata": {},
     "output_type": "execute_result"
    }
   ],
   "source": [
    "df_metadata.head()"
   ]
  },
  {
   "cell_type": "code",
   "execution_count": 12,
   "metadata": {
    "id": "rkzLeslUaqnF"
   },
   "outputs": [],
   "source": [
    "#troubleshooting\n",
    "#emental health\n",
    "\n",
    "#df_metadata[\"Content\"].iloc[2][4633:5000]\n",
    "#df_metadata[\"Clean_Content\"].iloc[2][4633:5000]"
   ]
  },
  {
   "cell_type": "markdown",
   "metadata": {
    "id": "wRt-wK9TawB_"
   },
   "source": [
    "## Acronyms - Include as Vocabulary for Paper"
   ]
  },
  {
   "cell_type": "code",
   "execution_count": null,
   "metadata": {
    "colab": {
     "base_uri": "https://localhost:8080/"
    },
    "id": "xZrRnJN-jEkD",
    "outputId": "bccc7f0b-451f-4bec-e432-637eb78bfc54"
   },
   "outputs": [
    {
     "name": "stdout",
     "output_type": "stream",
     "text": [
      "Requirement already satisfied: scispacy in /Users/adamgoldstein/opt/anaconda3/lib/python3.7/site-packages (0.4.0)\n",
      "Requirement already satisfied: nmslib>=1.7.3.6 in /Users/adamgoldstein/opt/anaconda3/lib/python3.7/site-packages (from scispacy) (2.1.1)\n",
      "Requirement already satisfied: conllu in /Users/adamgoldstein/opt/anaconda3/lib/python3.7/site-packages (from scispacy) (4.4)\n",
      "Requirement already satisfied: spacy<3.1.0,>=3.0.0 in /Users/adamgoldstein/opt/anaconda3/lib/python3.7/site-packages (from scispacy) (3.0.5)\n",
      "Requirement already satisfied: pysbd in /Users/adamgoldstein/opt/anaconda3/lib/python3.7/site-packages (from scispacy) (0.3.3)\n",
      "Requirement already satisfied: numpy in /Users/adamgoldstein/opt/anaconda3/lib/python3.7/site-packages (from scispacy) (1.18.1)\n",
      "Requirement already satisfied: requests<3.0.0,>=2.0.0 in /Users/adamgoldstein/opt/anaconda3/lib/python3.7/site-packages (from scispacy) (2.22.0)\n",
      "Requirement already satisfied: scikit-learn>=0.20.3 in /Users/adamgoldstein/opt/anaconda3/lib/python3.7/site-packages (from scispacy) (0.23.1)\n",
      "Requirement already satisfied: joblib in /Users/adamgoldstein/opt/anaconda3/lib/python3.7/site-packages (from scispacy) (0.14.1)\n",
      "Requirement already satisfied: pybind11<2.6.2 in /Users/adamgoldstein/opt/anaconda3/lib/python3.7/site-packages (from nmslib>=1.7.3.6->scispacy) (2.6.1)\n",
      "Requirement already satisfied: psutil in /Users/adamgoldstein/opt/anaconda3/lib/python3.7/site-packages (from nmslib>=1.7.3.6->scispacy) (5.6.7)\n",
      "Requirement already satisfied: setuptools in /Users/adamgoldstein/opt/anaconda3/lib/python3.7/site-packages (from spacy<3.1.0,>=3.0.0->scispacy) (46.0.0.post20200309)\n",
      "Requirement already satisfied: pathy>=0.3.5 in /Users/adamgoldstein/opt/anaconda3/lib/python3.7/site-packages (from spacy<3.1.0,>=3.0.0->scispacy) (0.4.0)\n",
      "Requirement already satisfied: blis<0.8.0,>=0.4.0 in /Users/adamgoldstein/opt/anaconda3/lib/python3.7/site-packages (from spacy<3.1.0,>=3.0.0->scispacy) (0.4.1)\n",
      "Requirement already satisfied: cymem<2.1.0,>=2.0.2 in /Users/adamgoldstein/opt/anaconda3/lib/python3.7/site-packages (from spacy<3.1.0,>=3.0.0->scispacy) (2.0.3)\n",
      "Requirement already satisfied: srsly<3.0.0,>=2.4.0 in /Users/adamgoldstein/opt/anaconda3/lib/python3.7/site-packages (from spacy<3.1.0,>=3.0.0->scispacy) (2.4.1)\n",
      "Requirement already satisfied: typer<0.4.0,>=0.3.0 in /Users/adamgoldstein/opt/anaconda3/lib/python3.7/site-packages (from spacy<3.1.0,>=3.0.0->scispacy) (0.3.2)\n",
      "Requirement already satisfied: preshed<3.1.0,>=3.0.2 in /Users/adamgoldstein/opt/anaconda3/lib/python3.7/site-packages (from spacy<3.1.0,>=3.0.0->scispacy) (3.0.2)\n",
      "Requirement already satisfied: importlib-metadata>=0.20; python_version < \"3.8\" in /Users/adamgoldstein/opt/anaconda3/lib/python3.7/site-packages (from spacy<3.1.0,>=3.0.0->scispacy) (1.5.0)\n",
      "Requirement already satisfied: murmurhash<1.1.0,>=0.28.0 in /Users/adamgoldstein/opt/anaconda3/lib/python3.7/site-packages (from spacy<3.1.0,>=3.0.0->scispacy) (1.0.2)\n",
      "Requirement already satisfied: packaging>=20.0 in /Users/adamgoldstein/opt/anaconda3/lib/python3.7/site-packages (from spacy<3.1.0,>=3.0.0->scispacy) (20.1)\n",
      "Requirement already satisfied: pydantic<1.8.0,>=1.7.1 in /Users/adamgoldstein/opt/anaconda3/lib/python3.7/site-packages (from spacy<3.1.0,>=3.0.0->scispacy) (1.7.3)\n",
      "Requirement already satisfied: wasabi<1.1.0,>=0.8.1 in /Users/adamgoldstein/opt/anaconda3/lib/python3.7/site-packages (from spacy<3.1.0,>=3.0.0->scispacy) (0.8.2)\n",
      "Requirement already satisfied: jinja2 in /Users/adamgoldstein/opt/anaconda3/lib/python3.7/site-packages (from spacy<3.1.0,>=3.0.0->scispacy) (2.11.2)\n",
      "Requirement already satisfied: tqdm<5.0.0,>=4.38.0 in /Users/adamgoldstein/opt/anaconda3/lib/python3.7/site-packages (from spacy<3.1.0,>=3.0.0->scispacy) (4.42.1)\n",
      "Requirement already satisfied: typing-extensions<4.0.0.0,>=3.7.4; python_version < \"3.8\" in /Users/adamgoldstein/opt/anaconda3/lib/python3.7/site-packages (from spacy<3.1.0,>=3.0.0->scispacy) (3.7.4.2)\n",
      "Requirement already satisfied: catalogue<2.1.0,>=2.0.1 in /Users/adamgoldstein/opt/anaconda3/lib/python3.7/site-packages (from spacy<3.1.0,>=3.0.0->scispacy) (2.0.3)\n",
      "Requirement already satisfied: thinc<8.1.0,>=8.0.2 in /Users/adamgoldstein/opt/anaconda3/lib/python3.7/site-packages (from spacy<3.1.0,>=3.0.0->scispacy) (8.0.2)\n",
      "Requirement already satisfied: spacy-legacy<3.1.0,>=3.0.0 in /Users/adamgoldstein/opt/anaconda3/lib/python3.7/site-packages (from spacy<3.1.0,>=3.0.0->scispacy) (3.0.2)\n",
      "Requirement already satisfied: chardet<3.1.0,>=3.0.2 in /Users/adamgoldstein/opt/anaconda3/lib/python3.7/site-packages (from requests<3.0.0,>=2.0.0->scispacy) (3.0.4)\n",
      "Requirement already satisfied: urllib3!=1.25.0,!=1.25.1,<1.26,>=1.21.1 in /Users/adamgoldstein/opt/anaconda3/lib/python3.7/site-packages (from requests<3.0.0,>=2.0.0->scispacy) (1.25.8)\n",
      "Requirement already satisfied: certifi>=2017.4.17 in /Users/adamgoldstein/opt/anaconda3/lib/python3.7/site-packages (from requests<3.0.0,>=2.0.0->scispacy) (2019.11.28)\n",
      "Requirement already satisfied: idna<2.9,>=2.5 in /Users/adamgoldstein/opt/anaconda3/lib/python3.7/site-packages (from requests<3.0.0,>=2.0.0->scispacy) (2.8)\n",
      "Requirement already satisfied: scipy>=0.19.1 in /Users/adamgoldstein/opt/anaconda3/lib/python3.7/site-packages (from scikit-learn>=0.20.3->scispacy) (1.4.1)\n",
      "Requirement already satisfied: threadpoolctl>=2.0.0 in /Users/adamgoldstein/opt/anaconda3/lib/python3.7/site-packages (from scikit-learn>=0.20.3->scispacy) (2.1.0)\n",
      "Requirement already satisfied: smart-open<4.0.0,>=2.2.0 in /Users/adamgoldstein/opt/anaconda3/lib/python3.7/site-packages (from pathy>=0.3.5->spacy<3.1.0,>=3.0.0->scispacy) (3.0.0)\n",
      "Requirement already satisfied: click<7.2.0,>=7.1.1 in /Users/adamgoldstein/opt/anaconda3/lib/python3.7/site-packages (from typer<0.4.0,>=0.3.0->spacy<3.1.0,>=3.0.0->scispacy) (7.1.1)\n",
      "Requirement already satisfied: zipp>=0.5 in /Users/adamgoldstein/opt/anaconda3/lib/python3.7/site-packages (from importlib-metadata>=0.20; python_version < \"3.8\"->spacy<3.1.0,>=3.0.0->scispacy) (2.2.0)\n",
      "Requirement already satisfied: pyparsing>=2.0.2 in /Users/adamgoldstein/opt/anaconda3/lib/python3.7/site-packages (from packaging>=20.0->spacy<3.1.0,>=3.0.0->scispacy) (2.4.6)\n",
      "Requirement already satisfied: six in /Users/adamgoldstein/opt/anaconda3/lib/python3.7/site-packages (from packaging>=20.0->spacy<3.1.0,>=3.0.0->scispacy) (1.15.0)\n",
      "Requirement already satisfied: MarkupSafe>=0.23 in /Users/adamgoldstein/opt/anaconda3/lib/python3.7/site-packages (from jinja2->spacy<3.1.0,>=3.0.0->scispacy) (1.1.1)\n",
      "Collecting https://s3-us-west-2.amazonaws.com/ai2-s2-scispacy/releases/v0.4.0/en_core_sci_sm-0.4.0.tar.gz\n",
      "  Using cached https://s3-us-west-2.amazonaws.com/ai2-s2-scispacy/releases/v0.4.0/en_core_sci_sm-0.4.0.tar.gz (15.6 MB)\n",
      "Requirement already satisfied (use --upgrade to upgrade): en-core-sci-sm==0.4.0 from https://s3-us-west-2.amazonaws.com/ai2-s2-scispacy/releases/v0.4.0/en_core_sci_sm-0.4.0.tar.gz in /Users/adamgoldstein/opt/anaconda3/lib/python3.7/site-packages\n",
      "Requirement already satisfied: spacy<3.1.0,>=3.0.1 in /Users/adamgoldstein/opt/anaconda3/lib/python3.7/site-packages (from en-core-sci-sm==0.4.0) (3.0.5)\n",
      "Requirement already satisfied: wasabi<1.1.0,>=0.8.1 in /Users/adamgoldstein/opt/anaconda3/lib/python3.7/site-packages (from spacy<3.1.0,>=3.0.1->en-core-sci-sm==0.4.0) (0.8.2)\n",
      "Requirement already satisfied: catalogue<2.1.0,>=2.0.1 in /Users/adamgoldstein/opt/anaconda3/lib/python3.7/site-packages (from spacy<3.1.0,>=3.0.1->en-core-sci-sm==0.4.0) (2.0.3)\n",
      "Requirement already satisfied: preshed<3.1.0,>=3.0.2 in /Users/adamgoldstein/opt/anaconda3/lib/python3.7/site-packages (from spacy<3.1.0,>=3.0.1->en-core-sci-sm==0.4.0) (3.0.2)\n",
      "Requirement already satisfied: blis<0.8.0,>=0.4.0 in /Users/adamgoldstein/opt/anaconda3/lib/python3.7/site-packages (from spacy<3.1.0,>=3.0.1->en-core-sci-sm==0.4.0) (0.4.1)\n",
      "Requirement already satisfied: thinc<8.1.0,>=8.0.2 in /Users/adamgoldstein/opt/anaconda3/lib/python3.7/site-packages (from spacy<3.1.0,>=3.0.1->en-core-sci-sm==0.4.0) (8.0.2)\n",
      "Requirement already satisfied: typing-extensions<4.0.0.0,>=3.7.4; python_version < \"3.8\" in /Users/adamgoldstein/opt/anaconda3/lib/python3.7/site-packages (from spacy<3.1.0,>=3.0.1->en-core-sci-sm==0.4.0) (3.7.4.2)\n",
      "Requirement already satisfied: importlib-metadata>=0.20; python_version < \"3.8\" in /Users/adamgoldstein/opt/anaconda3/lib/python3.7/site-packages (from spacy<3.1.0,>=3.0.1->en-core-sci-sm==0.4.0) (1.5.0)\n",
      "Requirement already satisfied: pydantic<1.8.0,>=1.7.1 in /Users/adamgoldstein/opt/anaconda3/lib/python3.7/site-packages (from spacy<3.1.0,>=3.0.1->en-core-sci-sm==0.4.0) (1.7.3)\n",
      "Requirement already satisfied: jinja2 in /Users/adamgoldstein/opt/anaconda3/lib/python3.7/site-packages (from spacy<3.1.0,>=3.0.1->en-core-sci-sm==0.4.0) (2.11.2)\n",
      "Requirement already satisfied: murmurhash<1.1.0,>=0.28.0 in /Users/adamgoldstein/opt/anaconda3/lib/python3.7/site-packages (from spacy<3.1.0,>=3.0.1->en-core-sci-sm==0.4.0) (1.0.2)\n"
     ]
    },
    {
     "name": "stdout",
     "output_type": "stream",
     "text": [
      "Requirement already satisfied: spacy-legacy<3.1.0,>=3.0.0 in /Users/adamgoldstein/opt/anaconda3/lib/python3.7/site-packages (from spacy<3.1.0,>=3.0.1->en-core-sci-sm==0.4.0) (3.0.2)\n",
      "Requirement already satisfied: requests<3.0.0,>=2.13.0 in /Users/adamgoldstein/opt/anaconda3/lib/python3.7/site-packages (from spacy<3.1.0,>=3.0.1->en-core-sci-sm==0.4.0) (2.22.0)\n",
      "Requirement already satisfied: typer<0.4.0,>=0.3.0 in /Users/adamgoldstein/opt/anaconda3/lib/python3.7/site-packages (from spacy<3.1.0,>=3.0.1->en-core-sci-sm==0.4.0) (0.3.2)\n",
      "Requirement already satisfied: tqdm<5.0.0,>=4.38.0 in /Users/adamgoldstein/opt/anaconda3/lib/python3.7/site-packages (from spacy<3.1.0,>=3.0.1->en-core-sci-sm==0.4.0) (4.42.1)\n",
      "Requirement already satisfied: cymem<2.1.0,>=2.0.2 in /Users/adamgoldstein/opt/anaconda3/lib/python3.7/site-packages (from spacy<3.1.0,>=3.0.1->en-core-sci-sm==0.4.0) (2.0.3)\n",
      "Requirement already satisfied: pathy>=0.3.5 in /Users/adamgoldstein/opt/anaconda3/lib/python3.7/site-packages (from spacy<3.1.0,>=3.0.1->en-core-sci-sm==0.4.0) (0.4.0)\n",
      "Requirement already satisfied: packaging>=20.0 in /Users/adamgoldstein/opt/anaconda3/lib/python3.7/site-packages (from spacy<3.1.0,>=3.0.1->en-core-sci-sm==0.4.0) (20.1)\n",
      "Requirement already satisfied: srsly<3.0.0,>=2.4.0 in /Users/adamgoldstein/opt/anaconda3/lib/python3.7/site-packages (from spacy<3.1.0,>=3.0.1->en-core-sci-sm==0.4.0) (2.4.1)\n",
      "Requirement already satisfied: setuptools in /Users/adamgoldstein/opt/anaconda3/lib/python3.7/site-packages (from spacy<3.1.0,>=3.0.1->en-core-sci-sm==0.4.0) (46.0.0.post20200309)\n",
      "Requirement already satisfied: numpy>=1.15.0 in /Users/adamgoldstein/opt/anaconda3/lib/python3.7/site-packages (from spacy<3.1.0,>=3.0.1->en-core-sci-sm==0.4.0) (1.18.1)\n",
      "Requirement already satisfied: zipp>=0.5; python_version < \"3.8\" in /Users/adamgoldstein/opt/anaconda3/lib/python3.7/site-packages (from catalogue<2.1.0,>=2.0.1->spacy<3.1.0,>=3.0.1->en-core-sci-sm==0.4.0) (2.2.0)\n",
      "Requirement already satisfied: MarkupSafe>=0.23 in /Users/adamgoldstein/opt/anaconda3/lib/python3.7/site-packages (from jinja2->spacy<3.1.0,>=3.0.1->en-core-sci-sm==0.4.0) (1.1.1)\n",
      "Requirement already satisfied: idna<2.9,>=2.5 in /Users/adamgoldstein/opt/anaconda3/lib/python3.7/site-packages (from requests<3.0.0,>=2.13.0->spacy<3.1.0,>=3.0.1->en-core-sci-sm==0.4.0) (2.8)\n",
      "Requirement already satisfied: urllib3!=1.25.0,!=1.25.1,<1.26,>=1.21.1 in /Users/adamgoldstein/opt/anaconda3/lib/python3.7/site-packages (from requests<3.0.0,>=2.13.0->spacy<3.1.0,>=3.0.1->en-core-sci-sm==0.4.0) (1.25.8)\n",
      "Requirement already satisfied: certifi>=2017.4.17 in /Users/adamgoldstein/opt/anaconda3/lib/python3.7/site-packages (from requests<3.0.0,>=2.13.0->spacy<3.1.0,>=3.0.1->en-core-sci-sm==0.4.0) (2019.11.28)\n",
      "Requirement already satisfied: chardet<3.1.0,>=3.0.2 in /Users/adamgoldstein/opt/anaconda3/lib/python3.7/site-packages (from requests<3.0.0,>=2.13.0->spacy<3.1.0,>=3.0.1->en-core-sci-sm==0.4.0) (3.0.4)\n",
      "Requirement already satisfied: click<7.2.0,>=7.1.1 in /Users/adamgoldstein/opt/anaconda3/lib/python3.7/site-packages (from typer<0.4.0,>=0.3.0->spacy<3.1.0,>=3.0.1->en-core-sci-sm==0.4.0) (7.1.1)\n",
      "Requirement already satisfied: smart-open<4.0.0,>=2.2.0 in /Users/adamgoldstein/opt/anaconda3/lib/python3.7/site-packages (from pathy>=0.3.5->spacy<3.1.0,>=3.0.1->en-core-sci-sm==0.4.0) (3.0.0)\n",
      "Requirement already satisfied: pyparsing>=2.0.2 in /Users/adamgoldstein/opt/anaconda3/lib/python3.7/site-packages (from packaging>=20.0->spacy<3.1.0,>=3.0.1->en-core-sci-sm==0.4.0) (2.4.6)\n",
      "Requirement already satisfied: six in /Users/adamgoldstein/opt/anaconda3/lib/python3.7/site-packages (from packaging>=20.0->spacy<3.1.0,>=3.0.1->en-core-sci-sm==0.4.0) (1.15.0)\n",
      "Building wheels for collected packages: en-core-sci-sm\n",
      "  Building wheel for en-core-sci-sm (setup.py) ... \u001b[?25ldone\n",
      "\u001b[?25h  Created wheel for en-core-sci-sm: filename=en_core_sci_sm-0.4.0-py3-none-any.whl size=15660353 sha256=f93ebbe5c8d2d085bb1407f89cf3ba0792ed82b453572ca5ee0a7ee0352a16ac\n",
      "  Stored in directory: /Users/adamgoldstein/Library/Caches/pip/wheels/31/4b/3a/03f2732eb69789a7df3bf29c1bc010f660ada5f3c295d4073c\n",
      "Successfully built en-core-sci-sm\n",
      "Requirement already satisfied: spacy in /Users/adamgoldstein/opt/anaconda3/lib/python3.7/site-packages (3.0.5)\n",
      "Requirement already satisfied: importlib-metadata>=0.20; python_version < \"3.8\" in /Users/adamgoldstein/opt/anaconda3/lib/python3.7/site-packages (from spacy) (1.5.0)\n",
      "Requirement already satisfied: murmurhash<1.1.0,>=0.28.0 in /Users/adamgoldstein/opt/anaconda3/lib/python3.7/site-packages (from spacy) (1.0.2)\n",
      "Requirement already satisfied: numpy>=1.15.0 in /Users/adamgoldstein/opt/anaconda3/lib/python3.7/site-packages (from spacy) (1.18.1)\n",
      "Requirement already satisfied: pathy>=0.3.5 in /Users/adamgoldstein/opt/anaconda3/lib/python3.7/site-packages (from spacy) (0.4.0)\n",
      "Requirement already satisfied: blis<0.8.0,>=0.4.0 in /Users/adamgoldstein/opt/anaconda3/lib/python3.7/site-packages (from spacy) (0.4.1)\n",
      "Requirement already satisfied: srsly<3.0.0,>=2.4.0 in /Users/adamgoldstein/opt/anaconda3/lib/python3.7/site-packages (from spacy) (2.4.1)\n",
      "Requirement already satisfied: pydantic<1.8.0,>=1.7.1 in /Users/adamgoldstein/opt/anaconda3/lib/python3.7/site-packages (from spacy) (1.7.3)\n",
      "Requirement already satisfied: thinc<8.1.0,>=8.0.2 in /Users/adamgoldstein/opt/anaconda3/lib/python3.7/site-packages (from spacy) (8.0.2)\n",
      "Requirement already satisfied: cymem<2.1.0,>=2.0.2 in /Users/adamgoldstein/opt/anaconda3/lib/python3.7/site-packages (from spacy) (2.0.3)\n",
      "Requirement already satisfied: typing-extensions<4.0.0.0,>=3.7.4; python_version < \"3.8\" in /Users/adamgoldstein/opt/anaconda3/lib/python3.7/site-packages (from spacy) (3.7.4.2)\n",
      "Requirement already satisfied: spacy-legacy<3.1.0,>=3.0.0 in /Users/adamgoldstein/opt/anaconda3/lib/python3.7/site-packages (from spacy) (3.0.2)\n",
      "Requirement already satisfied: tqdm<5.0.0,>=4.38.0 in /Users/adamgoldstein/opt/anaconda3/lib/python3.7/site-packages (from spacy) (4.42.1)\n",
      "Requirement already satisfied: jinja2 in /Users/adamgoldstein/opt/anaconda3/lib/python3.7/site-packages (from spacy) (2.11.2)\n",
      "Requirement already satisfied: packaging>=20.0 in /Users/adamgoldstein/opt/anaconda3/lib/python3.7/site-packages (from spacy) (20.1)\n",
      "Requirement already satisfied: catalogue<2.1.0,>=2.0.1 in /Users/adamgoldstein/opt/anaconda3/lib/python3.7/site-packages (from spacy) (2.0.3)\n",
      "Requirement already satisfied: wasabi<1.1.0,>=0.8.1 in /Users/adamgoldstein/opt/anaconda3/lib/python3.7/site-packages (from spacy) (0.8.2)\n",
      "Requirement already satisfied: typer<0.4.0,>=0.3.0 in /Users/adamgoldstein/opt/anaconda3/lib/python3.7/site-packages (from spacy) (0.3.2)\n",
      "Requirement already satisfied: setuptools in /Users/adamgoldstein/opt/anaconda3/lib/python3.7/site-packages (from spacy) (46.0.0.post20200309)\n",
      "Requirement already satisfied: requests<3.0.0,>=2.13.0 in /Users/adamgoldstein/opt/anaconda3/lib/python3.7/site-packages (from spacy) (2.22.0)\n",
      "Requirement already satisfied: preshed<3.1.0,>=3.0.2 in /Users/adamgoldstein/opt/anaconda3/lib/python3.7/site-packages (from spacy) (3.0.2)\n",
      "Requirement already satisfied: zipp>=0.5 in /Users/adamgoldstein/opt/anaconda3/lib/python3.7/site-packages (from importlib-metadata>=0.20; python_version < \"3.8\"->spacy) (2.2.0)\n",
      "Requirement already satisfied: smart-open<4.0.0,>=2.2.0 in /Users/adamgoldstein/opt/anaconda3/lib/python3.7/site-packages (from pathy>=0.3.5->spacy) (3.0.0)\n",
      "Requirement already satisfied: MarkupSafe>=0.23 in /Users/adamgoldstein/opt/anaconda3/lib/python3.7/site-packages (from jinja2->spacy) (1.1.1)\n",
      "Requirement already satisfied: six in /Users/adamgoldstein/opt/anaconda3/lib/python3.7/site-packages (from packaging>=20.0->spacy) (1.15.0)\n",
      "Requirement already satisfied: pyparsing>=2.0.2 in /Users/adamgoldstein/opt/anaconda3/lib/python3.7/site-packages (from packaging>=20.0->spacy) (2.4.6)\n",
      "Requirement already satisfied: click<7.2.0,>=7.1.1 in /Users/adamgoldstein/opt/anaconda3/lib/python3.7/site-packages (from typer<0.4.0,>=0.3.0->spacy) (7.1.1)\n",
      "Requirement already satisfied: certifi>=2017.4.17 in /Users/adamgoldstein/opt/anaconda3/lib/python3.7/site-packages (from requests<3.0.0,>=2.13.0->spacy) (2019.11.28)\n",
      "Requirement already satisfied: urllib3!=1.25.0,!=1.25.1,<1.26,>=1.21.1 in /Users/adamgoldstein/opt/anaconda3/lib/python3.7/site-packages (from requests<3.0.0,>=2.13.0->spacy) (1.25.8)\n",
      "Requirement already satisfied: idna<2.9,>=2.5 in /Users/adamgoldstein/opt/anaconda3/lib/python3.7/site-packages (from requests<3.0.0,>=2.13.0->spacy) (2.8)\n",
      "Requirement already satisfied: chardet<3.1.0,>=3.0.2 in /Users/adamgoldstein/opt/anaconda3/lib/python3.7/site-packages (from requests<3.0.0,>=2.13.0->spacy) (3.0.4)\n"
     ]
    },
    {
     "name": "stdout",
     "output_type": "stream",
     "text": [
      "Requirement already satisfied: en-core-web-sm==3.0.0 from https://github.com/explosion/spacy-models/releases/download/en_core_web_sm-3.0.0/en_core_web_sm-3.0.0-py3-none-any.whl#egg=en_core_web_sm==3.0.0 in /Users/adamgoldstein/opt/anaconda3/lib/python3.7/site-packages (3.0.0)\n",
      "Requirement already satisfied: spacy<3.1.0,>=3.0.0 in /Users/adamgoldstein/opt/anaconda3/lib/python3.7/site-packages (from en-core-web-sm==3.0.0) (3.0.5)\n",
      "Requirement already satisfied: blis<0.8.0,>=0.4.0 in /Users/adamgoldstein/opt/anaconda3/lib/python3.7/site-packages (from spacy<3.1.0,>=3.0.0->en-core-web-sm==3.0.0) (0.4.1)\n",
      "Requirement already satisfied: preshed<3.1.0,>=3.0.2 in /Users/adamgoldstein/opt/anaconda3/lib/python3.7/site-packages (from spacy<3.1.0,>=3.0.0->en-core-web-sm==3.0.0) (3.0.2)\n",
      "Requirement already satisfied: thinc<8.1.0,>=8.0.2 in /Users/adamgoldstein/opt/anaconda3/lib/python3.7/site-packages (from spacy<3.1.0,>=3.0.0->en-core-web-sm==3.0.0) (8.0.2)\n",
      "Requirement already satisfied: pydantic<1.8.0,>=1.7.1 in /Users/adamgoldstein/opt/anaconda3/lib/python3.7/site-packages (from spacy<3.1.0,>=3.0.0->en-core-web-sm==3.0.0) (1.7.3)\n",
      "Requirement already satisfied: importlib-metadata>=0.20; python_version < \"3.8\" in /Users/adamgoldstein/opt/anaconda3/lib/python3.7/site-packages (from spacy<3.1.0,>=3.0.0->en-core-web-sm==3.0.0) (1.5.0)\n",
      "Requirement already satisfied: typing-extensions<4.0.0.0,>=3.7.4; python_version < \"3.8\" in /Users/adamgoldstein/opt/anaconda3/lib/python3.7/site-packages (from spacy<3.1.0,>=3.0.0->en-core-web-sm==3.0.0) (3.7.4.2)\n",
      "Requirement already satisfied: murmurhash<1.1.0,>=0.28.0 in /Users/adamgoldstein/opt/anaconda3/lib/python3.7/site-packages (from spacy<3.1.0,>=3.0.0->en-core-web-sm==3.0.0) (1.0.2)\n",
      "Requirement already satisfied: wasabi<1.1.0,>=0.8.1 in /Users/adamgoldstein/opt/anaconda3/lib/python3.7/site-packages (from spacy<3.1.0,>=3.0.0->en-core-web-sm==3.0.0) (0.8.2)\n",
      "Requirement already satisfied: catalogue<2.1.0,>=2.0.1 in /Users/adamgoldstein/opt/anaconda3/lib/python3.7/site-packages (from spacy<3.1.0,>=3.0.0->en-core-web-sm==3.0.0) (2.0.3)\n",
      "Requirement already satisfied: spacy-legacy<3.1.0,>=3.0.0 in /Users/adamgoldstein/opt/anaconda3/lib/python3.7/site-packages (from spacy<3.1.0,>=3.0.0->en-core-web-sm==3.0.0) (3.0.2)\n",
      "Requirement already satisfied: packaging>=20.0 in /Users/adamgoldstein/opt/anaconda3/lib/python3.7/site-packages (from spacy<3.1.0,>=3.0.0->en-core-web-sm==3.0.0) (20.1)\n",
      "Requirement already satisfied: jinja2 in /Users/adamgoldstein/opt/anaconda3/lib/python3.7/site-packages (from spacy<3.1.0,>=3.0.0->en-core-web-sm==3.0.0) (2.11.2)\n",
      "Requirement already satisfied: numpy>=1.15.0 in /Users/adamgoldstein/opt/anaconda3/lib/python3.7/site-packages (from spacy<3.1.0,>=3.0.0->en-core-web-sm==3.0.0) (1.18.1)\n",
      "Requirement already satisfied: pathy>=0.3.5 in /Users/adamgoldstein/opt/anaconda3/lib/python3.7/site-packages (from spacy<3.1.0,>=3.0.0->en-core-web-sm==3.0.0) (0.4.0)\n",
      "Requirement already satisfied: srsly<3.0.0,>=2.4.0 in /Users/adamgoldstein/opt/anaconda3/lib/python3.7/site-packages (from spacy<3.1.0,>=3.0.0->en-core-web-sm==3.0.0) (2.4.1)\n",
      "Requirement already satisfied: setuptools in /Users/adamgoldstein/opt/anaconda3/lib/python3.7/site-packages (from spacy<3.1.0,>=3.0.0->en-core-web-sm==3.0.0) (46.0.0.post20200309)\n",
      "Requirement already satisfied: typer<0.4.0,>=0.3.0 in /Users/adamgoldstein/opt/anaconda3/lib/python3.7/site-packages (from spacy<3.1.0,>=3.0.0->en-core-web-sm==3.0.0) (0.3.2)\n",
      "Requirement already satisfied: requests<3.0.0,>=2.13.0 in /Users/adamgoldstein/opt/anaconda3/lib/python3.7/site-packages (from spacy<3.1.0,>=3.0.0->en-core-web-sm==3.0.0) (2.22.0)\n",
      "Requirement already satisfied: cymem<2.1.0,>=2.0.2 in /Users/adamgoldstein/opt/anaconda3/lib/python3.7/site-packages (from spacy<3.1.0,>=3.0.0->en-core-web-sm==3.0.0) (2.0.3)\n",
      "Requirement already satisfied: tqdm<5.0.0,>=4.38.0 in /Users/adamgoldstein/opt/anaconda3/lib/python3.7/site-packages (from spacy<3.1.0,>=3.0.0->en-core-web-sm==3.0.0) (4.42.1)\n",
      "Requirement already satisfied: zipp>=0.5 in /Users/adamgoldstein/opt/anaconda3/lib/python3.7/site-packages (from importlib-metadata>=0.20; python_version < \"3.8\"->spacy<3.1.0,>=3.0.0->en-core-web-sm==3.0.0) (2.2.0)\n",
      "Requirement already satisfied: pyparsing>=2.0.2 in /Users/adamgoldstein/opt/anaconda3/lib/python3.7/site-packages (from packaging>=20.0->spacy<3.1.0,>=3.0.0->en-core-web-sm==3.0.0) (2.4.6)\n",
      "Requirement already satisfied: six in /Users/adamgoldstein/opt/anaconda3/lib/python3.7/site-packages (from packaging>=20.0->spacy<3.1.0,>=3.0.0->en-core-web-sm==3.0.0) (1.15.0)\n",
      "Requirement already satisfied: MarkupSafe>=0.23 in /Users/adamgoldstein/opt/anaconda3/lib/python3.7/site-packages (from jinja2->spacy<3.1.0,>=3.0.0->en-core-web-sm==3.0.0) (1.1.1)\n",
      "Requirement already satisfied: smart-open<4.0.0,>=2.2.0 in /Users/adamgoldstein/opt/anaconda3/lib/python3.7/site-packages (from pathy>=0.3.5->spacy<3.1.0,>=3.0.0->en-core-web-sm==3.0.0) (3.0.0)\n",
      "Requirement already satisfied: click<7.2.0,>=7.1.1 in /Users/adamgoldstein/opt/anaconda3/lib/python3.7/site-packages (from typer<0.4.0,>=0.3.0->spacy<3.1.0,>=3.0.0->en-core-web-sm==3.0.0) (7.1.1)\n",
      "Requirement already satisfied: chardet<3.1.0,>=3.0.2 in /Users/adamgoldstein/opt/anaconda3/lib/python3.7/site-packages (from requests<3.0.0,>=2.13.0->spacy<3.1.0,>=3.0.0->en-core-web-sm==3.0.0) (3.0.4)\n",
      "Requirement already satisfied: idna<2.9,>=2.5 in /Users/adamgoldstein/opt/anaconda3/lib/python3.7/site-packages (from requests<3.0.0,>=2.13.0->spacy<3.1.0,>=3.0.0->en-core-web-sm==3.0.0) (2.8)\n",
      "Requirement already satisfied: urllib3!=1.25.0,!=1.25.1,<1.26,>=1.21.1 in /Users/adamgoldstein/opt/anaconda3/lib/python3.7/site-packages (from requests<3.0.0,>=2.13.0->spacy<3.1.0,>=3.0.0->en-core-web-sm==3.0.0) (1.25.8)\n",
      "Requirement already satisfied: certifi>=2017.4.17 in /Users/adamgoldstein/opt/anaconda3/lib/python3.7/site-packages (from requests<3.0.0,>=2.13.0->spacy<3.1.0,>=3.0.0->en-core-web-sm==3.0.0) (2019.11.28)\n",
      "\u001b[38;5;2m✔ Download and installation successful\u001b[0m\n",
      "You can now load the package via spacy.load('en_core_web_sm')\n",
      "Requirement already satisfied: en-core-web-md==3.0.0 from https://github.com/explosion/spacy-models/releases/download/en_core_web_md-3.0.0/en_core_web_md-3.0.0-py3-none-any.whl#egg=en_core_web_md==3.0.0 in /Users/adamgoldstein/opt/anaconda3/lib/python3.7/site-packages (3.0.0)\n",
      "Requirement already satisfied: spacy<3.1.0,>=3.0.0 in /Users/adamgoldstein/opt/anaconda3/lib/python3.7/site-packages (from en-core-web-md==3.0.0) (3.0.5)\n",
      "Requirement already satisfied: pathy>=0.3.5 in /Users/adamgoldstein/opt/anaconda3/lib/python3.7/site-packages (from spacy<3.1.0,>=3.0.0->en-core-web-md==3.0.0) (0.4.0)\n",
      "Requirement already satisfied: murmurhash<1.1.0,>=0.28.0 in /Users/adamgoldstein/opt/anaconda3/lib/python3.7/site-packages (from spacy<3.1.0,>=3.0.0->en-core-web-md==3.0.0) (1.0.2)\n",
      "Requirement already satisfied: requests<3.0.0,>=2.13.0 in /Users/adamgoldstein/opt/anaconda3/lib/python3.7/site-packages (from spacy<3.1.0,>=3.0.0->en-core-web-md==3.0.0) (2.22.0)\n",
      "Requirement already satisfied: spacy-legacy<3.1.0,>=3.0.0 in /Users/adamgoldstein/opt/anaconda3/lib/python3.7/site-packages (from spacy<3.1.0,>=3.0.0->en-core-web-md==3.0.0) (3.0.2)\n",
      "Requirement already satisfied: blis<0.8.0,>=0.4.0 in /Users/adamgoldstein/opt/anaconda3/lib/python3.7/site-packages (from spacy<3.1.0,>=3.0.0->en-core-web-md==3.0.0) (0.4.1)\n",
      "Requirement already satisfied: srsly<3.0.0,>=2.4.0 in /Users/adamgoldstein/opt/anaconda3/lib/python3.7/site-packages (from spacy<3.1.0,>=3.0.0->en-core-web-md==3.0.0) (2.4.1)\n",
      "Requirement already satisfied: preshed<3.1.0,>=3.0.2 in /Users/adamgoldstein/opt/anaconda3/lib/python3.7/site-packages (from spacy<3.1.0,>=3.0.0->en-core-web-md==3.0.0) (3.0.2)\n",
      "Requirement already satisfied: pydantic<1.8.0,>=1.7.1 in /Users/adamgoldstein/opt/anaconda3/lib/python3.7/site-packages (from spacy<3.1.0,>=3.0.0->en-core-web-md==3.0.0) (1.7.3)\n",
      "Requirement already satisfied: tqdm<5.0.0,>=4.38.0 in /Users/adamgoldstein/opt/anaconda3/lib/python3.7/site-packages (from spacy<3.1.0,>=3.0.0->en-core-web-md==3.0.0) (4.42.1)\n",
      "Requirement already satisfied: packaging>=20.0 in /Users/adamgoldstein/opt/anaconda3/lib/python3.7/site-packages (from spacy<3.1.0,>=3.0.0->en-core-web-md==3.0.0) (20.1)\n",
      "Requirement already satisfied: jinja2 in /Users/adamgoldstein/opt/anaconda3/lib/python3.7/site-packages (from spacy<3.1.0,>=3.0.0->en-core-web-md==3.0.0) (2.11.2)\n",
      "Requirement already satisfied: catalogue<2.1.0,>=2.0.1 in /Users/adamgoldstein/opt/anaconda3/lib/python3.7/site-packages (from spacy<3.1.0,>=3.0.0->en-core-web-md==3.0.0) (2.0.3)\n",
      "Requirement already satisfied: setuptools in /Users/adamgoldstein/opt/anaconda3/lib/python3.7/site-packages (from spacy<3.1.0,>=3.0.0->en-core-web-md==3.0.0) (46.0.0.post20200309)\n",
      "Requirement already satisfied: numpy>=1.15.0 in /Users/adamgoldstein/opt/anaconda3/lib/python3.7/site-packages (from spacy<3.1.0,>=3.0.0->en-core-web-md==3.0.0) (1.18.1)\n",
      "Requirement already satisfied: wasabi<1.1.0,>=0.8.1 in /Users/adamgoldstein/opt/anaconda3/lib/python3.7/site-packages (from spacy<3.1.0,>=3.0.0->en-core-web-md==3.0.0) (0.8.2)\n",
      "Requirement already satisfied: cymem<2.1.0,>=2.0.2 in /Users/adamgoldstein/opt/anaconda3/lib/python3.7/site-packages (from spacy<3.1.0,>=3.0.0->en-core-web-md==3.0.0) (2.0.3)\n",
      "Requirement already satisfied: thinc<8.1.0,>=8.0.2 in /Users/adamgoldstein/opt/anaconda3/lib/python3.7/site-packages (from spacy<3.1.0,>=3.0.0->en-core-web-md==3.0.0) (8.0.2)\n"
     ]
    },
    {
     "name": "stdout",
     "output_type": "stream",
     "text": [
      "Requirement already satisfied: importlib-metadata>=0.20; python_version < \"3.8\" in /Users/adamgoldstein/opt/anaconda3/lib/python3.7/site-packages (from spacy<3.1.0,>=3.0.0->en-core-web-md==3.0.0) (1.5.0)\n",
      "Requirement already satisfied: typer<0.4.0,>=0.3.0 in /Users/adamgoldstein/opt/anaconda3/lib/python3.7/site-packages (from spacy<3.1.0,>=3.0.0->en-core-web-md==3.0.0) (0.3.2)\n",
      "Requirement already satisfied: typing-extensions<4.0.0.0,>=3.7.4; python_version < \"3.8\" in /Users/adamgoldstein/opt/anaconda3/lib/python3.7/site-packages (from spacy<3.1.0,>=3.0.0->en-core-web-md==3.0.0) (3.7.4.2)\n",
      "Requirement already satisfied: smart-open<4.0.0,>=2.2.0 in /Users/adamgoldstein/opt/anaconda3/lib/python3.7/site-packages (from pathy>=0.3.5->spacy<3.1.0,>=3.0.0->en-core-web-md==3.0.0) (3.0.0)\n",
      "Requirement already satisfied: idna<2.9,>=2.5 in /Users/adamgoldstein/opt/anaconda3/lib/python3.7/site-packages (from requests<3.0.0,>=2.13.0->spacy<3.1.0,>=3.0.0->en-core-web-md==3.0.0) (2.8)\n",
      "Requirement already satisfied: urllib3!=1.25.0,!=1.25.1,<1.26,>=1.21.1 in /Users/adamgoldstein/opt/anaconda3/lib/python3.7/site-packages (from requests<3.0.0,>=2.13.0->spacy<3.1.0,>=3.0.0->en-core-web-md==3.0.0) (1.25.8)\n",
      "Requirement already satisfied: chardet<3.1.0,>=3.0.2 in /Users/adamgoldstein/opt/anaconda3/lib/python3.7/site-packages (from requests<3.0.0,>=2.13.0->spacy<3.1.0,>=3.0.0->en-core-web-md==3.0.0) (3.0.4)\n",
      "Requirement already satisfied: certifi>=2017.4.17 in /Users/adamgoldstein/opt/anaconda3/lib/python3.7/site-packages (from requests<3.0.0,>=2.13.0->spacy<3.1.0,>=3.0.0->en-core-web-md==3.0.0) (2019.11.28)\n",
      "Requirement already satisfied: pyparsing>=2.0.2 in /Users/adamgoldstein/opt/anaconda3/lib/python3.7/site-packages (from packaging>=20.0->spacy<3.1.0,>=3.0.0->en-core-web-md==3.0.0) (2.4.6)\n",
      "Requirement already satisfied: six in /Users/adamgoldstein/opt/anaconda3/lib/python3.7/site-packages (from packaging>=20.0->spacy<3.1.0,>=3.0.0->en-core-web-md==3.0.0) (1.15.0)\n",
      "Requirement already satisfied: MarkupSafe>=0.23 in /Users/adamgoldstein/opt/anaconda3/lib/python3.7/site-packages (from jinja2->spacy<3.1.0,>=3.0.0->en-core-web-md==3.0.0) (1.1.1)\n",
      "Requirement already satisfied: zipp>=0.5; python_version < \"3.8\" in /Users/adamgoldstein/opt/anaconda3/lib/python3.7/site-packages (from catalogue<2.1.0,>=2.0.1->spacy<3.1.0,>=3.0.0->en-core-web-md==3.0.0) (2.2.0)\n",
      "Requirement already satisfied: click<7.2.0,>=7.1.1 in /Users/adamgoldstein/opt/anaconda3/lib/python3.7/site-packages (from typer<0.4.0,>=0.3.0->spacy<3.1.0,>=3.0.0->en-core-web-md==3.0.0) (7.1.1)\n"
     ]
    }
   ],
   "source": [
    "#Sci Spacy\n",
    "!pip install scispacy\n",
    "!pip install https://s3-us-west-2.amazonaws.com/ai2-s2-scispacy/releases/v0.4.0/en_core_sci_sm-0.4.0.tar.gz\n",
    "\n",
    "#Spacy org\n",
    "!pip install spacy\n",
    "!python3 -m spacy download en_core_web_sm\n",
    "!python3 -m spacy download en_core_web_md\n"
   ]
  },
  {
   "cell_type": "markdown",
   "metadata": {
    "id": "US_t8a0TgTrP"
   },
   "source": [
    "## Source: https://youtu.be/2_HSKDALwuw?t=708\n",
    "## Abbreviation Detector Works by:\n",
    "## 1. Finding Parentheses\n",
    "## 2. Look up to 10 words behind the bracket\n",
    "## 3. Greedily choose definition: Look for words next to each other, that in the right order start with the letters in the acronym"
   ]
  },
  {
   "cell_type": "code",
   "execution_count": null,
   "metadata": {
    "id": "cxFRzskj0jik"
   },
   "outputs": [],
   "source": [
    "#ScispaCy: Fast and Robust Models for Biomedical Natural Language Processing: https://www.semanticscholar.org/paper/ScispaCy%3A-Fast-and-Robust-Models-for-Biomedical-Neumann-King/de28ec1d7bd38c8fc4e8ac59b6133800818b4e29\n",
    "#https://github.com/allenai/SciSpaCy\n",
    "import spacy\n",
    "from scispacy.abbreviation import AbbreviationDetector\n",
    "\n",
    "\n",
    "nlp = spacy.load(\"en_core_web_sm\")\n",
    "nlp.add_pipe(\"abbreviation_detector\")\n",
    "\n",
    "nlp.Defaults.stop_words |= {\"PRON\",\"ll\",\"ve\",\"eg\"}\n",
    "\n",
    "corpus = df_metadata[\"Content\"]\n",
    "\n",
    "docs = list(nlp.pipe(corpus,disable=[\"ner\",\"parser\",\"textcat\"]))\n",
    "\n",
    "\n"
   ]
  },
  {
   "cell_type": "code",
   "execution_count": null,
   "metadata": {
    "id": "Pj1GJsKfeqtn"
   },
   "outputs": [],
   "source": [
    "abrv_dict = dict()\n",
    "\n",
    "for index,doc in enumerate(docs):\n",
    "\n",
    "    for abrv in doc._.abbreviations:\n",
    "        \n",
    "        if str(abrv) not in abrv_dict.keys():\n",
    "\n",
    "            abrv_dict[str(abrv)] = {\"LongForm\":str(abrv._.long_form),\"Document\":{index}}\n",
    "            \n",
    "        else:\n",
    "            abrv_dict[str(abrv)][\"Document\"].add(index)\n",
    "\n",
    "        #print(f\"{abrv} \\t ({abrv.start}, {abrv.end}) {abrv._.long_form} \\t Document: {index}\")"
   ]
  },
  {
   "cell_type": "code",
   "execution_count": null,
   "metadata": {},
   "outputs": [],
   "source": [
    "#Source https://stackoverflow.com/questions/22281059/set-object-is-not-json-serializable\n",
    "\n",
    "def set_default(obj):\n",
    "    if isinstance(obj, set):\n",
    "        return list(obj)\n",
    "    raise TypeError"
   ]
  },
  {
   "cell_type": "code",
   "execution_count": null,
   "metadata": {},
   "outputs": [],
   "source": [
    "with open(\"./references/abbreviation_table.json\",\"w\") as f:\n",
    "    \n",
    "    json.dump(abrv_dict, f, indent = 4,default=set_default)\n",
    "    \n",
    "with open(\"./references/Incorrect_abbrev.json\", \"r\") as f:\n",
    "    \n",
    "    misidentified_abrv = json.load(f)\n",
    "    \n",
    "for key in misidentified_abrv.keys():\n",
    "    \n",
    "    abrv_dict.pop(key)\n",
    "    \n",
    "with open(\"./references/Abbreviation_corrections.json\", \"r\") as f:\n",
    "    \n",
    "    correction_abrv = json.load(f)\n",
    "    \n",
    "\n",
    "for key in abrv_dict:\n",
    "    \n",
    "    if key in correction_abrv:\n",
    "        \n",
    "        abrv_dict[key][\"LongForm\"] = correction_abrv[key]\n",
    "        \n",
    "with open(\"./references/abbreviation_table_processed.json\",\"w\") as f:\n",
    "    \n",
    "    json.dump(abrv_dict, f, indent = 4, default=set_default)"
   ]
  },
  {
   "cell_type": "code",
   "execution_count": null,
   "metadata": {},
   "outputs": [],
   "source": [
    "abrv_dict[\"PTSD\"][\"LongForm\"]"
   ]
  },
  {
   "cell_type": "code",
   "execution_count": null,
   "metadata": {},
   "outputs": [],
   "source": [
    "df_abrv = (pd.read_json(\"./references/abbreviation_table_processed.json\")\n",
    "           .T\n",
    "           .reset_index()\n",
    "           .rename(columns={\"index\":\"Term\"}))\n",
    "\n",
    "df_abrv.head()"
   ]
  },
  {
   "cell_type": "code",
   "execution_count": null,
   "metadata": {},
   "outputs": [],
   "source": [
    "df_abrv[df_abrv[\"Term\"] == \"PTSD\"].head()"
   ]
  },
  {
   "cell_type": "code",
   "execution_count": null,
   "metadata": {},
   "outputs": [],
   "source": [
    "#Validation\n",
    "df_abrv[df_abrv[\"Term\"] == \"IPT\"]"
   ]
  },
  {
   "cell_type": "markdown",
   "metadata": {
    "id": "ORbMnnLrMKHt"
   },
   "source": [
    "## Clean Data\n",
    "1.   Lowercase\n",
    "2.   Remove Punctuation\n",
    "3.   White Spaces\n",
    "\n"
   ]
  },
  {
   "cell_type": "code",
   "execution_count": null,
   "metadata": {},
   "outputs": [],
   "source": [
    "def unwanted_tokens(text):\n",
    "    \n",
    "    remove_ngrams = [\"large image page new\",\"image page new window\", \"page new window Download\",\"image page new\",\n",
    "                 \"page new window\",\"new window Download\",\"image page\",\"large image\",\"1TABLES figurestablefigure thumbnailtable\",\n",
    "                \"FIGUREStable\",\"DOWNLOAD\",\"Download\",\"et al\"]\n",
    "    \n",
    "    for ngram in remove_ngrams:\n",
    "        \n",
    "        text = text.replace(ngram,\"\")\n",
    "        \n",
    "    return text\n",
    "        \n",
    "    \n",
    "    "
   ]
  },
  {
   "cell_type": "code",
   "execution_count": null,
   "metadata": {},
   "outputs": [],
   "source": [
    "df_metadata[\"RNgrams\"] = (df_metadata[\"Content\"].apply(lambda text: unwanted_tokens(text)))"
   ]
  },
  {
   "cell_type": "code",
   "execution_count": null,
   "metadata": {},
   "outputs": [],
   "source": [
    "#Add to clean function: Different than a dash ord(8207) compared to 45 for normal dash\n",
    "print(ord(\"-\"),ord(\"—\"))"
   ]
  },
  {
   "cell_type": "code",
   "execution_count": null,
   "metadata": {
    "id": "n4e2oCslztSP"
   },
   "outputs": [],
   "source": [
    "#Helper Functions\n",
    "\n",
    "import string\n",
    "\n",
    "def clean_text(text):\n",
    "    \n",
    "    corpus =  text\n",
    "\n",
    "    puncs = string.punctuation + \"—\" #Different than a dash ord(8207) compared to 45 for normal dash\n",
    "\n",
    "    for punc in puncs:\n",
    "        \n",
    "        corpus = corpus.replace(punc,\" \")\n",
    "        \n",
    "    \n",
    "    remove_extra_whitespaces = [token.strip() for token in corpus.split()]\n",
    "\n",
    "    return \" \".join(remove_extra_whitespaces).replace('\"',\"\").replace(\"'\",\"\").replace(\"’\",\"\")\n",
    "\n",
    "\n",
    "\n",
    "def convert_abbreviations(text):\n",
    "    \n",
    "    corpus = text\n",
    "\n",
    "    for abrv in abrv_dict.keys():\n",
    "\n",
    "        corpus = corpus.replace(str(abrv),abrv_dict[str(abrv)][\"LongForm\"])\n",
    "\n",
    "\n",
    "    return corpus\n",
    "\n",
    "\n",
    "\n",
    "#https://stackoverflow.com/questions/38291313/split-list-from-text-into-ngrams-in-python\n",
    "def ngrams(text, n):\n",
    "    words = text.split()\n",
    "    return [words[i:i+n] for i in range(len(words))]\n",
    "            \n",
    "            "
   ]
  },
  {
   "cell_type": "code",
   "execution_count": null,
   "metadata": {
    "colab": {
     "base_uri": "https://localhost:8080/",
     "height": 698
    },
    "id": "4Jv9Eppztgp2",
    "outputId": "788e6b53-12c7-485a-ca8d-3c483c2951fc",
    "scrolled": true
   },
   "outputs": [],
   "source": [
    "df_metadata[\"RNgrams_LongForm\"] = df_metadata[\"RNgrams\"].apply(lambda text: convert_abbreviations(text))\n",
    "\n",
    "df_metadata[\"RNgrams_LongForm_Clean_Content\"] = df_metadata[\"RNgrams_LongForm\"].apply(lambda text: clean_text(text))\n",
    "\n",
    "df_metadata[\"RNgrams_LongForm_Clean_Content_Length\"] = df_metadata[\"RNgrams_LongForm_Clean_Content\"].apply(lambda text: len(text))\n",
    "\n",
    "df_metadata.head()"
   ]
  },
  {
   "cell_type": "markdown",
   "metadata": {
    "id": "bqRBidB3ABKj"
   },
   "source": [
    "## Lemmatization"
   ]
  },
  {
   "cell_type": "code",
   "execution_count": null,
   "metadata": {},
   "outputs": [],
   "source": [
    "corpus = df_metadata[\"RNgrams_LongForm_Clean_Content\"]\n",
    "\n",
    "docs = list(nlp.pipe(corpus,disable=[\"ner\",\"parser\",\"textcat\"]))"
   ]
  },
  {
   "cell_type": "code",
   "execution_count": null,
   "metadata": {
    "id": "GvTpqhRy4ssR"
   },
   "outputs": [],
   "source": [
    "lemmma_tokens = []\n",
    "\n",
    "\n",
    "for index, doc in enumerate(docs):\n",
    "\n",
    "        target_document = [token.lemma_ for token in doc]\n",
    "        \n",
    "        td_string = \" \".join(target_document)\n",
    "        \n",
    "            \n",
    "        lemmma_tokens.append(td_string)"
   ]
  },
  {
   "cell_type": "code",
   "execution_count": null,
   "metadata": {
    "id": "Mjrg1mAB_e49"
   },
   "outputs": [],
   "source": [
    "#Ensure lemma_corpus has same amount of documents as corpus\n",
    "assert len(lemmma_tokens) == len(corpus)"
   ]
  },
  {
   "cell_type": "code",
   "execution_count": null,
   "metadata": {
    "colab": {
     "base_uri": "https://localhost:8080/",
     "height": 698
    },
    "id": "wo-x0PnmlWlr",
    "outputId": "389184e8-3297-421a-e396-4a62ba615d32"
   },
   "outputs": [],
   "source": [
    "df_metadata[\"RNgrams_LongForm_Clean_Content_Lemma\"] = lemmma_tokens\n",
    "\n",
    "df_metadata.head()"
   ]
  },
  {
   "cell_type": "markdown",
   "metadata": {},
   "source": [
    "# Column Below is the Final Transformation"
   ]
  },
  {
   "cell_type": "code",
   "execution_count": null,
   "metadata": {},
   "outputs": [],
   "source": [
    "def remove_stopwords(text):\n",
    "\n",
    "    keep_tokens = []\n",
    "    \n",
    "    tokens = text.lower().split(\" \")\n",
    "    \n",
    "    for token in tokens:\n",
    "        \n",
    "        if token not in nlp.Defaults.stop_words:\n",
    "            \n",
    "            keep_tokens.append(token)\n",
    "            \n",
    "    return \" \".join(keep_tokens)"
   ]
  },
  {
   "cell_type": "code",
   "execution_count": null,
   "metadata": {},
   "outputs": [],
   "source": [
    "df_metadata[\"RNgrams_LongForm_Clean_Content_Lemma_Stopwords\"] = df_metadata[\"RNgrams_LongForm_Clean_Content_Lemma\"].apply(lambda text: remove_stopwords(text))\n",
    "\n",
    "df_metadata[\"Clean_Content\"] = df_metadata[\"RNgrams_LongForm_Clean_Content_Lemma_Stopwords\"]"
   ]
  },
  {
   "cell_type": "code",
   "execution_count": null,
   "metadata": {
    "id": "yxdzIQIWbg_K"
   },
   "outputs": [],
   "source": [
    "df_metadata[\"Classification\"] = (df_metadata[\"Date Published\"].apply(lambda pub_date: \"Covid\" \n",
    "                                                                     if pub_date >= 2020 else \"Pre-Covid\" ))"
   ]
  },
  {
   "cell_type": "code",
   "execution_count": null,
   "metadata": {
    "colab": {
     "base_uri": "https://localhost:8080/",
     "height": 698
    },
    "id": "G5qcwa4Ab6w_",
    "outputId": "1fdf0f33-4a2f-4f5a-9eca-0192119dfd2a"
   },
   "outputs": [],
   "source": [
    "df_metadata.head()"
   ]
  },
  {
   "cell_type": "code",
   "execution_count": null,
   "metadata": {
    "id": "mR_OfGnUl-q_"
   },
   "outputs": [],
   "source": [
    "df_metadata.to_csv(\"./Data/processed/Telehealth.csv\",index=False)"
   ]
  },
  {
   "cell_type": "markdown",
   "metadata": {
    "id": "NnznkqhnF8ip"
   },
   "source": [
    "# Trouble Shooting"
   ]
  },
  {
   "cell_type": "markdown",
   "metadata": {
    "id": "Q1z5q_7sMdqK"
   },
   "source": [
    "## Dispersion Plot - Based on Clean_Dataset (Not including abbreviation substitution)"
   ]
  },
  {
   "cell_type": "code",
   "execution_count": null,
   "metadata": {
    "colab": {
     "base_uri": "https://localhost:8080/"
    },
    "id": "LkMl6yCXFcu7",
    "outputId": "96d6a496-684e-42b4-d316-5764d1ae2fe6"
   },
   "outputs": [],
   "source": [
    "from yellowbrick.text import DispersionPlot\n",
    "import sklearn.metrics"
   ]
  },
  {
   "cell_type": "code",
   "execution_count": null,
   "metadata": {
    "colab": {
     "base_uri": "https://localhost:8080/",
     "height": 418
    },
    "id": "H2_V67iQMfPT",
    "outputId": "93a10c86-d3de-48da-9f19-76610dd210a7",
    "scrolled": false
   },
   "outputs": [],
   "source": [
    "#Troubleshooting tokens to remove\n",
    "dispersion_text = [doc.split() for doc in df_metadata[\"RNgrams_LongForm_Clean_Content_Lemma_Stopwords\"]]\n",
    "\n",
    "other_words = [token.split() for token in ['binformation']]\n",
    "\n",
    "other_words_1D = np.unique(np.concatenate(other_words).reshape(-1))\n",
    "\n",
    "target_words = other_words_1D\n",
    "\n",
    "#Create the visualizer and draw the plot\n",
    "visualizer = DispersionPlot(target_words,ignore_case=False)\n",
    "_ = visualizer.fit(dispersion_text)"
   ]
  },
  {
   "cell_type": "code",
   "execution_count": null,
   "metadata": {},
   "outputs": [],
   "source": [
    "df_metadata.head()"
   ]
  },
  {
   "cell_type": "code",
   "execution_count": null,
   "metadata": {},
   "outputs": [],
   "source": [
    "ts_corpus = \" \".join(df_metadata[\"RNgrams_LongForm_Clean_Content_Lemma\"])"
   ]
  },
  {
   "cell_type": "code",
   "execution_count": null,
   "metadata": {},
   "outputs": [],
   "source": [
    "ts_corpus[ts_corpus.find(\"binformation\")-20:ts_corpus.find(\"binformation\")+20]"
   ]
  },
  {
   "cell_type": "code",
   "execution_count": null,
   "metadata": {},
   "outputs": [],
   "source": [
    "compare_corpus = \"\".join(df_metadata[\"RNgrams_LongForm_Clean_Content\"])"
   ]
  },
  {
   "cell_type": "code",
   "execution_count": null,
   "metadata": {},
   "outputs": [],
   "source": [
    "compare_corpus[compare_corpus.find(\"information\")-20:compare_corpus.find(\"information\")+20]"
   ]
  },
  {
   "cell_type": "code",
   "execution_count": null,
   "metadata": {},
   "outputs": [],
   "source": []
  },
  {
   "cell_type": "code",
   "execution_count": null,
   "metadata": {},
   "outputs": [],
   "source": [
    "ts_corpus[1336450:ts_corpus.find(\"binformation\")+50]"
   ]
  },
  {
   "cell_type": "code",
   "execution_count": null,
   "metadata": {},
   "outputs": [],
   "source": [
    "ts_corpus[1336450:1336458+20]"
   ]
  },
  {
   "cell_type": "code",
   "execution_count": null,
   "metadata": {},
   "outputs": [],
   "source": [
    "ts_corpus.find(\"information technology\")"
   ]
  },
  {
   "cell_type": "code",
   "execution_count": null,
   "metadata": {},
   "outputs": [],
   "source": [
    "ts_corpus[160200:160300]"
   ]
  },
  {
   "cell_type": "code",
   "execution_count": null,
   "metadata": {
    "id": "nByIiTviLfW1"
   },
   "outputs": [],
   "source": [
    "#Troubleshooting\n",
    "\n",
    "#df_metadata[\"Clean_Content\"].iloc[38].find(\"TMH\")\n",
    "\n",
    "#section = df_metadata[\"Clean_Content\"].iloc[38]\n",
    "\n",
    "#str(section)[1600:1750]"
   ]
  },
  {
   "cell_type": "code",
   "execution_count": null,
   "metadata": {
    "colab": {
     "base_uri": "https://localhost:8080/"
    },
    "id": "wmlDFN51GG53",
    "outputId": "1163ca91-5573-4342-d1ee-99b30683ddb7"
   },
   "outputs": [],
   "source": [
    "#Make sure spacy is not splitting on - or else terms may be lost such as e-mental\n",
    "temp_doc = nlp(\"forensic e-mental Mr. Davis provider provides providence\")\n",
    "#Lemma Removes e-mental\n",
    "[(token.text,token.lemma_)for token in temp_doc]"
   ]
  },
  {
   "cell_type": "code",
   "execution_count": null,
   "metadata": {
    "id": "Ubc0y9wHwPnD"
   },
   "outputs": [],
   "source": [
    "#df_metadata[\"emental_Found\"] = df_metadata[\"Content\"].apply(lambda text: text.find(\"forensic emental health\"))"
   ]
  },
  {
   "cell_type": "code",
   "execution_count": null,
   "metadata": {
    "id": "QgItK37vFv_O"
   },
   "outputs": [],
   "source": []
  }
 ],
 "metadata": {
  "colab": {
   "collapsed_sections": [],
   "name": "Wrangling.ipynb",
   "provenance": [],
   "toc_visible": true
  },
  "kernelspec": {
   "display_name": "Python 3",
   "language": "python",
   "name": "python3"
  },
  "language_info": {
   "codemirror_mode": {
    "name": "ipython",
    "version": 3
   },
   "file_extension": ".py",
   "mimetype": "text/x-python",
   "name": "python",
   "nbconvert_exporter": "python",
   "pygments_lexer": "ipython3",
   "version": "3.7.6"
  }
 },
 "nbformat": 4,
 "nbformat_minor": 1
}
