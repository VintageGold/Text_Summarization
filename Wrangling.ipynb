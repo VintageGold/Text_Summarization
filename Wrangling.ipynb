{
  "nbformat": 4,
  "nbformat_minor": 0,
  "metadata": {
    "colab": {
      "name": "Wrangling.ipynb",
      "provenance": [],
      "collapsed_sections": [],
      "toc_visible": true,
      "include_colab_link": true
    },
    "kernelspec": {
      "name": "python3",
      "display_name": "Python 3"
    }
  },
  "cells": [
    {
      "cell_type": "markdown",
      "metadata": {
        "id": "view-in-github",
        "colab_type": "text"
      },
      "source": [
        "<a href=\"https://colab.research.google.com/github/VintageGold/Text_Summarization/blob/main/Wrangling.ipynb\" target=\"_parent\"><img src=\"https://colab.research.google.com/assets/colab-badge.svg\" alt=\"Open In Colab\"/></a>"
      ]
    },
    {
      "cell_type": "markdown",
      "metadata": {
        "id": "GKNT0GwwG1Aa"
      },
      "source": [
        "# Runtime ≈\t1 minute\n",
        "\n",
        "\n"
      ]
    },
    {
      "cell_type": "markdown",
      "metadata": {
        "id": "RZ-i-lY2HfTK"
      },
      "source": [
        "# This notebook completes the process of wrangling the text for EDA and other future analyses.\n",
        "\n",
        "# The processing is the following order:\n",
        "*   Scispacy - Acronyms\n",
        "*   General Cleaning\n",
        "* Spacy - Lemmatization"
      ]
    },
    {
      "cell_type": "code",
      "metadata": {
        "id": "bebIsaEQGwho",
        "colab": {
          "base_uri": "https://localhost:8080/"
        },
        "outputId": "2d82816d-902e-44dc-965a-69c2dcb7e5d3"
      },
      "source": [
        "try:\n",
        "    from google.colab import drive\n",
        "\n",
        "    drive.mount('./drive/')\n",
        "\n",
        "    %cd drive/My \\ Drive/Text_Summarization\n",
        "\n",
        "except:\n",
        "    print(\"No Colab Environment\")"
      ],
      "execution_count": 1,
      "outputs": [
        {
          "output_type": "stream",
          "text": [
            "Drive already mounted at ./drive/; to attempt to forcibly remount, call drive.mount(\"./drive/\", force_remount=True).\n",
            "/content/drive/My  Drive/Text_Summarization\n"
          ],
          "name": "stdout"
        }
      ]
    },
    {
      "cell_type": "code",
      "metadata": {
        "id": "QXb-LPeB0Zn3"
      },
      "source": [
        "import json\n",
        "import pandas as pd\n",
        "import numpy as np\n",
        "import re\n",
        "import seaborn as sns\n",
        "\n",
        "import matplotlib\n",
        "\n",
        "matplotlib.rcParams[\"figure.figsize\"] = (20, 7)"
      ],
      "execution_count": 2,
      "outputs": []
    },
    {
      "cell_type": "markdown",
      "metadata": {
        "id": "RqSWrd99NNTI"
      },
      "source": [
        "# Load Data"
      ]
    },
    {
      "cell_type": "code",
      "metadata": {
        "id": "hT7KP5MwHVxN"
      },
      "source": [
        "with open(\"./Data/raw/Telehealth_article_texts.txt\") as f:\n",
        "    #Skip header\n",
        "    for i in range(4):\n",
        "        next(f) \n",
        "    corpus = f.read()"
      ],
      "execution_count": 3,
      "outputs": []
    },
    {
      "cell_type": "code",
      "metadata": {
        "id": "KiVKRILyDt6N",
        "colab": {
          "base_uri": "https://localhost:8080/",
          "height": 189
        },
        "outputId": "0f805eac-670e-447e-abdc-de1329aba3b5"
      },
      "source": [
        "dict_articles = json.loads(corpus.replace(\"\\n\",\"\"))\n",
        "df_articles = pd.DataFrame.from_dict(dict_articles,orient=\"index\",columns=[\"Content\"]).reset_index().drop(columns=[\"index\"])\n",
        "\n",
        "df_articles.head()"
      ],
      "execution_count": 4,
      "outputs": [
        {
          "output_type": "execute_result",
          "data": {
            "text/html": [
              "<div>\n",
              "<style scoped>\n",
              "    .dataframe tbody tr th:only-of-type {\n",
              "        vertical-align: middle;\n",
              "    }\n",
              "\n",
              "    .dataframe tbody tr th {\n",
              "        vertical-align: top;\n",
              "    }\n",
              "\n",
              "    .dataframe thead th {\n",
              "        text-align: right;\n",
              "    }\n",
              "</style>\n",
              "<table border=\"1\" class=\"dataframe\">\n",
              "  <thead>\n",
              "    <tr style=\"text-align: right;\">\n",
              "      <th></th>\n",
              "      <th>Content</th>\n",
              "    </tr>\n",
              "  </thead>\n",
              "  <tbody>\n",
              "    <tr>\n",
              "      <th>0</th>\n",
              "      <td>Veterans face a variety of stressors related t...</td>\n",
              "    </tr>\n",
              "    <tr>\n",
              "      <th>1</th>\n",
              "      <td>The impact of the COVID-19 pandemic on the chi...</td>\n",
              "    </tr>\n",
              "    <tr>\n",
              "      <th>2</th>\n",
              "      <td>In November 2019, COVID-19—the infectious, hig...</td>\n",
              "    </tr>\n",
              "    <tr>\n",
              "      <th>3</th>\n",
              "      <td>Anxiety and depressive disorders are among the...</td>\n",
              "    </tr>\n",
              "    <tr>\n",
              "      <th>4</th>\n",
              "      <td>In mid-March, 2020, the authors—as well as the...</td>\n",
              "    </tr>\n",
              "  </tbody>\n",
              "</table>\n",
              "</div>"
            ],
            "text/plain": [
              "                                             Content\n",
              "0  Veterans face a variety of stressors related t...\n",
              "1  The impact of the COVID-19 pandemic on the chi...\n",
              "2  In November 2019, COVID-19—the infectious, hig...\n",
              "3  Anxiety and depressive disorders are among the...\n",
              "4  In mid-March, 2020, the authors—as well as the..."
            ]
          },
          "metadata": {
            "tags": []
          },
          "execution_count": 4
        }
      ]
    },
    {
      "cell_type": "code",
      "metadata": {
        "id": "tXDvrlaEqH3V",
        "colab": {
          "base_uri": "https://localhost:8080/",
          "height": 316
        },
        "outputId": "e5f7d625-5611-433d-e3dc-77b2f33363e2"
      },
      "source": [
        "df_metadata = pd.read_excel(\"./Data/raw/Metadata_telehealth_article_key_2.25.xlsx\",sheet_name=\"Tied_to_Notebook\",index_col=\"Index\")\n",
        "\n",
        "df_metadata.head()"
      ],
      "execution_count": 5,
      "outputs": [
        {
          "output_type": "execute_result",
          "data": {
            "text/html": [
              "<div>\n",
              "<style scoped>\n",
              "    .dataframe tbody tr th:only-of-type {\n",
              "        vertical-align: middle;\n",
              "    }\n",
              "\n",
              "    .dataframe tbody tr th {\n",
              "        vertical-align: top;\n",
              "    }\n",
              "\n",
              "    .dataframe thead th {\n",
              "        text-align: right;\n",
              "    }\n",
              "</style>\n",
              "<table border=\"1\" class=\"dataframe\">\n",
              "  <thead>\n",
              "    <tr style=\"text-align: right;\">\n",
              "      <th></th>\n",
              "      <th>Journal Title</th>\n",
              "      <th>Article Title</th>\n",
              "      <th>Date Published</th>\n",
              "      <th>Authors</th>\n",
              "      <th>Abstract</th>\n",
              "      <th>Keywords</th>\n",
              "      <th>Citation</th>\n",
              "    </tr>\n",
              "    <tr>\n",
              "      <th>Index</th>\n",
              "      <th></th>\n",
              "      <th></th>\n",
              "      <th></th>\n",
              "      <th></th>\n",
              "      <th></th>\n",
              "      <th></th>\n",
              "      <th></th>\n",
              "    </tr>\n",
              "  </thead>\n",
              "  <tbody>\n",
              "    <tr>\n",
              "      <th>0</th>\n",
              "      <td>Psychological Servies</td>\n",
              "      <td>The Effectiveness of Telepsychology With Veter...</td>\n",
              "      <td>2021</td>\n",
              "      <td>Michael J. McClellan; Richard Osbaldiston; Ron...</td>\n",
              "      <td>Veterans face a variety of stressors due to th...</td>\n",
              "      <td>KEYWORDS:\\n\\ntelepsychology, meta-analysis, ve...</td>\n",
              "      <td>McClellan, M. J., Osbaldiston, R., Wu, R., Yea...</td>\n",
              "    </tr>\n",
              "    <tr>\n",
              "      <th>1</th>\n",
              "      <td>Psychology, Public Policy, and Law</td>\n",
              "      <td>Making the Case for Videoconferencing and Remo...</td>\n",
              "      <td>2021</td>\n",
              "      <td>Milfred D. Dale; Desiree Smith</td>\n",
              "      <td>The COVID-19 pandemic and its requirements for...</td>\n",
              "      <td>KEYWORDS:\\n\\nremote child custody evaluations,...</td>\n",
              "      <td>Dale, M. D., &amp; Smith, D. (2021). Making the ca...</td>\n",
              "    </tr>\n",
              "    <tr>\n",
              "      <th>2</th>\n",
              "      <td>Psychology, Public Policy, and Law</td>\n",
              "      <td>Forensic E-Mental Health: Review, Research Pri...</td>\n",
              "      <td>2021</td>\n",
              "      <td>Lauren E. Kois; Jennifer Cox; Ashley T. Peck</td>\n",
              "      <td>Forensic e-mental health is an area of psychol...</td>\n",
              "      <td>KEYWORDS:\\n\\nforensic e-mental health, telehea...</td>\n",
              "      <td>Kois, L. E., Cox, J., &amp; Peck, A. T. (2021). Fo...</td>\n",
              "    </tr>\n",
              "    <tr>\n",
              "      <th>3</th>\n",
              "      <td>Training and Education in Professional Psychology</td>\n",
              "      <td>Moving Toward a New Era of Telepsychology in U...</td>\n",
              "      <td>2021</td>\n",
              "      <td>Allison L. Baier; Sarah Danzo</td>\n",
              "      <td>Many university training clinics are facing nu...</td>\n",
              "      <td>KEYWORDS:\\n\\neducation and training, telepsych...</td>\n",
              "      <td>Baier, A. L., &amp; Danzo, S. (2021). Moving towar...</td>\n",
              "    </tr>\n",
              "    <tr>\n",
              "      <th>4</th>\n",
              "      <td>Practice Innovations</td>\n",
              "      <td>Navigating Changes in the Physical and Psychol...</td>\n",
              "      <td>2021</td>\n",
              "      <td>Liat Shklarski; Allison Abrams; Elana Bakst</td>\n",
              "      <td>The emergence of the Covid-19 pandemic at the ...</td>\n",
              "      <td>KEYWORDS:\\n\\nremote psychotherapy, Covid-19, p...</td>\n",
              "      <td>Shklarski, L., Abrams, A., &amp; Bakst, E. (2021)....</td>\n",
              "    </tr>\n",
              "  </tbody>\n",
              "</table>\n",
              "</div>"
            ],
            "text/plain": [
              "                                           Journal Title  ...                                           Citation\n",
              "Index                                                     ...                                                   \n",
              "0                                  Psychological Servies  ...  McClellan, M. J., Osbaldiston, R., Wu, R., Yea...\n",
              "1                     Psychology, Public Policy, and Law  ...  Dale, M. D., & Smith, D. (2021). Making the ca...\n",
              "2                     Psychology, Public Policy, and Law  ...  Kois, L. E., Cox, J., & Peck, A. T. (2021). Fo...\n",
              "3      Training and Education in Professional Psychology  ...  Baier, A. L., & Danzo, S. (2021). Moving towar...\n",
              "4                                   Practice Innovations  ...  Shklarski, L., Abrams, A., & Bakst, E. (2021)....\n",
              "\n",
              "[5 rows x 7 columns]"
            ]
          },
          "metadata": {
            "tags": []
          },
          "execution_count": 5
        }
      ]
    },
    {
      "cell_type": "code",
      "metadata": {
        "id": "x2tvymjNqryb",
        "colab": {
          "base_uri": "https://localhost:8080/",
          "height": 316
        },
        "outputId": "92df1c1b-010e-4006-c89c-e21ccbaa0e92"
      },
      "source": [
        "#Ensure both Indexes are of same type before merge\n",
        "assert df_metadata.index.dtype == df_articles.index.dtype\n",
        "\n",
        "#Merge dataframes\n",
        "df_metadata = df_metadata.merge(df_articles,left_index=True,right_index=True,how=\"left\")\n",
        "\n",
        "df_metadata.head()"
      ],
      "execution_count": 6,
      "outputs": [
        {
          "output_type": "execute_result",
          "data": {
            "text/html": [
              "<div>\n",
              "<style scoped>\n",
              "    .dataframe tbody tr th:only-of-type {\n",
              "        vertical-align: middle;\n",
              "    }\n",
              "\n",
              "    .dataframe tbody tr th {\n",
              "        vertical-align: top;\n",
              "    }\n",
              "\n",
              "    .dataframe thead th {\n",
              "        text-align: right;\n",
              "    }\n",
              "</style>\n",
              "<table border=\"1\" class=\"dataframe\">\n",
              "  <thead>\n",
              "    <tr style=\"text-align: right;\">\n",
              "      <th></th>\n",
              "      <th>Journal Title</th>\n",
              "      <th>Article Title</th>\n",
              "      <th>Date Published</th>\n",
              "      <th>Authors</th>\n",
              "      <th>Abstract</th>\n",
              "      <th>Keywords</th>\n",
              "      <th>Citation</th>\n",
              "      <th>Content</th>\n",
              "    </tr>\n",
              "    <tr>\n",
              "      <th>Index</th>\n",
              "      <th></th>\n",
              "      <th></th>\n",
              "      <th></th>\n",
              "      <th></th>\n",
              "      <th></th>\n",
              "      <th></th>\n",
              "      <th></th>\n",
              "      <th></th>\n",
              "    </tr>\n",
              "  </thead>\n",
              "  <tbody>\n",
              "    <tr>\n",
              "      <th>0</th>\n",
              "      <td>Psychological Servies</td>\n",
              "      <td>The Effectiveness of Telepsychology With Veter...</td>\n",
              "      <td>2021</td>\n",
              "      <td>Michael J. McClellan; Richard Osbaldiston; Ron...</td>\n",
              "      <td>Veterans face a variety of stressors due to th...</td>\n",
              "      <td>KEYWORDS:\\n\\ntelepsychology, meta-analysis, ve...</td>\n",
              "      <td>McClellan, M. J., Osbaldiston, R., Wu, R., Yea...</td>\n",
              "      <td>Veterans face a variety of stressors related t...</td>\n",
              "    </tr>\n",
              "    <tr>\n",
              "      <th>1</th>\n",
              "      <td>Psychology, Public Policy, and Law</td>\n",
              "      <td>Making the Case for Videoconferencing and Remo...</td>\n",
              "      <td>2021</td>\n",
              "      <td>Milfred D. Dale; Desiree Smith</td>\n",
              "      <td>The COVID-19 pandemic and its requirements for...</td>\n",
              "      <td>KEYWORDS:\\n\\nremote child custody evaluations,...</td>\n",
              "      <td>Dale, M. D., &amp; Smith, D. (2021). Making the ca...</td>\n",
              "      <td>The impact of the COVID-19 pandemic on the chi...</td>\n",
              "    </tr>\n",
              "    <tr>\n",
              "      <th>2</th>\n",
              "      <td>Psychology, Public Policy, and Law</td>\n",
              "      <td>Forensic E-Mental Health: Review, Research Pri...</td>\n",
              "      <td>2021</td>\n",
              "      <td>Lauren E. Kois; Jennifer Cox; Ashley T. Peck</td>\n",
              "      <td>Forensic e-mental health is an area of psychol...</td>\n",
              "      <td>KEYWORDS:\\n\\nforensic e-mental health, telehea...</td>\n",
              "      <td>Kois, L. E., Cox, J., &amp; Peck, A. T. (2021). Fo...</td>\n",
              "      <td>In November 2019, COVID-19—the infectious, hig...</td>\n",
              "    </tr>\n",
              "    <tr>\n",
              "      <th>3</th>\n",
              "      <td>Training and Education in Professional Psychology</td>\n",
              "      <td>Moving Toward a New Era of Telepsychology in U...</td>\n",
              "      <td>2021</td>\n",
              "      <td>Allison L. Baier; Sarah Danzo</td>\n",
              "      <td>Many university training clinics are facing nu...</td>\n",
              "      <td>KEYWORDS:\\n\\neducation and training, telepsych...</td>\n",
              "      <td>Baier, A. L., &amp; Danzo, S. (2021). Moving towar...</td>\n",
              "      <td>Anxiety and depressive disorders are among the...</td>\n",
              "    </tr>\n",
              "    <tr>\n",
              "      <th>4</th>\n",
              "      <td>Practice Innovations</td>\n",
              "      <td>Navigating Changes in the Physical and Psychol...</td>\n",
              "      <td>2021</td>\n",
              "      <td>Liat Shklarski; Allison Abrams; Elana Bakst</td>\n",
              "      <td>The emergence of the Covid-19 pandemic at the ...</td>\n",
              "      <td>KEYWORDS:\\n\\nremote psychotherapy, Covid-19, p...</td>\n",
              "      <td>Shklarski, L., Abrams, A., &amp; Bakst, E. (2021)....</td>\n",
              "      <td>In mid-March, 2020, the authors—as well as the...</td>\n",
              "    </tr>\n",
              "  </tbody>\n",
              "</table>\n",
              "</div>"
            ],
            "text/plain": [
              "                                           Journal Title  ...                                            Content\n",
              "Index                                                     ...                                                   \n",
              "0                                  Psychological Servies  ...  Veterans face a variety of stressors related t...\n",
              "1                     Psychology, Public Policy, and Law  ...  The impact of the COVID-19 pandemic on the chi...\n",
              "2                     Psychology, Public Policy, and Law  ...  In November 2019, COVID-19—the infectious, hig...\n",
              "3      Training and Education in Professional Psychology  ...  Anxiety and depressive disorders are among the...\n",
              "4                                   Practice Innovations  ...  In mid-March, 2020, the authors—as well as the...\n",
              "\n",
              "[5 rows x 8 columns]"
            ]
          },
          "metadata": {
            "tags": []
          },
          "execution_count": 6
        }
      ]
    },
    {
      "cell_type": "code",
      "metadata": {
        "colab": {
          "base_uri": "https://localhost:8080/"
        },
        "id": "2glsMI-OVcnc",
        "outputId": "267f2515-f8ca-4a6b-d1eb-f2df7ba35068"
      },
      "source": [
        "df_metadata.dtypes"
      ],
      "execution_count": 7,
      "outputs": [
        {
          "output_type": "execute_result",
          "data": {
            "text/plain": [
              "Journal Title     object\n",
              "Article Title     object\n",
              "Date Published     int64\n",
              "Authors           object\n",
              "Abstract          object\n",
              "Keywords          object\n",
              "Citation          object\n",
              "Content           object\n",
              "dtype: object"
            ]
          },
          "metadata": {
            "tags": []
          },
          "execution_count": 7
        }
      ]
    },
    {
      "cell_type": "code",
      "metadata": {
        "id": "w9IzilPcWarG"
      },
      "source": [
        "df_metadata[\"Content_Length\"] = df_metadata[\"Content\"].apply(lambda text: len(text))\n",
        "df_metadata[\"Abstract_Length\"] = df_metadata[\"Abstract\"].apply(lambda text: len(str(text)))\n",
        "df_metadata[\"Parsed_Keywords\"] = df_metadata[\"Keywords\"].apply(lambda keywords: str(keywords).replace(\"\\n\\n\",\" \").split()[1:])\n",
        "df_metadata[\"Parsed_Keywords_Length\"] = df_metadata[\"Parsed_Keywords\"].apply(lambda text: len(text))\n",
        "\n",
        "\n",
        "#Have an idea of reference amount per document\n",
        "df_metadata[\"et_al_Count\"] = df_metadata[\"Content\"].apply(lambda text: len(list(re.finditer(\"et al\",text))))\n"
      ],
      "execution_count": 8,
      "outputs": []
    },
    {
      "cell_type": "code",
      "metadata": {
        "id": "rkzLeslUaqnF"
      },
      "source": [
        "#troubleshooting\n",
        "#emental health\n",
        "\n",
        "#df_metadata[\"Content\"].iloc[2][4633:5000]\n",
        "#df_metadata[\"Clean_Content\"].iloc[2][4633:5000]"
      ],
      "execution_count": 9,
      "outputs": []
    },
    {
      "cell_type": "code",
      "metadata": {
        "id": "lMEIgDRt72YG"
      },
      "source": [
        "df_metadata_pre_covid = df_metadata[df_metadata[\"Date Published\"] < 2020]\n",
        "df_metadata_post_covid = df_metadata[df_metadata[\"Date Published\"] >= 2020]"
      ],
      "execution_count": 10,
      "outputs": []
    },
    {
      "cell_type": "markdown",
      "metadata": {
        "id": "wRt-wK9TawB_"
      },
      "source": [
        "## Acronyms - Include as Vocabulary for Paper"
      ]
    },
    {
      "cell_type": "code",
      "metadata": {
        "id": "xZrRnJN-jEkD",
        "colab": {
          "base_uri": "https://localhost:8080/"
        },
        "outputId": "04a50ad3-5caf-43ac-9158-ef85f2f19856"
      },
      "source": [
        "#Sci Spacy\n",
        "!pip install scispacy\n",
        "!pip install https://s3-us-west-2.amazonaws.com/ai2-s2-scispacy/releases/v0.4.0/en_core_sci_sm-0.4.0.tar.gz\n",
        "\n",
        "#Spacy org\n",
        "!pip install spacy\n",
        "!python3 -m spacy download en_core_web_sm\n",
        "\n",
        "\n"
      ],
      "execution_count": 11,
      "outputs": [
        {
          "output_type": "stream",
          "text": [
            "Requirement already satisfied: scispacy in /usr/local/lib/python3.7/dist-packages (0.4.0)\n",
            "Requirement already satisfied: requests<3.0.0,>=2.0.0 in /usr/local/lib/python3.7/dist-packages (from scispacy) (2.23.0)\n",
            "Requirement already satisfied: conllu in /usr/local/lib/python3.7/dist-packages (from scispacy) (4.4)\n",
            "Requirement already satisfied: numpy in /usr/local/lib/python3.7/dist-packages (from scispacy) (1.19.5)\n",
            "Requirement already satisfied: spacy<3.1.0,>=3.0.0 in /usr/local/lib/python3.7/dist-packages (from scispacy) (3.0.6)\n",
            "Requirement already satisfied: pysbd in /usr/local/lib/python3.7/dist-packages (from scispacy) (0.3.4)\n",
            "Requirement already satisfied: scikit-learn>=0.20.3 in /usr/local/lib/python3.7/dist-packages (from scispacy) (0.22.2.post1)\n",
            "Requirement already satisfied: joblib in /usr/local/lib/python3.7/dist-packages (from scispacy) (1.0.1)\n",
            "Requirement already satisfied: nmslib>=1.7.3.6 in /usr/local/lib/python3.7/dist-packages (from scispacy) (2.1.1)\n",
            "Requirement already satisfied: certifi>=2017.4.17 in /usr/local/lib/python3.7/dist-packages (from requests<3.0.0,>=2.0.0->scispacy) (2020.12.5)\n",
            "Requirement already satisfied: idna<3,>=2.5 in /usr/local/lib/python3.7/dist-packages (from requests<3.0.0,>=2.0.0->scispacy) (2.10)\n",
            "Requirement already satisfied: urllib3!=1.25.0,!=1.25.1,<1.26,>=1.21.1 in /usr/local/lib/python3.7/dist-packages (from requests<3.0.0,>=2.0.0->scispacy) (1.24.3)\n",
            "Requirement already satisfied: chardet<4,>=3.0.2 in /usr/local/lib/python3.7/dist-packages (from requests<3.0.0,>=2.0.0->scispacy) (3.0.4)\n",
            "Requirement already satisfied: srsly<3.0.0,>=2.4.1 in /usr/local/lib/python3.7/dist-packages (from spacy<3.1.0,>=3.0.0->scispacy) (2.4.1)\n",
            "Requirement already satisfied: thinc<8.1.0,>=8.0.3 in /usr/local/lib/python3.7/dist-packages (from spacy<3.1.0,>=3.0.0->scispacy) (8.0.3)\n",
            "Requirement already satisfied: preshed<3.1.0,>=3.0.2 in /usr/local/lib/python3.7/dist-packages (from spacy<3.1.0,>=3.0.0->scispacy) (3.0.5)\n",
            "Requirement already satisfied: pathy>=0.3.5 in /usr/local/lib/python3.7/dist-packages (from spacy<3.1.0,>=3.0.0->scispacy) (0.5.2)\n",
            "Requirement already satisfied: pydantic<1.8.0,>=1.7.1 in /usr/local/lib/python3.7/dist-packages (from spacy<3.1.0,>=3.0.0->scispacy) (1.7.3)\n",
            "Requirement already satisfied: wasabi<1.1.0,>=0.8.1 in /usr/local/lib/python3.7/dist-packages (from spacy<3.1.0,>=3.0.0->scispacy) (0.8.2)\n",
            "Requirement already satisfied: spacy-legacy<3.1.0,>=3.0.4 in /usr/local/lib/python3.7/dist-packages (from spacy<3.1.0,>=3.0.0->scispacy) (3.0.5)\n",
            "Requirement already satisfied: catalogue<2.1.0,>=2.0.3 in /usr/local/lib/python3.7/dist-packages (from spacy<3.1.0,>=3.0.0->scispacy) (2.0.3)\n",
            "Requirement already satisfied: packaging>=20.0 in /usr/local/lib/python3.7/dist-packages (from spacy<3.1.0,>=3.0.0->scispacy) (20.9)\n",
            "Requirement already satisfied: blis<0.8.0,>=0.4.0 in /usr/local/lib/python3.7/dist-packages (from spacy<3.1.0,>=3.0.0->scispacy) (0.4.1)\n",
            "Requirement already satisfied: typing-extensions<4.0.0.0,>=3.7.4; python_version < \"3.8\" in /usr/local/lib/python3.7/dist-packages (from spacy<3.1.0,>=3.0.0->scispacy) (3.7.4.3)\n",
            "Requirement already satisfied: typer<0.4.0,>=0.3.0 in /usr/local/lib/python3.7/dist-packages (from spacy<3.1.0,>=3.0.0->scispacy) (0.3.2)\n",
            "Requirement already satisfied: setuptools in /usr/local/lib/python3.7/dist-packages (from spacy<3.1.0,>=3.0.0->scispacy) (56.0.0)\n",
            "Requirement already satisfied: tqdm<5.0.0,>=4.38.0 in /usr/local/lib/python3.7/dist-packages (from spacy<3.1.0,>=3.0.0->scispacy) (4.41.1)\n",
            "Requirement already satisfied: cymem<2.1.0,>=2.0.2 in /usr/local/lib/python3.7/dist-packages (from spacy<3.1.0,>=3.0.0->scispacy) (2.0.5)\n",
            "Requirement already satisfied: jinja2 in /usr/local/lib/python3.7/dist-packages (from spacy<3.1.0,>=3.0.0->scispacy) (2.11.3)\n",
            "Requirement already satisfied: murmurhash<1.1.0,>=0.28.0 in /usr/local/lib/python3.7/dist-packages (from spacy<3.1.0,>=3.0.0->scispacy) (1.0.5)\n",
            "Requirement already satisfied: scipy>=0.17.0 in /usr/local/lib/python3.7/dist-packages (from scikit-learn>=0.20.3->scispacy) (1.4.1)\n",
            "Requirement already satisfied: pybind11<2.6.2 in /usr/local/lib/python3.7/dist-packages (from nmslib>=1.7.3.6->scispacy) (2.6.1)\n",
            "Requirement already satisfied: psutil in /usr/local/lib/python3.7/dist-packages (from nmslib>=1.7.3.6->scispacy) (5.4.8)\n",
            "Requirement already satisfied: smart-open<4.0.0,>=2.2.0 in /usr/local/lib/python3.7/dist-packages (from pathy>=0.3.5->spacy<3.1.0,>=3.0.0->scispacy) (3.0.0)\n",
            "Requirement already satisfied: zipp>=0.5; python_version < \"3.8\" in /usr/local/lib/python3.7/dist-packages (from catalogue<2.1.0,>=2.0.3->spacy<3.1.0,>=3.0.0->scispacy) (3.4.1)\n",
            "Requirement already satisfied: pyparsing>=2.0.2 in /usr/local/lib/python3.7/dist-packages (from packaging>=20.0->spacy<3.1.0,>=3.0.0->scispacy) (2.4.7)\n",
            "Requirement already satisfied: click<7.2.0,>=7.1.1 in /usr/local/lib/python3.7/dist-packages (from typer<0.4.0,>=0.3.0->spacy<3.1.0,>=3.0.0->scispacy) (7.1.2)\n",
            "Requirement already satisfied: MarkupSafe>=0.23 in /usr/local/lib/python3.7/dist-packages (from jinja2->spacy<3.1.0,>=3.0.0->scispacy) (1.1.1)\n",
            "Collecting https://s3-us-west-2.amazonaws.com/ai2-s2-scispacy/releases/v0.4.0/en_core_sci_sm-0.4.0.tar.gz\n",
            "  Using cached https://s3-us-west-2.amazonaws.com/ai2-s2-scispacy/releases/v0.4.0/en_core_sci_sm-0.4.0.tar.gz\n",
            "Requirement already satisfied (use --upgrade to upgrade): en-core-sci-sm==0.4.0 from https://s3-us-west-2.amazonaws.com/ai2-s2-scispacy/releases/v0.4.0/en_core_sci_sm-0.4.0.tar.gz in /usr/local/lib/python3.7/dist-packages\n",
            "Requirement already satisfied: spacy<3.1.0,>=3.0.1 in /usr/local/lib/python3.7/dist-packages (from en-core-sci-sm==0.4.0) (3.0.6)\n",
            "Requirement already satisfied: blis<0.8.0,>=0.4.0 in /usr/local/lib/python3.7/dist-packages (from spacy<3.1.0,>=3.0.1->en-core-sci-sm==0.4.0) (0.4.1)\n",
            "Requirement already satisfied: cymem<2.1.0,>=2.0.2 in /usr/local/lib/python3.7/dist-packages (from spacy<3.1.0,>=3.0.1->en-core-sci-sm==0.4.0) (2.0.5)\n",
            "Requirement already satisfied: preshed<3.1.0,>=3.0.2 in /usr/local/lib/python3.7/dist-packages (from spacy<3.1.0,>=3.0.1->en-core-sci-sm==0.4.0) (3.0.5)\n",
            "Requirement already satisfied: numpy>=1.15.0 in /usr/local/lib/python3.7/dist-packages (from spacy<3.1.0,>=3.0.1->en-core-sci-sm==0.4.0) (1.19.5)\n",
            "Requirement already satisfied: typing-extensions<4.0.0.0,>=3.7.4; python_version < \"3.8\" in /usr/local/lib/python3.7/dist-packages (from spacy<3.1.0,>=3.0.1->en-core-sci-sm==0.4.0) (3.7.4.3)\n",
            "Requirement already satisfied: srsly<3.0.0,>=2.4.1 in /usr/local/lib/python3.7/dist-packages (from spacy<3.1.0,>=3.0.1->en-core-sci-sm==0.4.0) (2.4.1)\n",
            "Requirement already satisfied: setuptools in /usr/local/lib/python3.7/dist-packages (from spacy<3.1.0,>=3.0.1->en-core-sci-sm==0.4.0) (56.0.0)\n",
            "Requirement already satisfied: packaging>=20.0 in /usr/local/lib/python3.7/dist-packages (from spacy<3.1.0,>=3.0.1->en-core-sci-sm==0.4.0) (20.9)\n",
            "Requirement already satisfied: requests<3.0.0,>=2.13.0 in /usr/local/lib/python3.7/dist-packages (from spacy<3.1.0,>=3.0.1->en-core-sci-sm==0.4.0) (2.23.0)\n",
            "Requirement already satisfied: thinc<8.1.0,>=8.0.3 in /usr/local/lib/python3.7/dist-packages (from spacy<3.1.0,>=3.0.1->en-core-sci-sm==0.4.0) (8.0.3)\n",
            "Requirement already satisfied: pydantic<1.8.0,>=1.7.1 in /usr/local/lib/python3.7/dist-packages (from spacy<3.1.0,>=3.0.1->en-core-sci-sm==0.4.0) (1.7.3)\n",
            "Requirement already satisfied: spacy-legacy<3.1.0,>=3.0.4 in /usr/local/lib/python3.7/dist-packages (from spacy<3.1.0,>=3.0.1->en-core-sci-sm==0.4.0) (3.0.5)\n",
            "Requirement already satisfied: wasabi<1.1.0,>=0.8.1 in /usr/local/lib/python3.7/dist-packages (from spacy<3.1.0,>=3.0.1->en-core-sci-sm==0.4.0) (0.8.2)\n",
            "Requirement already satisfied: catalogue<2.1.0,>=2.0.3 in /usr/local/lib/python3.7/dist-packages (from spacy<3.1.0,>=3.0.1->en-core-sci-sm==0.4.0) (2.0.3)\n",
            "Requirement already satisfied: murmurhash<1.1.0,>=0.28.0 in /usr/local/lib/python3.7/dist-packages (from spacy<3.1.0,>=3.0.1->en-core-sci-sm==0.4.0) (1.0.5)\n",
            "Requirement already satisfied: pathy>=0.3.5 in /usr/local/lib/python3.7/dist-packages (from spacy<3.1.0,>=3.0.1->en-core-sci-sm==0.4.0) (0.5.2)\n",
            "Requirement already satisfied: typer<0.4.0,>=0.3.0 in /usr/local/lib/python3.7/dist-packages (from spacy<3.1.0,>=3.0.1->en-core-sci-sm==0.4.0) (0.3.2)\n",
            "Requirement already satisfied: tqdm<5.0.0,>=4.38.0 in /usr/local/lib/python3.7/dist-packages (from spacy<3.1.0,>=3.0.1->en-core-sci-sm==0.4.0) (4.41.1)\n",
            "Requirement already satisfied: jinja2 in /usr/local/lib/python3.7/dist-packages (from spacy<3.1.0,>=3.0.1->en-core-sci-sm==0.4.0) (2.11.3)\n",
            "Requirement already satisfied: pyparsing>=2.0.2 in /usr/local/lib/python3.7/dist-packages (from packaging>=20.0->spacy<3.1.0,>=3.0.1->en-core-sci-sm==0.4.0) (2.4.7)\n",
            "Requirement already satisfied: certifi>=2017.4.17 in /usr/local/lib/python3.7/dist-packages (from requests<3.0.0,>=2.13.0->spacy<3.1.0,>=3.0.1->en-core-sci-sm==0.4.0) (2020.12.5)\n",
            "Requirement already satisfied: idna<3,>=2.5 in /usr/local/lib/python3.7/dist-packages (from requests<3.0.0,>=2.13.0->spacy<3.1.0,>=3.0.1->en-core-sci-sm==0.4.0) (2.10)\n",
            "Requirement already satisfied: urllib3!=1.25.0,!=1.25.1,<1.26,>=1.21.1 in /usr/local/lib/python3.7/dist-packages (from requests<3.0.0,>=2.13.0->spacy<3.1.0,>=3.0.1->en-core-sci-sm==0.4.0) (1.24.3)\n",
            "Requirement already satisfied: chardet<4,>=3.0.2 in /usr/local/lib/python3.7/dist-packages (from requests<3.0.0,>=2.13.0->spacy<3.1.0,>=3.0.1->en-core-sci-sm==0.4.0) (3.0.4)\n",
            "Requirement already satisfied: zipp>=0.5; python_version < \"3.8\" in /usr/local/lib/python3.7/dist-packages (from catalogue<2.1.0,>=2.0.3->spacy<3.1.0,>=3.0.1->en-core-sci-sm==0.4.0) (3.4.1)\n",
            "Requirement already satisfied: smart-open<4.0.0,>=2.2.0 in /usr/local/lib/python3.7/dist-packages (from pathy>=0.3.5->spacy<3.1.0,>=3.0.1->en-core-sci-sm==0.4.0) (3.0.0)\n",
            "Requirement already satisfied: click<7.2.0,>=7.1.1 in /usr/local/lib/python3.7/dist-packages (from typer<0.4.0,>=0.3.0->spacy<3.1.0,>=3.0.1->en-core-sci-sm==0.4.0) (7.1.2)\n",
            "Requirement already satisfied: MarkupSafe>=0.23 in /usr/local/lib/python3.7/dist-packages (from jinja2->spacy<3.1.0,>=3.0.1->en-core-sci-sm==0.4.0) (1.1.1)\n",
            "Building wheels for collected packages: en-core-sci-sm\n",
            "  Building wheel for en-core-sci-sm (setup.py) ... \u001b[?25l\u001b[?25hdone\n",
            "  Created wheel for en-core-sci-sm: filename=en_core_sci_sm-0.4.0-cp37-none-any.whl size=15660355 sha256=ba26309e721d6c704e35ffc9ac5c114f7ee5eb7079e0b3e685530555ad834670\n",
            "  Stored in directory: /root/.cache/pip/wheels/f9/f0/40/7b2fce8bf7438ab151361245b1e91d4dc78e690189e8d83271\n",
            "Successfully built en-core-sci-sm\n",
            "Requirement already satisfied: spacy in /usr/local/lib/python3.7/dist-packages (3.0.6)\n",
            "Requirement already satisfied: spacy-legacy<3.1.0,>=3.0.4 in /usr/local/lib/python3.7/dist-packages (from spacy) (3.0.5)\n",
            "Requirement already satisfied: wasabi<1.1.0,>=0.8.1 in /usr/local/lib/python3.7/dist-packages (from spacy) (0.8.2)\n",
            "Requirement already satisfied: cymem<2.1.0,>=2.0.2 in /usr/local/lib/python3.7/dist-packages (from spacy) (2.0.5)\n",
            "Requirement already satisfied: typer<0.4.0,>=0.3.0 in /usr/local/lib/python3.7/dist-packages (from spacy) (0.3.2)\n",
            "Requirement already satisfied: packaging>=20.0 in /usr/local/lib/python3.7/dist-packages (from spacy) (20.9)\n",
            "Requirement already satisfied: murmurhash<1.1.0,>=0.28.0 in /usr/local/lib/python3.7/dist-packages (from spacy) (1.0.5)\n",
            "Requirement already satisfied: setuptools in /usr/local/lib/python3.7/dist-packages (from spacy) (56.0.0)\n",
            "Requirement already satisfied: preshed<3.1.0,>=3.0.2 in /usr/local/lib/python3.7/dist-packages (from spacy) (3.0.5)\n",
            "Requirement already satisfied: srsly<3.0.0,>=2.4.1 in /usr/local/lib/python3.7/dist-packages (from spacy) (2.4.1)\n",
            "Requirement already satisfied: pydantic<1.8.0,>=1.7.1 in /usr/local/lib/python3.7/dist-packages (from spacy) (1.7.3)\n",
            "Requirement already satisfied: pathy>=0.3.5 in /usr/local/lib/python3.7/dist-packages (from spacy) (0.5.2)\n",
            "Requirement already satisfied: thinc<8.1.0,>=8.0.3 in /usr/local/lib/python3.7/dist-packages (from spacy) (8.0.3)\n",
            "Requirement already satisfied: blis<0.8.0,>=0.4.0 in /usr/local/lib/python3.7/dist-packages (from spacy) (0.4.1)\n",
            "Requirement already satisfied: catalogue<2.1.0,>=2.0.3 in /usr/local/lib/python3.7/dist-packages (from spacy) (2.0.3)\n",
            "Requirement already satisfied: numpy>=1.15.0 in /usr/local/lib/python3.7/dist-packages (from spacy) (1.19.5)\n",
            "Requirement already satisfied: tqdm<5.0.0,>=4.38.0 in /usr/local/lib/python3.7/dist-packages (from spacy) (4.41.1)\n",
            "Requirement already satisfied: jinja2 in /usr/local/lib/python3.7/dist-packages (from spacy) (2.11.3)\n",
            "Requirement already satisfied: typing-extensions<4.0.0.0,>=3.7.4; python_version < \"3.8\" in /usr/local/lib/python3.7/dist-packages (from spacy) (3.7.4.3)\n",
            "Requirement already satisfied: requests<3.0.0,>=2.13.0 in /usr/local/lib/python3.7/dist-packages (from spacy) (2.23.0)\n",
            "Requirement already satisfied: click<7.2.0,>=7.1.1 in /usr/local/lib/python3.7/dist-packages (from typer<0.4.0,>=0.3.0->spacy) (7.1.2)\n",
            "Requirement already satisfied: pyparsing>=2.0.2 in /usr/local/lib/python3.7/dist-packages (from packaging>=20.0->spacy) (2.4.7)\n",
            "Requirement already satisfied: smart-open<4.0.0,>=2.2.0 in /usr/local/lib/python3.7/dist-packages (from pathy>=0.3.5->spacy) (3.0.0)\n",
            "Requirement already satisfied: zipp>=0.5; python_version < \"3.8\" in /usr/local/lib/python3.7/dist-packages (from catalogue<2.1.0,>=2.0.3->spacy) (3.4.1)\n",
            "Requirement already satisfied: MarkupSafe>=0.23 in /usr/local/lib/python3.7/dist-packages (from jinja2->spacy) (1.1.1)\n",
            "Requirement already satisfied: urllib3!=1.25.0,!=1.25.1,<1.26,>=1.21.1 in /usr/local/lib/python3.7/dist-packages (from requests<3.0.0,>=2.13.0->spacy) (1.24.3)\n",
            "Requirement already satisfied: idna<3,>=2.5 in /usr/local/lib/python3.7/dist-packages (from requests<3.0.0,>=2.13.0->spacy) (2.10)\n",
            "Requirement already satisfied: chardet<4,>=3.0.2 in /usr/local/lib/python3.7/dist-packages (from requests<3.0.0,>=2.13.0->spacy) (3.0.4)\n",
            "Requirement already satisfied: certifi>=2017.4.17 in /usr/local/lib/python3.7/dist-packages (from requests<3.0.0,>=2.13.0->spacy) (2020.12.5)\n",
            "2021-04-28 16:57:00.907810: I tensorflow/stream_executor/platform/default/dso_loader.cc:49] Successfully opened dynamic library libcudart.so.11.0\n",
            "Requirement already satisfied: en-core-web-sm==3.0.0 from https://github.com/explosion/spacy-models/releases/download/en_core_web_sm-3.0.0/en_core_web_sm-3.0.0-py3-none-any.whl#egg=en_core_web_sm==3.0.0 in /usr/local/lib/python3.7/dist-packages (3.0.0)\n",
            "Requirement already satisfied: spacy<3.1.0,>=3.0.0 in /usr/local/lib/python3.7/dist-packages (from en-core-web-sm==3.0.0) (3.0.6)\n",
            "Requirement already satisfied: pathy>=0.3.5 in /usr/local/lib/python3.7/dist-packages (from spacy<3.1.0,>=3.0.0->en-core-web-sm==3.0.0) (0.5.2)\n",
            "Requirement already satisfied: typing-extensions<4.0.0.0,>=3.7.4; python_version < \"3.8\" in /usr/local/lib/python3.7/dist-packages (from spacy<3.1.0,>=3.0.0->en-core-web-sm==3.0.0) (3.7.4.3)\n",
            "Requirement already satisfied: blis<0.8.0,>=0.4.0 in /usr/local/lib/python3.7/dist-packages (from spacy<3.1.0,>=3.0.0->en-core-web-sm==3.0.0) (0.4.1)\n",
            "Requirement already satisfied: typer<0.4.0,>=0.3.0 in /usr/local/lib/python3.7/dist-packages (from spacy<3.1.0,>=3.0.0->en-core-web-sm==3.0.0) (0.3.2)\n",
            "Requirement already satisfied: setuptools in /usr/local/lib/python3.7/dist-packages (from spacy<3.1.0,>=3.0.0->en-core-web-sm==3.0.0) (56.0.0)\n",
            "Requirement already satisfied: jinja2 in /usr/local/lib/python3.7/dist-packages (from spacy<3.1.0,>=3.0.0->en-core-web-sm==3.0.0) (2.11.3)\n",
            "Requirement already satisfied: preshed<3.1.0,>=3.0.2 in /usr/local/lib/python3.7/dist-packages (from spacy<3.1.0,>=3.0.0->en-core-web-sm==3.0.0) (3.0.5)\n",
            "Requirement already satisfied: spacy-legacy<3.1.0,>=3.0.4 in /usr/local/lib/python3.7/dist-packages (from spacy<3.1.0,>=3.0.0->en-core-web-sm==3.0.0) (3.0.5)\n",
            "Requirement already satisfied: murmurhash<1.1.0,>=0.28.0 in /usr/local/lib/python3.7/dist-packages (from spacy<3.1.0,>=3.0.0->en-core-web-sm==3.0.0) (1.0.5)\n",
            "Requirement already satisfied: numpy>=1.15.0 in /usr/local/lib/python3.7/dist-packages (from spacy<3.1.0,>=3.0.0->en-core-web-sm==3.0.0) (1.19.5)\n",
            "Requirement already satisfied: srsly<3.0.0,>=2.4.1 in /usr/local/lib/python3.7/dist-packages (from spacy<3.1.0,>=3.0.0->en-core-web-sm==3.0.0) (2.4.1)\n",
            "Requirement already satisfied: catalogue<2.1.0,>=2.0.3 in /usr/local/lib/python3.7/dist-packages (from spacy<3.1.0,>=3.0.0->en-core-web-sm==3.0.0) (2.0.3)\n",
            "Requirement already satisfied: thinc<8.1.0,>=8.0.3 in /usr/local/lib/python3.7/dist-packages (from spacy<3.1.0,>=3.0.0->en-core-web-sm==3.0.0) (8.0.3)\n",
            "Requirement already satisfied: cymem<2.1.0,>=2.0.2 in /usr/local/lib/python3.7/dist-packages (from spacy<3.1.0,>=3.0.0->en-core-web-sm==3.0.0) (2.0.5)\n",
            "Requirement already satisfied: wasabi<1.1.0,>=0.8.1 in /usr/local/lib/python3.7/dist-packages (from spacy<3.1.0,>=3.0.0->en-core-web-sm==3.0.0) (0.8.2)\n",
            "Requirement already satisfied: tqdm<5.0.0,>=4.38.0 in /usr/local/lib/python3.7/dist-packages (from spacy<3.1.0,>=3.0.0->en-core-web-sm==3.0.0) (4.41.1)\n",
            "Requirement already satisfied: pydantic<1.8.0,>=1.7.1 in /usr/local/lib/python3.7/dist-packages (from spacy<3.1.0,>=3.0.0->en-core-web-sm==3.0.0) (1.7.3)\n",
            "Requirement already satisfied: packaging>=20.0 in /usr/local/lib/python3.7/dist-packages (from spacy<3.1.0,>=3.0.0->en-core-web-sm==3.0.0) (20.9)\n",
            "Requirement already satisfied: requests<3.0.0,>=2.13.0 in /usr/local/lib/python3.7/dist-packages (from spacy<3.1.0,>=3.0.0->en-core-web-sm==3.0.0) (2.23.0)\n",
            "Requirement already satisfied: smart-open<4.0.0,>=2.2.0 in /usr/local/lib/python3.7/dist-packages (from pathy>=0.3.5->spacy<3.1.0,>=3.0.0->en-core-web-sm==3.0.0) (3.0.0)\n",
            "Requirement already satisfied: click<7.2.0,>=7.1.1 in /usr/local/lib/python3.7/dist-packages (from typer<0.4.0,>=0.3.0->spacy<3.1.0,>=3.0.0->en-core-web-sm==3.0.0) (7.1.2)\n",
            "Requirement already satisfied: MarkupSafe>=0.23 in /usr/local/lib/python3.7/dist-packages (from jinja2->spacy<3.1.0,>=3.0.0->en-core-web-sm==3.0.0) (1.1.1)\n",
            "Requirement already satisfied: zipp>=0.5; python_version < \"3.8\" in /usr/local/lib/python3.7/dist-packages (from catalogue<2.1.0,>=2.0.3->spacy<3.1.0,>=3.0.0->en-core-web-sm==3.0.0) (3.4.1)\n",
            "Requirement already satisfied: pyparsing>=2.0.2 in /usr/local/lib/python3.7/dist-packages (from packaging>=20.0->spacy<3.1.0,>=3.0.0->en-core-web-sm==3.0.0) (2.4.7)\n",
            "Requirement already satisfied: idna<3,>=2.5 in /usr/local/lib/python3.7/dist-packages (from requests<3.0.0,>=2.13.0->spacy<3.1.0,>=3.0.0->en-core-web-sm==3.0.0) (2.10)\n",
            "Requirement already satisfied: urllib3!=1.25.0,!=1.25.1,<1.26,>=1.21.1 in /usr/local/lib/python3.7/dist-packages (from requests<3.0.0,>=2.13.0->spacy<3.1.0,>=3.0.0->en-core-web-sm==3.0.0) (1.24.3)\n",
            "Requirement already satisfied: chardet<4,>=3.0.2 in /usr/local/lib/python3.7/dist-packages (from requests<3.0.0,>=2.13.0->spacy<3.1.0,>=3.0.0->en-core-web-sm==3.0.0) (3.0.4)\n",
            "Requirement already satisfied: certifi>=2017.4.17 in /usr/local/lib/python3.7/dist-packages (from requests<3.0.0,>=2.13.0->spacy<3.1.0,>=3.0.0->en-core-web-sm==3.0.0) (2020.12.5)\n",
            "\u001b[38;5;2m✔ Download and installation successful\u001b[0m\n",
            "You can now load the package via spacy.load('en_core_web_sm')\n"
          ],
          "name": "stdout"
        }
      ]
    },
    {
      "cell_type": "markdown",
      "metadata": {
        "id": "US_t8a0TgTrP"
      },
      "source": [
        "## Source: https://youtu.be/2_HSKDALwuw?t=708\n",
        "## Abbreviation Detector Works by:\n",
        "## 1. Finding Parentheses\n",
        "## 2. Look up to 10 words behind the bracket\n",
        "## 3. Greedily choose definition: Look for words next to each other, that in the right order start with the letters in the acronym"
      ]
    },
    {
      "cell_type": "code",
      "metadata": {
        "id": "cxFRzskj0jik"
      },
      "source": [
        "#ScispaCy: Fast and Robust Models for Biomedical Natural Language Processing: https://www.semanticscholar.org/paper/ScispaCy%3A-Fast-and-Robust-Models-for-Biomedical-Neumann-King/de28ec1d7bd38c8fc4e8ac59b6133800818b4e29\n",
        "#https://github.com/allenai/SciSpaCy\n",
        "import spacy\n",
        "from scispacy.abbreviation import AbbreviationDetector\n",
        "\n",
        "\n",
        "nlp = spacy.load(\"en_core_web_sm\")\n",
        "nlp.add_pipe(\"abbreviation_detector\")\n",
        "\n",
        "corpus = df_metadata[\"Content\"]\n",
        "\n",
        "docs = list(nlp.pipe(corpus,disable=[\"ner\",\"parser\",\"textcat\"]))\n",
        "\n",
        "\n"
      ],
      "execution_count": 12,
      "outputs": []
    },
    {
      "cell_type": "code",
      "metadata": {
        "id": "Pj1GJsKfeqtn"
      },
      "source": [
        "abrv_list = list()\n",
        "abrv_dict = dict()\n",
        "\n",
        "for index,doc in enumerate(docs):\n",
        "\n",
        "    for abrv in doc._.abbreviations:\n",
        "\n",
        "        abrv_dict[str(abrv)] = str(abrv._.long_form)\n",
        "\n",
        "        abrv_data = dict({\"Abbreviation\":str(abrv),\"Definition\": str(abrv._.long_form),\"Document\":str(index)})\n",
        "\n",
        "        abrv_list.append(abrv_data)\n",
        "        #print(f\"{abrv} \\t ({abrv.start}, {abrv.end}) {abrv._.long_form} \\t Document: {index}\")"
      ],
      "execution_count": 13,
      "outputs": []
    },
    {
      "cell_type": "code",
      "metadata": {
        "id": "-dFTgf-gUWeu",
        "colab": {
          "base_uri": "https://localhost:8080/",
          "height": 189
        },
        "outputId": "f9245f22-21a2-4973-c15f-d687ac37d588"
      },
      "source": [
        "df_abrv = pd.DataFrame(abrv_list)\n",
        "df_abrv.head()"
      ],
      "execution_count": 14,
      "outputs": [
        {
          "output_type": "execute_result",
          "data": {
            "text/html": [
              "<div>\n",
              "<style scoped>\n",
              "    .dataframe tbody tr th:only-of-type {\n",
              "        vertical-align: middle;\n",
              "    }\n",
              "\n",
              "    .dataframe tbody tr th {\n",
              "        vertical-align: top;\n",
              "    }\n",
              "\n",
              "    .dataframe thead th {\n",
              "        text-align: right;\n",
              "    }\n",
              "</style>\n",
              "<table border=\"1\" class=\"dataframe\">\n",
              "  <thead>\n",
              "    <tr style=\"text-align: right;\">\n",
              "      <th></th>\n",
              "      <th>Abbreviation</th>\n",
              "      <th>Definition</th>\n",
              "      <th>Document</th>\n",
              "    </tr>\n",
              "  </thead>\n",
              "  <tbody>\n",
              "    <tr>\n",
              "      <th>0</th>\n",
              "      <td>PTSD</td>\n",
              "      <td>posttraumatic stress disorder</td>\n",
              "      <td>0</td>\n",
              "    </tr>\n",
              "    <tr>\n",
              "      <th>1</th>\n",
              "      <td>PTSD</td>\n",
              "      <td>posttraumatic stress disorder</td>\n",
              "      <td>0</td>\n",
              "    </tr>\n",
              "    <tr>\n",
              "      <th>2</th>\n",
              "      <td>PTSD</td>\n",
              "      <td>posttraumatic stress disorder</td>\n",
              "      <td>0</td>\n",
              "    </tr>\n",
              "    <tr>\n",
              "      <th>3</th>\n",
              "      <td>PTSD</td>\n",
              "      <td>posttraumatic stress disorder</td>\n",
              "      <td>0</td>\n",
              "    </tr>\n",
              "    <tr>\n",
              "      <th>4</th>\n",
              "      <td>PTSD</td>\n",
              "      <td>posttraumatic stress disorder</td>\n",
              "      <td>0</td>\n",
              "    </tr>\n",
              "  </tbody>\n",
              "</table>\n",
              "</div>"
            ],
            "text/plain": [
              "  Abbreviation                     Definition Document\n",
              "0         PTSD  posttraumatic stress disorder        0\n",
              "1         PTSD  posttraumatic stress disorder        0\n",
              "2         PTSD  posttraumatic stress disorder        0\n",
              "3         PTSD  posttraumatic stress disorder        0\n",
              "4         PTSD  posttraumatic stress disorder        0"
            ]
          },
          "metadata": {
            "tags": []
          },
          "execution_count": 14
        }
      ]
    },
    {
      "cell_type": "code",
      "metadata": {
        "id": "FcFf0PyfWiw8",
        "colab": {
          "base_uri": "https://localhost:8080/",
          "height": 217
        },
        "outputId": "a022c1ee-2990-44b6-e053-65d08df0ebe7"
      },
      "source": [
        "#Source: https://stackoverflow.com/questions/43514019/collapsing-rows-in-a-pandas-dataframe\n",
        "df_abrv_table = df_abrv.groupby('Abbreviation').agg(lambda x: (x.unique()))\n",
        "df_abrv_table.sample(5)"
      ],
      "execution_count": 15,
      "outputs": [
        {
          "output_type": "execute_result",
          "data": {
            "text/html": [
              "<div>\n",
              "<style scoped>\n",
              "    .dataframe tbody tr th:only-of-type {\n",
              "        vertical-align: middle;\n",
              "    }\n",
              "\n",
              "    .dataframe tbody tr th {\n",
              "        vertical-align: top;\n",
              "    }\n",
              "\n",
              "    .dataframe thead th {\n",
              "        text-align: right;\n",
              "    }\n",
              "</style>\n",
              "<table border=\"1\" class=\"dataframe\">\n",
              "  <thead>\n",
              "    <tr style=\"text-align: right;\">\n",
              "      <th></th>\n",
              "      <th>Definition</th>\n",
              "      <th>Document</th>\n",
              "    </tr>\n",
              "    <tr>\n",
              "      <th>Abbreviation</th>\n",
              "      <th></th>\n",
              "      <th></th>\n",
              "    </tr>\n",
              "  </thead>\n",
              "  <tbody>\n",
              "    <tr>\n",
              "      <th>VIFs</th>\n",
              "      <td>Variance inflation factors</td>\n",
              "      <td>37</td>\n",
              "    </tr>\n",
              "    <tr>\n",
              "      <th>FQHC</th>\n",
              "      <td>Federally Qualified Health Centers</td>\n",
              "      <td>22</td>\n",
              "    </tr>\n",
              "    <tr>\n",
              "      <th>client</th>\n",
              "      <td>client</td>\n",
              "      <td>32</td>\n",
              "    </tr>\n",
              "    <tr>\n",
              "      <th>Affairs</th>\n",
              "      <td>Affairs, 2018a</td>\n",
              "      <td>36</td>\n",
              "    </tr>\n",
              "    <tr>\n",
              "      <th>BITs</th>\n",
              "      <td>behavioral intervention technologies</td>\n",
              "      <td>40</td>\n",
              "    </tr>\n",
              "  </tbody>\n",
              "</table>\n",
              "</div>"
            ],
            "text/plain": [
              "                                        Definition Document\n",
              "Abbreviation                                               \n",
              "VIFs                    Variance inflation factors       37\n",
              "FQHC            Federally Qualified Health Centers       22\n",
              "client                                      client       32\n",
              "Affairs                             Affairs, 2018a       36\n",
              "BITs          behavioral intervention technologies       40"
            ]
          },
          "metadata": {
            "tags": []
          },
          "execution_count": 15
        }
      ]
    },
    {
      "cell_type": "code",
      "metadata": {
        "id": "HURBjF5Htzk2"
      },
      "source": [
        "with open(\"./references/abbreviation_table.json\", \"w\") as outfile:\n",
        "    \n",
        "    json.dump(abrv_dict, outfile,indent=4)"
      ],
      "execution_count": 16,
      "outputs": []
    },
    {
      "cell_type": "markdown",
      "metadata": {
        "id": "ORbMnnLrMKHt"
      },
      "source": [
        "## Clean Data\n",
        "1.   Lowercase\n",
        "2.   Remove Punctuation\n",
        "3.   White Spaces\n",
        "\n"
      ]
    },
    {
      "cell_type": "code",
      "metadata": {
        "id": "n4e2oCslztSP"
      },
      "source": [
        "import string\n",
        "#Helper Functions\n",
        "def clean_text(text,lowercase=False):\n",
        "    \n",
        "    corpus =  text\n",
        "\n",
        "    punc = string.punctuation.replace(\"-\",\"\")\n",
        "    \n",
        "    if lowercase:\n",
        "        corpus = text.lower()\n",
        "\n",
        "    translator = str.maketrans(\" \",\" \",punc)\n",
        "    \n",
        "    clean_corpus = corpus.translate(translator)\n",
        "    \n",
        "    remove_extra_whitespaces = [token.strip() for token in clean_corpus.split()]\n",
        "\n",
        "    return \" \".join(remove_extra_whitespaces)\n",
        "\n",
        "\n",
        "#https://stackoverflow.com/questions/38291313/split-list-from-text-into-ngrams-in-python\n",
        "def ngrams(text, n):\n",
        "    words = text.split()\n",
        "    return [words[i:i+n] for i in range(len(words))]\n",
        "\n",
        "\n",
        "def convert_abbreviations(text):\n",
        "    \n",
        "    corpus = text\n",
        "\n",
        "    for abrv in abrv_dict:\n",
        "\n",
        "        corpus = corpus.replace(abrv,abrv_dict[abrv])\n",
        "\n",
        "\n",
        "    return corpus\n",
        "\n",
        "\n",
        "\n",
        "\n"
      ],
      "execution_count": 17,
      "outputs": []
    },
    {
      "cell_type": "code",
      "metadata": {
        "id": "4Jv9Eppztgp2",
        "colab": {
          "base_uri": "https://localhost:8080/",
          "height": 683
        },
        "outputId": "2a613701-4fea-46c6-b02c-f03837b827a4"
      },
      "source": [
        "df_metadata[\"Clean_Content\"] = df_metadata[\"Content\"].apply(lambda text: clean_text(text,lowercase=False))\n",
        "df_metadata[\"Clean_Content_length\"] = df_metadata[\"Clean_Content\"].apply(lambda text: len(text))\n",
        "df_metadata.head()"
      ],
      "execution_count": 18,
      "outputs": [
        {
          "output_type": "execute_result",
          "data": {
            "text/html": [
              "<div>\n",
              "<style scoped>\n",
              "    .dataframe tbody tr th:only-of-type {\n",
              "        vertical-align: middle;\n",
              "    }\n",
              "\n",
              "    .dataframe tbody tr th {\n",
              "        vertical-align: top;\n",
              "    }\n",
              "\n",
              "    .dataframe thead th {\n",
              "        text-align: right;\n",
              "    }\n",
              "</style>\n",
              "<table border=\"1\" class=\"dataframe\">\n",
              "  <thead>\n",
              "    <tr style=\"text-align: right;\">\n",
              "      <th></th>\n",
              "      <th>Journal Title</th>\n",
              "      <th>Article Title</th>\n",
              "      <th>Date Published</th>\n",
              "      <th>Authors</th>\n",
              "      <th>Abstract</th>\n",
              "      <th>Keywords</th>\n",
              "      <th>Citation</th>\n",
              "      <th>Content</th>\n",
              "      <th>Content_Length</th>\n",
              "      <th>Abstract_Length</th>\n",
              "      <th>Parsed_Keywords</th>\n",
              "      <th>Parsed_Keywords_Length</th>\n",
              "      <th>et_al_Count</th>\n",
              "      <th>Clean_Content</th>\n",
              "      <th>Clean_Content_length</th>\n",
              "    </tr>\n",
              "    <tr>\n",
              "      <th>Index</th>\n",
              "      <th></th>\n",
              "      <th></th>\n",
              "      <th></th>\n",
              "      <th></th>\n",
              "      <th></th>\n",
              "      <th></th>\n",
              "      <th></th>\n",
              "      <th></th>\n",
              "      <th></th>\n",
              "      <th></th>\n",
              "      <th></th>\n",
              "      <th></th>\n",
              "      <th></th>\n",
              "      <th></th>\n",
              "      <th></th>\n",
              "    </tr>\n",
              "  </thead>\n",
              "  <tbody>\n",
              "    <tr>\n",
              "      <th>0</th>\n",
              "      <td>Psychological Servies</td>\n",
              "      <td>The Effectiveness of Telepsychology With Veter...</td>\n",
              "      <td>2021</td>\n",
              "      <td>Michael J. McClellan; Richard Osbaldiston; Ron...</td>\n",
              "      <td>Veterans face a variety of stressors due to th...</td>\n",
              "      <td>KEYWORDS:\\n\\ntelepsychology, meta-analysis, ve...</td>\n",
              "      <td>McClellan, M. J., Osbaldiston, R., Wu, R., Yea...</td>\n",
              "      <td>Veterans face a variety of stressors related t...</td>\n",
              "      <td>37477</td>\n",
              "      <td>2411</td>\n",
              "      <td>[telepsychology,, meta-analysis,, veteran,, vi...</td>\n",
              "      <td>5</td>\n",
              "      <td>50</td>\n",
              "      <td>Veterans face a variety of stressors related t...</td>\n",
              "      <td>36423</td>\n",
              "    </tr>\n",
              "    <tr>\n",
              "      <th>1</th>\n",
              "      <td>Psychology, Public Policy, and Law</td>\n",
              "      <td>Making the Case for Videoconferencing and Remo...</td>\n",
              "      <td>2021</td>\n",
              "      <td>Milfred D. Dale; Desiree Smith</td>\n",
              "      <td>The COVID-19 pandemic and its requirements for...</td>\n",
              "      <td>KEYWORDS:\\n\\nremote child custody evaluations,...</td>\n",
              "      <td>Dale, M. D., &amp; Smith, D. (2021). Making the ca...</td>\n",
              "      <td>The impact of the COVID-19 pandemic on the chi...</td>\n",
              "      <td>74025</td>\n",
              "      <td>1577</td>\n",
              "      <td>[remote, child, custody, evaluations,, videoco...</td>\n",
              "      <td>10</td>\n",
              "      <td>48</td>\n",
              "      <td>The impact of the COVID-19 pandemic on the chi...</td>\n",
              "      <td>72009</td>\n",
              "    </tr>\n",
              "    <tr>\n",
              "      <th>2</th>\n",
              "      <td>Psychology, Public Policy, and Law</td>\n",
              "      <td>Forensic E-Mental Health: Review, Research Pri...</td>\n",
              "      <td>2021</td>\n",
              "      <td>Lauren E. Kois; Jennifer Cox; Ashley T. Peck</td>\n",
              "      <td>Forensic e-mental health is an area of psychol...</td>\n",
              "      <td>KEYWORDS:\\n\\nforensic e-mental health, telehea...</td>\n",
              "      <td>Kois, L. E., Cox, J., &amp; Peck, A. T. (2021). Fo...</td>\n",
              "      <td>In November 2019, COVID-19—the infectious, hig...</td>\n",
              "      <td>63568</td>\n",
              "      <td>1842</td>\n",
              "      <td>[forensic, e-mental, health,, telehealth,, tel...</td>\n",
              "      <td>8</td>\n",
              "      <td>128</td>\n",
              "      <td>In November 2019 COVID-19—the infectious highl...</td>\n",
              "      <td>61640</td>\n",
              "    </tr>\n",
              "    <tr>\n",
              "      <th>3</th>\n",
              "      <td>Training and Education in Professional Psychology</td>\n",
              "      <td>Moving Toward a New Era of Telepsychology in U...</td>\n",
              "      <td>2021</td>\n",
              "      <td>Allison L. Baier; Sarah Danzo</td>\n",
              "      <td>Many university training clinics are facing nu...</td>\n",
              "      <td>KEYWORDS:\\n\\neducation and training, telepsych...</td>\n",
              "      <td>Baier, A. L., &amp; Danzo, S. (2021). Moving towar...</td>\n",
              "      <td>Anxiety and depressive disorders are among the...</td>\n",
              "      <td>30147</td>\n",
              "      <td>1650</td>\n",
              "      <td>[education, and, training,, telepsychology,, C...</td>\n",
              "      <td>6</td>\n",
              "      <td>21</td>\n",
              "      <td>Anxiety and depressive disorders are among the...</td>\n",
              "      <td>29392</td>\n",
              "    </tr>\n",
              "    <tr>\n",
              "      <th>4</th>\n",
              "      <td>Practice Innovations</td>\n",
              "      <td>Navigating Changes in the Physical and Psychol...</td>\n",
              "      <td>2021</td>\n",
              "      <td>Liat Shklarski; Allison Abrams; Elana Bakst</td>\n",
              "      <td>The emergence of the Covid-19 pandemic at the ...</td>\n",
              "      <td>KEYWORDS:\\n\\nremote psychotherapy, Covid-19, p...</td>\n",
              "      <td>Shklarski, L., Abrams, A., &amp; Bakst, E. (2021)....</td>\n",
              "      <td>In mid-March, 2020, the authors—as well as the...</td>\n",
              "      <td>42367</td>\n",
              "      <td>1871</td>\n",
              "      <td>[remote, psychotherapy,, Covid-19,, pandemic,,...</td>\n",
              "      <td>6</td>\n",
              "      <td>14</td>\n",
              "      <td>In mid-March 2020 the authors—as well as the m...</td>\n",
              "      <td>41383</td>\n",
              "    </tr>\n",
              "  </tbody>\n",
              "</table>\n",
              "</div>"
            ],
            "text/plain": [
              "                                           Journal Title  ... Clean_Content_length\n",
              "Index                                                     ...                     \n",
              "0                                  Psychological Servies  ...                36423\n",
              "1                     Psychology, Public Policy, and Law  ...                72009\n",
              "2                     Psychology, Public Policy, and Law  ...                61640\n",
              "3      Training and Education in Professional Psychology  ...                29392\n",
              "4                                   Practice Innovations  ...                41383\n",
              "\n",
              "[5 rows x 15 columns]"
            ]
          },
          "metadata": {
            "tags": []
          },
          "execution_count": 18
        }
      ]
    },
    {
      "cell_type": "markdown",
      "metadata": {
        "id": "bqRBidB3ABKj"
      },
      "source": [
        "## Lemmatization"
      ]
    },
    {
      "cell_type": "code",
      "metadata": {
        "id": "GvTpqhRy4ssR"
      },
      "source": [
        "lemmma_tokens = []\n",
        "remove_ngrams = [\"large image page new\",\"image page new window\", \"page new window Download\",\"image page new\",\n",
        "                 \"page new window\",\"new window Download\",\"image page\",\"large image\",\"1TABLES figurestablefigure thumbnailtable\",\n",
        "                ]\n",
        "\n",
        "for index, doc in enumerate(docs):\n",
        "\n",
        "        target_document = \" \".join([token.lemma_ for token in doc])\n",
        "        \n",
        "        for token in remove_ngrams:\n",
        "            \n",
        "            target_document = target_document.replace(token,\"\")\n",
        "\n",
        "\n",
        "        lemmma_tokens.append(target_document)"
      ],
      "execution_count": 19,
      "outputs": []
    },
    {
      "cell_type": "code",
      "metadata": {
        "id": "Mjrg1mAB_e49"
      },
      "source": [
        "#Ensure lemma_corpus has same amount of documents as corpus\n",
        "assert len(lemmma_tokens) == len(corpus)"
      ],
      "execution_count": 20,
      "outputs": []
    },
    {
      "cell_type": "code",
      "metadata": {
        "id": "wo-x0PnmlWlr",
        "colab": {
          "base_uri": "https://localhost:8080/",
          "height": 683
        },
        "outputId": "a2450581-1c66-4a98-b643-6b1f38887a3f"
      },
      "source": [
        "df_metadata[\"Clean_Content_Lemma\"] = lemmma_tokens\n",
        "df_metadata[\"Clean_Content_Lemma_LongForm\"] = df_metadata[\"Clean_Content_Lemma\"].apply(lambda text: convert_abbreviations(text))\n",
        "\n",
        "df_metadata.head()"
      ],
      "execution_count": 21,
      "outputs": [
        {
          "output_type": "execute_result",
          "data": {
            "text/html": [
              "<div>\n",
              "<style scoped>\n",
              "    .dataframe tbody tr th:only-of-type {\n",
              "        vertical-align: middle;\n",
              "    }\n",
              "\n",
              "    .dataframe tbody tr th {\n",
              "        vertical-align: top;\n",
              "    }\n",
              "\n",
              "    .dataframe thead th {\n",
              "        text-align: right;\n",
              "    }\n",
              "</style>\n",
              "<table border=\"1\" class=\"dataframe\">\n",
              "  <thead>\n",
              "    <tr style=\"text-align: right;\">\n",
              "      <th></th>\n",
              "      <th>Journal Title</th>\n",
              "      <th>Article Title</th>\n",
              "      <th>Date Published</th>\n",
              "      <th>Authors</th>\n",
              "      <th>Abstract</th>\n",
              "      <th>Keywords</th>\n",
              "      <th>Citation</th>\n",
              "      <th>Content</th>\n",
              "      <th>Content_Length</th>\n",
              "      <th>Abstract_Length</th>\n",
              "      <th>Parsed_Keywords</th>\n",
              "      <th>Parsed_Keywords_Length</th>\n",
              "      <th>et_al_Count</th>\n",
              "      <th>Clean_Content</th>\n",
              "      <th>Clean_Content_length</th>\n",
              "      <th>Clean_Content_Lemma</th>\n",
              "      <th>Clean_Content_Lemma_LongForm</th>\n",
              "    </tr>\n",
              "    <tr>\n",
              "      <th>Index</th>\n",
              "      <th></th>\n",
              "      <th></th>\n",
              "      <th></th>\n",
              "      <th></th>\n",
              "      <th></th>\n",
              "      <th></th>\n",
              "      <th></th>\n",
              "      <th></th>\n",
              "      <th></th>\n",
              "      <th></th>\n",
              "      <th></th>\n",
              "      <th></th>\n",
              "      <th></th>\n",
              "      <th></th>\n",
              "      <th></th>\n",
              "      <th></th>\n",
              "      <th></th>\n",
              "    </tr>\n",
              "  </thead>\n",
              "  <tbody>\n",
              "    <tr>\n",
              "      <th>0</th>\n",
              "      <td>Psychological Servies</td>\n",
              "      <td>The Effectiveness of Telepsychology With Veter...</td>\n",
              "      <td>2021</td>\n",
              "      <td>Michael J. McClellan; Richard Osbaldiston; Ron...</td>\n",
              "      <td>Veterans face a variety of stressors due to th...</td>\n",
              "      <td>KEYWORDS:\\n\\ntelepsychology, meta-analysis, ve...</td>\n",
              "      <td>McClellan, M. J., Osbaldiston, R., Wu, R., Yea...</td>\n",
              "      <td>Veterans face a variety of stressors related t...</td>\n",
              "      <td>37477</td>\n",
              "      <td>2411</td>\n",
              "      <td>[telepsychology,, meta-analysis,, veteran,, vi...</td>\n",
              "      <td>5</td>\n",
              "      <td>50</td>\n",
              "      <td>Veterans face a variety of stressors related t...</td>\n",
              "      <td>36423</td>\n",
              "      <td>veteran face a variety of stressor relate to t...</td>\n",
              "      <td>veteran face a variety of stressor relate time...</td>\n",
              "    </tr>\n",
              "    <tr>\n",
              "      <th>1</th>\n",
              "      <td>Psychology, Public Policy, and Law</td>\n",
              "      <td>Making the Case for Videoconferencing and Remo...</td>\n",
              "      <td>2021</td>\n",
              "      <td>Milfred D. Dale; Desiree Smith</td>\n",
              "      <td>The COVID-19 pandemic and its requirements for...</td>\n",
              "      <td>KEYWORDS:\\n\\nremote child custody evaluations,...</td>\n",
              "      <td>Dale, M. D., &amp; Smith, D. (2021). Making the ca...</td>\n",
              "      <td>The impact of the COVID-19 pandemic on the chi...</td>\n",
              "      <td>74025</td>\n",
              "      <td>1577</td>\n",
              "      <td>[remote, child, custody, evaluations,, videoco...</td>\n",
              "      <td>10</td>\n",
              "      <td>48</td>\n",
              "      <td>The impact of the COVID-19 pandemic on the chi...</td>\n",
              "      <td>72009</td>\n",
              "      <td>the impact of the covid-19 pandemic on the chi...</td>\n",
              "      <td>the impact of the covid-19 pandemic on the chi...</td>\n",
              "    </tr>\n",
              "    <tr>\n",
              "      <th>2</th>\n",
              "      <td>Psychology, Public Policy, and Law</td>\n",
              "      <td>Forensic E-Mental Health: Review, Research Pri...</td>\n",
              "      <td>2021</td>\n",
              "      <td>Lauren E. Kois; Jennifer Cox; Ashley T. Peck</td>\n",
              "      <td>Forensic e-mental health is an area of psychol...</td>\n",
              "      <td>KEYWORDS:\\n\\nforensic e-mental health, telehea...</td>\n",
              "      <td>Kois, L. E., Cox, J., &amp; Peck, A. T. (2021). Fo...</td>\n",
              "      <td>In November 2019, COVID-19—the infectious, hig...</td>\n",
              "      <td>63568</td>\n",
              "      <td>1842</td>\n",
              "      <td>[forensic, e-mental, health,, telehealth,, tel...</td>\n",
              "      <td>8</td>\n",
              "      <td>128</td>\n",
              "      <td>In November 2019 COVID-19—the infectious highl...</td>\n",
              "      <td>61640</td>\n",
              "      <td>in November 2019 , covid-19 — the infectious ,...</td>\n",
              "      <td>in November 2019 , covid-19 — the infectious ,...</td>\n",
              "    </tr>\n",
              "    <tr>\n",
              "      <th>3</th>\n",
              "      <td>Training and Education in Professional Psychology</td>\n",
              "      <td>Moving Toward a New Era of Telepsychology in U...</td>\n",
              "      <td>2021</td>\n",
              "      <td>Allison L. Baier; Sarah Danzo</td>\n",
              "      <td>Many university training clinics are facing nu...</td>\n",
              "      <td>KEYWORDS:\\n\\neducation and training, telepsych...</td>\n",
              "      <td>Baier, A. L., &amp; Danzo, S. (2021). Moving towar...</td>\n",
              "      <td>Anxiety and depressive disorders are among the...</td>\n",
              "      <td>30147</td>\n",
              "      <td>1650</td>\n",
              "      <td>[education, and, training,, telepsychology,, C...</td>\n",
              "      <td>6</td>\n",
              "      <td>21</td>\n",
              "      <td>Anxiety and depressive disorders are among the...</td>\n",
              "      <td>29392</td>\n",
              "      <td>anxiety and depressive disorder be among the m...</td>\n",
              "      <td>anxiety and depressive disorder be among the m...</td>\n",
              "    </tr>\n",
              "    <tr>\n",
              "      <th>4</th>\n",
              "      <td>Practice Innovations</td>\n",
              "      <td>Navigating Changes in the Physical and Psychol...</td>\n",
              "      <td>2021</td>\n",
              "      <td>Liat Shklarski; Allison Abrams; Elana Bakst</td>\n",
              "      <td>The emergence of the Covid-19 pandemic at the ...</td>\n",
              "      <td>KEYWORDS:\\n\\nremote psychotherapy, Covid-19, p...</td>\n",
              "      <td>Shklarski, L., Abrams, A., &amp; Bakst, E. (2021)....</td>\n",
              "      <td>In mid-March, 2020, the authors—as well as the...</td>\n",
              "      <td>42367</td>\n",
              "      <td>1871</td>\n",
              "      <td>[remote, psychotherapy,, Covid-19,, pandemic,,...</td>\n",
              "      <td>6</td>\n",
              "      <td>14</td>\n",
              "      <td>In mid-March 2020 the authors—as well as the m...</td>\n",
              "      <td>41383</td>\n",
              "      <td>in mid - March , 2020 , the author — as well a...</td>\n",
              "      <td>in mid - March , 2020 , the author — as well a...</td>\n",
              "    </tr>\n",
              "  </tbody>\n",
              "</table>\n",
              "</div>"
            ],
            "text/plain": [
              "                                           Journal Title  ...                       Clean_Content_Lemma_LongForm\n",
              "Index                                                     ...                                                   \n",
              "0                                  Psychological Servies  ...  veteran face a variety of stressor relate time...\n",
              "1                     Psychology, Public Policy, and Law  ...  the impact of the covid-19 pandemic on the chi...\n",
              "2                     Psychology, Public Policy, and Law  ...  in November 2019 , covid-19 — the infectious ,...\n",
              "3      Training and Education in Professional Psychology  ...  anxiety and depressive disorder be among the m...\n",
              "4                                   Practice Innovations  ...  in mid - March , 2020 , the author — as well a...\n",
              "\n",
              "[5 rows x 17 columns]"
            ]
          },
          "metadata": {
            "tags": []
          },
          "execution_count": 21
        }
      ]
    },
    {
      "cell_type": "code",
      "metadata": {
        "id": "yxdzIQIWbg_K"
      },
      "source": [
        "df_metadata[\"Classification\"] = df_metadata[\"Date Published\"].apply(lambda pub_date: \"Covid\" if pub_date >= 2020 else \"Pre-Covid\" )"
      ],
      "execution_count": 31,
      "outputs": []
    },
    {
      "cell_type": "code",
      "metadata": {
        "colab": {
          "base_uri": "https://localhost:8080/",
          "height": 683
        },
        "id": "G5qcwa4Ab6w_",
        "outputId": "64ae3190-2c7c-4f89-86e2-b50a613aeef7"
      },
      "source": [
        "df_metadata.head()"
      ],
      "execution_count": 33,
      "outputs": [
        {
          "output_type": "execute_result",
          "data": {
            "text/html": [
              "<div>\n",
              "<style scoped>\n",
              "    .dataframe tbody tr th:only-of-type {\n",
              "        vertical-align: middle;\n",
              "    }\n",
              "\n",
              "    .dataframe tbody tr th {\n",
              "        vertical-align: top;\n",
              "    }\n",
              "\n",
              "    .dataframe thead th {\n",
              "        text-align: right;\n",
              "    }\n",
              "</style>\n",
              "<table border=\"1\" class=\"dataframe\">\n",
              "  <thead>\n",
              "    <tr style=\"text-align: right;\">\n",
              "      <th></th>\n",
              "      <th>Journal Title</th>\n",
              "      <th>Article Title</th>\n",
              "      <th>Date Published</th>\n",
              "      <th>Authors</th>\n",
              "      <th>Abstract</th>\n",
              "      <th>Keywords</th>\n",
              "      <th>Citation</th>\n",
              "      <th>Content</th>\n",
              "      <th>Content_Length</th>\n",
              "      <th>Abstract_Length</th>\n",
              "      <th>Parsed_Keywords</th>\n",
              "      <th>Parsed_Keywords_Length</th>\n",
              "      <th>et_al_Count</th>\n",
              "      <th>Clean_Content</th>\n",
              "      <th>Clean_Content_length</th>\n",
              "      <th>Clean_Content_Lemma</th>\n",
              "      <th>Clean_Content_Lemma_LongForm</th>\n",
              "      <th>Classification</th>\n",
              "    </tr>\n",
              "    <tr>\n",
              "      <th>Index</th>\n",
              "      <th></th>\n",
              "      <th></th>\n",
              "      <th></th>\n",
              "      <th></th>\n",
              "      <th></th>\n",
              "      <th></th>\n",
              "      <th></th>\n",
              "      <th></th>\n",
              "      <th></th>\n",
              "      <th></th>\n",
              "      <th></th>\n",
              "      <th></th>\n",
              "      <th></th>\n",
              "      <th></th>\n",
              "      <th></th>\n",
              "      <th></th>\n",
              "      <th></th>\n",
              "      <th></th>\n",
              "    </tr>\n",
              "  </thead>\n",
              "  <tbody>\n",
              "    <tr>\n",
              "      <th>0</th>\n",
              "      <td>Psychological Servies</td>\n",
              "      <td>The Effectiveness of Telepsychology With Veter...</td>\n",
              "      <td>2021</td>\n",
              "      <td>Michael J. McClellan; Richard Osbaldiston; Ron...</td>\n",
              "      <td>Veterans face a variety of stressors due to th...</td>\n",
              "      <td>KEYWORDS:\\n\\ntelepsychology, meta-analysis, ve...</td>\n",
              "      <td>McClellan, M. J., Osbaldiston, R., Wu, R., Yea...</td>\n",
              "      <td>Veterans face a variety of stressors related t...</td>\n",
              "      <td>37477</td>\n",
              "      <td>2411</td>\n",
              "      <td>[telepsychology,, meta-analysis,, veteran,, vi...</td>\n",
              "      <td>5</td>\n",
              "      <td>50</td>\n",
              "      <td>Veterans face a variety of stressors related t...</td>\n",
              "      <td>36423</td>\n",
              "      <td>veteran face a variety of stressor relate to t...</td>\n",
              "      <td>veteran face a variety of stressor relate time...</td>\n",
              "      <td>Covid</td>\n",
              "    </tr>\n",
              "    <tr>\n",
              "      <th>1</th>\n",
              "      <td>Psychology, Public Policy, and Law</td>\n",
              "      <td>Making the Case for Videoconferencing and Remo...</td>\n",
              "      <td>2021</td>\n",
              "      <td>Milfred D. Dale; Desiree Smith</td>\n",
              "      <td>The COVID-19 pandemic and its requirements for...</td>\n",
              "      <td>KEYWORDS:\\n\\nremote child custody evaluations,...</td>\n",
              "      <td>Dale, M. D., &amp; Smith, D. (2021). Making the ca...</td>\n",
              "      <td>The impact of the COVID-19 pandemic on the chi...</td>\n",
              "      <td>74025</td>\n",
              "      <td>1577</td>\n",
              "      <td>[remote, child, custody, evaluations,, videoco...</td>\n",
              "      <td>10</td>\n",
              "      <td>48</td>\n",
              "      <td>The impact of the COVID-19 pandemic on the chi...</td>\n",
              "      <td>72009</td>\n",
              "      <td>the impact of the covid-19 pandemic on the chi...</td>\n",
              "      <td>the impact of the covid-19 pandemic on the chi...</td>\n",
              "      <td>Covid</td>\n",
              "    </tr>\n",
              "    <tr>\n",
              "      <th>2</th>\n",
              "      <td>Psychology, Public Policy, and Law</td>\n",
              "      <td>Forensic E-Mental Health: Review, Research Pri...</td>\n",
              "      <td>2021</td>\n",
              "      <td>Lauren E. Kois; Jennifer Cox; Ashley T. Peck</td>\n",
              "      <td>Forensic e-mental health is an area of psychol...</td>\n",
              "      <td>KEYWORDS:\\n\\nforensic e-mental health, telehea...</td>\n",
              "      <td>Kois, L. E., Cox, J., &amp; Peck, A. T. (2021). Fo...</td>\n",
              "      <td>In November 2019, COVID-19—the infectious, hig...</td>\n",
              "      <td>63568</td>\n",
              "      <td>1842</td>\n",
              "      <td>[forensic, e-mental, health,, telehealth,, tel...</td>\n",
              "      <td>8</td>\n",
              "      <td>128</td>\n",
              "      <td>In November 2019 COVID-19—the infectious highl...</td>\n",
              "      <td>61640</td>\n",
              "      <td>in November 2019 , covid-19 — the infectious ,...</td>\n",
              "      <td>in November 2019 , covid-19 — the infectious ,...</td>\n",
              "      <td>Covid</td>\n",
              "    </tr>\n",
              "    <tr>\n",
              "      <th>3</th>\n",
              "      <td>Training and Education in Professional Psychology</td>\n",
              "      <td>Moving Toward a New Era of Telepsychology in U...</td>\n",
              "      <td>2021</td>\n",
              "      <td>Allison L. Baier; Sarah Danzo</td>\n",
              "      <td>Many university training clinics are facing nu...</td>\n",
              "      <td>KEYWORDS:\\n\\neducation and training, telepsych...</td>\n",
              "      <td>Baier, A. L., &amp; Danzo, S. (2021). Moving towar...</td>\n",
              "      <td>Anxiety and depressive disorders are among the...</td>\n",
              "      <td>30147</td>\n",
              "      <td>1650</td>\n",
              "      <td>[education, and, training,, telepsychology,, C...</td>\n",
              "      <td>6</td>\n",
              "      <td>21</td>\n",
              "      <td>Anxiety and depressive disorders are among the...</td>\n",
              "      <td>29392</td>\n",
              "      <td>anxiety and depressive disorder be among the m...</td>\n",
              "      <td>anxiety and depressive disorder be among the m...</td>\n",
              "      <td>Covid</td>\n",
              "    </tr>\n",
              "    <tr>\n",
              "      <th>4</th>\n",
              "      <td>Practice Innovations</td>\n",
              "      <td>Navigating Changes in the Physical and Psychol...</td>\n",
              "      <td>2021</td>\n",
              "      <td>Liat Shklarski; Allison Abrams; Elana Bakst</td>\n",
              "      <td>The emergence of the Covid-19 pandemic at the ...</td>\n",
              "      <td>KEYWORDS:\\n\\nremote psychotherapy, Covid-19, p...</td>\n",
              "      <td>Shklarski, L., Abrams, A., &amp; Bakst, E. (2021)....</td>\n",
              "      <td>In mid-March, 2020, the authors—as well as the...</td>\n",
              "      <td>42367</td>\n",
              "      <td>1871</td>\n",
              "      <td>[remote, psychotherapy,, Covid-19,, pandemic,,...</td>\n",
              "      <td>6</td>\n",
              "      <td>14</td>\n",
              "      <td>In mid-March 2020 the authors—as well as the m...</td>\n",
              "      <td>41383</td>\n",
              "      <td>in mid - March , 2020 , the author — as well a...</td>\n",
              "      <td>in mid - March , 2020 , the author — as well a...</td>\n",
              "      <td>Covid</td>\n",
              "    </tr>\n",
              "  </tbody>\n",
              "</table>\n",
              "</div>"
            ],
            "text/plain": [
              "                                           Journal Title  ... Classification\n",
              "Index                                                     ...               \n",
              "0                                  Psychological Servies  ...          Covid\n",
              "1                     Psychology, Public Policy, and Law  ...          Covid\n",
              "2                     Psychology, Public Policy, and Law  ...          Covid\n",
              "3      Training and Education in Professional Psychology  ...          Covid\n",
              "4                                   Practice Innovations  ...          Covid\n",
              "\n",
              "[5 rows x 18 columns]"
            ]
          },
          "metadata": {
            "tags": []
          },
          "execution_count": 33
        }
      ]
    },
    {
      "cell_type": "code",
      "metadata": {
        "id": "mR_OfGnUl-q_"
      },
      "source": [
        "df_metadata.to_csv(\"./Data/processed/Clean_Lemma_LongForm_Telehealth.csv\",index=False)"
      ],
      "execution_count": 32,
      "outputs": []
    },
    {
      "cell_type": "markdown",
      "metadata": {
        "id": "NnznkqhnF8ip"
      },
      "source": [
        "# Trouble Shooting"
      ]
    },
    {
      "cell_type": "markdown",
      "metadata": {
        "id": "Q1z5q_7sMdqK"
      },
      "source": [
        "## Dispersion Plot - Based on Clean_Dataset (Not including abbreviation substitution)"
      ]
    },
    {
      "cell_type": "code",
      "metadata": {
        "colab": {
          "base_uri": "https://localhost:8080/"
        },
        "id": "LkMl6yCXFcu7",
        "outputId": "f3919071-5a2e-4bd1-d292-e9cc8212fbfd"
      },
      "source": [
        "from yellowbrick.text import DispersionPlot"
      ],
      "execution_count": 23,
      "outputs": [
        {
          "output_type": "stream",
          "text": [
            "/usr/local/lib/python3.7/dist-packages/sklearn/utils/deprecation.py:144: FutureWarning: The sklearn.metrics.classification module is  deprecated in version 0.22 and will be removed in version 0.24. The corresponding classes / functions should instead be imported from sklearn.metrics. Anything that cannot be imported from sklearn.metrics is now part of the private API.\n",
            "  warnings.warn(message, FutureWarning)\n"
          ],
          "name": "stderr"
        }
      ]
    },
    {
      "cell_type": "code",
      "metadata": {
        "id": "H2_V67iQMfPT",
        "colab": {
          "base_uri": "https://localhost:8080/",
          "height": 416
        },
        "outputId": "78231050-65bf-4638-d662-692604a66959"
      },
      "source": [
        "#Troubleshooting tokens to remove\n",
        "dispersion_text = [doc.split() for doc in df_metadata[\"Clean_Content_Lemma_LongForm\"]]\n",
        "\n",
        "#Choose words whose occurence in the text will be plotted:\n",
        "not_found = [\"1TABLESANDFIGUREstatefigure\",\"AND FIGUREStatefigure\"]\n",
        "other_words = [token.split() for token in [\"withinr\",\"within\"]]\n",
        "other_words_1D = np.unique(np.concatenate(other_words).reshape(-1))\n",
        "target_words = other_words_1D\n",
        "\n",
        "#Create the visualizer and draw the plot\n",
        "visualizer = DispersionPlot(target_words,ignore_case=False)\n",
        "_ = visualizer.fit(dispersion_text)"
      ],
      "execution_count": 24,
      "outputs": [
        {
          "output_type": "stream",
          "text": [
            "/usr/local/lib/python3.7/dist-packages/IPython/core/interactiveshell.py:2882: FutureWarning: arrays to stack must be passed as a \"sequence\" type such as list or tuple. Support for non-sequence iterables such as generators is deprecated as of NumPy 1.16 and will raise an error in the future.\n",
            "  exec(code_obj, self.user_global_ns, self.user_ns)\n",
            "*c* argument looks like a single numeric RGB or RGBA sequence, which should be avoided as value-mapping will have precedence in case its length matches with *x* & *y*.  Please use the *color* keyword-argument or provide a 2-D array with a single row if you intend to specify the same RGB or RGBA value for all points.\n"
          ],
          "name": "stderr"
        },
        {
          "output_type": "display_data",
          "data": {
            "image/png": "[encoded data removed]",
            "text/plain": [
              "<Figure size 576x396 with 1 Axes>"
            ]
          },
          "metadata": {
            "tags": []
          }
        }
      ]
    },
    {
      "cell_type": "code",
      "metadata": {
        "id": "nByIiTviLfW1"
      },
      "source": [
        "#Troubleshooting\n",
        "\n",
        "#df_metadata[\"Clean_Content\"].iloc[38].find(\"TMH\")\n",
        "\n",
        "#section = df_metadata[\"Clean_Content\"].iloc[38]\n",
        "\n",
        "#str(section)[1600:1750]"
      ],
      "execution_count": 25,
      "outputs": []
    },
    {
      "cell_type": "code",
      "metadata": {
        "id": "wmlDFN51GG53",
        "colab": {
          "base_uri": "https://localhost:8080/"
        },
        "outputId": "4d82a0bb-f027-4a16-8054-863217871aaf"
      },
      "source": [
        "#Make sure spacy is not splitting on - or else terms may be lost such as e-mental\n",
        "temp_doc = nlp(\"forensic e-mental Mr. Davis\")\n",
        "#Lemma Removes e-mental\n",
        "[(token.text,token.lemma_)for token in temp_doc]"
      ],
      "execution_count": 26,
      "outputs": [
        {
          "output_type": "execute_result",
          "data": {
            "text/plain": [
              "[('forensic', 'forensic'),\n",
              " ('e', 'e'),\n",
              " ('-', '-'),\n",
              " ('mental', 'mental'),\n",
              " ('Mr.', 'Mr.'),\n",
              " ('Davis', 'Davis')]"
            ]
          },
          "metadata": {
            "tags": []
          },
          "execution_count": 26
        }
      ]
    },
    {
      "cell_type": "code",
      "metadata": {
        "id": "Ubc0y9wHwPnD"
      },
      "source": [
        "#df_metadata[\"emental_Found\"] = df_metadata[\"Content\"].apply(lambda text: text.find(\"forensic emental health\"))"
      ],
      "execution_count": 27,
      "outputs": []
    }
  ]
}